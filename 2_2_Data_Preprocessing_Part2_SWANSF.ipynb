{
 "cells": [
  {
   "cell_type": "markdown",
   "id": "b2800dcd",
   "metadata": {},
   "source": [
    "# Near Decision Boundry Sample Removal"
   ]
  },
  {
   "cell_type": "code",
   "execution_count": 1,
   "id": "496d3af5",
   "metadata": {},
   "outputs": [],
   "source": [
    "import pickle\n",
    "import numpy as np\n",
    "\n",
    "data_dir = \"/Users/samskanderi/Documents/Research_Project/SWANSF/code/3_KnnImputation/\"\n",
    "imputed_data = []\n",
    "\n",
    "number_of_partitions = 5\n",
    "for i in range(1,number_of_partitions +1):\n",
    "# Load the array with Pickle\n",
    "    with open(data_dir + \"Partition\" + str(i) + \"_KnnImputation\" + \".pkl\", 'rb') as f:\n",
    "        imputed_data.append(pickle.load(f))"
   ]
  },
  {
   "cell_type": "code",
   "execution_count": 2,
   "id": "3d858bf0",
   "metadata": {},
   "outputs": [],
   "source": [
    "import pandas as pd\n",
    "labels = []\n",
    "data_dir = \"/Users/samskanderi/Documents/Research_Project/SWANSF/code/2_Labels/\"\n",
    "\n",
    "for i in range(1,6):\n",
    "    labels.append(pd.read_csv(data_dir + \"Partition\" + str(i) + \"_labels.csv\"))"
   ]
  },
  {
   "cell_type": "code",
   "execution_count": null,
   "id": "d9e60777",
   "metadata": {},
   "outputs": [],
   "source": [
    "# NewFeatures with Shuffle\n",
    "from tqdm import tqdm\n",
    "\n",
    "def dropping(start_partition, end_partition, data_dir, data, labels, classes_to_filter, category_mapping, name):\n",
    "\n",
    "\n",
    "    num_attributes = 25\n",
    "    num_timestamps = 60       \n",
    "\n",
    "    for i in range(start_partition-1,end_partition):\n",
    "        \n",
    "        filtered_y_train_df = labels[i][~labels[i]['FLARE_CLASS'].isin(classes_to_filter)]\n",
    "        filtered_indices = filtered_y_train_df.index\n",
    "        x_train_filtered = data[i][:, :, filtered_indices]\n",
    "        \n",
    "        num_samples = np.array(x_train_filtered).shape[2]\n",
    "        X_train = np.zeros((num_samples, num_timestamps*(num_attributes-1)))\n",
    "        Y_train = np.zeros(num_samples)\n",
    "        \n",
    "        the_labels = pd.DataFrame()\n",
    "        the_labels['FLARE_CLASS'] = filtered_y_train_df['FLARE_CLASS'].map(category_mapping)\n",
    "        each_partition = np.zeros((num_timestamps, num_attributes, num_samples))\n",
    "        each_partition = np.array(x_train_filtered)\n",
    "\n",
    "        with tqdm(num_samples) as pbar:\n",
    "            for j in range(0, num_samples):\n",
    "                new_column = np.zeros((num_timestamps,num_attributes)) \n",
    "                new_column = each_partition[:,:,j]\n",
    "                \n",
    "                flettened = np.zeros(num_timestamps*(num_attributes-1))\n",
    "\n",
    "                for m in range(1,num_attributes):\n",
    "                    flettened[(m-1)*num_timestamps:m*num_timestamps] = new_column[:,m]\n",
    "\n",
    "                X_train[j, :] = flettened\n",
    "                Y_train[j] = the_labels['FLARE_CLASS'].iloc[j]\n",
    "                \n",
    "                pbar.update(1)\n",
    "\n",
    "        print(\"P\"+str(i+1)+ \" \"+str(X_train.shape) +\" Nan-Value: \"+ str(np.isnan(X_train).any()))     \n",
    "        \n",
    "        num_samples = X_train.shape[0]\n",
    "        shuffle_indices = np.random.permutation(num_samples)\n",
    "\n",
    "        X_train_shuffled = X_train[shuffle_indices]\n",
    "        Y_train_shuffled = Y_train[shuffle_indices]\n",
    "    \n",
    "\n",
    "        with open(data_dir + \"Partition\" + str(i+1) \n",
    "                       + name + \"_Concatenation_KnnImputation\" + \".pkl\", 'wb') as f:\n",
    "            pickle.dump(X_train_shuffled, f)\n",
    "\n",
    "        with open(data_dir + \"Partition\" + str(i+1) \n",
    "                       + \"_Labels\" + name \"_Concatenation_KnnImputation\" + \".pkl\", 'wb') as f:\n",
    "            pickle.dump(Y_train_shuffled, f)"
   ]
  },
  {
   "cell_type": "markdown",
   "id": "dec8fffe",
   "metadata": {},
   "source": [
    "## Removing B and C classes "
   ]
  },
  {
   "cell_type": "code",
   "execution_count": null,
   "id": "1c3062c0",
   "metadata": {},
   "outputs": [],
   "source": [
    "data_dir = \"/Users/samskanderi/Documents/Research_Project/SWANSF/code/4_5_FinalData_WithoutC_Concatenation_KnnImputation/\"\n",
    "\n",
    "classes_to_filter = ['C', 'B']\n",
    "category_mapping = {'X': 1, 'M': 1,'FQ': 0}\n",
    "\n",
    "name = \"_WithoutB&C\"\n",
    "    \n",
    "dropping(1,5,data_dir,imputed_data,labels, classes_to_filter, category_mapping, name)"
   ]
  },
  {
   "cell_type": "markdown",
   "id": "db57f074",
   "metadata": {},
   "source": [
    "## Removing C class"
   ]
  },
  {
   "cell_type": "code",
   "execution_count": null,
   "id": "f7789b52",
   "metadata": {},
   "outputs": [],
   "source": [
    "data_dir = \"/Users/samskanderi/Documents/Research_Project/SWANSF/code/4_5_FinalData_WithoutC_Concatenation_KnnImputation/\"\n",
    "\n",
    "classes_to_filter = ['C']\n",
    "category_mapping = {'X': 1, 'M': 1, 'B': 0, 'FQ': 0}\n",
    "\n",
    "name = \"_WithoutC\"\n",
    "\n",
    "dropping(1,5,data_dir,imputed_data,labels, classes_to_filter, category_mapping, name)"
   ]
  },
  {
   "cell_type": "markdown",
   "id": "fd98fea5",
   "metadata": {},
   "source": [
    "## Removing some of the C and M classes samples (C 9.9 to C 3.0 and M 1.6 to M 1.0)"
   ]
  },
  {
   "cell_type": "code",
   "execution_count": null,
   "id": "fdddff95",
   "metadata": {},
   "outputs": [],
   "source": []
  },
  {
   "cell_type": "markdown",
   "id": "6d1a7ea8",
   "metadata": {},
   "source": [
    "## Concatenation"
   ]
  }
 ],
 "metadata": {
  "kernelspec": {
   "display_name": "Python 3 (ipykernel)",
   "language": "python",
   "name": "python3"
  },
  "language_info": {
   "codemirror_mode": {
    "name": "ipython",
    "version": 3
   },
   "file_extension": ".py",
   "mimetype": "text/x-python",
   "name": "python",
   "nbconvert_exporter": "python",
   "pygments_lexer": "ipython3",
   "version": "3.11.3"
  }
 },
 "nbformat": 4,
 "nbformat_minor": 5
}
