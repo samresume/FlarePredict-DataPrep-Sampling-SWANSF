{
 "cells": [
  {
   "cell_type": "markdown",
   "id": "2aef2ab6",
   "metadata": {},
   "source": [
    "# Rocket, TSF, LSTM, RNN, GRU, 1D-CNN on Cocatenation"
   ]
  },
  {
   "cell_type": "markdown",
   "id": "d7cbdd32",
   "metadata": {},
   "source": [
    "# Train Test Split"
   ]
  },
  {
   "cell_type": "markdown",
   "id": "df67175e",
   "metadata": {},
   "source": [
    "## Stratified Cross validation (k = 5)"
   ]
  },
  {
   "cell_type": "markdown",
   "id": "13c959d3",
   "metadata": {},
   "source": [
    "P1 Train and P2 Test, P1 Train and P3 Test, P1 Train and P4 Test, P1 Train and P5 Test\n",
    "P2 Train and P3 Test, P2 Train and P4 Test, P2 Train and P5 Test\n",
    "P3 Train and P4 Test, P3 Train and P5 Test\n",
    "P4 Train and P5 Test"
   ]
  },
  {
   "cell_type": "markdown",
   "id": "ea62f006",
   "metadata": {},
   "source": [
    "# Evaluation Metrics"
   ]
  },
  {
   "cell_type": "code",
   "execution_count": 1,
   "id": "78559b58",
   "metadata": {},
   "outputs": [],
   "source": [
    "# float(\"{:.2f}\".format(13.949999999999999))\n",
    "\n",
    "def TSS(TP,TN,FP,FN):\n",
    "    TSS_value = (TP / (TP + FN)) - (FP / (FP + TN))\n",
    "    return TSS_value\n",
    "\n",
    "def HSS1(TP,TN,FP,FN):\n",
    "    HSS1_value = (2 * (TP * TN - FP * FN)) / ((TP + FN) * (FN + TN) + (TP + FP) * (FP + TN))\n",
    "    return HSS1_value\n",
    "    \n",
    "def HSS2(TP,TN,FP,FN):\n",
    "    HSS2_value = (2 * (TP * TN - FP * FN)) / ((TP + FP) * (FN + TN) + (TP + FN) * (FP + TN))\n",
    "    return HSS2_value\n",
    "\n",
    "def GSS(TP,TN,FP,FN):\n",
    "    GSS_value = (TP - (TP + FP) * (TP + FN) / (TP + FP + FN + TN))\n",
    "    return GSS_value\n",
    "\n",
    "def Recall(TP,TN,FP,FN):\n",
    "    Recall_value = (TP) / (TP + FN)\n",
    "    return Recall_value\n",
    "\n",
    "def FPR(TP,TN,FP,FN):\n",
    "    fpr_value = (FP) / (FP + TN)\n",
    "    return fpr_value\n",
    "\n",
    "def Accuracy(TP,TN,FP,FN):\n",
    "    accuracy_value = (TP + TN) / (TP + TN + FP + FN)\n",
    "    return accuracy_value\n",
    "\n",
    "def Precision(TP,TN,FP,FN):\n",
    "    precision_value = (FP) / (TP + FP)\n",
    "    return precision_value"
   ]
  },
  {
   "cell_type": "markdown",
   "id": "342a8fa7",
   "metadata": {},
   "source": [
    "# Loading the Final Datasets"
   ]
  },
  {
   "cell_type": "markdown",
   "id": "e4f52133",
   "metadata": {},
   "source": [
    "## Concatenation "
   ]
  },
  {
   "cell_type": "code",
   "execution_count": 2,
   "id": "bac9402a",
   "metadata": {},
   "outputs": [
    {
     "name": "stdout",
     "output_type": "stream",
     "text": [
      "P1 Nan-Value: False\n",
      "P2 Nan-Value: False\n",
      "P3 Nan-Value: False\n",
      "P4 Nan-Value: False\n",
      "P5 Nan-Value: False\n"
     ]
    }
   ],
   "source": [
    "import numpy as np\n",
    "import pandas as pd\n",
    "import pickle\n",
    "\n",
    "data_dir = \"/Users/samskanderi/Documents/Research_Project/SWANSF/code/5_3_FinalData_Concatenation_ZM_KnnImputation/\"\n",
    "\n",
    "X_train_concat_ZM = []\n",
    "Y_train_concat_ZM = []\n",
    "\n",
    "\n",
    "num_partitions = 5\n",
    "\n",
    "for i in range(0,num_partitions):\n",
    "# Load the array with Pickle\n",
    "    with open(data_dir + \"Partition\" + str(i+1) + \"_Concatenation_ZM_KnnImputation\" +\".pkl\", 'rb') as f:\n",
    "        X_train_concat_ZM.append(pickle.load(f))\n",
    "    with open(data_dir + \"Partition\" + str(i+1) + \"_Labels_Concatenation_ZM_KnnImputation\" +\".pkl\", 'rb') as f:\n",
    "        Y_train_concat_ZM.append(pickle.load(f))\n",
    "        \n",
    "    print(\"P\"+str(i+1)+\" Nan-Value: \"+ str(np.isnan(X_train_concat_ZM[i]).any() or np.isinf(X_train_concat_ZM[i]).any()))\n"
   ]
  },
  {
   "cell_type": "markdown",
   "id": "e879937b",
   "metadata": {},
   "source": [
    "# Useful Functions"
   ]
  },
  {
   "cell_type": "code",
   "execution_count": 3,
   "id": "69a74f1d",
   "metadata": {},
   "outputs": [],
   "source": [
    "def kfold_training(name, X_train, Y_train, training_func, num, rocket_kernels= 1500, tsf_estimator=25):\n",
    "    kfold = np.array([[1,2],[1,3],[1,4],[1,5],[2,3],[2,4],[2,5],[3,4],[3,5],[4,5]])\n",
    "    metrics = []\n",
    "    metrics_values = np.array([])\n",
    "    \n",
    "    for i in range(0, num):\n",
    "        train_index = kfold[i,0]\n",
    "        test_index = kfold[i,1]\n",
    "        metrics_values = training_func(X_train[train_index-1], Y_train[train_index-1], X_train[test_index-1], Y_train[test_index-1])\n",
    "        while (metrics_values[4]==0.0):\n",
    "            metrics_values = training_func(X_train[train_index-1], Y_train[train_index-1], X_train[test_index-1], Y_train[test_index-1])\n",
    "        \n",
    "        metrics.append(np.append(np.append(train_index, test_index), metrics_values))\n",
    "    return metrics"
   ]
  },
  {
   "cell_type": "markdown",
   "id": "56a024ab",
   "metadata": {},
   "source": [
    "# Training"
   ]
  },
  {
   "cell_type": "markdown",
   "id": "b13583cb",
   "metadata": {},
   "source": [
    "## Rocket (RidgeClassifierCV) "
   ]
  },
  {
   "cell_type": "code",
   "execution_count": 4,
   "id": "8a7ff942",
   "metadata": {},
   "outputs": [],
   "source": [
    "# ROCKET with RidgeClassifierCV\n",
    "\n",
    "import numpy as np\n",
    "from sklearn.linear_model import RidgeClassifierCV\n",
    "from sktime.transformations.panel.rocket import Rocket\n",
    "from sklearn.metrics import confusion_matrix\n",
    "import joblib\n",
    "from sktime.datatypes._panel._convert import from_2d_array_to_nested\n",
    "\n",
    "def rocket_model(X_train, Y_train, X_test, Y_test, rocket_kernels=1500):\n",
    "\n",
    "    data_dir = \"/Users/samskanderi/Documents/Research_Project/SWANSF/code/models/rocket/\"\n",
    "    \n",
    "    X_train = from_2d_array_to_nested(X_train)\n",
    "    X_test = from_2d_array_to_nested(X_test)\n",
    "\n",
    "    rocket = Rocket(num_kernels=rocket_kernels)\n",
    "    rocket.fit(X_train)\n",
    "    X_train_transform = rocket.transform(X_train)\n",
    "        \n",
    "    classifier = RidgeClassifierCV()\n",
    "    classifier.fit(X_train_transform, Y_train)\n",
    "    \n",
    "    X_test_transform = rocket.transform(X_test)\n",
    "    \n",
    "    y_pred = classifier.predict(X_test_transform)\n",
    "    \n",
    "    print(str(X_train.shape)+': Rocket Classifier is Done! \\n')\n",
    "\n",
    "    confusion = confusion_matrix(Y_test, y_pred)\n",
    "    tn, fp, fn, tp = confusion.ravel()\n",
    "\n",
    "    tss = TSS(tp,tn,fp,fn)\n",
    "    hss1 = HSS1(tp,tn,fp,fn)\n",
    "    hss2 = HSS2(tp,tn,fp,fn)\n",
    "    gss = GSS(tp,tn,fp,fn)\n",
    "    recall = Recall(tp,tn,fp,fn)\n",
    "    precision = Precision(tp,tn,fp,fn)\n",
    "    \n",
    "    output_values = np.array([tp, fn, fp, tn, tss, hss1, hss2, gss, recall, precision])\n",
    "\n",
    "\n",
    "    #joblib.dump(classifier, data_dir + \"rocket_model.pkl\")\n",
    "\n",
    "    #loaded_rocket_model = joblib.load(data_dir + \"rocket_model_sgd.pkl\")\n",
    "    \n",
    "    return output_values"
   ]
  },
  {
   "cell_type": "markdown",
   "id": "8840de35",
   "metadata": {},
   "source": [
    "## TimeSeriesForest"
   ]
  },
  {
   "cell_type": "code",
   "execution_count": 5,
   "id": "06c0fef8",
   "metadata": {},
   "outputs": [],
   "source": [
    "# TimeSeriesForest\n",
    "\n",
    "from sktime.classification.interval_based import TimeSeriesForestClassifier\n",
    "import numpy as np\n",
    "from sklearn.metrics import confusion_matrix\n",
    "import joblib\n",
    "\n",
    "def tsf_model(X_train, Y_train, X_test, Y_test, tsf_estimator=25):\n",
    "\n",
    "    data_dir = \"/Users/samskanderi/Documents/Research_Project/SWANSF/code/models/TSF/\"\n",
    "    \n",
    "    \n",
    "    tsf_classifier = TimeSeriesForestClassifier(n_estimators=tsf_estimator)\n",
    "    tsf_classifier.fit(X_train, Y_train)\n",
    "    y_pred = tsf_classifier.predict(X_test)\n",
    "    \n",
    "    print(str(X_train.shape)+': TSF Classifier is Done! \\n')\n",
    "    \n",
    "\n",
    "    confusion = confusion_matrix(Y_test, y_pred)\n",
    "    tn, fp, fn, tp = confusion.ravel()\n",
    "\n",
    "    tss = TSS(tp,tn,fp,fn)\n",
    "    hss1 = HSS1(tp,tn,fp,fn)\n",
    "    hss2 = HSS2(tp,tn,fp,fn)\n",
    "    gss = GSS(tp,tn,fp,fn)\n",
    "    recall = Recall(tp,tn,fp,fn)\n",
    "    precision = Precision(tp,tn,fp,fn)\n",
    "    \n",
    "    output_values = np.array([tp, fn, fp, tn, tss, hss1, hss2, gss, recall, precision])\n",
    "\n",
    "\n",
    "    #joblib.dump(classifier, data_dir + \"tsf_model.pkl\")\n",
    "\n",
    "    #loaded_rocket_model = joblib.load(data_dir + \"tsf_model.pkl\")\n",
    "    \n",
    "    return output_values"
   ]
  },
  {
   "cell_type": "markdown",
   "id": "18eb4d25",
   "metadata": {},
   "source": [
    "## LSTM"
   ]
  },
  {
   "cell_type": "code",
   "execution_count": 6,
   "id": "92a02e8f",
   "metadata": {},
   "outputs": [],
   "source": [
    "import warnings\n",
    "warnings.filterwarnings(\"ignore\")\n",
    "\n",
    "import numpy as np\n",
    "import pandas as pd\n",
    "import keras\n",
    "from keras.models import Sequential\n",
    "from keras.layers import LSTM, Dense, Dropout\n",
    "from sklearn.metrics import confusion_matrix\n",
    "\n",
    "def lstm_model(X_train, Y_train, X_test, Y_test):\n",
    "    \n",
    "    data_dir = \"/Users/samskanderi/Documents/Research_Project/SWANSF/code/models/\"\n",
    "    \n",
    "    verbose, epochs, batch_size = 0, 15, 32\n",
    "    n_timesteps, n_features = 60, 24\n",
    "\n",
    "    model = Sequential()\n",
    "    model.add(LSTM(120, input_shape=(n_timesteps,n_features)))\n",
    "    model.add(Dropout(0.3))\n",
    "    model.add(Dense(120, activation='relu'))\n",
    "    model.add(Dense(2, activation='relu'))\n",
    "    model.add(Dense(1, activation='sigmoid'))\n",
    "    model.compile(loss='binary_crossentropy', optimizer='adam', metrics=keras.metrics.SpecificityAtSensitivity(sensitivity=0.95))\n",
    "    \n",
    "    model.fit(X_train, Y_train, epochs=epochs, batch_size=batch_size, verbose=verbose)\n",
    "    \n",
    "    # evaluate model\n",
    "    y_pred = model.predict(X_test)\n",
    "    threshold = 0.4  # Adjust the threshold as needed\n",
    "    y_pred_binary = (y_pred > threshold).astype(int)\n",
    "    \n",
    "    print(str(X_train.shape)+': LSTM Classifier is Done! \\n')\n",
    "\n",
    "\n",
    "    confusion = confusion_matrix(Y_test, y_pred_binary)\n",
    "    tn, fp, fn, tp = confusion.ravel()\n",
    "\n",
    "    tss = TSS(tp,tn,fp,fn)\n",
    "    hss1 = HSS1(tp,tn,fp,fn)\n",
    "    hss2 = HSS2(tp,tn,fp,fn)\n",
    "    gss = GSS(tp,tn,fp,fn)\n",
    "    recall = Recall(tp,tn,fp,fn)\n",
    "    precision = Precision(tp,tn,fp,fn)\n",
    "    \n",
    "    output_values = np.array([tp, fn, fp, tn, tss, hss1, hss2, gss, recall, precision])\n",
    "\n",
    "\n",
    "    #joblib.dump(classifier, data_dir + \"mlp_model.pkl\")\n",
    "\n",
    "    #loaded_mlp_model = joblib.load(data_dir + \"mlp_model.pkl\")\n",
    "    \n",
    "    return output_values"
   ]
  },
  {
   "cell_type": "markdown",
   "id": "694e693a",
   "metadata": {},
   "source": [
    "## 1D-CNN"
   ]
  },
  {
   "cell_type": "code",
   "execution_count": 7,
   "id": "265014e8",
   "metadata": {},
   "outputs": [],
   "source": [
    "import warnings\n",
    "warnings.filterwarnings(\"ignore\")\n",
    "\n",
    "import numpy as np\n",
    "import pandas as pd\n",
    "import keras\n",
    "from keras.models import Sequential\n",
    "from keras.layers import Conv1D, MaxPooling1D, Flatten, Dense, Dropout\n",
    "from sklearn.metrics import confusion_matrix\n",
    "\n",
    "def cnn_model(X_train, Y_train, X_test, Y_test):\n",
    "    \n",
    "    data_dir = \"/Users/samskanderi/Documents/Research_Project/SWANSF/code/models/\"\n",
    "    \n",
    "    verbose, epochs, batch_size = 0, 15, 32\n",
    "    n_timesteps, n_features = 60, 24\n",
    "    \n",
    "    model = Sequential()\n",
    "    model.add(Conv1D(filters=64, kernel_size=5, activation='relu', input_shape=(n_timesteps,n_features)))\n",
    "    model.add(Dropout(0.2))\n",
    "    model.add(MaxPooling1D(pool_size=2))\n",
    "    model.add(Conv1D(filters=128, kernel_size=5, activation='relu'))\n",
    "    model.add(Dropout(0.3))\n",
    "    model.add(MaxPooling1D(pool_size=2))\n",
    "    model.add(Flatten())\n",
    "    model.add(Dense(357, activation='relu'))\n",
    "    model.add(Dense(128, activation='relu'))\n",
    "    model.add(Dense(2, activation='relu'))\n",
    "    model.add(Dense(1, activation='sigmoid'))\n",
    "    model.compile(loss='binary_crossentropy', optimizer='adam', metrics=keras.metrics.SpecificityAtSensitivity(sensitivity=0.95))\n",
    "    \n",
    "    model.fit(X_train, Y_train, epochs=epochs, batch_size=batch_size, verbose=verbose)\n",
    "    \n",
    "    # evaluate model\n",
    "    y_pred = model.predict(X_test)\n",
    "    threshold = 0.35  # Adjust the threshold as needed\n",
    "    y_pred_binary = (y_pred > threshold).astype(int)\n",
    "    \n",
    "    print(str(X_train.shape)+': 1D-CNN Classifier is Done! \\n')\n",
    "\n",
    "\n",
    "    confusion = confusion_matrix(Y_test, y_pred_binary)\n",
    "    tn, fp, fn, tp = confusion.ravel()\n",
    "\n",
    "    tss = TSS(tp,tn,fp,fn)\n",
    "    hss1 = HSS1(tp,tn,fp,fn)\n",
    "    hss2 = HSS2(tp,tn,fp,fn)\n",
    "    gss = GSS(tp,tn,fp,fn)\n",
    "    recall = Recall(tp,tn,fp,fn)\n",
    "    precision = Precision(tp,tn,fp,fn)\n",
    "    \n",
    "    output_values = np.array([tp, fn, fp, tn, tss, hss1, hss2, gss, recall, precision])\n",
    "\n",
    "\n",
    "    #joblib.dump(classifier, data_dir + \"mlp_model.pkl\")\n",
    "\n",
    "    #loaded_mlp_model = joblib.load(data_dir + \"mlp_model.pkl\")\n",
    "    \n",
    "    return output_values"
   ]
  },
  {
   "cell_type": "markdown",
   "id": "026a3469",
   "metadata": {},
   "source": [
    "## RNN"
   ]
  },
  {
   "cell_type": "code",
   "execution_count": 8,
   "id": "acb129af",
   "metadata": {},
   "outputs": [],
   "source": [
    "import warnings\n",
    "warnings.filterwarnings(\"ignore\")\n",
    "\n",
    "import numpy as np\n",
    "import pandas as pd\n",
    "import keras\n",
    "from keras.models import Sequential\n",
    "from keras.layers import SimpleRNN, Dense, Dropout\n",
    "from sklearn.metrics import confusion_matrix\n",
    "\n",
    "def rnn_model(X_train, Y_train, X_test, Y_test):\n",
    "    \n",
    "    data_dir = \"/Users/samskanderi/Documents/Research_Project/SWANSF/code/models/\"\n",
    "    \n",
    "    verbose, epochs, batch_size = 0, 15, 32\n",
    "    n_timesteps, n_features = 60, 24\n",
    "    \n",
    "    model = Sequential()\n",
    "    model.add(SimpleRNN(units=120, activation='relu', input_shape=(n_timesteps,n_features)))\n",
    "    model.add(Dropout(0.3))\n",
    "    model.add(Dense(120, activation='relu'))\n",
    "    model.add(Dense(2, activation='relu'))\n",
    "    model.add(Dense(1, activation='sigmoid'))\n",
    "    model.compile(loss='binary_crossentropy', optimizer='adam', metrics=keras.metrics.SpecificityAtSensitivity(sensitivity=0.95))\n",
    "\n",
    "    model.fit(X_train, Y_train, epochs=epochs, batch_size=batch_size, verbose=verbose)\n",
    "    \n",
    "    # evaluate model\n",
    "    y_pred = model.predict(X_test)\n",
    "    threshold = 0.40  # Adjust the threshold as needed\n",
    "    y_pred_binary = (y_pred > threshold).astype(int)\n",
    "    \n",
    "    print(str(X_train.shape)+': RNN Classifier is Done! \\n')\n",
    "\n",
    "\n",
    "    confusion = confusion_matrix(Y_test, y_pred_binary)\n",
    "    tn, fp, fn, tp = confusion.ravel()\n",
    "\n",
    "    tss = TSS(tp,tn,fp,fn)\n",
    "    hss1 = HSS1(tp,tn,fp,fn)\n",
    "    hss2 = HSS2(tp,tn,fp,fn)\n",
    "    gss = GSS(tp,tn,fp,fn)\n",
    "    recall = Recall(tp,tn,fp,fn)\n",
    "    precision = Precision(tp,tn,fp,fn)\n",
    "    \n",
    "    output_values = np.array([tp, fn, fp, tn, tss, hss1, hss2, gss, recall, precision])\n",
    "\n",
    "\n",
    "    #joblib.dump(classifier, data_dir + \"mlp_model.pkl\")\n",
    "\n",
    "    #loaded_mlp_model = joblib.load(data_dir + \"mlp_model.pkl\")\n",
    "    \n",
    "    return output_values"
   ]
  },
  {
   "cell_type": "markdown",
   "id": "7a149591",
   "metadata": {},
   "source": [
    "## GRU"
   ]
  },
  {
   "cell_type": "code",
   "execution_count": 9,
   "id": "c8b000d8",
   "metadata": {},
   "outputs": [],
   "source": [
    "import warnings\n",
    "warnings.filterwarnings(\"ignore\")\n",
    "\n",
    "import numpy as np\n",
    "import pandas as pd\n",
    "import keras\n",
    "from keras.models import Sequential\n",
    "from keras.layers import GRU, Dense, Dropout\n",
    "from sklearn.metrics import confusion_matrix\n",
    "\n",
    "def gru_model(X_train, Y_train, X_test, Y_test):\n",
    "    \n",
    "    data_dir = \"/Users/samskanderi/Documents/Research_Project/SWANSF/code/models/\"\n",
    "    \n",
    "    verbose, epochs, batch_size = 0, 15, 32\n",
    "    n_timesteps, n_features = 60, 24\n",
    "    \n",
    "    model = Sequential()\n",
    "    model.add(GRU(units=120, activation='relu', input_shape=(n_timesteps,n_features)))\n",
    "    model.add(Dropout(0.3))\n",
    "    model.add(Dense(120, activation='relu'))\n",
    "    model.add(Dense(2, activation='relu'))\n",
    "    model.add(Dense(1, activation='sigmoid'))\n",
    "    model.compile(loss='binary_crossentropy', optimizer='adam', metrics=keras.metrics.SpecificityAtSensitivity(sensitivity=0.95))\n",
    "\n",
    "    model.fit(X_train, Y_train, epochs=epochs, batch_size=batch_size, verbose=verbose)\n",
    "    \n",
    "    # evaluate model\n",
    "    y_pred = model.predict(X_test)\n",
    "    threshold = 0.40  # Adjust the threshold as needed\n",
    "    y_pred_binary = (y_pred > threshold).astype(int)\n",
    "    \n",
    "    print(str(X_train.shape)+': GRU Classifier is Done! \\n')\n",
    "\n",
    "\n",
    "    confusion = confusion_matrix(Y_test, y_pred_binary)\n",
    "    tn, fp, fn, tp = confusion.ravel()\n",
    "\n",
    "    tss = TSS(tp,tn,fp,fn)\n",
    "    hss1 = HSS1(tp,tn,fp,fn)\n",
    "    hss2 = HSS2(tp,tn,fp,fn)\n",
    "    gss = GSS(tp,tn,fp,fn)\n",
    "    recall = Recall(tp,tn,fp,fn)\n",
    "    precision = Precision(tp,tn,fp,fn)\n",
    "    \n",
    "    output_values = np.array([tp, fn, fp, tn, tss, hss1, hss2, gss, recall, precision])\n",
    "\n",
    "\n",
    "    #joblib.dump(classifier, data_dir + \"mlp_model.pkl\")\n",
    "\n",
    "    #loaded_mlp_model = joblib.load(data_dir + \"mlp_model.pkl\")\n",
    "    \n",
    "    return output_values"
   ]
  },
  {
   "cell_type": "markdown",
   "id": "a09b2613",
   "metadata": {},
   "source": [
    "# Results"
   ]
  },
  {
   "cell_type": "code",
   "execution_count": 10,
   "id": "2fae2c6d",
   "metadata": {},
   "outputs": [],
   "source": [
    "def save_results(reslut, name):\n",
    "    data_dir = \"/Users/samskanderi/Documents/Research_Project/SWANSF/code/results/\"\n",
    "\n",
    "    with open(data_dir + name + \".pkl\", 'wb') as f:\n",
    "        pickle.dump(reslut, f)"
   ]
  },
  {
   "cell_type": "markdown",
   "id": "4bab12c1",
   "metadata": {},
   "source": [
    "### Rocket"
   ]
  },
  {
   "cell_type": "code",
   "execution_count": 10,
   "id": "f9f997a3",
   "metadata": {},
   "outputs": [
    {
     "name": "stdout",
     "output_type": "stream",
     "text": [
      "(73492, 1): Rocket Classifier is Done! \n",
      "\n",
      "(73492, 1): Rocket Classifier is Done! \n",
      "\n",
      "(73492, 1): Rocket Classifier is Done! \n",
      "\n",
      "(73492, 1): Rocket Classifier is Done! \n",
      "\n",
      "(88557, 1): Rocket Classifier is Done! \n",
      "\n",
      "(88557, 1): Rocket Classifier is Done! \n",
      "\n",
      "(88557, 1): Rocket Classifier is Done! \n",
      "\n",
      "(42510, 1): Rocket Classifier is Done! \n",
      "\n",
      "(42510, 1): Rocket Classifier is Done! \n",
      "\n",
      "(51261, 1): Rocket Classifier is Done! \n",
      "\n"
     ]
    }
   ],
   "source": [
    "# Rocket Concatenation\n",
    "rocket_concat = kfold_training('Rocket', X_train_concat_ZM, Y_train_concat_ZM, rocket_model, 10)"
   ]
  },
  {
   "cell_type": "code",
   "execution_count": 11,
   "id": "e26f1cbf",
   "metadata": {},
   "outputs": [],
   "source": [
    "save_results(rocket_concat, \"Rocket_Concatenation_Results\")"
   ]
  },
  {
   "cell_type": "markdown",
   "id": "eb1740fb",
   "metadata": {},
   "source": [
    "### TSF"
   ]
  },
  {
   "cell_type": "code",
   "execution_count": 8,
   "id": "cb290ad0",
   "metadata": {},
   "outputs": [
    {
     "name": "stdout",
     "output_type": "stream",
     "text": [
      "(73492, 1440): TSF Classifier is Done! \n",
      "\n",
      "(73492, 1440): TSF Classifier is Done! \n",
      "\n",
      "(73492, 1440): TSF Classifier is Done! \n",
      "\n",
      "(73492, 1440): TSF Classifier is Done! \n",
      "\n",
      "(88557, 1440): TSF Classifier is Done! \n",
      "\n",
      "(88557, 1440): TSF Classifier is Done! \n",
      "\n",
      "(88557, 1440): TSF Classifier is Done! \n",
      "\n",
      "(42510, 1440): TSF Classifier is Done! \n",
      "\n",
      "(42510, 1440): TSF Classifier is Done! \n",
      "\n",
      "(51261, 1440): TSF Classifier is Done! \n",
      "\n"
     ]
    }
   ],
   "source": [
    "# TSF Concatenation\n",
    "tsf_concat = kfold_training('TSF', X_train_concat_ZM, Y_train_concat_ZM, tsf_model, 10)"
   ]
  },
  {
   "cell_type": "code",
   "execution_count": 9,
   "id": "85f9558f",
   "metadata": {},
   "outputs": [],
   "source": [
    "save_results(tsf_concat, \"TSF_Concatenation_Results\")"
   ]
  },
  {
   "cell_type": "markdown",
   "id": "f90d5e67",
   "metadata": {},
   "source": [
    "## 2D to 3D"
   ]
  },
  {
   "cell_type": "code",
   "execution_count": 11,
   "id": "ba8c56e9",
   "metadata": {},
   "outputs": [],
   "source": [
    "num_attributes = 24\n",
    "num_partitions = 5\n",
    "num_timestamps = 60\n",
    "X_train_concat_ZM_3D = []\n",
    "for i in range(0, num_partitions):\n",
    "    new_3D = np.zeros((X_train_concat_ZM[i].shape[0], num_timestamps, num_attributes))\n",
    "\n",
    "    for j in range(0, X_train_concat_ZM[i].shape[0]):\n",
    "        for m in range(0, num_attributes):\n",
    "            new_3D[j,:,m] = X_train_concat_ZM[i][j,m*num_timestamps:(m+1)*num_timestamps]\n",
    "    X_train_concat_ZM_3D.append(new_3D)"
   ]
  },
  {
   "cell_type": "code",
   "execution_count": 12,
   "id": "e1fae5a4",
   "metadata": {},
   "outputs": [],
   "source": [
    "del X_train_concat_ZM"
   ]
  },
  {
   "cell_type": "markdown",
   "id": "4e814653",
   "metadata": {},
   "source": [
    "### LSTM"
   ]
  },
  {
   "cell_type": "code",
   "execution_count": 13,
   "id": "cfbf7110",
   "metadata": {},
   "outputs": [
    {
     "name": "stdout",
     "output_type": "stream",
     "text": [
      "2768/2768 [==============================] - 17s 6ms/step\n",
      "(73492, 60, 24): LSTM Classifier is Done! \n",
      "\n",
      "1329/1329 [==============================] - 8s 6ms/step\n",
      "(73492, 60, 24): LSTM Classifier is Done! \n",
      "\n",
      "1602/1602 [==============================] - 10s 6ms/step\n",
      "(73492, 60, 24): LSTM Classifier is Done! \n",
      "\n",
      "1602/1602 [==============================] - 10s 6ms/step\n",
      "(73492, 60, 24): LSTM Classifier is Done! \n",
      "\n",
      "1602/1602 [==============================] - 10s 6ms/step\n",
      "(73492, 60, 24): LSTM Classifier is Done! \n",
      "\n",
      "2356/2356 [==============================] - 14s 6ms/step\n",
      "(73492, 60, 24): LSTM Classifier is Done! \n",
      "\n",
      "1329/1329 [==============================] - 8s 6ms/step\n",
      "(88557, 60, 24): LSTM Classifier is Done! \n",
      "\n",
      "1329/1329 [==============================] - 8s 6ms/step\n",
      "(88557, 60, 24): LSTM Classifier is Done! \n",
      "\n",
      "1329/1329 [==============================] - 8s 6ms/step\n",
      "(88557, 60, 24): LSTM Classifier is Done! \n",
      "\n",
      "1329/1329 [==============================] - 8s 6ms/step\n",
      "(88557, 60, 24): LSTM Classifier is Done! \n",
      "\n",
      "1602/1602 [==============================] - 9s 6ms/step\n",
      "(88557, 60, 24): LSTM Classifier is Done! \n",
      "\n",
      "1602/1602 [==============================] - 10s 6ms/step\n",
      "(88557, 60, 24): LSTM Classifier is Done! \n",
      "\n",
      "1602/1602 [==============================] - 9s 6ms/step\n",
      "(88557, 60, 24): LSTM Classifier is Done! \n",
      "\n",
      "2356/2356 [==============================] - 14s 6ms/step\n",
      "(88557, 60, 24): LSTM Classifier is Done! \n",
      "\n",
      "1602/1602 [==============================] - 10s 6ms/step\n",
      "(42510, 60, 24): LSTM Classifier is Done! \n",
      "\n",
      "2356/2356 [==============================] - 14s 6ms/step\n",
      "(42510, 60, 24): LSTM Classifier is Done! \n",
      "\n",
      "2356/2356 [==============================] - 14s 6ms/step\n",
      "(51261, 60, 24): LSTM Classifier is Done! \n",
      "\n"
     ]
    }
   ],
   "source": [
    "# LSTM Concatenation\n",
    "lstm_concat = kfold_training('LSTM', X_train_concat_ZM_3D, Y_train_concat_ZM, lstm_model, 10)"
   ]
  },
  {
   "cell_type": "code",
   "execution_count": 14,
   "id": "556a91a4",
   "metadata": {},
   "outputs": [],
   "source": [
    "save_results(lstm_concat, \"LSTM_Concatenation_Results\")"
   ]
  },
  {
   "cell_type": "markdown",
   "id": "cba990f3",
   "metadata": {},
   "source": [
    "### 1D-CNN"
   ]
  },
  {
   "cell_type": "code",
   "execution_count": 15,
   "id": "95bd7e1a",
   "metadata": {},
   "outputs": [
    {
     "name": "stdout",
     "output_type": "stream",
     "text": [
      "2768/2768 [==============================] - 3s 982us/step\n",
      "(73492, 60, 24): 1D-CNN Classifier is Done! \n",
      "\n",
      "1329/1329 [==============================] - 1s 985us/step\n",
      "(73492, 60, 24): 1D-CNN Classifier is Done! \n",
      "\n",
      "1602/1602 [==============================] - 2s 1ms/step\n",
      "(73492, 60, 24): 1D-CNN Classifier is Done! \n",
      "\n",
      "1602/1602 [==============================] - 2s 1ms/step\n",
      "(73492, 60, 24): 1D-CNN Classifier is Done! \n",
      "\n",
      "2356/2356 [==============================] - 2s 964us/step\n",
      "(73492, 60, 24): 1D-CNN Classifier is Done! \n",
      "\n",
      "1329/1329 [==============================] - 2s 1ms/step\n",
      "(88557, 60, 24): 1D-CNN Classifier is Done! \n",
      "\n",
      "1602/1602 [==============================] - 2s 967us/step\n",
      "(88557, 60, 24): 1D-CNN Classifier is Done! \n",
      "\n",
      "2356/2356 [==============================] - 2s 998us/step\n",
      "(88557, 60, 24): 1D-CNN Classifier is Done! \n",
      "\n",
      "2356/2356 [==============================] - 2s 992us/step\n",
      "(88557, 60, 24): 1D-CNN Classifier is Done! \n",
      "\n",
      "1602/1602 [==============================] - 2s 1ms/step\n",
      "(42510, 60, 24): 1D-CNN Classifier is Done! \n",
      "\n",
      "1602/1602 [==============================] - 2s 936us/step\n",
      "(42510, 60, 24): 1D-CNN Classifier is Done! \n",
      "\n",
      "2356/2356 [==============================] - 2s 975us/step\n",
      "(42510, 60, 24): 1D-CNN Classifier is Done! \n",
      "\n",
      "2356/2356 [==============================] - 2s 970us/step\n",
      "(51261, 60, 24): 1D-CNN Classifier is Done! \n",
      "\n"
     ]
    }
   ],
   "source": [
    "cnn_concat = kfold_training('1DCNN', X_train_concat_ZM_3D, Y_train_concat_ZM, cnn_model, 10)"
   ]
  },
  {
   "cell_type": "code",
   "execution_count": 16,
   "id": "81b80bad",
   "metadata": {},
   "outputs": [],
   "source": [
    "save_results(cnn_concat, \"1DCNN_Concatenation_Results\")"
   ]
  },
  {
   "cell_type": "markdown",
   "id": "138f95dc",
   "metadata": {},
   "source": [
    "### RNN"
   ]
  },
  {
   "cell_type": "code",
   "execution_count": 17,
   "id": "d1d1964f",
   "metadata": {},
   "outputs": [
    {
     "name": "stdout",
     "output_type": "stream",
     "text": [
      "2768/2768 [==============================] - 4s 1ms/step\n",
      "(73492, 60, 24): RNN Classifier is Done! \n",
      "\n",
      "2768/2768 [==============================] - 4s 1ms/step\n",
      "(73492, 60, 24): RNN Classifier is Done! \n",
      "\n",
      "1329/1329 [==============================] - 2s 1ms/step\n",
      "(73492, 60, 24): RNN Classifier is Done! \n",
      "\n",
      "1329/1329 [==============================] - 2s 1ms/step\n",
      "(73492, 60, 24): RNN Classifier is Done! \n",
      "\n",
      "1329/1329 [==============================] - 2s 1ms/step\n",
      "(73492, 60, 24): RNN Classifier is Done! \n",
      "\n",
      "1602/1602 [==============================] - 2s 1ms/step\n",
      "(73492, 60, 24): RNN Classifier is Done! \n",
      "\n",
      "1602/1602 [==============================] - 2s 1ms/step\n",
      "(73492, 60, 24): RNN Classifier is Done! \n",
      "\n",
      "2356/2356 [==============================] - 3s 1ms/step\n",
      "(73492, 60, 24): RNN Classifier is Done! \n",
      "\n",
      "1329/1329 [==============================] - 2s 1ms/step\n",
      "(88557, 60, 24): RNN Classifier is Done! \n",
      "\n",
      "1602/1602 [==============================] - 2s 1ms/step\n",
      "(88557, 60, 24): RNN Classifier is Done! \n",
      "\n",
      "1602/1602 [==============================] - 2s 1ms/step\n",
      "(88557, 60, 24): RNN Classifier is Done! \n",
      "\n",
      "1602/1602 [==============================] - 3s 2ms/step\n",
      "(88557, 60, 24): RNN Classifier is Done! \n",
      "\n",
      "1602/1602 [==============================] - 2s 1ms/step\n",
      "(88557, 60, 24): RNN Classifier is Done! \n",
      "\n",
      "2356/2356 [==============================] - 3s 1ms/step\n",
      "(88557, 60, 24): RNN Classifier is Done! \n",
      "\n",
      "1602/1602 [==============================] - 2s 1ms/step\n",
      "(42510, 60, 24): RNN Classifier is Done! \n",
      "\n",
      "2356/2356 [==============================] - 3s 1ms/step\n",
      "(42510, 60, 24): RNN Classifier is Done! \n",
      "\n",
      "2356/2356 [==============================] - 4s 1ms/step\n",
      "(42510, 60, 24): RNN Classifier is Done! \n",
      "\n",
      "2356/2356 [==============================] - 4s 1ms/step\n",
      "(51261, 60, 24): RNN Classifier is Done! \n",
      "\n"
     ]
    }
   ],
   "source": [
    "rnn_concat = kfold_training('RNN', X_train_concat_ZM_3D, Y_train_concat_ZM, rnn_model, 10)"
   ]
  },
  {
   "cell_type": "code",
   "execution_count": 18,
   "id": "655326fa",
   "metadata": {},
   "outputs": [],
   "source": [
    "save_results(rnn_concat, \"RNN_Concatenation_Results\")"
   ]
  },
  {
   "cell_type": "markdown",
   "id": "e0d892b0",
   "metadata": {},
   "source": [
    "### GRU"
   ]
  },
  {
   "cell_type": "code",
   "execution_count": 19,
   "id": "9a24d126",
   "metadata": {},
   "outputs": [
    {
     "name": "stdout",
     "output_type": "stream",
     "text": [
      "2768/2768 [==============================] - 13s 5ms/step\n",
      "(73492, 60, 24): GRU Classifier is Done! \n",
      "\n",
      "2768/2768 [==============================] - 16s 6ms/step\n",
      "(73492, 60, 24): GRU Classifier is Done! \n",
      "\n",
      "2768/2768 [==============================] - 15s 5ms/step\n",
      "(73492, 60, 24): GRU Classifier is Done! \n",
      "\n",
      "2768/2768 [==============================] - 13s 5ms/step\n",
      "(73492, 60, 24): GRU Classifier is Done! \n",
      "\n",
      "2768/2768 [==============================] - 13s 5ms/step\n",
      "(73492, 60, 24): GRU Classifier is Done! \n",
      "\n",
      "1329/1329 [==============================] - 7s 5ms/step\n",
      "(73492, 60, 24): GRU Classifier is Done! \n",
      "\n",
      "1329/1329 [==============================] - 6s 5ms/step\n",
      "(73492, 60, 24): GRU Classifier is Done! \n",
      "\n",
      "1602/1602 [==============================] - 7s 5ms/step\n",
      "(73492, 60, 24): GRU Classifier is Done! \n",
      "\n",
      "1602/1602 [==============================] - 7s 5ms/step\n",
      "(73492, 60, 24): GRU Classifier is Done! \n",
      "\n",
      "1602/1602 [==============================] - 8s 5ms/step\n",
      "(73492, 60, 24): GRU Classifier is Done! \n",
      "\n",
      "2356/2356 [==============================] - 13s 5ms/step\n",
      "(73492, 60, 24): GRU Classifier is Done! \n",
      "\n",
      "1329/1329 [==============================] - 6s 5ms/step\n",
      "(88557, 60, 24): GRU Classifier is Done! \n",
      "\n",
      "1329/1329 [==============================] - 7s 5ms/step\n",
      "(88557, 60, 24): GRU Classifier is Done! \n",
      "\n",
      "1329/1329 [==============================] - 6s 5ms/step\n",
      "(88557, 60, 24): GRU Classifier is Done! \n",
      "\n",
      "1329/1329 [==============================] - 6s 5ms/step\n",
      "(88557, 60, 24): GRU Classifier is Done! \n",
      "\n",
      "1602/1602 [==============================] - 7s 5ms/step\n",
      "(88557, 60, 24): GRU Classifier is Done! \n",
      "\n",
      "1602/1602 [==============================] - 7s 5ms/step\n",
      "(88557, 60, 24): GRU Classifier is Done! \n",
      "\n",
      "1602/1602 [==============================] - 8s 5ms/step\n",
      "(88557, 60, 24): GRU Classifier is Done! \n",
      "\n",
      "1602/1602 [==============================] - 7s 5ms/step\n",
      "(88557, 60, 24): GRU Classifier is Done! \n",
      "\n",
      "1602/1602 [==============================] - 8s 5ms/step\n",
      "(88557, 60, 24): GRU Classifier is Done! \n",
      "\n",
      "1602/1602 [==============================] - 8s 5ms/step\n",
      "(88557, 60, 24): GRU Classifier is Done! \n",
      "\n",
      "1602/1602 [==============================] - 7s 5ms/step\n",
      "(88557, 60, 24): GRU Classifier is Done! \n",
      "\n",
      "1602/1602 [==============================] - 7s 5ms/step\n",
      "(88557, 60, 24): GRU Classifier is Done! \n",
      "\n",
      "1602/1602 [==============================] - 7s 5ms/step\n",
      "(88557, 60, 24): GRU Classifier is Done! \n",
      "\n",
      "2356/2356 [==============================] - 11s 5ms/step\n",
      "(88557, 60, 24): GRU Classifier is Done! \n",
      "\n",
      "2356/2356 [==============================] - 11s 5ms/step\n",
      "(88557, 60, 24): GRU Classifier is Done! \n",
      "\n",
      "2356/2356 [==============================] - 14s 6ms/step\n",
      "(88557, 60, 24): GRU Classifier is Done! \n",
      "\n",
      "2356/2356 [==============================] - 13s 6ms/step\n",
      "(88557, 60, 24): GRU Classifier is Done! \n",
      "\n",
      "2356/2356 [==============================] - 11s 5ms/step\n",
      "(88557, 60, 24): GRU Classifier is Done! \n",
      "\n",
      "1602/1602 [==============================] - 7s 5ms/step\n",
      "(42510, 60, 24): GRU Classifier is Done! \n",
      "\n",
      "2356/2356 [==============================] - 11s 5ms/step\n",
      "(42510, 60, 24): GRU Classifier is Done! \n",
      "\n",
      "2356/2356 [==============================] - 11s 5ms/step\n",
      "(42510, 60, 24): GRU Classifier is Done! \n",
      "\n",
      "2356/2356 [==============================] - 11s 5ms/step\n",
      "(51261, 60, 24): GRU Classifier is Done! \n",
      "\n"
     ]
    }
   ],
   "source": [
    "gru_concat = kfold_training('GRU', X_train_concat_ZM_3D, Y_train_concat_ZM, gru_model, 10)"
   ]
  },
  {
   "cell_type": "code",
   "execution_count": 20,
   "id": "abf3258e",
   "metadata": {},
   "outputs": [],
   "source": [
    "save_results(gru_concat, \"GRU_Concatenation_Results\")"
   ]
  },
  {
   "cell_type": "markdown",
   "id": "d7c3686d",
   "metadata": {},
   "source": [
    "# Comparison "
   ]
  },
  {
   "cell_type": "code",
   "execution_count": 22,
   "id": "a634b915",
   "metadata": {},
   "outputs": [],
   "source": [
    "import pickle\n",
    "import numpy as np\n",
    "import pandas as pd\n",
    "\n",
    "data_dir = \"/Users/samskanderi/Documents/Research_Project/SWANSF/code/results/\"\n",
    "#with open(data_dir + 'Rocket_Concatenation_Results' + \".pkl\", 'rb') as f:\n",
    "    #rocket_concat=pickle.load(f)\n",
    "#with open(data_dir + 'TSF_Concatenation_Results' + \".pkl\", 'rb') as f:\n",
    "    #tsf_concat=pickle.load(f)\n",
    "with open(data_dir + 'LSTM_Concatenation_Results' + \".pkl\", 'rb') as f:\n",
    "    lstm_concat=pickle.load(f)\n",
    "with open(data_dir + '1DCNN_Concatenation_Results' + \".pkl\", 'rb') as f:\n",
    "    cnn_concat=pickle.load(f)\n",
    "with open(data_dir + 'RNN_Concatenation_Results' + \".pkl\", 'rb') as f:\n",
    "    rnn_concat=pickle.load(f)\n",
    "with open(data_dir + 'GRU_Concatenation_Results' + \".pkl\", 'rb') as f:\n",
    "    gru_concat=pickle.load(f)\n",
    "\n",
    "\n",
    "\n",
    "names = ['LSTM', '1D-CNN', 'RNN', 'GRU']\n",
    "values = np.array([lstm_concat, cnn_concat, rnn_concat, gru_concat])"
   ]
  },
  {
   "cell_type": "code",
   "execution_count": 23,
   "id": "4a5ac5bb",
   "metadata": {},
   "outputs": [],
   "source": [
    "def compare_results(names, values):\n",
    "    np.printoptions(precision=4, suppress=True)\n",
    "    for i in range(0, values.shape[1]):\n",
    "        print(\"P_Train = \"+ str(values[0,i,0]) + \" & \" + \"P_Test = \" + str(values[0,i,1]))\n",
    "        for j in range(0, values.shape[0]):\n",
    "            print(names[j] + ' :' +  ' TP={:.0f}'.format(values[j,i,2]) + ' FN={:.0f}'.format(values[j,i,3]) + ' FP={:.0f}'.format(values[j,i,4])\n",
    "                 + ' TN={:.0f}'.format(values[j,i,5]) + ' TSS={:.3f}'.format(values[j,i,6]) + ' HSS1={:.3f}'.format(values[j,i,7]) + ' HSS2={:.3f}'.format(values[j,i,8])\n",
    "                 + ' GSS={:.3f}'.format(values[j,i,9]) + ' Recall={:.3f}'.format(values[j,i,10]) + ' Precision={:.3f}'.format(values[j,i,11]))\n",
    "        print('\\n')\n"
   ]
  },
  {
   "cell_type": "code",
   "execution_count": 24,
   "id": "6926a2de",
   "metadata": {},
   "outputs": [
    {
     "name": "stdout",
     "output_type": "stream",
     "text": [
      "P_Train = 1.0 & P_Test = 2.0\n",
      "LSTM : TP=294 FN=1107 FP=300 TN=86856 TSS=0.206 HSS1=0.288 HSS2=0.289 GSS=284.603 Recall=0.210 Precision=0.505\n",
      "1D-CNN : TP=815 FN=586 FP=1889 TN=85267 TSS=0.560 HSS1=0.384 HSS2=0.386 GSS=772.222 Recall=0.582 Precision=0.699\n",
      "RNN : TP=178 FN=1223 FP=170 TN=86986 TSS=0.125 HSS1=0.198 HSS2=0.200 GSS=172.495 Recall=0.127 Precision=0.489\n",
      "GRU : TP=228 FN=1173 FP=288 TN=86868 TSS=0.159 HSS1=0.231 HSS2=0.232 GSS=219.837 Recall=0.163 Precision=0.558\n",
      "\n",
      "\n",
      "P_Train = 1.0 & P_Test = 3.0\n",
      "LSTM : TP=228 FN=1196 FP=230 TN=40856 TSS=0.155 HSS1=0.230 HSS2=0.232 GSS=212.658 Recall=0.160 Precision=0.502\n",
      "1D-CNN : TP=184 FN=1240 FP=139 TN=40947 TSS=0.126 HSS1=0.201 HSS2=0.204 GSS=173.180 Recall=0.129 Precision=0.430\n",
      "RNN : TP=228 FN=1196 FP=149 TN=40937 TSS=0.156 HSS1=0.243 HSS2=0.246 GSS=215.371 Recall=0.160 Precision=0.395\n",
      "GRU : TP=209 FN=1215 FP=146 TN=40940 TSS=0.143 HSS1=0.225 HSS2=0.228 GSS=197.108 Recall=0.147 Precision=0.411\n",
      "\n",
      "\n",
      "P_Train = 1.0 & P_Test = 4.0\n",
      "LSTM : TP=429 FN=736 FP=266 TN=49830 TSS=0.363 HSS1=0.452 HSS2=0.453 GSS=413.205 Recall=0.368 Precision=0.383\n",
      "1D-CNN : TP=497 FN=668 FP=417 TN=49679 TSS=0.418 HSS1=0.467 HSS2=0.468 GSS=476.228 Recall=0.427 Precision=0.456\n",
      "RNN : TP=435 FN=730 FP=380 TN=49716 TSS=0.366 HSS1=0.429 HSS2=0.429 GSS=416.478 Recall=0.373 Precision=0.466\n",
      "GRU : TP=442 FN=723 FP=204 TN=49892 TSS=0.375 HSS1=0.480 HSS2=0.481 GSS=427.318 Recall=0.379 Precision=0.316\n",
      "\n",
      "\n",
      "P_Train = 1.0 & P_Test = 5.0\n",
      "LSTM : TP=239 FN=751 FP=94 TN=74281 TSS=0.240 HSS1=0.357 HSS2=0.359 GSS=234.626 Recall=0.241 Precision=0.282\n",
      "1D-CNN : TP=127 FN=863 FP=40 TN=74335 TSS=0.128 HSS1=0.217 HSS2=0.218 GSS=124.806 Recall=0.128 Precision=0.240\n",
      "RNN : TP=142 FN=848 FP=32 TN=74343 TSS=0.143 HSS1=0.241 HSS2=0.243 GSS=139.714 Recall=0.143 Precision=0.184\n",
      "GRU : TP=189 FN=801 FP=95 TN=74280 TSS=0.190 HSS1=0.293 HSS2=0.294 GSS=185.269 Recall=0.191 Precision=0.335\n",
      "\n",
      "\n",
      "P_Train = 2.0 & P_Test = 3.0\n",
      "LSTM : TP=205 FN=1219 FP=116 TN=40970 TSS=0.141 HSS1=0.225 HSS2=0.229 GSS=194.247 Recall=0.144 Precision=0.361\n",
      "1D-CNN : TP=248 FN=1176 FP=220 TN=40866 TSS=0.169 HSS1=0.250 HSS2=0.253 GSS=232.323 Recall=0.174 Precision=0.470\n",
      "RNN : TP=175 FN=1249 FP=80 TN=41006 TSS=0.121 HSS1=0.200 HSS2=0.204 GSS=166.458 Recall=0.123 Precision=0.314\n",
      "GRU : TP=318 FN=1106 FP=250 TN=40836 TSS=0.217 HSS1=0.306 HSS2=0.309 GSS=298.973 Recall=0.223 Precision=0.440\n",
      "\n",
      "\n",
      "P_Train = 2.0 & P_Test = 4.0\n",
      "LSTM : TP=226 FN=939 FP=28 TN=50068 TSS=0.193 HSS1=0.313 HSS2=0.317 GSS=220.227 Recall=0.194 Precision=0.110\n",
      "1D-CNN : TP=284 FN=881 FP=30 TN=50066 TSS=0.243 HSS1=0.378 HSS2=0.382 GSS=276.864 Recall=0.244 Precision=0.096\n",
      "RNN : TP=146 FN=1019 FP=79 TN=50017 TSS=0.124 HSS1=0.204 HSS2=0.207 GSS=140.886 Recall=0.125 Precision=0.351\n",
      "GRU : TP=155 FN=1010 FP=51 TN=50045 TSS=0.132 HSS1=0.221 HSS2=0.224 GSS=150.318 Recall=0.133 Precision=0.248\n",
      "\n",
      "\n",
      "P_Train = 2.0 & P_Test = 5.0\n",
      "LSTM : TP=300 FN=690 FP=797 TN=73578 TSS=0.292 HSS1=0.278 HSS2=0.278 GSS=285.590 Recall=0.303 Precision=0.727\n",
      "1D-CNN : TP=382 FN=608 FP=583 TN=73792 TSS=0.378 HSS1=0.383 HSS2=0.383 GSS=369.324 Recall=0.386 Precision=0.604\n",
      "RNN : TP=127 FN=863 FP=238 TN=74137 TSS=0.125 HSS1=0.182 HSS2=0.182 GSS=122.205 Recall=0.128 Precision=0.652\n",
      "GRU : TP=183 FN=807 FP=356 TN=74019 TSS=0.180 HSS1=0.232 HSS2=0.233 GSS=175.920 Recall=0.185 Precision=0.660\n",
      "\n",
      "\n",
      "P_Train = 3.0 & P_Test = 4.0\n",
      "LSTM : TP=102 FN=1063 FP=52 TN=50044 TSS=0.087 HSS1=0.150 HSS2=0.152 GSS=98.500 Recall=0.088 Precision=0.338\n",
      "1D-CNN : TP=657 FN=508 FP=717 TN=49379 TSS=0.550 HSS1=0.505 HSS2=0.506 GSS=625.773 Recall=0.564 Precision=0.522\n",
      "RNN : TP=68 FN=1097 FP=2 TN=50094 TSS=0.058 HSS1=0.108 HSS2=0.110 GSS=66.409 Recall=0.058 Precision=0.029\n",
      "GRU : TP=61 FN=1104 FP=14 TN=50082 TSS=0.052 HSS1=0.096 HSS2=0.098 GSS=59.295 Recall=0.052 Precision=0.187\n",
      "\n",
      "\n",
      "P_Train = 3.0 & P_Test = 5.0\n",
      "LSTM : TP=524 FN=466 FP=1444 TN=72931 TSS=0.510 HSS1=0.343 HSS2=0.344 GSS=498.148 Recall=0.529 Precision=0.734\n",
      "1D-CNN : TP=737 FN=253 FP=2063 TN=72312 TSS=0.717 HSS1=0.377 HSS2=0.381 GSS=700.219 Recall=0.744 Precision=0.737\n",
      "RNN : TP=219 FN=771 FP=236 TN=74139 TSS=0.218 HSS1=0.297 HSS2=0.298 GSS=213.023 Recall=0.221 Precision=0.519\n",
      "GRU : TP=118 FN=872 FP=37 TN=74338 TSS=0.119 HSS1=0.203 HSS2=0.205 GSS=115.964 Recall=0.119 Precision=0.239\n",
      "\n",
      "\n",
      "P_Train = 4.0 & P_Test = 5.0\n",
      "LSTM : TP=792 FN=198 FP=3135 TN=71240 TSS=0.758 HSS1=0.308 HSS2=0.315 GSS=740.415 Recall=0.800 Precision=0.798\n",
      "1D-CNN : TP=775 FN=215 FP=3215 TN=71160 TSS=0.740 HSS1=0.296 HSS2=0.304 GSS=722.587 Recall=0.783 Precision=0.806\n",
      "RNN : TP=711 FN=279 FP=1645 TN=72730 TSS=0.696 HSS1=0.414 HSS2=0.417 GSS=680.051 Recall=0.718 Precision=0.698\n",
      "GRU : TP=516 FN=474 FP=1161 TN=73214 TSS=0.506 HSS1=0.377 HSS2=0.378 GSS=493.971 Recall=0.521 Precision=0.692\n",
      "\n",
      "\n"
     ]
    }
   ],
   "source": [
    "compare_results(names, values)"
   ]
  },
  {
   "cell_type": "code",
   "execution_count": null,
   "id": "c600f8e3",
   "metadata": {},
   "outputs": [],
   "source": []
  }
 ],
 "metadata": {
  "kernelspec": {
   "display_name": "Python 3 (ipykernel)",
   "language": "python",
   "name": "python3"
  },
  "language_info": {
   "codemirror_mode": {
    "name": "ipython",
    "version": 3
   },
   "file_extension": ".py",
   "mimetype": "text/x-python",
   "name": "python",
   "nbconvert_exporter": "python",
   "pygments_lexer": "ipython3",
   "version": "3.11.3"
  }
 },
 "nbformat": 4,
 "nbformat_minor": 5
}
