{
 "cells": [
  {
   "cell_type": "markdown",
   "id": "5bbbdec0",
   "metadata": {},
   "source": [
    "# Normalization on Concatenation"
   ]
  },
  {
   "cell_type": "markdown",
   "id": "ecd746d4",
   "metadata": {},
   "source": [
    "## Zscore and MinMax Normalization"
   ]
  },
  {
   "cell_type": "code",
   "execution_count": 1,
   "id": "601e272a",
   "metadata": {},
   "outputs": [],
   "source": [
    "from scipy import stats\n",
    "import numpy as np\n",
    "from sklearn.preprocessing import MinMaxScaler\n",
    "scaler = MinMaxScaler()\n",
    "from tqdm import tqdm\n",
    "\n",
    "def zm(start_partition, end_partition, data, labels, data_dir, first_name, last_name):\n",
    "    \n",
    "    num_timestamps= 60\n",
    "    num_attributes = 24\n",
    "\n",
    "    for i in range(start_partition-1,end_partition):\n",
    "        new_partition = np.zeros((np.array(data[i]).shape[0], num_timestamps*num_attributes))\n",
    "        new_partition = np.array(data[i])\n",
    "\n",
    "        with tqdm(num_attributes) as pbar:\n",
    "            for j in range(0,num_attributes):\n",
    "                new_attribute = np.zeros(new_partition.shape[0]*num_timestamps)  \n",
    "                \n",
    "                for m in range(0,new_partition.shape[0]):\n",
    "                    new_attribute[m*num_timestamps:(m+1)*num_timestamps] = new_partition[m,j*num_timestamps:(j+1)*num_timestamps]\n",
    "                 \n",
    "                if np.std(new_attribute)== 0.0:\n",
    "                    minmax = np.ones(new_partition.shape[0]*num_timestamps)\n",
    "                else:\n",
    "                    zscore = stats.zscore(new_attribute)\n",
    "                    data_2d = zscore.reshape(-1, 1)\n",
    "                    minmax = scaler.fit_transform(data_2d).flatten()\n",
    "                if (np.isnan(minmax).any() or np.isinf(minmax).any()):\n",
    "                    print('nan-zscore')\n",
    "                \n",
    "                for m in range(0,new_partition.shape[0]):\n",
    "                    new_partition[m,j*num_timestamps:(j+1)*num_timestamps] = minmax[m*num_timestamps:(m+1)*num_timestamps] \n",
    "                 \n",
    "                pbar.update(1)\n",
    "\n",
    "            with open(data_dir + first_name + \"Partition\" + str(i+1) + last_name +\".pkl\", 'wb') as f:\n",
    "                pickle.dump(new_partition, f)\n",
    "            with open(data_dir + first_name + \"Partition\" + str(i+1) + \"_Labels\" + last_name +\".pkl\", 'wb') as f:\n",
    "                pickle.dump(labels[i], f)\n"
   ]
  },
  {
   "cell_type": "markdown",
   "id": "135c961f",
   "metadata": {},
   "source": [
    "### RUS_Tomek_Smote"
   ]
  },
  {
   "cell_type": "code",
   "execution_count": 2,
   "id": "a6565552",
   "metadata": {},
   "outputs": [],
   "source": [
    "import pickle\n",
    "import pandas as pd\n",
    "\n",
    "data_dir = \"/Users/samskanderi/Documents/Research_Project/SWANSF/code/6_1_OUSampling_Concatenation_KnnImputation/\"\n",
    "\n",
    "X_train_array = []\n",
    "Y_train_array = []\n",
    "\n",
    "num_partitions = 5\n",
    "for i in range(0, num_partitions):\n",
    "    with open(data_dir + \"RUS_Tomek_Smote_\" +\"Partition\" + str(i+1) + \"_WithoutC_Concatenation_KnnImputation\" +\".pkl\", 'rb') as f:\n",
    "        X_train_array.append(pickle.load(f))\n",
    "    with open(data_dir + \"RUS_Tomek_Smote_\" + \"Partition\" + str(i+1) + \"_Labels_WithoutC_Concatenation_KnnImputation\" +\".pkl\", 'rb') as f:\n",
    "        Y_train_array.append(pickle.load(f))"
   ]
  },
  {
   "cell_type": "code",
   "execution_count": 3,
   "id": "eb4acad3",
   "metadata": {},
   "outputs": [
    {
     "name": "stderr",
     "output_type": "stream",
     "text": [
      "24it [00:00, 44.74it/s]\n",
      "24it [00:00, 41.17it/s]\n",
      "24it [00:00, 45.87it/s]\n",
      "24it [00:00, 49.55it/s]\n",
      "24it [00:00, 48.77it/s]\n"
     ]
    }
   ],
   "source": [
    "data_dir = \"/Users/samskanderi/Documents/Research_Project/SWANSF/code/8_3_FinalData_OUSampling_Concatenation_ZM_KnnImputation/\"\n",
    "first_name = 'RUS_Tomek_Smote_'\n",
    "last_name = '_WithoutC_Concatenation_ZM_KnnImputation'\n",
    "\n",
    "zm(1,5,X_train_array,Y_train_array, data_dir, first_name, last_name)"
   ]
  },
  {
   "cell_type": "markdown",
   "id": "4fb11bc0",
   "metadata": {},
   "source": [
    "### RUS_Tomek_Adasyn"
   ]
  },
  {
   "cell_type": "code",
   "execution_count": 4,
   "id": "25b8ad0e",
   "metadata": {},
   "outputs": [],
   "source": [
    "import pickle\n",
    "import pandas as pd\n",
    "\n",
    "data_dir = \"/Users/samskanderi/Documents/Research_Project/SWANSF/code/6_1_OUSampling_Concatenation_KnnImputation/\"\n",
    "\n",
    "X_train_array = []\n",
    "Y_train_array = []\n",
    "\n",
    "num_partitions = 5\n",
    "for i in range(0, num_partitions):\n",
    "    with open(data_dir + \"RUS_Tomek_Adasyn_\" +\"Partition\" + str(i+1) + \"_WithoutC_Concatenation_KnnImputation\" +\".pkl\", 'rb') as f:\n",
    "        X_train_array.append(pickle.load(f))\n",
    "    with open(data_dir + \"RUS_Tomek_Adasyn_\" + \"Partition\" + str(i+1) + \"_Labels_WithoutC_Concatenation_KnnImputation\" +\".pkl\", 'rb') as f:\n",
    "        Y_train_array.append(pickle.load(f))"
   ]
  },
  {
   "cell_type": "code",
   "execution_count": 5,
   "id": "46b560a4",
   "metadata": {},
   "outputs": [
    {
     "name": "stderr",
     "output_type": "stream",
     "text": [
      "24it [00:00, 46.63it/s]\n",
      "24it [00:00, 49.99it/s]\n",
      "24it [00:00, 50.58it/s]\n",
      "24it [00:00, 51.08it/s]\n",
      "24it [00:00, 51.02it/s]\n"
     ]
    }
   ],
   "source": [
    "data_dir = \"/Users/samskanderi/Documents/Research_Project/SWANSF/code/8_3_FinalData_OUSampling_Concatenation_ZM_KnnImputation/\"\n",
    "first_name = 'RUS_Tomek_Adasyn_'\n",
    "last_name = '_WithoutC_Concatenation_ZM_KnnImputation'\n",
    "\n",
    "zm(1,5,X_train_array,Y_train_array, data_dir, first_name, last_name)"
   ]
  },
  {
   "cell_type": "markdown",
   "id": "624b83be",
   "metadata": {},
   "source": [
    "### Smote"
   ]
  },
  {
   "cell_type": "code",
   "execution_count": 6,
   "id": "41e576c7",
   "metadata": {},
   "outputs": [],
   "source": [
    "import pickle\n",
    "import pandas as pd\n",
    "\n",
    "data_dir = \"/Users/samskanderi/Documents/Research_Project/SWANSF/code/6_2_OSampling_Concatenation_KnnImputation/\"\n",
    "\n",
    "X_train_array = []\n",
    "Y_train_array = []\n",
    "\n",
    "num_partitions = 5\n",
    "for i in range(0, num_partitions):\n",
    "    with open(data_dir + \"Smote_\" +\"Partition\" + str(i+1) + \"_OSampling_Concatenation_KnnImputation\" +\".pkl\", 'rb') as f:\n",
    "        X_train_array.append(pickle.load(f))\n",
    "    with open(data_dir + \"Smote_\" + \"Partition\" + str(i+1) + \"_Labels_OSampling_Concatenation_KnnImputation\" +\".pkl\", 'rb') as f:\n",
    "        Y_train_array.append(pickle.load(f))"
   ]
  },
  {
   "cell_type": "code",
   "execution_count": 7,
   "id": "0878e5cf",
   "metadata": {},
   "outputs": [
    {
     "name": "stderr",
     "output_type": "stream",
     "text": [
      "24it [00:04,  5.20it/s]\n",
      "24it [00:05,  4.16it/s]\n",
      "24it [00:02,  9.59it/s]\n",
      "24it [00:03,  7.78it/s]\n",
      "24it [00:04,  5.29it/s]\n"
     ]
    }
   ],
   "source": [
    "data_dir = \"/Users/samskanderi/Documents/Research_Project/SWANSF/code/8_4_FinalData_OSampling_Concatenation_ZM_KnnImputation/\"\n",
    "first_name = 'Smote_'\n",
    "last_name = '_OSampling_Concatenation_ZM_KnnImputation'\n",
    "\n",
    "zm(1,5,X_train_array,Y_train_array, data_dir, first_name, last_name)"
   ]
  },
  {
   "cell_type": "markdown",
   "id": "1caf8965",
   "metadata": {},
   "source": [
    "### Adasyn "
   ]
  },
  {
   "cell_type": "code",
   "execution_count": 8,
   "id": "0d671c1d",
   "metadata": {},
   "outputs": [],
   "source": [
    "import pickle\n",
    "import pandas as pd\n",
    "\n",
    "data_dir = \"/Users/samskanderi/Documents/Research_Project/SWANSF/code/6_2_OSampling_Concatenation_KnnImputation/\"\n",
    "\n",
    "X_train_array = []\n",
    "Y_train_array = []\n",
    "\n",
    "num_partitions = 5\n",
    "for i in range(0, num_partitions):\n",
    "    with open(data_dir + \"Adasyn_\" +\"Partition\" + str(i+1) + \"_OSampling_Concatenation_KnnImputation\" +\".pkl\", 'rb') as f:\n",
    "        X_train_array.append(pickle.load(f))\n",
    "    with open(data_dir + \"Adasyn_\" + \"Partition\" + str(i+1) + \"_Labels_OSampling_Concatenation_KnnImputation\" +\".pkl\", 'rb') as f:\n",
    "        Y_train_array.append(pickle.load(f))"
   ]
  },
  {
   "cell_type": "code",
   "execution_count": 9,
   "id": "95566b44",
   "metadata": {},
   "outputs": [
    {
     "name": "stderr",
     "output_type": "stream",
     "text": [
      "24it [00:05,  4.66it/s]\n",
      "24it [00:05,  4.51it/s]\n",
      "24it [00:02,  9.61it/s]\n",
      "24it [00:03,  7.74it/s]\n",
      "24it [00:04,  5.21it/s]\n"
     ]
    }
   ],
   "source": [
    "data_dir = \"/Users/samskanderi/Documents/Research_Project/SWANSF/code/8_4_FinalData_OSampling_Concatenation_ZM_KnnImputation/\"\n",
    "first_name = 'Adasyn_'\n",
    "last_name = '_OSampling_Concatenation_ZM_KnnImputation'\n",
    "\n",
    "zm(1,5,X_train_array,Y_train_array, data_dir, first_name, last_name)"
   ]
  },
  {
   "cell_type": "code",
   "execution_count": null,
   "id": "639562e8",
   "metadata": {},
   "outputs": [],
   "source": []
  }
 ],
 "metadata": {
  "kernelspec": {
   "display_name": "Python 3 (ipykernel)",
   "language": "python",
   "name": "python3"
  },
  "language_info": {
   "codemirror_mode": {
    "name": "ipython",
    "version": 3
   },
   "file_extension": ".py",
   "mimetype": "text/x-python",
   "name": "python",
   "nbconvert_exporter": "python",
   "pygments_lexer": "ipython3",
   "version": "3.11.3"
  }
 },
 "nbformat": 4,
 "nbformat_minor": 5
}
