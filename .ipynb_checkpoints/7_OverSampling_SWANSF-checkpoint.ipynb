{
 "cells": [
  {
   "cell_type": "markdown",
   "id": "f001b6c7",
   "metadata": {},
   "source": [
    "# Oversampling"
   ]
  },
  {
   "cell_type": "code",
   "execution_count": 1,
   "id": "a276c5b1",
   "metadata": {},
   "outputs": [],
   "source": [
    "from imblearn.over_sampling import SMOTE, ADASYN\n",
    "import numpy as np"
   ]
  },
  {
   "cell_type": "markdown",
   "id": "3b30f0c2",
   "metadata": {},
   "source": [
    "## Smote and Adasyn"
   ]
  },
  {
   "cell_type": "code",
   "execution_count": 2,
   "id": "b69c606a",
   "metadata": {},
   "outputs": [],
   "source": [
    "# SMOTE, TomekLinks, and RUS\n",
    "# ADASYN, TomekLinks, and RUS\n",
    "\n",
    "def smote_adasyn(start_position, end_position, data_dir, name, X_train, Y_train):\n",
    "\n",
    "    for i in range(start_position-1, end_position):\n",
    "                \n",
    "        smote = SMOTE(sampling_strategy='minority', random_state=42)\n",
    "        X_train_Smote, Y_train_Smote = smote.fit_resample(X_train[i], Y_train[i])\n",
    "\n",
    "        adasyn = ADASYN(sampling_strategy='minority', random_state=42)\n",
    "        X_train_Adasyn, Y_train_Adasyn = adasyn.fit_resample(X_train[i], Y_train[i])\n",
    "\n",
    "        print('Partition' + str(i+1) + ': ')\n",
    "        print(X_train_Smote.shape)\n",
    "        print(Y_train_Smote.shape)\n",
    "        print(X_train_Adasyn.shape)\n",
    "        print(str(Y_train_Adasyn.shape) + '\\n')\n",
    "        \n",
    "        num_samples = X_train_Smote.shape[0]\n",
    "        shuffle_indices = np.random.permutation(num_samples)\n",
    "\n",
    "        X_train_Smote_shuffled = X_train_Smote[shuffle_indices]\n",
    "        Y_train_Smote_shuffled = Y_train_Smote[shuffle_indices]\n",
    "    \n",
    "        with open(data_dir + \"Smote\" + \"_Partition\" + str(i+1) \n",
    "                       + \"_2DPKL_\" + name + \".pkl\", 'wb') as f:\n",
    "            pickle.dump(X_train_Smote_shuffled, f)\n",
    "\n",
    "        with open(data_dir + \"Smote\" + \"_Partition\" + str(i+1) \n",
    "                       + \"_Labels_2DPKL_\" + name + \".pkl\", 'wb') as f:\n",
    "            pickle.dump(Y_train_Smote_shuffled, f)\n",
    "            \n",
    "        \n",
    "        num_samples = X_train_Adasyn.shape[0]\n",
    "        shuffle_indices = np.random.permutation(num_samples)\n",
    "\n",
    "        X_train_Adasyn_shuffled = X_train_Adasyn[shuffle_indices]\n",
    "        Y_train_Adasyn_shuffled = Y_train_Adasyn[shuffle_indices]\n",
    "    \n",
    "        with open(data_dir + \"Adasyn\" + \"_Partition\" + str(i+1) \n",
    "                       + \"_2DPKL_\" + name + \".pkl\", 'wb') as f:\n",
    "            pickle.dump(X_train_Adasyn_shuffled, f)\n",
    "\n",
    "        with open(data_dir + \"Adasyn\" + \"_Partition\" + str(i+1) \n",
    "                       + \"_Labels_2DPKL_\" + name + \".pkl\", 'wb') as f:\n",
    "            pickle.dump(Y_train_Adasyn_shuffled, f)\n",
    "\n"
   ]
  },
  {
   "cell_type": "code",
   "execution_count": 3,
   "id": "1cd5edb6",
   "metadata": {},
   "outputs": [],
   "source": [
    "import pickle\n",
    "import pandas as pd\n",
    "\n",
    "data_dir = \"/Users/samskanderi/Documents/Research_Project/SWANSF/code/4_4_FinalData_WithoutB&C_Concatenation_KnnImputation/\"\n",
    "\n",
    "X_train_array = []\n",
    "Y_train_array = []\n",
    "\n",
    "num_partitions = 5\n",
    "for i in range(0, num_partitions):\n",
    "    with open(data_dir + \"Partition\" + str(i+1) + \"_WithoutB&C_Concatenation_KnnImputation\" +\".pkl\", 'rb') as f:\n",
    "        X_train_array.append(pickle.load(f))\n",
    "    with open(data_dir + \"Partition\" + str(i+1) + \"_Labels_WithoutB&C_Concatenation_KnnImputation\" +\".pkl\", 'rb') as f:\n",
    "        Y_train_array.append(pickle.load(f))"
   ]
  },
  {
   "cell_type": "code",
   "execution_count": 4,
   "id": "b99c57f9",
   "metadata": {},
   "outputs": [
    {
     "name": "stdout",
     "output_type": "stream",
     "text": [
      "Partition1: \n",
      "(120260, 1440)\n",
      "(120260,)\n",
      "(120300, 1440)\n",
      "(120300,)\n",
      "\n",
      "Partition2: \n",
      "(146736, 1440)\n",
      "(146736,)\n",
      "(146767, 1440)\n",
      "(146767,)\n",
      "\n",
      "Partition3: \n",
      "(69524, 1440)\n",
      "(69524,)\n",
      "(69586, 1440)\n",
      "(69586,)\n",
      "\n",
      "Partition4: \n",
      "(86588, 1440)\n",
      "(86588,)\n",
      "(86615, 1440)\n",
      "(86615,)\n",
      "\n",
      "Partition5: \n",
      "(125376, 1440)\n",
      "(125376,)\n",
      "(125382, 1440)\n",
      "(125382,)\n",
      "\n"
     ]
    }
   ],
   "source": [
    "data_dir = \"/Users/samskanderi/Documents/Research_Project/SWANSF/code/\\\n",
    "6_2_OSampling_Concatenation_KnnImputation/\"\n",
    "\n",
    "name = \"_OSampling_Concatenation_KnnImputation\"\n",
    "\n",
    "smote_adasyn(1, 5, data_dir, name, X_train_array, Y_train_array)"
   ]
  },
  {
   "cell_type": "code",
   "execution_count": null,
   "id": "3c0d9f82",
   "metadata": {},
   "outputs": [],
   "source": []
  }
 ],
 "metadata": {
  "kernelspec": {
   "display_name": "Python 3 (ipykernel)",
   "language": "python",
   "name": "python3"
  },
  "language_info": {
   "codemirror_mode": {
    "name": "ipython",
    "version": 3
   },
   "file_extension": ".py",
   "mimetype": "text/x-python",
   "name": "python",
   "nbconvert_exporter": "python",
   "pygments_lexer": "ipython3",
   "version": "3.11.3"
  }
 },
 "nbformat": 4,
 "nbformat_minor": 5
}
