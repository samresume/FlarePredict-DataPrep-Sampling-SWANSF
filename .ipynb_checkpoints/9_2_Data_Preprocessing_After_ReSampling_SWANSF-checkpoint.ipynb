{
 "cells": [
  {
   "cell_type": "markdown",
   "id": "5bbbdec0",
   "metadata": {},
   "source": [
    "# Normalization on NewFeatures"
   ]
  },
  {
   "cell_type": "markdown",
   "id": "ecd746d4",
   "metadata": {},
   "source": [
    "## Zscore and MinMax Normalization"
   ]
  },
  {
   "cell_type": "code",
   "execution_count": 1,
   "id": "601e272a",
   "metadata": {},
   "outputs": [],
   "source": [
    "from scipy import stats\n",
    "import numpy as np\n",
    "from sklearn.preprocessing import MinMaxScaler\n",
    "scaler = MinMaxScaler()\n",
    "from tqdm import tqdm\n",
    "\n",
    "def zm(start_partition, end_partition, data, labels, data_dir, first_name, last_name):\n",
    "    \n",
    "    num_new_features = 9\n",
    "    num_attributes = 24\n",
    "    num_all_features = num_attributes * num_new_features\n",
    "\n",
    "    for i in range(start_partition-1,end_partition):\n",
    "        new_partition = np.zeros((np.array(data[i]).shape[0], num_all_features))\n",
    "        new_partition = np.array(data[i])\n",
    "\n",
    "        with tqdm(num_all_features) as pbar:\n",
    "            for j in range(0,num_all_features):\n",
    "                new_column = np.zeros(new_partition.shape[0])  \n",
    "                new_column = new_partition[:,j]\n",
    "\n",
    "                \n",
    "                if np.std(new_column)== 0.0:\n",
    "                    minmax = np.ones(new_partition.shape[0])\n",
    "                else:\n",
    "                    zscore = stats.zscore(new_column)\n",
    "                    data_2d = zscore.reshape(-1, 1)\n",
    "                    minmax = scaler.fit_transform(data_2d).flatten()\n",
    "                if (np.isnan(minmax).any() or np.isinf(minmax).any()):\n",
    "                    print('nan-zscore')\n",
    "\n",
    "                new_column = minmax\n",
    "\n",
    "\n",
    "                new_partition[:,j] = new_column\n",
    "                pbar.update(1)\n",
    "\n",
    "            with open(data_dir + first_name + \"Partition\" + str(i+1) + last_name +\".pkl\", 'wb') as f:\n",
    "                pickle.dump(new_partition, f)\n",
    "            with open(data_dir + first_name + \"Partition\" + str(i+1) + \"_Labels\" + last_name +\".pkl\", 'wb') as f:\n",
    "                pickle.dump(labels[i], f)\n",
    "\n",
    "        \n",
    "                   "
   ]
  },
  {
   "cell_type": "markdown",
   "id": "135c961f",
   "metadata": {},
   "source": [
    "### RUS_Tomek_Smote"
   ]
  },
  {
   "cell_type": "code",
   "execution_count": 2,
   "id": "a6565552",
   "metadata": {},
   "outputs": [],
   "source": [
    "import pickle\n",
    "import pandas as pd\n",
    "\n",
    "data_dir = \"/Users/samskanderi/Documents/Research_Project/SWANSF/code/7_1_OUSampling_NewFeatures_KnnImputation/\"\n",
    "\n",
    "X_train_array = []\n",
    "Y_train_array = []\n",
    "\n",
    "num_partitions = 5\n",
    "for i in range(0, num_partitions):\n",
    "    with open(data_dir + \"RUS_Tomek_Smote_\" +\"Partition\" + str(i+1) + \"_OUSampling_NewFeatures_KnnImputation\" +\".pkl\", 'rb') as f:\n",
    "        X_train_array.append(pickle.load(f))\n",
    "    with open(data_dir + \"RUS_Tomek_Smote_\" + \"Partition\" + str(i+1) + \"_Labels_OUSampling_NewFeatures_KnnImputation\" +\".pkl\", 'rb') as f:\n",
    "        Y_train_array.append(pickle.load(f))"
   ]
  },
  {
   "cell_type": "code",
   "execution_count": 3,
   "id": "eb4acad3",
   "metadata": {},
   "outputs": [
    {
     "name": "stderr",
     "output_type": "stream",
     "text": [
      "216it [00:00, 2483.38it/s]\n",
      "216it [00:00, 3807.04it/s]\n",
      "216it [00:00, 3657.60it/s]\n",
      "216it [00:00, 3403.18it/s]\n",
      "216it [00:00, 3784.43it/s]\n"
     ]
    }
   ],
   "source": [
    "data_dir = \"/Users/samskanderi/Documents/Research_Project/SWANSF/code/8_1_FinalData_OUSampling_NewFeatures_ZM_KnnImputation/\"\n",
    "first_name = 'RUS_Tomek_Smote_'\n",
    "last_name = '_OUSampling_NewFeatures_ZM_KnnImputation'\n",
    "\n",
    "zm(1,5,X_train_array,Y_train_array, data_dir, first_name, last_name)"
   ]
  },
  {
   "cell_type": "markdown",
   "id": "4fb11bc0",
   "metadata": {},
   "source": [
    "### RUS_Tomek_Adasyn"
   ]
  },
  {
   "cell_type": "code",
   "execution_count": 4,
   "id": "25b8ad0e",
   "metadata": {},
   "outputs": [],
   "source": [
    "import pickle\n",
    "import pandas as pd\n",
    "\n",
    "data_dir = \"/Users/samskanderi/Documents/Research_Project/SWANSF/code/7_1_OUSampling_NewFeatures_KnnImputation/\"\n",
    "\n",
    "X_train_array = []\n",
    "Y_train_array = []\n",
    "\n",
    "num_partitions = 5\n",
    "for i in range(0, num_partitions):\n",
    "    with open(data_dir + \"RUS_Tomek_Adasyn_\" +\"Partition\" + str(i+1) + \"_OUSampling_NewFeatures_KnnImputation\" +\".pkl\", 'rb') as f:\n",
    "        X_train_array.append(pickle.load(f))\n",
    "    with open(data_dir + \"RUS_Tomek_Adasyn_\" + \"Partition\" + str(i+1) + \"_Labels_OUSampling_NewFeatures_KnnImputation\" +\".pkl\", 'rb') as f:\n",
    "        Y_train_array.append(pickle.load(f))"
   ]
  },
  {
   "cell_type": "code",
   "execution_count": 5,
   "id": "46b560a4",
   "metadata": {},
   "outputs": [
    {
     "name": "stderr",
     "output_type": "stream",
     "text": [
      "216it [00:00, 2205.55it/s]\n",
      "216it [00:00, 2919.00it/s]\n",
      "216it [00:00, 3602.75it/s]\n",
      "216it [00:00, 3709.36it/s]\n",
      "216it [00:00, 3346.25it/s]\n"
     ]
    }
   ],
   "source": [
    "data_dir = \"/Users/samskanderi/Documents/Research_Project/SWANSF/code/8_1_FinalData_OUSampling_NewFeatures_ZM_KnnImputation/\"\n",
    "first_name = 'RUS_Tomek_Adasyn_'\n",
    "last_name = '_OUSampling_NewFeatures_ZM_KnnImputation'\n",
    "\n",
    "zm(1,5,X_train_array,Y_train_array, data_dir, first_name, last_name)"
   ]
  },
  {
   "cell_type": "markdown",
   "id": "624b83be",
   "metadata": {},
   "source": [
    "### Smote"
   ]
  },
  {
   "cell_type": "code",
   "execution_count": 2,
   "id": "41e576c7",
   "metadata": {},
   "outputs": [],
   "source": [
    "import pickle\n",
    "import pandas as pd\n",
    "\n",
    "data_dir = \"/Users/samskanderi/Documents/Research_Project/SWANSF/code/7_2_OSampling_NewFeatures_KnnImputation/\"\n",
    "\n",
    "X_train_array = []\n",
    "Y_train_array = []\n",
    "\n",
    "num_partitions = 5\n",
    "for i in range(0, num_partitions):\n",
    "    with open(data_dir + \"Smote_\" +\"Partition\" + str(i+1) + \"_OSampling_NewFeatures_KnnImputation\" +\".pkl\", 'rb') as f:\n",
    "        X_train_array.append(pickle.load(f))\n",
    "    with open(data_dir + \"Smote_\" + \"Partition\" + str(i+1) + \"_Labels_OSampling_NewFeatures_KnnImputation\" +\".pkl\", 'rb') as f:\n",
    "        Y_train_array.append(pickle.load(f))"
   ]
  },
  {
   "cell_type": "code",
   "execution_count": 3,
   "id": "0878e5cf",
   "metadata": {},
   "outputs": [
    {
     "name": "stderr",
     "output_type": "stream",
     "text": [
      "216it [00:00, 305.20it/s]\n",
      "216it [00:00, 245.48it/s]\n",
      "216it [00:00, 794.23it/s]\n",
      "216it [00:00, 526.53it/s]\n",
      "216it [00:00, 311.56it/s]\n"
     ]
    }
   ],
   "source": [
    "data_dir = \"/Users/samskanderi/Documents/Research_Project/SWANSF/code/8_2_FinalData_OSampling_NewFeatures_ZM_KnnImputation/\"\n",
    "first_name = 'Smote_'\n",
    "last_name = '_OSampling_NewFeatures_ZM_KnnImputation'\n",
    "\n",
    "zm(1,5,X_train_array,Y_train_array, data_dir, first_name, last_name)"
   ]
  },
  {
   "cell_type": "markdown",
   "id": "1caf8965",
   "metadata": {},
   "source": [
    "### Adasyn "
   ]
  },
  {
   "cell_type": "code",
   "execution_count": 4,
   "id": "0d671c1d",
   "metadata": {},
   "outputs": [],
   "source": [
    "import pickle\n",
    "import pandas as pd\n",
    "\n",
    "data_dir = \"/Users/samskanderi/Documents/Research_Project/SWANSF/code/7_2_OSampling_NewFeatures_KnnImputation/\"\n",
    "\n",
    "X_train_array = []\n",
    "Y_train_array = []\n",
    "\n",
    "num_partitions = 5\n",
    "for i in range(0, num_partitions):\n",
    "    with open(data_dir + \"Adasyn_\" +\"Partition\" + str(i+1) + \"_OSampling_NewFeatures_KnnImputation\" +\".pkl\", 'rb') as f:\n",
    "        X_train_array.append(pickle.load(f))\n",
    "    with open(data_dir + \"Adasyn_\" + \"Partition\" + str(i+1) + \"_Labels_OSampling_NewFeatures_KnnImputation\" +\".pkl\", 'rb') as f:\n",
    "        Y_train_array.append(pickle.load(f))"
   ]
  },
  {
   "cell_type": "code",
   "execution_count": 5,
   "id": "95566b44",
   "metadata": {},
   "outputs": [
    {
     "name": "stderr",
     "output_type": "stream",
     "text": [
      "216it [00:00, 379.26it/s]\n",
      "216it [00:00, 247.05it/s]\n",
      "216it [00:00, 878.23it/s] \n",
      "216it [00:00, 683.12it/s]\n",
      "216it [00:00, 354.60it/s]\n"
     ]
    }
   ],
   "source": [
    "data_dir = \"/Users/samskanderi/Documents/Research_Project/SWANSF/code/8_2_FinalData_OSampling_NewFeatures_ZM_KnnImputation/\"\n",
    "first_name = 'Adasyn_'\n",
    "last_name = '_OSampling_NewFeatures_ZM_KnnImputation'\n",
    "\n",
    "zm(1,5,X_train_array,Y_train_array, data_dir, first_name, last_name)"
   ]
  },
  {
   "cell_type": "code",
   "execution_count": null,
   "id": "639562e8",
   "metadata": {},
   "outputs": [],
   "source": []
  }
 ],
 "metadata": {
  "kernelspec": {
   "display_name": "Python 3 (ipykernel)",
   "language": "python",
   "name": "python3"
  },
  "language_info": {
   "codemirror_mode": {
    "name": "ipython",
    "version": 3
   },
   "file_extension": ".py",
   "mimetype": "text/x-python",
   "name": "python",
   "nbconvert_exporter": "python",
   "pygments_lexer": "ipython3",
   "version": "3.11.3"
  }
 },
 "nbformat": 4,
 "nbformat_minor": 5
}
