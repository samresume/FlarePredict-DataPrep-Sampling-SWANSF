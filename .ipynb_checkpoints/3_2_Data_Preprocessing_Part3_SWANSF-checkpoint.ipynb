{
 "cells": [
  {
   "cell_type": "markdown",
   "id": "f0b37356",
   "metadata": {},
   "source": [
    "# Normalization on Concatenation"
   ]
  },
  {
   "cell_type": "markdown",
   "id": "77ffffdd",
   "metadata": {},
   "source": [
    "# ML"
   ]
  },
  {
   "cell_type": "code",
   "execution_count": 1,
   "id": "2d70fc19",
   "metadata": {},
   "outputs": [
    {
     "name": "stdout",
     "output_type": "stream",
     "text": [
      "P1 Nan-Value: False\n",
      "P2 Nan-Value: False\n",
      "P3 Nan-Value: False\n",
      "P4 Nan-Value: False\n",
      "P5 Nan-Value: False\n"
     ]
    }
   ],
   "source": [
    "import numpy as np\n",
    "import pandas as pd\n",
    "import pickle\n",
    "\n",
    "data_dir = \"/Users/samskanderi/Documents/Research_Project/SWANSF/code/4_1_FinalData_Concatenation_KnnImputation/\"\n",
    "\n",
    "newf_imputed_data = []\n",
    "labels = []\n",
    "\n",
    "\n",
    "num_partitions = 5\n",
    "\n",
    "for i in range(0,num_partitions):\n",
    "# Load the array with Pickle\n",
    "    with open(data_dir + \"Partition\" + str(i+1) + \"_Concatenation_KnnImputation\" +\".pkl\", 'rb') as f:\n",
    "        newf_imputed_data.append(pickle.load(f))\n",
    "        \n",
    "    print(\"P\"+str(i+1)+\" Nan-Value: \"+ str(np.isnan(newf_imputed_data[i]).any() or np.isinf(newf_imputed_data[i]).any()))  \n",
    "\n",
    "    with open(data_dir + \"Partition\" + str(i+1) + \"_Labels_Concatenation_KnnImputation\" +\".pkl\", 'rb') as f:\n",
    "        labels.append(pickle.load(f))"
   ]
  },
  {
   "cell_type": "markdown",
   "id": "196a70fa",
   "metadata": {},
   "source": [
    "## Zscore and MinMax Normalization"
   ]
  },
  {
   "cell_type": "code",
   "execution_count": null,
   "id": "c13f0906",
   "metadata": {},
   "outputs": [],
   "source": [
    "from scipy import stats\n",
    "import numpy as np\n",
    "from sklearn.preprocessing import MinMaxScaler\n",
    "scaler = MinMaxScaler()\n",
    "from tqdm import tqdm\n",
    "\n",
    "def zm(start_partition, end_partition, data, labels, data_dir, name):\n",
    "    \n",
    "    num_timestamps= 60\n",
    "    num_attributes = 24\n",
    "\n",
    "    for i in range(start_partition-1,end_partition):\n",
    "        new_partition = np.zeros((np.array(data[i]).shape[0], num_timestamps*num_attributes))\n",
    "        new_partition = np.array(data[i])\n",
    "\n",
    "        with tqdm(num_attributes) as pbar:\n",
    "            for j in range(0,num_attributes):\n",
    "                new_attribute = np.zeros(new_partition.shape[0]*num_timestamps)  \n",
    "                \n",
    "                for m in range(0,new_partition.shape[0]):\n",
    "                    new_attribute[m*num_timestamps:(m+1)*num_timestamps] = new_partition[m,j*num_timestamps:(j+1)*num_timestamps]\n",
    "                 \n",
    "                if np.std(new_attribute)== 0.0:\n",
    "                    minmax = np.ones(new_partition.shape[0]*num_timestamps)\n",
    "                else:\n",
    "                    zscore = stats.zscore(new_attribute)\n",
    "                    data_2d = zscore.reshape(-1, 1)\n",
    "                    minmax = scaler.fit_transform(data_2d).flatten()\n",
    "                if (np.isnan(minmax).any() or np.isinf(minmax).any()):\n",
    "                    print('nan-zscore')\n",
    "                \n",
    "                for m in range(0,new_partition.shape[0]):\n",
    "                    new_partition[m,j*num_timestamps:(j+1)*num_timestamps] = minmax[m*num_timestamps:(m+1)*num_timestamps] \n",
    "                 \n",
    "                pbar.update(1)\n",
    "\n",
    "            with open(data_dir + \"Partition\" + str(i+1) + \"_\" + name +\".pkl\", 'wb') as f:\n",
    "                pickle.dump(new_partition, f)\n",
    "            with open(data_dir + \"Partition\" + str(i+1) + \"_Labels_\" + name +\".pkl\", 'wb') as f:\n",
    "                pickle.dump(labels[i], f)\n",
    "\n",
    "        \n",
    "                   "
   ]
  },
  {
   "cell_type": "code",
   "execution_count": null,
   "id": "119f912e",
   "metadata": {},
   "outputs": [],
   "source": [
    "data_dir = \"/Users/samskanderi/Documents/Research_Project/SWANSF/code/5_3_FinalData_Concatenation_ZM_KnnImputation/\"\n",
    "name = 'Concatenation_ZM_KnnImputation'\n",
    "\n",
    "zm(1,5,newf_imputed_data,labels, data_dir, name)"
   ]
  },
  {
   "cell_type": "markdown",
   "id": "00223276",
   "metadata": {},
   "source": [
    "## Missing value Exploration"
   ]
  },
  {
   "cell_type": "code",
   "execution_count": null,
   "id": "b0e1720b",
   "metadata": {},
   "outputs": [],
   "source": [
    "# Loading the Raw Data\n",
    "import pickle\n",
    "import numpy as np\n",
    "\n",
    "data_dir = \"/Users/samskanderi/Documents/Research_Project/SWANSF/code/5_3_FinalData_Concatenation_ZM_KnnImputation/\"\n",
    "normalized_data = []\n",
    "\n",
    "num_partitions = 5\n",
    "\n",
    "for i in range(0,num_partitions):\n",
    "# Load the array with Pickle\n",
    "    with open(data_dir + \"Partition\" + str(i+1) + \"_Concatenation_ZM_KnnImputation\" + \".pkl\", 'rb') as f:\n",
    "        normalized_data.append(pickle.load(f))\n",
    "    print(\"P\"+str(i+1)+\" Nan-Value: \"+ str(np.isnan(normalized_data[i]).any() or np.isinf(normalized_data[i]).any()))  "
   ]
  }
 ],
 "metadata": {
  "kernelspec": {
   "display_name": "Python 3 (ipykernel)",
   "language": "python",
   "name": "python3"
  },
  "language_info": {
   "codemirror_mode": {
    "name": "ipython",
    "version": 3
   },
   "file_extension": ".py",
   "mimetype": "text/x-python",
   "name": "python",
   "nbconvert_exporter": "python",
   "pygments_lexer": "ipython3",
   "version": "3.11.3"
  }
 },
 "nbformat": 4,
 "nbformat_minor": 5
}
