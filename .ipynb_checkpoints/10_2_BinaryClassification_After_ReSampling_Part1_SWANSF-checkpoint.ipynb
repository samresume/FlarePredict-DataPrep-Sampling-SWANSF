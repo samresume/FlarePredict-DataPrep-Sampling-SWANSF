{
 "cells": [
  {
   "cell_type": "markdown",
   "id": "2aef2ab6",
   "metadata": {},
   "source": [
    "# Rocket, TSF, LSTM, RNN, GRU, 1D-CNN on Cocatenation (After Resampling)"
   ]
  },
  {
   "cell_type": "markdown",
   "id": "d7cbdd32",
   "metadata": {},
   "source": [
    "# Train Test Split"
   ]
  },
  {
   "cell_type": "markdown",
   "id": "df67175e",
   "metadata": {},
   "source": [
    "## Stratified Cross validation (k = 5)"
   ]
  },
  {
   "cell_type": "markdown",
   "id": "13c959d3",
   "metadata": {},
   "source": [
    "P1 Train and P2 Test, P1 Train and P3 Test, P1 Train and P4 Test, P1 Train and P5 Test\n",
    "P2 Train and P3 Test, P2 Train and P4 Test, P2 Train and P5 Test\n",
    "P3 Train and P4 Test, P3 Train and P5 Test\n",
    "P4 Train and P5 Test"
   ]
  },
  {
   "cell_type": "markdown",
   "id": "ea62f006",
   "metadata": {},
   "source": [
    "# Evaluation Metrics"
   ]
  },
  {
   "cell_type": "code",
   "execution_count": 1,
   "id": "78559b58",
   "metadata": {},
   "outputs": [],
   "source": [
    "# float(\"{:.2f}\".format(13.949999999999999))\n",
    "\n",
    "def TSS(TP,TN,FP,FN):\n",
    "    TSS_value = (TP / (TP + FN)) - (FP / (FP + TN))\n",
    "    return TSS_value\n",
    "\n",
    "def HSS1(TP,TN,FP,FN):\n",
    "    HSS1_value = (2 * (TP * TN - FP * FN)) / ((TP + FN) * (FN + TN) + (TP + FP) * (FP + TN))\n",
    "    return HSS1_value\n",
    "    \n",
    "def HSS2(TP,TN,FP,FN):\n",
    "    HSS2_value = (2 * (TP * TN - FP * FN)) / ((TP + FP) * (FN + TN) + (TP + FN) * (FP + TN))\n",
    "    return HSS2_value\n",
    "\n",
    "def GSS(TP,TN,FP,FN):\n",
    "    GSS_value = (TP - (TP + FP) * (TP + FN) / (TP + FP + FN + TN))\n",
    "    return GSS_value\n",
    "\n",
    "def Recall(TP,TN,FP,FN):\n",
    "    Recall_value = (TP) / (TP + FN)\n",
    "    return Recall_value\n",
    "\n",
    "def FPR(TP,TN,FP,FN):\n",
    "    fpr_value = (FP) / (FP + TN)\n",
    "    return fpr_value\n",
    "\n",
    "def Accuracy(TP,TN,FP,FN):\n",
    "    accuracy_value = (TP + TN) / (TP + TN + FP + FN)\n",
    "    return accuracy_value\n",
    "\n",
    "def Precision(TP,TN,FP,FN):\n",
    "    precision_value = (FP) / (TP + FP)\n",
    "    return precision_value"
   ]
  },
  {
   "cell_type": "markdown",
   "id": "342a8fa7",
   "metadata": {},
   "source": [
    "# Loading the Final Datasets"
   ]
  },
  {
   "cell_type": "markdown",
   "id": "e4f52133",
   "metadata": {},
   "source": [
    "## Concatenation "
   ]
  },
  {
   "cell_type": "markdown",
   "id": "70d7efdb",
   "metadata": {},
   "source": [
    "#### RUS-Tomek_Smote"
   ]
  },
  {
   "cell_type": "code",
   "execution_count": 2,
   "id": "777f08e8",
   "metadata": {},
   "outputs": [
    {
     "name": "stdout",
     "output_type": "stream",
     "text": [
      "P1 Nan-Value: False\n",
      "P2 Nan-Value: False\n",
      "P3 Nan-Value: False\n",
      "P4 Nan-Value: False\n",
      "P5 Nan-Value: False\n"
     ]
    }
   ],
   "source": [
    "import pickle\n",
    "import numpy as np\n",
    "\n",
    "data_dir = \"/Users/samskanderi/Documents/Research_Project/SWANSF/code/8_3_FinalData_OUSampling_Concatenation_ZM_KnnImputation/\"\n",
    "X_train_concat_ZM_RTS = []\n",
    "Y_train_concat_ZM_RTS = []\n",
    "\n",
    "\n",
    "num_partitions = 5\n",
    "\n",
    "for i in range(0,num_partitions):\n",
    "    with open(data_dir + \"RUS_Tomek_Smote_\" +\"Partition\" + str(i+1) + \"_WithoutC_Concatenation_ZM_KnnImputation\" +\".pkl\", 'rb') as f:\n",
    "        X_train_concat_ZM_RTS.append(pickle.load(f))\n",
    "    with open(data_dir + \"RUS_Tomek_Smote_\" + \"Partition\" + str(i+1) + \"_Labels_WithoutC_Concatenation_ZM_KnnImputation\" +\".pkl\", 'rb') as f:\n",
    "        Y_train_concat_ZM_RTS.append(pickle.load(f))\n",
    "    print(\"P\"+str(i+1)+\" Nan-Value: \"+ str(np.isnan(X_train_concat_ZM_RTS[i]).any() or np.isinf(X_train_concat_ZM_RTS[i]).any()))"
   ]
  },
  {
   "cell_type": "markdown",
   "id": "17bfcf0e",
   "metadata": {},
   "source": [
    "#### RUS-Tomek_Adasyn"
   ]
  },
  {
   "cell_type": "code",
   "execution_count": 3,
   "id": "013c9a76",
   "metadata": {},
   "outputs": [
    {
     "name": "stdout",
     "output_type": "stream",
     "text": [
      "P1 Nan-Value: False\n",
      "P2 Nan-Value: False\n",
      "P3 Nan-Value: False\n",
      "P4 Nan-Value: False\n",
      "P5 Nan-Value: False\n"
     ]
    }
   ],
   "source": [
    "import pickle\n",
    "import numpy as np\n",
    "\n",
    "data_dir = \"/Users/samskanderi/Documents/Research_Project/SWANSF/code/8_3_FinalData_OUSampling_Concatenation_ZM_KnnImputation/\"\n",
    "X_train_concat_ZM_RTA = []\n",
    "Y_train_concat_ZM_RTA = []\n",
    "\n",
    "\n",
    "num_partitions = 5\n",
    "\n",
    "for i in range(0,num_partitions):\n",
    "    with open(data_dir + \"RUS_Tomek_Adasyn_\" +\"Partition\" + str(i+1) + \"_WithoutC_Concatenation_ZM_KnnImputation\" +\".pkl\", 'rb') as f:\n",
    "        X_train_concat_ZM_RTA.append(pickle.load(f))\n",
    "    with open(data_dir + \"RUS_Tomek_Adasyn_\" + \"Partition\" + str(i+1) + \"_Labels_WithoutC_Concatenation_ZM_KnnImputation\" +\".pkl\", 'rb') as f:\n",
    "        Y_train_concat_ZM_RTA.append(pickle.load(f))\n",
    "    print(\"P\"+str(i+1)+\" Nan-Value: \"+ str(np.isnan(X_train_concat_ZM_RTA[i]).any() or np.isinf(X_train_concat_ZM_RTA[i]).any()))"
   ]
  },
  {
   "cell_type": "markdown",
   "id": "cd16e3c3",
   "metadata": {},
   "source": [
    "#### Smote"
   ]
  },
  {
   "cell_type": "code",
   "execution_count": 4,
   "id": "d53204d0",
   "metadata": {},
   "outputs": [
    {
     "name": "stdout",
     "output_type": "stream",
     "text": [
      "P1 Nan-Value: False\n",
      "P2 Nan-Value: False\n",
      "P3 Nan-Value: False\n",
      "P4 Nan-Value: False\n",
      "P5 Nan-Value: False\n"
     ]
    }
   ],
   "source": [
    "import pickle\n",
    "import numpy as np\n",
    "\n",
    "data_dir = \"/Users/samskanderi/Documents/Research_Project/SWANSF/code/8_4_FinalData_OSampling_Concatenation_ZM_KnnImputation/\"\n",
    "X_train_concat_ZM_S = []\n",
    "Y_train_concat_ZM_S = []\n",
    "\n",
    "\n",
    "num_partitions = 5\n",
    "\n",
    "for i in range(0,num_partitions):\n",
    "    with open(data_dir + \"Smote_\" +\"Partition\" + str(i+1) + \"_OSampling_Concatenation_ZM_KnnImputation\" +\".pkl\", 'rb') as f:\n",
    "        X_train_concat_ZM_S.append(pickle.load(f))\n",
    "    with open(data_dir + \"Smote_\" + \"Partition\" + str(i+1) + \"_Labels_OSampling_Concatenation_ZM_KnnImputation\" +\".pkl\", 'rb') as f:\n",
    "        Y_train_concat_ZM_S.append(pickle.load(f))\n",
    "    print(\"P\"+str(i+1)+\" Nan-Value: \"+ str(np.isnan(X_train_concat_ZM_S[i]).any() or np.isinf(X_train_concat_ZM_S[i]).any()))"
   ]
  },
  {
   "cell_type": "markdown",
   "id": "c2fce791",
   "metadata": {},
   "source": [
    "#### Adasyn"
   ]
  },
  {
   "cell_type": "code",
   "execution_count": 5,
   "id": "c08af0de",
   "metadata": {},
   "outputs": [
    {
     "name": "stdout",
     "output_type": "stream",
     "text": [
      "P1 Nan-Value: False\n",
      "P2 Nan-Value: False\n",
      "P3 Nan-Value: False\n",
      "P4 Nan-Value: False\n",
      "P5 Nan-Value: False\n"
     ]
    }
   ],
   "source": [
    "import pickle\n",
    "import numpy as np\n",
    "\n",
    "data_dir = \"/Users/samskanderi/Documents/Research_Project/SWANSF/code/8_4_FinalData_OSampling_Concatenation_ZM_KnnImputation/\"\n",
    "X_train_concat_ZM_A = []\n",
    "Y_train_concat_ZM_A = []\n",
    "\n",
    "\n",
    "num_partitions = 5\n",
    "\n",
    "for i in range(0,num_partitions):\n",
    "    with open(data_dir + \"Adasyn_\" +\"Partition\" + str(i+1) + \"_OSampling_Concatenation_ZM_KnnImputation\" +\".pkl\", 'rb') as f:\n",
    "        X_train_concat_ZM_A.append(pickle.load(f))\n",
    "    with open(data_dir + \"Adasyn_\" + \"Partition\" + str(i+1) + \"_Labels_OSampling_Concatenation_ZM_KnnImputation\" +\".pkl\", 'rb') as f:\n",
    "        Y_train_concat_ZM_A.append(pickle.load(f))\n",
    "    print(\"P\"+str(i+1)+\" Nan-Value: \"+ str(np.isnan(X_train_concat_ZM_A[i]).any() or np.isinf(X_train_concat_ZM_A[i]).any()))"
   ]
  },
  {
   "cell_type": "markdown",
   "id": "fad7a417",
   "metadata": {},
   "source": [
    "#### Test Data"
   ]
  },
  {
   "cell_type": "code",
   "execution_count": 4,
   "id": "f80dc488",
   "metadata": {},
   "outputs": [
    {
     "name": "stdout",
     "output_type": "stream",
     "text": [
      "P1 Nan-Value: False\n",
      "P2 Nan-Value: False\n",
      "P3 Nan-Value: False\n",
      "P4 Nan-Value: False\n",
      "P5 Nan-Value: False\n"
     ]
    }
   ],
   "source": [
    "import pickle\n",
    "import numpy as np\n",
    "\n",
    "data_dir = \"/Users/samskanderi/Documents/Research_Project/SWANSF/code/5_3_FinalData_Concatenation_ZM_KnnImputation/\"\n",
    "X_test_concat_ZM = []\n",
    "Y_test_concat_ZM = []\n",
    "\n",
    "\n",
    "num_partitions = 5\n",
    "\n",
    "for i in range(0,num_partitions):\n",
    "    with open(data_dir + \"Partition\" + str(i+1) + \"_Concatenation_ZM_KnnImputation\" + \".pkl\", 'rb') as f:\n",
    "        X_test_concat_ZM.append(pickle.load(f))\n",
    "    print(\"P\"+str(i+1)+\" Nan-Value: \"+ str(np.isnan(X_test_concat_ZM[i]).any() or np.isinf(X_test_concat_ZM[i]).any()))\n",
    "    \n",
    "    with open(data_dir + \"Partition\" + str(i+1) + \"_Labels_Concatenation_ZM_KnnImputation\" + \".pkl\", 'rb') as f:\n",
    "        Y_test_concat_ZM.append(pickle.load(f))"
   ]
  },
  {
   "cell_type": "markdown",
   "id": "e879937b",
   "metadata": {},
   "source": [
    "# Useful Functions"
   ]
  },
  {
   "cell_type": "code",
   "execution_count": 5,
   "id": "69a74f1d",
   "metadata": {},
   "outputs": [],
   "source": [
    "def kfold_training(name, X_train, Y_train, X_test, Y_test, training_func, num):\n",
    "    kfold = np.array([[1,2],[1,3],[1,4],[1,5],[2,3],[2,4],[2,5],[3,4],[3,5],[4,5]])\n",
    "    metrics = []\n",
    "    metrics_values = np.array([])\n",
    "    \n",
    "    for i in range(0, num):\n",
    "        train_index = kfold[i,0]\n",
    "        test_index = kfold[i,1]\n",
    "        metrics_values = training_func(X_train[train_index-1], Y_train[train_index-1], X_test[test_index-1], Y_test[test_index-1])\n",
    "        while (metrics_values[4]==0.0):\n",
    "            metrics_values = training_func(X_train[train_index-1], Y_train[train_index-1], X_test[test_index-1], Y_test[test_index-1])\n",
    "        metrics.append(np.append(np.append(train_index, test_index), metrics_values))\n",
    "    return metrics"
   ]
  },
  {
   "cell_type": "markdown",
   "id": "56a024ab",
   "metadata": {},
   "source": [
    "# Training"
   ]
  },
  {
   "cell_type": "markdown",
   "id": "b13583cb",
   "metadata": {},
   "source": [
    "## Rocket (RidgeClassifierCV) "
   ]
  },
  {
   "cell_type": "code",
   "execution_count": 6,
   "id": "8a7ff942",
   "metadata": {},
   "outputs": [],
   "source": [
    "# ROCKET with RidgeClassifierCV\n",
    "\n",
    "import numpy as np\n",
    "from sklearn.linear_model import RidgeClassifierCV\n",
    "from sktime.transformations.panel.rocket import Rocket\n",
    "from sklearn.metrics import confusion_matrix\n",
    "import joblib\n",
    "from sktime.datatypes._panel._convert import from_2d_array_to_nested\n",
    "\n",
    "def rocket_model(X_train, Y_train, X_test, Y_test, rocket_kernels=1500):\n",
    "\n",
    "    data_dir = \"/Users/samskanderi/Documents/Research_Project/SWANSF/code/models/rocket/\"\n",
    "    \n",
    "    X_train = from_2d_array_to_nested(X_train)\n",
    "    X_test = from_2d_array_to_nested(X_test)\n",
    "\n",
    "    rocket = Rocket(num_kernels=rocket_kernels)\n",
    "    rocket.fit(X_train)\n",
    "    X_train_transform = rocket.transform(X_train)\n",
    "        \n",
    "    classifier = RidgeClassifierCV()\n",
    "    classifier.fit(X_train_transform, Y_train)\n",
    "    \n",
    "    X_test_transform = rocket.transform(X_test)\n",
    "    \n",
    "    y_pred = classifier.predict(X_test_transform)\n",
    "    \n",
    "    print(str(X_train.shape)+': Rocket Classifier is Done! \\n')\n",
    "\n",
    "    confusion = confusion_matrix(Y_test, y_pred)\n",
    "    tn, fp, fn, tp = confusion.ravel()\n",
    "\n",
    "    tss = TSS(tp,tn,fp,fn)\n",
    "    hss1 = HSS1(tp,tn,fp,fn)\n",
    "    hss2 = HSS2(tp,tn,fp,fn)\n",
    "    gss = GSS(tp,tn,fp,fn)\n",
    "    recall = Recall(tp,tn,fp,fn)\n",
    "    precision = Precision(tp,tn,fp,fn)\n",
    "    \n",
    "    output_values = np.array([tp, fn, fp, tn, tss, hss1, hss2, gss, recall, precision])\n",
    "\n",
    "\n",
    "    #joblib.dump(classifier, data_dir + \"rocket_model.pkl\")\n",
    "\n",
    "    #loaded_rocket_model = joblib.load(data_dir + \"rocket_model_sgd.pkl\")\n",
    "    \n",
    "    return output_values"
   ]
  },
  {
   "cell_type": "markdown",
   "id": "8840de35",
   "metadata": {},
   "source": [
    "## TimeSeriesForest"
   ]
  },
  {
   "cell_type": "code",
   "execution_count": 7,
   "id": "06c0fef8",
   "metadata": {},
   "outputs": [],
   "source": [
    "# TimeSeriesForest\n",
    "\n",
    "from sktime.classification.interval_based import TimeSeriesForestClassifier\n",
    "import numpy as np\n",
    "from sklearn.metrics import confusion_matrix\n",
    "import joblib\n",
    "\n",
    "def tsf_model(X_train, Y_train, X_test, Y_test, tsf_estimator=25):\n",
    "\n",
    "    data_dir = \"/Users/samskanderi/Documents/Research_Project/SWANSF/code/models/TSF/\"\n",
    "    \n",
    "    \n",
    "    tsf_classifier = TimeSeriesForestClassifier(n_estimators=tsf_estimator)\n",
    "    tsf_classifier.fit(X_train, Y_train)\n",
    "    y_pred = tsf_classifier.predict(X_test)\n",
    "    \n",
    "    print(str(X_train.shape)+': TSF Classifier is Done! \\n')\n",
    "    \n",
    "\n",
    "    confusion = confusion_matrix(Y_test, y_pred)\n",
    "    tn, fp, fn, tp = confusion.ravel()\n",
    "\n",
    "    tss = TSS(tp,tn,fp,fn)\n",
    "    hss1 = HSS1(tp,tn,fp,fn)\n",
    "    hss2 = HSS2(tp,tn,fp,fn)\n",
    "    gss = GSS(tp,tn,fp,fn)\n",
    "    recall = Recall(tp,tn,fp,fn)\n",
    "    precision = Precision(tp,tn,fp,fn)\n",
    "    \n",
    "    output_values = np.array([tp, fn, fp, tn, tss, hss1, hss2, gss, recall, precision])\n",
    "\n",
    "\n",
    "    #joblib.dump(classifier, data_dir + \"tsf_model.pkl\")\n",
    "\n",
    "    #loaded_rocket_model = joblib.load(data_dir + \"tsf_model.pkl\")\n",
    "    \n",
    "    return output_values"
   ]
  },
  {
   "cell_type": "markdown",
   "id": "18eb4d25",
   "metadata": {},
   "source": [
    "## LSTM"
   ]
  },
  {
   "cell_type": "code",
   "execution_count": 8,
   "id": "92a02e8f",
   "metadata": {},
   "outputs": [],
   "source": [
    "import warnings\n",
    "warnings.filterwarnings(\"ignore\")\n",
    "\n",
    "import numpy as np\n",
    "import pandas as pd\n",
    "import keras\n",
    "from keras.models import Sequential\n",
    "from keras.layers import LSTM, Dense, Dropout\n",
    "from sklearn.metrics import confusion_matrix\n",
    "\n",
    "def lstm_model(X_train, Y_train, X_test, Y_test):\n",
    "    \n",
    "    data_dir = \"/Users/samskanderi/Documents/Research_Project/SWANSF/code/models/\"\n",
    "    \n",
    "    verbose, epochs, batch_size = 0, 15, 32\n",
    "    n_timesteps, n_features = 60, 24\n",
    "\n",
    "    model = Sequential()\n",
    "    model.add(LSTM(120, input_shape=(n_timesteps,n_features)))\n",
    "    model.add(Dropout(0.3))\n",
    "    model.add(Dense(120, activation='relu'))\n",
    "    model.add(Dense(2, activation='relu'))\n",
    "    model.add(Dense(1, activation='sigmoid'))\n",
    "    model.compile(loss='binary_crossentropy', optimizer='adam', metrics=keras.metrics.SpecificityAtSensitivity(sensitivity=0.95))\n",
    "    \n",
    "    model.fit(X_train, Y_train, epochs=epochs, batch_size=batch_size, verbose=verbose)\n",
    "    \n",
    "    # evaluate model\n",
    "    y_pred = model.predict(X_test)\n",
    "    threshold = 0.4  # Adjust the threshold as needed\n",
    "    y_pred_binary = (y_pred > threshold).astype(int)\n",
    "    \n",
    "    print(str(X_train.shape)+': LSTM Classifier is Done! \\n')\n",
    "\n",
    "\n",
    "    confusion = confusion_matrix(Y_test, y_pred_binary)\n",
    "    tn, fp, fn, tp = confusion.ravel()\n",
    "\n",
    "    tss = TSS(tp,tn,fp,fn)\n",
    "    hss1 = HSS1(tp,tn,fp,fn)\n",
    "    hss2 = HSS2(tp,tn,fp,fn)\n",
    "    gss = GSS(tp,tn,fp,fn)\n",
    "    recall = Recall(tp,tn,fp,fn)\n",
    "    precision = Precision(tp,tn,fp,fn)\n",
    "    \n",
    "    output_values = np.array([tp, fn, fp, tn, tss, hss1, hss2, gss, recall, precision])\n",
    "\n",
    "\n",
    "    #joblib.dump(classifier, data_dir + \"mlp_model.pkl\")\n",
    "\n",
    "    #loaded_mlp_model = joblib.load(data_dir + \"mlp_model.pkl\")\n",
    "    \n",
    "    return output_values"
   ]
  },
  {
   "cell_type": "markdown",
   "id": "694e693a",
   "metadata": {},
   "source": [
    "## 1D-CNN"
   ]
  },
  {
   "cell_type": "code",
   "execution_count": 9,
   "id": "265014e8",
   "metadata": {},
   "outputs": [],
   "source": [
    "import warnings\n",
    "warnings.filterwarnings(\"ignore\")\n",
    "\n",
    "import numpy as np\n",
    "import pandas as pd\n",
    "import keras\n",
    "from keras.models import Sequential\n",
    "from keras.layers import Conv1D, MaxPooling1D, Flatten, Dense, Dropout\n",
    "from sklearn.metrics import confusion_matrix\n",
    "\n",
    "def cnn_model(X_train, Y_train, X_test, Y_test):\n",
    "    \n",
    "    data_dir = \"/Users/samskanderi/Documents/Research_Project/SWANSF/code/models/\"\n",
    "    \n",
    "    verbose, epochs, batch_size = 0, 15, 32\n",
    "    n_timesteps, n_features = 60, 24\n",
    "    \n",
    "    model = Sequential()\n",
    "    model.add(Conv1D(filters=64, kernel_size=5, activation='relu', input_shape=(n_timesteps,n_features)))\n",
    "    model.add(Dropout(0.2))\n",
    "    model.add(MaxPooling1D(pool_size=2))\n",
    "    model.add(Conv1D(filters=128, kernel_size=5, activation='relu'))\n",
    "    model.add(Dropout(0.3))\n",
    "    model.add(MaxPooling1D(pool_size=2))\n",
    "    model.add(Flatten())\n",
    "    model.add(Dense(357, activation='relu'))\n",
    "    model.add(Dense(128, activation='relu'))\n",
    "    model.add(Dense(2, activation='relu'))\n",
    "    model.add(Dense(1, activation='sigmoid'))\n",
    "    model.compile(loss='binary_crossentropy', optimizer='adam', metrics=keras.metrics.SpecificityAtSensitivity(sensitivity=0.95))\n",
    "    \n",
    "    model.fit(X_train, Y_train, epochs=epochs, batch_size=batch_size, verbose=verbose)\n",
    "    \n",
    "    # evaluate model\n",
    "    y_pred = model.predict(X_test)\n",
    "    threshold = 0.35  # Adjust the threshold as needed\n",
    "    y_pred_binary = (y_pred > threshold).astype(int)\n",
    "    \n",
    "    print(str(X_train.shape)+': 1D-CNN Classifier is Done! \\n')\n",
    "\n",
    "\n",
    "    confusion = confusion_matrix(Y_test, y_pred_binary)\n",
    "    tn, fp, fn, tp = confusion.ravel()\n",
    "\n",
    "    tss = TSS(tp,tn,fp,fn)\n",
    "    hss1 = HSS1(tp,tn,fp,fn)\n",
    "    hss2 = HSS2(tp,tn,fp,fn)\n",
    "    gss = GSS(tp,tn,fp,fn)\n",
    "    recall = Recall(tp,tn,fp,fn)\n",
    "    precision = Precision(tp,tn,fp,fn)\n",
    "    \n",
    "    output_values = np.array([tp, fn, fp, tn, tss, hss1, hss2, gss, recall, precision])\n",
    "\n",
    "\n",
    "    #joblib.dump(classifier, data_dir + \"mlp_model.pkl\")\n",
    "\n",
    "    #loaded_mlp_model = joblib.load(data_dir + \"mlp_model.pkl\")\n",
    "    \n",
    "    return output_values"
   ]
  },
  {
   "cell_type": "markdown",
   "id": "4a74348c",
   "metadata": {},
   "source": [
    "## RNN"
   ]
  },
  {
   "cell_type": "code",
   "execution_count": 10,
   "id": "445052a3",
   "metadata": {},
   "outputs": [],
   "source": [
    "import warnings\n",
    "warnings.filterwarnings(\"ignore\")\n",
    "\n",
    "import numpy as np\n",
    "import pandas as pd\n",
    "import keras\n",
    "from keras.models import Sequential\n",
    "from keras.layers import SimpleRNN, Dense, Dropout\n",
    "from sklearn.metrics import confusion_matrix\n",
    "\n",
    "def rnn_model(X_train, Y_train, X_test, Y_test):\n",
    "    \n",
    "    data_dir = \"/Users/samskanderi/Documents/Research_Project/SWANSF/code/models/\"\n",
    "    \n",
    "    verbose, epochs, batch_size = 0, 15, 32\n",
    "    n_timesteps, n_features = 60, 24\n",
    "    \n",
    "    model = Sequential()\n",
    "    model.add(SimpleRNN(units=120, activation='relu', input_shape=(n_timesteps,n_features)))\n",
    "    model.add(Dropout(0.3))\n",
    "    model.add(Dense(120, activation='relu'))\n",
    "    model.add(Dense(2, activation='relu'))\n",
    "    model.add(Dense(1, activation='sigmoid'))\n",
    "    model.compile(loss='binary_crossentropy', optimizer='adam', metrics=keras.metrics.SpecificityAtSensitivity(sensitivity=0.95))\n",
    "\n",
    "    model.fit(X_train, Y_train, epochs=epochs, batch_size=batch_size, verbose=verbose)\n",
    "    \n",
    "    # evaluate model\n",
    "    y_pred = model.predict(X_test)\n",
    "    threshold = 0.40  # Adjust the threshold as needed\n",
    "    y_pred_binary = (y_pred > threshold).astype(int)\n",
    "    \n",
    "    print(str(X_train.shape)+': RNN Classifier is Done! \\n')\n",
    "\n",
    "\n",
    "    confusion = confusion_matrix(Y_test, y_pred_binary)\n",
    "    tn, fp, fn, tp = confusion.ravel()\n",
    "\n",
    "    tss = TSS(tp,tn,fp,fn)\n",
    "    hss1 = HSS1(tp,tn,fp,fn)\n",
    "    hss2 = HSS2(tp,tn,fp,fn)\n",
    "    gss = GSS(tp,tn,fp,fn)\n",
    "    recall = Recall(tp,tn,fp,fn)\n",
    "    precision = Precision(tp,tn,fp,fn)\n",
    "    \n",
    "    output_values = np.array([tp, fn, fp, tn, tss, hss1, hss2, gss, recall, precision])\n",
    "\n",
    "\n",
    "    #joblib.dump(classifier, data_dir + \"mlp_model.pkl\")\n",
    "\n",
    "    #loaded_mlp_model = joblib.load(data_dir + \"mlp_model.pkl\")\n",
    "    \n",
    "    return output_values"
   ]
  },
  {
   "cell_type": "markdown",
   "id": "5e51f840",
   "metadata": {},
   "source": [
    "## GRU "
   ]
  },
  {
   "cell_type": "code",
   "execution_count": 11,
   "id": "12073183",
   "metadata": {},
   "outputs": [],
   "source": [
    "import warnings\n",
    "warnings.filterwarnings(\"ignore\")\n",
    "\n",
    "import numpy as np\n",
    "import pandas as pd\n",
    "import keras\n",
    "from keras.models import Sequential\n",
    "from keras.layers import GRU, Dense, Dropout\n",
    "from sklearn.metrics import confusion_matrix\n",
    "\n",
    "def gru_model(X_train, Y_train, X_test, Y_test):\n",
    "    \n",
    "    data_dir = \"/Users/samskanderi/Documents/Research_Project/SWANSF/code/models/\"\n",
    "    \n",
    "    verbose, epochs, batch_size = 0, 15, 32\n",
    "    n_timesteps, n_features = 60, 24\n",
    "    \n",
    "    model = Sequential()\n",
    "    model.add(GRU(units=120, activation='relu', input_shape=(n_timesteps,n_features)))\n",
    "    model.add(Dropout(0.3))\n",
    "    model.add(Dense(120, activation='relu'))\n",
    "    model.add(Dense(2, activation='relu'))\n",
    "    model.add(Dense(1, activation='sigmoid'))\n",
    "    model.compile(loss='binary_crossentropy', optimizer='adam', metrics=keras.metrics.SpecificityAtSensitivity(sensitivity=0.95))\n",
    "\n",
    "    model.fit(X_train, Y_train, epochs=epochs, batch_size=batch_size, verbose=verbose)\n",
    "    \n",
    "    # evaluate model\n",
    "    y_pred = model.predict(X_test)\n",
    "    threshold = 0.40  # Adjust the threshold as needed\n",
    "    y_pred_binary = (y_pred > threshold).astype(int)\n",
    "    \n",
    "    print(str(X_train.shape)+': GRU Classifier is Done! \\n')\n",
    "\n",
    "\n",
    "    confusion = confusion_matrix(Y_test, y_pred_binary)\n",
    "    tn, fp, fn, tp = confusion.ravel()\n",
    "\n",
    "    tss = TSS(tp,tn,fp,fn)\n",
    "    hss1 = HSS1(tp,tn,fp,fn)\n",
    "    hss2 = HSS2(tp,tn,fp,fn)\n",
    "    gss = GSS(tp,tn,fp,fn)\n",
    "    recall = Recall(tp,tn,fp,fn)\n",
    "    precision = Precision(tp,tn,fp,fn)\n",
    "    \n",
    "    output_values = np.array([tp, fn, fp, tn, tss, hss1, hss2, gss, recall, precision])\n",
    "\n",
    "\n",
    "    #joblib.dump(classifier, data_dir + \"mlp_model.pkl\")\n",
    "\n",
    "    #loaded_mlp_model = joblib.load(data_dir + \"mlp_model.pkl\")\n",
    "    \n",
    "    return output_values"
   ]
  },
  {
   "cell_type": "markdown",
   "id": "a09b2613",
   "metadata": {},
   "source": [
    "# Results"
   ]
  },
  {
   "cell_type": "code",
   "execution_count": 12,
   "id": "2fae2c6d",
   "metadata": {},
   "outputs": [],
   "source": [
    "def save_results(reslut, name):\n",
    "    data_dir = \"/Users/samskanderi/Documents/Research_Project/SWANSF/code/results/\"\n",
    "\n",
    "    with open(data_dir + name + \".pkl\", 'wb') as f:\n",
    "        pickle.dump(reslut, f)"
   ]
  },
  {
   "cell_type": "markdown",
   "id": "4bab12c1",
   "metadata": {},
   "source": [
    "### Rocket"
   ]
  },
  {
   "cell_type": "code",
   "execution_count": 29,
   "id": "f9f997a3",
   "metadata": {},
   "outputs": [
    {
     "name": "stdout",
     "output_type": "stream",
     "text": [
      "(13994, 1): Rocket Classifier is Done! \n",
      "\n",
      "(13994, 1): Rocket Classifier is Done! \n",
      "\n",
      "(13994, 1): Rocket Classifier is Done! \n",
      "\n",
      "(13994, 1): Rocket Classifier is Done! \n",
      "\n",
      "(13996, 1): Rocket Classifier is Done! \n",
      "\n",
      "(13996, 1): Rocket Classifier is Done! \n",
      "\n",
      "(13996, 1): Rocket Classifier is Done! \n",
      "\n",
      "(13998, 1): Rocket Classifier is Done! \n",
      "\n",
      "(13998, 1): Rocket Classifier is Done! \n",
      "\n",
      "(14000, 1): Rocket Classifier is Done! \n",
      "\n"
     ]
    }
   ],
   "source": [
    "# Rocket Concatenation\n",
    "rocket_concat_RTS = kfold_training('Rocket', X_train_concat_ZM_RTS, Y_train_concat_ZM_RTS, X_test_concat_ZM, Y_test_concat_ZM, rocket_model, 10)"
   ]
  },
  {
   "cell_type": "code",
   "execution_count": 30,
   "id": "e26f1cbf",
   "metadata": {},
   "outputs": [],
   "source": [
    "save_results(rocket_concat_RTS, \"Rocket_RusTomekSmote_WithoutB&C_Concatenation_Results\")"
   ]
  },
  {
   "cell_type": "code",
   "execution_count": 32,
   "id": "b3672701",
   "metadata": {},
   "outputs": [
    {
     "name": "stdout",
     "output_type": "stream",
     "text": [
      "(14024, 1): Rocket Classifier is Done! \n",
      "\n",
      "(14024, 1): Rocket Classifier is Done! \n",
      "\n",
      "(14024, 1): Rocket Classifier is Done! \n",
      "\n",
      "(14024, 1): Rocket Classifier is Done! \n",
      "\n",
      "(13979, 1): Rocket Classifier is Done! \n",
      "\n",
      "(13979, 1): Rocket Classifier is Done! \n",
      "\n",
      "(13979, 1): Rocket Classifier is Done! \n",
      "\n",
      "(14029, 1): Rocket Classifier is Done! \n",
      "\n",
      "(14029, 1): Rocket Classifier is Done! \n",
      "\n",
      "(13982, 1): Rocket Classifier is Done! \n",
      "\n"
     ]
    }
   ],
   "source": [
    "rocket_concat_RTA = kfold_training('Rocket', X_train_concat_ZM_RTA, Y_train_concat_ZM_RTA, X_test_concat_ZM, Y_test_concat_ZM, rocket_model, 10)"
   ]
  },
  {
   "cell_type": "code",
   "execution_count": 33,
   "id": "4eed4771",
   "metadata": {},
   "outputs": [],
   "source": [
    "save_results(rocket_concat_RTA, \"Rocket_RusTomekAdasyn_WithoutB&C_Concatenation_Results\")"
   ]
  },
  {
   "cell_type": "code",
   "execution_count": null,
   "id": "d4d48f83",
   "metadata": {},
   "outputs": [],
   "source": [
    "rocket_concat_S = kfold_training('Rocket', X_train_concat_ZM_S, Y_train_concat_ZM_S, X_test_concat_ZM, Y_test_concat_ZM, rocket_model, 10)"
   ]
  },
  {
   "cell_type": "code",
   "execution_count": null,
   "id": "02d8d9bc",
   "metadata": {},
   "outputs": [],
   "source": [
    "save_results(rocket_concat_S, \"Rocket_Smote_WithoutB&C_Concatenation_Results\")"
   ]
  },
  {
   "cell_type": "code",
   "execution_count": null,
   "id": "57ecba87",
   "metadata": {},
   "outputs": [],
   "source": [
    "rocket_concat_A = kfold_training('Rocket', X_train_concat_ZM_A, Y_train_concat_ZM_A, X_test_concat_ZM, Y_test_concat_ZM, rocket_model, 10)"
   ]
  },
  {
   "cell_type": "code",
   "execution_count": null,
   "id": "bb6ba0dd",
   "metadata": {},
   "outputs": [],
   "source": [
    "save_results(rocket_concat_A, \"Rocket_Adasyn_WithoutB&C_Concatenation_Results\")"
   ]
  },
  {
   "cell_type": "markdown",
   "id": "eb1740fb",
   "metadata": {},
   "source": [
    "### TSF"
   ]
  },
  {
   "cell_type": "code",
   "execution_count": 24,
   "id": "cb290ad0",
   "metadata": {},
   "outputs": [
    {
     "name": "stdout",
     "output_type": "stream",
     "text": [
      "(13994, 1440): TSF Classifier is Done! \n",
      "\n",
      "(13994, 1440): TSF Classifier is Done! \n",
      "\n",
      "(13994, 1440): TSF Classifier is Done! \n",
      "\n",
      "(13994, 1440): TSF Classifier is Done! \n",
      "\n",
      "(13996, 1440): TSF Classifier is Done! \n",
      "\n",
      "(13996, 1440): TSF Classifier is Done! \n",
      "\n",
      "(13996, 1440): TSF Classifier is Done! \n",
      "\n",
      "(13998, 1440): TSF Classifier is Done! \n",
      "\n",
      "(13998, 1440): TSF Classifier is Done! \n",
      "\n",
      "(14000, 1440): TSF Classifier is Done! \n",
      "\n"
     ]
    }
   ],
   "source": [
    "# TSF Concatenation\n",
    "tsf_concat_RTS = kfold_training('TSF', X_train_concat_ZM_RTS, Y_train_concat_ZM_RTS, X_test_concat_ZM, Y_test_concat_ZM, tsf_model, 10)"
   ]
  },
  {
   "cell_type": "code",
   "execution_count": 25,
   "id": "85f9558f",
   "metadata": {},
   "outputs": [],
   "source": [
    "save_results(tsf_concat_RTS, \"TSF_RusTomekSmote_WithoutB&C_Concatenation_Results\")"
   ]
  },
  {
   "cell_type": "code",
   "execution_count": 26,
   "id": "a62f5cb4",
   "metadata": {},
   "outputs": [
    {
     "name": "stdout",
     "output_type": "stream",
     "text": [
      "(14024, 1440): TSF Classifier is Done! \n",
      "\n",
      "(14024, 1440): TSF Classifier is Done! \n",
      "\n",
      "(14024, 1440): TSF Classifier is Done! \n",
      "\n",
      "(14024, 1440): TSF Classifier is Done! \n",
      "\n",
      "(13979, 1440): TSF Classifier is Done! \n",
      "\n",
      "(13979, 1440): TSF Classifier is Done! \n",
      "\n",
      "(13979, 1440): TSF Classifier is Done! \n",
      "\n",
      "(14029, 1440): TSF Classifier is Done! \n",
      "\n",
      "(14029, 1440): TSF Classifier is Done! \n",
      "\n",
      "(13982, 1440): TSF Classifier is Done! \n",
      "\n"
     ]
    }
   ],
   "source": [
    "tsf_concat_RTA = kfold_training('TSF', X_train_concat_ZM_RTA, Y_train_concat_ZM_RTA, X_test_concat_ZM, Y_test_concat_ZM, tsf_model, 10)"
   ]
  },
  {
   "cell_type": "code",
   "execution_count": 27,
   "id": "b6557504",
   "metadata": {},
   "outputs": [],
   "source": [
    "save_results(tsf_concat_RTA, \"TSF_RusTomekAdasyn_WithoutB&C_Concatenation_Results\")"
   ]
  },
  {
   "cell_type": "code",
   "execution_count": null,
   "id": "cda5fec1",
   "metadata": {},
   "outputs": [],
   "source": [
    "tsf_concat_S = kfold_training('TSF', X_train_concat_ZM_S, Y_train_concat_ZM_S, X_test_concat_ZM, Y_test_concat_ZM, tsf_model, 10)"
   ]
  },
  {
   "cell_type": "code",
   "execution_count": null,
   "id": "86bfaba5",
   "metadata": {},
   "outputs": [],
   "source": [
    "save_results(tsf_concat_S, \"TSF_Smote_WithoutB&C_Concatenation_Results\")"
   ]
  },
  {
   "cell_type": "code",
   "execution_count": null,
   "id": "f83624f0",
   "metadata": {},
   "outputs": [],
   "source": [
    "tsf_concat_A = kfold_training('TSF', X_train_concat_ZM_A, Y_train_concat_ZM_A, X_test_concat_ZM, Y_test_concat_ZM, tsf_model, 10)"
   ]
  },
  {
   "cell_type": "code",
   "execution_count": null,
   "id": "325b9f3e",
   "metadata": {},
   "outputs": [],
   "source": [
    "save_results(tsf_concat_A, \"TSF_Adasyn_WithoutB&C_Concatenation_Results\")"
   ]
  },
  {
   "cell_type": "markdown",
   "id": "f90d5e67",
   "metadata": {},
   "source": [
    "## 2D to 3D"
   ]
  },
  {
   "cell_type": "code",
   "execution_count": 13,
   "id": "ba8c56e9",
   "metadata": {},
   "outputs": [],
   "source": [
    "def the_2dto3d(X_train):\n",
    "    num_attributes = 24\n",
    "    num_partitions = 5\n",
    "    num_timestamps = 60\n",
    "    X_train_concat_ZM_3D = []\n",
    "    for i in range(0, num_partitions):\n",
    "        new_3D = np.zeros((X_train[i].shape[0], num_timestamps, num_attributes))\n",
    "\n",
    "        for j in range(0, X_train[i].shape[0]):\n",
    "            for m in range(0, num_attributes):\n",
    "                new_3D[j,:,m] = X_train[i][j,m*num_timestamps:(m+1)*num_timestamps]\n",
    "        X_train_concat_ZM_3D.append(new_3D)\n",
    "    return X_train_concat_ZM_3D"
   ]
  },
  {
   "cell_type": "code",
   "execution_count": 14,
   "id": "25643957",
   "metadata": {},
   "outputs": [],
   "source": [
    "X_train_concat_ZM_RTS_3D = the_2dto3d(X_train_concat_ZM_RTS)\n",
    "X_train_concat_ZM_RTA_3D = the_2dto3d(X_train_concat_ZM_RTA)\n",
    "del X_train_concat_ZM_RTS\n",
    "del X_train_concat_ZM_RTA"
   ]
  },
  {
   "cell_type": "code",
   "execution_count": null,
   "id": "570ba9f1",
   "metadata": {},
   "outputs": [],
   "source": [
    "X_test_concat_ZM_3D = the_2dto3d(X_test_concat_ZM)\n",
    "del X_test_concat_ZM"
   ]
  },
  {
   "cell_type": "code",
   "execution_count": null,
   "id": "1ee4f4ec",
   "metadata": {},
   "outputs": [],
   "source": [
    "X_train_concat_ZM_S_3D = the_2dto3d(X_train_concat_ZM_S)\n",
    "X_train_concat_ZM_A_3D = the_2dto3d(X_train_concat_ZM_A)"
   ]
  },
  {
   "cell_type": "markdown",
   "id": "4e814653",
   "metadata": {},
   "source": [
    "### LSTM"
   ]
  },
  {
   "cell_type": "code",
   "execution_count": 16,
   "id": "cfbf7110",
   "metadata": {},
   "outputs": [
    {
     "name": "stdout",
     "output_type": "stream",
     "text": [
      "2768/2768 [==============================] - 23s 8ms/step\n",
      "(13998, 60, 24): LSTM Classifier is Done! \n",
      "\n",
      "1329/1329 [==============================] - 10s 8ms/step\n",
      "(13998, 60, 24): LSTM Classifier is Done! \n",
      "\n",
      "1602/1602 [==============================] - 11s 7ms/step\n",
      "(13998, 60, 24): LSTM Classifier is Done! \n",
      "\n",
      "2356/2356 [==============================] - 17s 7ms/step\n",
      "(13998, 60, 24): LSTM Classifier is Done! \n",
      "\n",
      "1329/1329 [==============================] - 11s 8ms/step\n",
      "(13996, 60, 24): LSTM Classifier is Done! \n",
      "\n",
      "1602/1602 [==============================] - 12s 8ms/step\n",
      "(13996, 60, 24): LSTM Classifier is Done! \n",
      "\n",
      "1602/1602 [==============================] - 12s 8ms/step\n",
      "(13996, 60, 24): LSTM Classifier is Done! \n",
      "\n",
      "2356/2356 [==============================] - 17s 7ms/step\n",
      "(13996, 60, 24): LSTM Classifier is Done! \n",
      "\n",
      "1602/1602 [==============================] - 12s 7ms/step\n",
      "(13996, 60, 24): LSTM Classifier is Done! \n",
      "\n",
      "2356/2356 [==============================] - 19s 8ms/step\n",
      "(13996, 60, 24): LSTM Classifier is Done! \n",
      "\n",
      "2356/2356 [==============================] - 14s 6ms/step\n",
      "(13998, 60, 24): LSTM Classifier is Done! \n",
      "\n",
      "2356/2356 [==============================] - 14s 6ms/step\n",
      "(13998, 60, 24): LSTM Classifier is Done! \n",
      "\n"
     ]
    }
   ],
   "source": [
    "# LSTM Concatenation\n",
    "lstm_concat_RTS = kfold_training('LSTM', X_train_concat_ZM_RTS_3D, Y_train_concat_ZM_RTS, X_test_concat_ZM_3D, Y_test_concat_ZM, lstm_model, 10)"
   ]
  },
  {
   "cell_type": "code",
   "execution_count": 17,
   "id": "556a91a4",
   "metadata": {},
   "outputs": [],
   "source": [
    "save_results(lstm_concat_RTS, \"LSTM_RusTomekSmote_WithoutB&C_Concatenation_Results\")"
   ]
  },
  {
   "cell_type": "code",
   "execution_count": 18,
   "id": "825c966e",
   "metadata": {},
   "outputs": [
    {
     "name": "stdout",
     "output_type": "stream",
     "text": [
      "2768/2768 [==============================] - 17s 6ms/step\n",
      "(14052, 60, 24): LSTM Classifier is Done! \n",
      "\n",
      "2768/2768 [==============================] - 20s 7ms/step\n",
      "(14052, 60, 24): LSTM Classifier is Done! \n",
      "\n",
      "1329/1329 [==============================] - 13s 9ms/step\n",
      "(14052, 60, 24): LSTM Classifier is Done! \n",
      "\n",
      "1602/1602 [==============================] - 15s 9ms/step\n",
      "(14052, 60, 24): LSTM Classifier is Done! \n",
      "\n",
      "2356/2356 [==============================] - 20s 8ms/step\n",
      "(14052, 60, 24): LSTM Classifier is Done! \n",
      "\n",
      "1329/1329 [==============================] - 10s 7ms/step\n",
      "(14082, 60, 24): LSTM Classifier is Done! \n",
      "\n",
      "1602/1602 [==============================] - 13s 8ms/step\n",
      "(14082, 60, 24): LSTM Classifier is Done! \n",
      "\n",
      "1602/1602 [==============================] - 14s 9ms/step\n",
      "(14082, 60, 24): LSTM Classifier is Done! \n",
      "\n",
      "2356/2356 [==============================] - 20s 8ms/step\n",
      "(14082, 60, 24): LSTM Classifier is Done! \n",
      "\n",
      "1602/1602 [==============================] - 12s 7ms/step\n",
      "(13898, 60, 24): LSTM Classifier is Done! \n",
      "\n",
      "1602/1602 [==============================] - 12s 8ms/step\n",
      "(13898, 60, 24): LSTM Classifier is Done! \n",
      "\n",
      "2356/2356 [==============================] - 18s 8ms/step\n",
      "(13898, 60, 24): LSTM Classifier is Done! \n",
      "\n",
      "2356/2356 [==============================] - 17s 7ms/step\n",
      "(13980, 60, 24): LSTM Classifier is Done! \n",
      "\n",
      "2356/2356 [==============================] - 17s 7ms/step\n",
      "(13980, 60, 24): LSTM Classifier is Done! \n",
      "\n"
     ]
    }
   ],
   "source": [
    "lstm_concat_RTA = kfold_training('LSTM', X_train_concat_ZM_RTA_3D, Y_train_concat_ZM_RTA, X_test_concat_ZM_3D, Y_test_concat_ZM, lstm_model, 10)"
   ]
  },
  {
   "cell_type": "code",
   "execution_count": 19,
   "id": "95caa983",
   "metadata": {},
   "outputs": [],
   "source": [
    "save_results(lstm_concat_RTA, \"LSTM_RusTomekAdasyn_WithoutB&C_Concatenation_Results\")"
   ]
  },
  {
   "cell_type": "code",
   "execution_count": null,
   "id": "54737735",
   "metadata": {},
   "outputs": [],
   "source": [
    "lstm_concat_S = kfold_training('LSTM', X_train_concat_ZM_S_3D, Y_train_concat_ZM_S, X_test_concat_ZM_3D, Y_test_concat_ZM, lstm_model, 10)"
   ]
  },
  {
   "cell_type": "code",
   "execution_count": null,
   "id": "da6e53b1",
   "metadata": {},
   "outputs": [],
   "source": [
    "save_results(lstm_concat_S, \"LSTM_Smote_WithoutB&C_Concatenation_Results\")"
   ]
  },
  {
   "cell_type": "code",
   "execution_count": null,
   "id": "44495efd",
   "metadata": {},
   "outputs": [],
   "source": [
    "lstm_concat_A = kfold_training('LSTM', X_train_concat_ZM_A_3D, Y_train_concat_ZM_A, X_test_concat_ZM_3D, Y_test_concat_ZM, lstm_model, 10)"
   ]
  },
  {
   "cell_type": "code",
   "execution_count": null,
   "id": "fb3431e7",
   "metadata": {},
   "outputs": [],
   "source": [
    "save_results(lstm_concat_A, \"LSTM_Adasyn_WithoutB&C_Concatenation_Results\")"
   ]
  },
  {
   "cell_type": "markdown",
   "id": "cba990f3",
   "metadata": {},
   "source": [
    "### 1D-CNN"
   ]
  },
  {
   "cell_type": "code",
   "execution_count": 20,
   "id": "95bd7e1a",
   "metadata": {},
   "outputs": [
    {
     "name": "stdout",
     "output_type": "stream",
     "text": [
      "2768/2768 [==============================] - 3s 1ms/step\n",
      "(13998, 60, 24): 1D-CNN Classifier is Done! \n",
      "\n",
      "1329/1329 [==============================] - 1s 1ms/step\n",
      "(13998, 60, 24): 1D-CNN Classifier is Done! \n",
      "\n",
      "1602/1602 [==============================] - 2s 1ms/step\n",
      "(13998, 60, 24): 1D-CNN Classifier is Done! \n",
      "\n",
      "2356/2356 [==============================] - 3s 1ms/step\n",
      "(13998, 60, 24): 1D-CNN Classifier is Done! \n",
      "\n",
      "1329/1329 [==============================] - 1s 1ms/step\n",
      "(13996, 60, 24): 1D-CNN Classifier is Done! \n",
      "\n",
      "1602/1602 [==============================] - 2s 1ms/step\n",
      "(13996, 60, 24): 1D-CNN Classifier is Done! \n",
      "\n",
      "1602/1602 [==============================] - 2s 972us/step\n",
      "(13996, 60, 24): 1D-CNN Classifier is Done! \n",
      "\n",
      "2356/2356 [==============================] - 2s 1ms/step\n",
      "(13996, 60, 24): 1D-CNN Classifier is Done! \n",
      "\n",
      "1602/1602 [==============================] - 2s 980us/step\n",
      "(13996, 60, 24): 1D-CNN Classifier is Done! \n",
      "\n",
      "2356/2356 [==============================] - 2s 1ms/step\n",
      "(13996, 60, 24): 1D-CNN Classifier is Done! \n",
      "\n",
      "2356/2356 [==============================] - 3s 1ms/step\n",
      "(13996, 60, 24): 1D-CNN Classifier is Done! \n",
      "\n",
      "2356/2356 [==============================] - 3s 1ms/step\n",
      "(13998, 60, 24): 1D-CNN Classifier is Done! \n",
      "\n"
     ]
    }
   ],
   "source": [
    "cnn_concat_RTS = kfold_training('1DCNN', X_train_concat_ZM_RTS_3D, Y_train_concat_ZM_RTS, X_test_concat_ZM_3D, Y_test_concat_ZM, cnn_model, 10)"
   ]
  },
  {
   "cell_type": "code",
   "execution_count": 21,
   "id": "81b80bad",
   "metadata": {},
   "outputs": [],
   "source": [
    "save_results(cnn_concat_RTS, \"1DCNN_RusTomekSmote_WithoutB&C_Concatenation_Results\")"
   ]
  },
  {
   "cell_type": "code",
   "execution_count": 17,
   "id": "a7e6ae32",
   "metadata": {},
   "outputs": [
    {
     "name": "stdout",
     "output_type": "stream",
     "text": [
      "2768/2768 [==============================] - 3s 1ms/step\n",
      "(14052, 60, 24): 1D-CNN Classifier is Done! \n",
      "\n",
      "1329/1329 [==============================] - 1s 1ms/step\n",
      "(14052, 60, 24): 1D-CNN Classifier is Done! \n",
      "\n",
      "1602/1602 [==============================] - 2s 1ms/step\n",
      "(14052, 60, 24): 1D-CNN Classifier is Done! \n",
      "\n",
      "1602/1602 [==============================] - 2s 1ms/step\n",
      "(14052, 60, 24): 1D-CNN Classifier is Done! \n",
      "\n",
      "1602/1602 [==============================] - 2s 1ms/step\n",
      "(14052, 60, 24): 1D-CNN Classifier is Done! \n",
      "\n",
      "2356/2356 [==============================] - 3s 1ms/step\n",
      "(14052, 60, 24): 1D-CNN Classifier is Done! \n",
      "\n",
      "1329/1329 [==============================] - 2s 1ms/step\n",
      "(14082, 60, 24): 1D-CNN Classifier is Done! \n",
      "\n",
      "1602/1602 [==============================] - 2s 1ms/step\n",
      "(14082, 60, 24): 1D-CNN Classifier is Done! \n",
      "\n",
      "1602/1602 [==============================] - 2s 1ms/step\n",
      "(14082, 60, 24): 1D-CNN Classifier is Done! \n",
      "\n",
      "2356/2356 [==============================] - 3s 1ms/step\n",
      "(14082, 60, 24): 1D-CNN Classifier is Done! \n",
      "\n",
      "1602/1602 [==============================] - 2s 1ms/step\n",
      "(13898, 60, 24): 1D-CNN Classifier is Done! \n",
      "\n",
      "2356/2356 [==============================] - 3s 1ms/step\n",
      "(13898, 60, 24): 1D-CNN Classifier is Done! \n",
      "\n",
      "2356/2356 [==============================] - 3s 1ms/step\n",
      "(13898, 60, 24): 1D-CNN Classifier is Done! \n",
      "\n",
      "2356/2356 [==============================] - 2s 1ms/step\n",
      "(13980, 60, 24): 1D-CNN Classifier is Done! \n",
      "\n"
     ]
    }
   ],
   "source": [
    "cnn_concat_RTA = kfold_training('1DCNN', X_train_concat_ZM_RTA_3D, Y_train_concat_ZM_RTA, X_test_concat_ZM_3D, Y_test_concat_ZM, cnn_model, 10)"
   ]
  },
  {
   "cell_type": "code",
   "execution_count": 18,
   "id": "6fe620ea",
   "metadata": {},
   "outputs": [],
   "source": [
    "save_results(cnn_concat_RTA, \"1DCNN_RusTomekAdasyn_WithoutB&C_Concatenation_Results\")"
   ]
  },
  {
   "cell_type": "code",
   "execution_count": null,
   "id": "f2f25369",
   "metadata": {},
   "outputs": [],
   "source": [
    "cnn_concat_S = kfold_training('1DCNN', X_train_concat_ZM_S_3D, Y_train_concat_ZM_S, X_test_concat_ZM_3D, Y_test_concat_ZM, cnn_model, 10)"
   ]
  },
  {
   "cell_type": "code",
   "execution_count": null,
   "id": "136a17eb",
   "metadata": {},
   "outputs": [],
   "source": [
    "save_results(cnn_concat_S, \"1DCNN_Smote_WithoutB&C_Concatenation_Results\")"
   ]
  },
  {
   "cell_type": "code",
   "execution_count": null,
   "id": "4776beaa",
   "metadata": {},
   "outputs": [],
   "source": [
    "cnn_concat_A = kfold_training('1DCNN', X_train_concat_ZM_A_3D, Y_train_concat_ZM_A, X_test_concat_ZM_3D, Y_test_concat_ZM, cnn_model, 10)"
   ]
  },
  {
   "cell_type": "code",
   "execution_count": null,
   "id": "098bc9e9",
   "metadata": {},
   "outputs": [],
   "source": [
    "save_results(cnn_concat_A, \"1DCNN_Adasyn_WithoutB&C_Concatenation_Results\")"
   ]
  },
  {
   "cell_type": "markdown",
   "id": "2bd7cde9",
   "metadata": {},
   "source": [
    "### RNN"
   ]
  },
  {
   "cell_type": "code",
   "execution_count": 19,
   "id": "a8922bad",
   "metadata": {},
   "outputs": [
    {
     "name": "stdout",
     "output_type": "stream",
     "text": [
      "2768/2768 [==============================] - 4s 1ms/step\n",
      "(13998, 60, 24): RNN Classifier is Done! \n",
      "\n",
      "1329/1329 [==============================] - 2s 1ms/step\n",
      "(13998, 60, 24): RNN Classifier is Done! \n",
      "\n",
      "1602/1602 [==============================] - 2s 1ms/step\n",
      "(13998, 60, 24): RNN Classifier is Done! \n",
      "\n",
      "2356/2356 [==============================] - 4s 2ms/step\n",
      "(13998, 60, 24): RNN Classifier is Done! \n",
      "\n",
      "1329/1329 [==============================] - 2s 2ms/step\n",
      "(13996, 60, 24): RNN Classifier is Done! \n",
      "\n",
      "1602/1602 [==============================] - 3s 2ms/step\n",
      "(13996, 60, 24): RNN Classifier is Done! \n",
      "\n",
      "2356/2356 [==============================] - 4s 2ms/step\n",
      "(13996, 60, 24): RNN Classifier is Done! \n",
      "\n",
      "1602/1602 [==============================] - 3s 1ms/step\n",
      "(13996, 60, 24): RNN Classifier is Done! \n",
      "\n",
      "1602/1602 [==============================] - 2s 1ms/step\n",
      "(13996, 60, 24): RNN Classifier is Done! \n",
      "\n",
      "2356/2356 [==============================] - 4s 1ms/step\n",
      "(13996, 60, 24): RNN Classifier is Done! \n",
      "\n",
      "2356/2356 [==============================] - 4s 1ms/step\n",
      "(13998, 60, 24): RNN Classifier is Done! \n",
      "\n",
      "2356/2356 [==============================] - 4s 2ms/step\n",
      "(13998, 60, 24): RNN Classifier is Done! \n",
      "\n"
     ]
    }
   ],
   "source": [
    "rnn_concat_RTS = kfold_training('RNN', X_train_concat_ZM_RTS_3D, Y_train_concat_ZM_RTS, X_test_concat_ZM_3D, Y_test_concat_ZM, rnn_model, 10)"
   ]
  },
  {
   "cell_type": "code",
   "execution_count": 20,
   "id": "cd386aba",
   "metadata": {},
   "outputs": [],
   "source": [
    "save_results(rnn_concat_RTS, \"RNN_RusTomekSmote_WithoutB&C_Concatenation_Results\")"
   ]
  },
  {
   "cell_type": "code",
   "execution_count": 21,
   "id": "5ca92d3a",
   "metadata": {},
   "outputs": [
    {
     "name": "stdout",
     "output_type": "stream",
     "text": [
      "2768/2768 [==============================] - 4s 1ms/step\n",
      "(14052, 60, 24): RNN Classifier is Done! \n",
      "\n",
      "1329/1329 [==============================] - 2s 1ms/step\n",
      "(14052, 60, 24): RNN Classifier is Done! \n",
      "\n",
      "1602/1602 [==============================] - 2s 1ms/step\n",
      "(14052, 60, 24): RNN Classifier is Done! \n",
      "\n",
      "2356/2356 [==============================] - 4s 1ms/step\n",
      "(14052, 60, 24): RNN Classifier is Done! \n",
      "\n",
      "2356/2356 [==============================] - 4s 1ms/step\n",
      "(14052, 60, 24): RNN Classifier is Done! \n",
      "\n",
      "1329/1329 [==============================] - 2s 2ms/step\n",
      "(14082, 60, 24): RNN Classifier is Done! \n",
      "\n",
      "1602/1602 [==============================] - 2s 1ms/step\n",
      "(14082, 60, 24): RNN Classifier is Done! \n",
      "\n",
      "2356/2356 [==============================] - 3s 1ms/step\n",
      "(14082, 60, 24): RNN Classifier is Done! \n",
      "\n",
      "1602/1602 [==============================] - 2s 1ms/step\n",
      "(13898, 60, 24): RNN Classifier is Done! \n",
      "\n",
      "1602/1602 [==============================] - 2s 1ms/step\n",
      "(13898, 60, 24): RNN Classifier is Done! \n",
      "\n",
      "1602/1602 [==============================] - 2s 1ms/step\n",
      "(13898, 60, 24): RNN Classifier is Done! \n",
      "\n",
      "2356/2356 [==============================] - 3s 1ms/step\n",
      "(13898, 60, 24): RNN Classifier is Done! \n",
      "\n",
      "2356/2356 [==============================] - 3s 1ms/step\n",
      "(13898, 60, 24): RNN Classifier is Done! \n",
      "\n",
      "2356/2356 [==============================] - 4s 1ms/step\n",
      "(13898, 60, 24): RNN Classifier is Done! \n",
      "\n",
      "2356/2356 [==============================] - 3s 1ms/step\n",
      "(13980, 60, 24): RNN Classifier is Done! \n",
      "\n"
     ]
    }
   ],
   "source": [
    "rnn_concat_RTA = kfold_training('RNN', X_train_concat_ZM_RTA_3D, Y_train_concat_ZM_RTA, X_test_concat_ZM_3D, Y_test_concat_ZM, rnn_model, 10)"
   ]
  },
  {
   "cell_type": "code",
   "execution_count": 22,
   "id": "2979fd5b",
   "metadata": {},
   "outputs": [],
   "source": [
    "save_results(rnn_concat_RTA, \"RNN_RusTomekAdasyn_WithoutB&C_Concatenation_Results\")"
   ]
  },
  {
   "cell_type": "code",
   "execution_count": null,
   "id": "5a199a68",
   "metadata": {},
   "outputs": [],
   "source": [
    "rnn_concat_S = kfold_training('RNN', X_train_concat_ZM_S_3D, Y_train_concat_ZM_S, X_test_concat_ZM_3D, Y_test_concat_ZM, rnn_model, 10)"
   ]
  },
  {
   "cell_type": "code",
   "execution_count": null,
   "id": "25a5c8a8",
   "metadata": {},
   "outputs": [],
   "source": [
    "save_results(rnn_concat_S, \"RNN_Smote_WithoutB&C_Concatenation_Results\")"
   ]
  },
  {
   "cell_type": "code",
   "execution_count": null,
   "id": "181676a7",
   "metadata": {},
   "outputs": [],
   "source": [
    "rnn_concat_A = kfold_training('RNN', X_train_concat_ZM_A_3D, Y_train_concat_ZM_A, X_test_concat_ZM_3D, Y_test_concat_ZM, rnn_model, 10)"
   ]
  },
  {
   "cell_type": "code",
   "execution_count": null,
   "id": "1718475d",
   "metadata": {},
   "outputs": [],
   "source": [
    "save_results(rnn_concat_A, \"RNN_Adasyn_WithoutB&C_Concatenation_Results\")"
   ]
  },
  {
   "cell_type": "markdown",
   "id": "b00618b5",
   "metadata": {},
   "source": [
    "### GRU"
   ]
  },
  {
   "cell_type": "code",
   "execution_count": 23,
   "id": "98bba36a",
   "metadata": {},
   "outputs": [
    {
     "name": "stdout",
     "output_type": "stream",
     "text": [
      "2768/2768 [==============================] - 18s 6ms/step\n",
      "(13998, 60, 24): GRU Classifier is Done! \n",
      "\n",
      "1329/1329 [==============================] - 8s 6ms/step\n",
      "(13998, 60, 24): GRU Classifier is Done! \n",
      "\n",
      "1602/1602 [==============================] - 8s 5ms/step\n",
      "(13998, 60, 24): GRU Classifier is Done! \n",
      "\n",
      "2356/2356 [==============================] - 13s 6ms/step\n",
      "(13998, 60, 24): GRU Classifier is Done! \n",
      "\n",
      "1329/1329 [==============================] - 8s 6ms/step\n",
      "(13996, 60, 24): GRU Classifier is Done! \n",
      "\n",
      "1602/1602 [==============================] - 8s 5ms/step\n",
      "(13996, 60, 24): GRU Classifier is Done! \n",
      "\n",
      "2356/2356 [==============================] - 11s 5ms/step\n",
      "(13996, 60, 24): GRU Classifier is Done! \n",
      "\n",
      "1602/1602 [==============================] - 8s 5ms/step\n",
      "(13996, 60, 24): GRU Classifier is Done! \n",
      "\n",
      "2356/2356 [==============================] - 11s 5ms/step\n",
      "(13996, 60, 24): GRU Classifier is Done! \n",
      "\n",
      "2356/2356 [==============================] - 11s 5ms/step\n",
      "(13998, 60, 24): GRU Classifier is Done! \n",
      "\n"
     ]
    }
   ],
   "source": [
    "gru_concat_RTS = kfold_training('GRU', X_train_concat_ZM_RTS_3D, Y_train_concat_ZM_RTS, X_test_concat_ZM_3D, Y_test_concat_ZM, gru_model, 10)"
   ]
  },
  {
   "cell_type": "code",
   "execution_count": 24,
   "id": "e6bc4f27",
   "metadata": {},
   "outputs": [],
   "source": [
    "save_results(gru_concat_RTS, \"GRU_RusTomekSmote_WithoutB&C_Concatenation_Results\")"
   ]
  },
  {
   "cell_type": "code",
   "execution_count": 25,
   "id": "f033da76",
   "metadata": {},
   "outputs": [
    {
     "name": "stdout",
     "output_type": "stream",
     "text": [
      "2768/2768 [==============================] - 13s 5ms/step\n",
      "(14052, 60, 24): GRU Classifier is Done! \n",
      "\n",
      "1329/1329 [==============================] - 6s 5ms/step\n",
      "(14052, 60, 24): GRU Classifier is Done! \n",
      "\n",
      "1329/1329 [==============================] - 6s 5ms/step\n",
      "(14052, 60, 24): GRU Classifier is Done! \n",
      "\n",
      "1602/1602 [==============================] - 8s 5ms/step\n",
      "(14052, 60, 24): GRU Classifier is Done! \n",
      "\n",
      "2356/2356 [==============================] - 12s 5ms/step\n",
      "(14052, 60, 24): GRU Classifier is Done! \n",
      "\n",
      "2356/2356 [==============================] - 11s 5ms/step\n",
      "(14052, 60, 24): GRU Classifier is Done! \n",
      "\n",
      "2356/2356 [==============================] - 13s 5ms/step\n",
      "(14052, 60, 24): GRU Classifier is Done! \n",
      "\n",
      "1329/1329 [==============================] - 6s 5ms/step\n",
      "(14082, 60, 24): GRU Classifier is Done! \n",
      "\n",
      "1602/1602 [==============================] - 8s 5ms/step\n",
      "(14082, 60, 24): GRU Classifier is Done! \n",
      "\n",
      "2356/2356 [==============================] - 13s 5ms/step\n",
      "(14082, 60, 24): GRU Classifier is Done! \n",
      "\n",
      "1602/1602 [==============================] - 8s 5ms/step\n",
      "(13898, 60, 24): GRU Classifier is Done! \n",
      "\n",
      "2356/2356 [==============================] - 14s 6ms/step\n",
      "(13898, 60, 24): GRU Classifier is Done! \n",
      "\n",
      "2356/2356 [==============================] - 13s 5ms/step\n",
      "(13898, 60, 24): GRU Classifier is Done! \n",
      "\n",
      "2356/2356 [==============================] - 11s 5ms/step\n",
      "(13898, 60, 24): GRU Classifier is Done! \n",
      "\n",
      "2356/2356 [==============================] - 11s 5ms/step\n",
      "(13898, 60, 24): GRU Classifier is Done! \n",
      "\n",
      "2356/2356 [==============================] - 11s 5ms/step\n",
      "(13980, 60, 24): GRU Classifier is Done! \n",
      "\n"
     ]
    }
   ],
   "source": [
    "gru_concat_RTA = kfold_training('GRU', X_train_concat_ZM_RTA_3D, Y_train_concat_ZM_RTA, X_test_concat_ZM_3D, Y_test_concat_ZM, gru_model, 10)"
   ]
  },
  {
   "cell_type": "code",
   "execution_count": 26,
   "id": "ab46dc19",
   "metadata": {},
   "outputs": [],
   "source": [
    "save_results(gru_concat_RTA, \"GRU_RusTomekAdasyn_WithoutB&C_Concatenation_Results\")"
   ]
  },
  {
   "cell_type": "code",
   "execution_count": null,
   "id": "23441ac6",
   "metadata": {},
   "outputs": [],
   "source": [
    "gru_concat_S = kfold_training('GRU', X_train_concat_ZM_S_3D, Y_train_concat_ZM_S, X_test_concat_ZM_3D, Y_test_concat_ZM, gru_model, 10)"
   ]
  },
  {
   "cell_type": "code",
   "execution_count": null,
   "id": "5120e055",
   "metadata": {},
   "outputs": [],
   "source": [
    "save_results(gru_concat_S, \"GRU_Smote_WithoutB&C_Concatenation_Results\")"
   ]
  },
  {
   "cell_type": "code",
   "execution_count": null,
   "id": "bcde897f",
   "metadata": {},
   "outputs": [],
   "source": [
    "gru_concat_A = kfold_training('GRU', X_train_concat_ZM_A_3D, Y_train_concat_ZM_A, X_test_concat_ZM_3D, Y_test_concat_ZM, gru_model, 10)"
   ]
  },
  {
   "cell_type": "code",
   "execution_count": null,
   "id": "aa4a3b95",
   "metadata": {},
   "outputs": [],
   "source": [
    "save_results(gru_concat_A, \"GRU_Adasyn_WithoutB&C_Concatenation_Results\")"
   ]
  },
  {
   "cell_type": "markdown",
   "id": "d7c3686d",
   "metadata": {},
   "source": [
    "# Comparison "
   ]
  },
  {
   "cell_type": "code",
   "execution_count": 27,
   "id": "a634b915",
   "metadata": {},
   "outputs": [],
   "source": [
    "import pickle\n",
    "import numpy as np\n",
    "\n",
    "data_dir = \"/Users/samskanderi/Documents/Research_Project/SWANSF/code/results/\"\n",
    "model_name = ['Rocket','TSF','LSTM','1DCNN','RNN','GRU']\n",
    "ousampling_name = ['RusTomekSmote','RusTomekAdasyn']\n",
    "\n",
    "values = np.array([])\n",
    "names = []\n",
    "count = 0\n",
    "for name in model_name:\n",
    "    for s_name in ousampling_name:\n",
    "        with open(data_dir + name + '_' + s_name + '_WithoutB&C_Concatenation_Results' + \".pkl\", 'rb') as f:\n",
    "            if count == 0:\n",
    "                values=np.array(pickle.load(f))\n",
    "            else:\n",
    "                values = np.append(values, np.array(pickle.load(f)), axis=0)\n",
    "            names.append( name+ ' (' + s_name + ')' )\n",
    "            count += 1"
   ]
  },
  {
   "cell_type": "code",
   "execution_count": 28,
   "id": "4a5ac5bb",
   "metadata": {},
   "outputs": [],
   "source": [
    "def compare_results(names, values, num):\n",
    "    np.printoptions(precision=4, suppress=True)\n",
    "    for i in range(0, int(values.shape[0]/num)):\n",
    "        print(\"P_Train = \"+ str(values[i,0]) + \" & \" + \"P_Test = \" + str(values[i,1]))\n",
    "        for j in range(0, num):\n",
    "            print(names[j] + ' :' +  ' TP={:.0f}'.format(values[j*10+i,2]) + ' FN={:.0f}'.format(values[j*10+i,3]) + ' FP={:.0f}'.format(values[j*10+i,4])\n",
    "                 + ' TN={:.0f}'.format(values[j*10+i,5]) + ' TSS={:.3f}'.format(values[j*10+i,6]) + ' HSS1={:.3f}'.format(values[j*10+i,7]) + ' HSS2={:.3f}'.format(values[j*10+i,8])\n",
    "                 + ' GSS={:.3f}'.format(values[j*10+i,9]) + ' Recall={:.3f}'.format(values[j*10+i,10]) + ' Precision={:.3f}'.format(values[j*10+i,11]))\n",
    "        print('\\n')\n"
   ]
  },
  {
   "cell_type": "code",
   "execution_count": 29,
   "id": "6926a2de",
   "metadata": {},
   "outputs": [
    {
     "name": "stdout",
     "output_type": "stream",
     "text": [
      "P_Train = 1.0 & P_Test = 2.0\n",
      "Rocket (RusTomekSmote) : TP=502 FN=899 FP=1719 TN=85437 TSS=0.339 HSS1=0.263 HSS2=0.263 GSS=466.863 Recall=0.358 Precision=0.774\n",
      "Rocket (RusTomekAdasyn) : TP=687 FN=714 FP=2538 TN=84618 TSS=0.461 HSS1=0.281 HSS2=0.284 GSS=635.979 Recall=0.490 Precision=0.787\n",
      "TSF (RusTomekSmote) : TP=417 FN=984 FP=525 TN=86631 TSS=0.292 HSS1=0.348 HSS2=0.348 GSS=402.097 Recall=0.298 Precision=0.557\n",
      "TSF (RusTomekAdasyn) : TP=542 FN=859 FP=1172 TN=85984 TSS=0.373 HSS1=0.336 HSS2=0.337 GSS=514.884 Recall=0.387 Precision=0.684\n",
      "LSTM (RusTomekSmote) : TP=744 FN=657 FP=3600 TN=83556 TSS=0.490 HSS1=0.241 HSS2=0.245 GSS=675.277 Recall=0.531 Precision=0.829\n",
      "LSTM (RusTomekAdasyn) : TP=769 FN=632 FP=2035 TN=85121 TSS=0.526 HSS1=0.352 HSS2=0.354 GSS=724.640 Recall=0.549 Precision=0.726\n",
      "1DCNN (RusTomekSmote) : TP=805 FN=596 FP=2086 TN=85070 TSS=0.551 HSS1=0.362 HSS2=0.364 GSS=759.263 Recall=0.575 Precision=0.722\n",
      "1DCNN (RusTomekAdasyn) : TP=1047 FN=354 FP=5041 TN=82115 TSS=0.689 HSS1=0.261 HSS2=0.270 GSS=950.686 Recall=0.747 Precision=0.828\n",
      "RNN (RusTomekSmote) : TP=1054 FN=347 FP=6908 TN=80248 TSS=0.673 HSS1=0.204 HSS2=0.215 GSS=928.039 Recall=0.752 Precision=0.868\n",
      "RNN (RusTomekAdasyn) : TP=933 FN=468 FP=3036 TN=84120 TSS=0.631 HSS1=0.332 HSS2=0.337 GSS=870.209 Recall=0.666 Precision=0.765\n",
      "GRU (RusTomekSmote) : TP=1095 FN=306 FP=5584 TN=81572 TSS=0.718 HSS1=0.251 HSS2=0.262 GSS=989.336 Recall=0.782 Precision=0.836\n",
      "GRU (RusTomekAdasyn) : TP=1280 FN=121 FP=8358 TN=78798 TSS=0.818 HSS1=0.210 HSS2=0.226 GSS=1127.524 Recall=0.914 Precision=0.867\n",
      "\n",
      "\n",
      "P_Train = 1.0 & P_Test = 3.0\n",
      "Rocket (RusTomekSmote) : TP=336 FN=1088 FP=1780 TN=39306 TSS=0.193 HSS1=0.156 HSS2=0.157 GSS=265.118 Recall=0.236 Precision=0.841\n",
      "Rocket (RusTomekAdasyn) : TP=420 FN=1004 FP=615 TN=40471 TSS=0.280 HSS1=0.322 HSS2=0.323 GSS=385.330 Recall=0.295 Precision=0.594\n",
      "TSF (RusTomekSmote) : TP=295 FN=1129 FP=171 TN=40915 TSS=0.203 HSS1=0.301 HSS2=0.304 GSS=279.390 Recall=0.207 Precision=0.367\n",
      "TSF (RusTomekAdasyn) : TP=858 FN=566 FP=1774 TN=39312 TSS=0.559 HSS1=0.397 HSS2=0.400 GSS=769.833 Recall=0.603 Precision=0.674\n",
      "LSTM (RusTomekSmote) : TP=656 FN=768 FP=905 TN=40181 TSS=0.439 HSS1=0.419 HSS2=0.419 GSS=603.710 Recall=0.461 Precision=0.580\n",
      "LSTM (RusTomekAdasyn) : TP=311 FN=1113 FP=351 TN=40735 TSS=0.210 HSS1=0.283 HSS2=0.285 GSS=288.824 Recall=0.218 Precision=0.530\n",
      "1DCNN (RusTomekSmote) : TP=990 FN=434 FP=2918 TN=38168 TSS=0.624 HSS1=0.339 HSS2=0.349 GSS=859.090 Recall=0.695 Precision=0.747\n",
      "1DCNN (RusTomekAdasyn) : TP=433 FN=991 FP=803 TN=40283 TSS=0.285 HSS1=0.304 HSS2=0.304 GSS=391.596 Recall=0.304 Precision=0.650\n",
      "RNN (RusTomekSmote) : TP=1351 FN=73 FP=5987 TN=35099 TSS=0.803 HSS1=0.267 HSS2=0.297 GSS=1105.192 Recall=0.949 Precision=0.816\n",
      "RNN (RusTomekAdasyn) : TP=1137 FN=287 FP=3475 TN=37611 TSS=0.714 HSS1=0.343 HSS2=0.358 GSS=982.507 Recall=0.798 Precision=0.753\n",
      "GRU (RusTomekSmote) : TP=1240 FN=184 FP=4500 TN=36586 TSS=0.761 HSS1=0.309 HSS2=0.330 GSS=1047.721 Recall=0.871 Precision=0.784\n",
      "GRU (RusTomekAdasyn) : TP=1416 FN=8 FP=13981 TN=27105 TSS=0.654 HSS1=0.114 HSS2=0.161 GSS=900.231 Recall=0.994 Precision=0.908\n",
      "\n",
      "\n",
      "P_Train = 1.0 & P_Test = 4.0\n",
      "Rocket (RusTomekSmote) : TP=374 FN=791 FP=26150 TN=23946 TSS=-0.201 HSS1=-0.017 HSS2=-0.033 GSS=-228.806 Recall=0.321 Precision=0.986\n",
      "Rocket (RusTomekAdasyn) : TP=72 FN=1093 FP=24889 TN=25207 TSS=-0.435 HSS1=-0.040 HSS2=-0.071 GSS=-495.284 Recall=0.062 Precision=0.997\n",
      "TSF (RusTomekSmote) : TP=330 FN=835 FP=100 TN=49996 TSS=0.281 HSS1=0.407 HSS2=0.409 GSS=320.227 Recall=0.283 Precision=0.233\n",
      "TSF (RusTomekAdasyn) : TP=514 FN=651 FP=228 TN=49868 TSS=0.437 HSS1=0.531 HSS2=0.532 GSS=497.137 Recall=0.441 Precision=0.307\n",
      "LSTM (RusTomekSmote) : TP=721 FN=444 FP=924 TN=49172 TSS=0.600 HSS1=0.500 HSS2=0.501 GSS=683.614 Recall=0.619 Precision=0.562\n",
      "LSTM (RusTomekAdasyn) : TP=511 FN=654 FP=981 TN=49115 TSS=0.419 HSS1=0.369 HSS2=0.369 GSS=477.092 Recall=0.439 Precision=0.658\n",
      "1DCNN (RusTomekSmote) : TP=587 FN=578 FP=1841 TN=48255 TSS=0.467 HSS1=0.305 HSS2=0.308 GSS=531.819 Recall=0.504 Precision=0.758\n",
      "1DCNN (RusTomekAdasyn) : TP=814 FN=351 FP=1959 TN=48137 TSS=0.660 HSS1=0.394 HSS2=0.399 GSS=750.979 Recall=0.699 Precision=0.706\n",
      "RNN (RusTomekSmote) : TP=825 FN=340 FP=1859 TN=48237 TSS=0.671 HSS1=0.410 HSS2=0.415 GSS=764.001 Recall=0.708 Precision=0.693\n",
      "RNN (RusTomekAdasyn) : TP=644 FN=521 FP=1484 TN=48612 TSS=0.523 HSS1=0.373 HSS2=0.375 GSS=595.637 Recall=0.553 Precision=0.697\n",
      "GRU (RusTomekSmote) : TP=791 FN=374 FP=1779 TN=48317 TSS=0.643 HSS1=0.405 HSS2=0.409 GSS=732.592 Recall=0.679 Precision=0.692\n",
      "GRU (RusTomekAdasyn) : TP=760 FN=405 FP=1528 TN=48568 TSS=0.622 HSS1=0.423 HSS2=0.426 GSS=708.001 Recall=0.652 Precision=0.668\n",
      "\n",
      "\n",
      "P_Train = 1.0 & P_Test = 5.0\n",
      "Rocket (RusTomekSmote) : TP=132 FN=858 FP=178 TN=74197 TSS=0.131 HSS1=0.198 HSS2=0.199 GSS=127.928 Recall=0.133 Precision=0.574\n",
      "Rocket (RusTomekAdasyn) : TP=396 FN=594 FP=672 TN=73703 TSS=0.391 HSS1=0.376 HSS2=0.376 GSS=381.971 Recall=0.400 Precision=0.629\n",
      "TSF (RusTomekSmote) : TP=409 FN=581 FP=858 TN=73517 TSS=0.402 HSS1=0.353 HSS2=0.353 GSS=392.357 Recall=0.413 Precision=0.677\n",
      "TSF (RusTomekAdasyn) : TP=620 FN=370 FP=2111 TN=72264 TSS=0.598 HSS1=0.320 HSS2=0.324 GSS=584.125 Recall=0.626 Precision=0.773\n",
      "LSTM (RusTomekSmote) : TP=531 FN=459 FP=1418 TN=72957 TSS=0.517 HSS1=0.350 HSS2=0.352 GSS=505.398 Recall=0.536 Precision=0.728\n",
      "LSTM (RusTomekAdasyn) : TP=556 FN=434 FP=1238 TN=73137 TSS=0.545 HSS1=0.389 HSS2=0.390 GSS=532.434 Recall=0.562 Precision=0.690\n",
      "1DCNN (RusTomekSmote) : TP=551 FN=439 FP=2078 TN=72297 TSS=0.529 HSS1=0.291 HSS2=0.294 GSS=516.465 Recall=0.557 Precision=0.790\n",
      "1DCNN (RusTomekAdasyn) : TP=376 FN=614 FP=881 TN=73494 TSS=0.368 HSS1=0.325 HSS2=0.325 GSS=359.488 Recall=0.380 Precision=0.701\n",
      "RNN (RusTomekSmote) : TP=689 FN=301 FP=2302 TN=72073 TSS=0.665 HSS1=0.333 HSS2=0.338 GSS=649.710 Recall=0.696 Precision=0.770\n",
      "RNN (RusTomekAdasyn) : TP=473 FN=517 FP=1266 TN=73109 TSS=0.461 HSS1=0.336 HSS2=0.336 GSS=450.156 Recall=0.478 Precision=0.728\n",
      "GRU (RusTomekSmote) : TP=716 FN=274 FP=2968 TN=71407 TSS=0.683 HSS1=0.292 HSS2=0.298 GSS=667.607 Recall=0.723 Precision=0.806\n",
      "GRU (RusTomekAdasyn) : TP=896 FN=94 FP=5157 TN=69218 TSS=0.836 HSS1=0.237 HSS2=0.250 GSS=816.487 Recall=0.905 Precision=0.852\n",
      "\n",
      "\n",
      "P_Train = 2.0 & P_Test = 3.0\n",
      "Rocket (RusTomekSmote) : TP=1153 FN=271 FP=24481 TN=16605 TSS=0.214 HSS1=0.023 HSS2=0.051 GSS=294.312 Recall=0.810 Precision=0.955\n",
      "Rocket (RusTomekAdasyn) : TP=945 FN=479 FP=35416 TN=5670 TSS=-0.198 HSS1=-0.015 HSS2=-0.082 GSS=-273.021 Recall=0.664 Precision=0.974\n",
      "TSF (RusTomekSmote) : TP=494 FN=930 FP=666 TN=40420 TSS=0.331 HSS1=0.363 HSS2=0.363 GSS=455.142 Recall=0.347 Precision=0.574\n",
      "TSF (RusTomekAdasyn) : TP=868 FN=556 FP=1539 TN=39547 TSS=0.572 HSS1=0.429 HSS2=0.432 GSS=787.370 Recall=0.610 Precision=0.639\n",
      "LSTM (RusTomekSmote) : TP=1053 FN=371 FP=2509 TN=38577 TSS=0.678 HSS1=0.393 HSS2=0.402 GSS=933.680 Recall=0.739 Precision=0.704\n",
      "LSTM (RusTomekAdasyn) : TP=1135 FN=289 FP=3203 TN=37883 TSS=0.719 HSS1=0.362 HSS2=0.375 GSS=989.686 Recall=0.797 Precision=0.738\n",
      "1DCNN (RusTomekSmote) : TP=1286 FN=138 FP=5134 TN=35952 TSS=0.778 HSS1=0.289 HSS2=0.314 GSS=1070.943 Recall=0.903 Precision=0.800\n",
      "1DCNN (RusTomekAdasyn) : TP=592 FN=832 FP=1461 TN=39625 TSS=0.380 HSS1=0.313 HSS2=0.314 GSS=523.229 Recall=0.416 Precision=0.712\n",
      "RNN (RusTomekSmote) : TP=1391 FN=33 FP=11219 TN=29867 TSS=0.704 HSS1=0.147 HSS2=0.189 GSS=968.590 Recall=0.977 Precision=0.890\n",
      "RNN (RusTomekAdasyn) : TP=1302 FN=122 FP=4996 TN=36090 TSS=0.793 HSS1=0.299 HSS2=0.324 GSS=1091.030 Recall=0.914 Precision=0.793\n",
      "GRU (RusTomekSmote) : TP=1121 FN=303 FP=3225 TN=37861 TSS=0.709 HSS1=0.356 HSS2=0.370 GSS=975.418 Recall=0.787 Precision=0.742\n",
      "GRU (RusTomekAdasyn) : TP=1415 FN=9 FP=13443 TN=27643 TSS=0.666 HSS1=0.120 HSS2=0.166 GSS=917.287 Recall=0.994 Precision=0.905\n",
      "\n",
      "\n",
      "P_Train = 2.0 & P_Test = 4.0\n",
      "Rocket (RusTomekSmote) : TP=573 FN=592 FP=10529 TN=39567 TSS=0.282 HSS1=0.055 HSS2=0.065 GSS=320.687 Recall=0.492 Precision=0.948\n",
      "Rocket (RusTomekAdasyn) : TP=726 FN=439 FP=12401 TN=37695 TSS=0.376 HSS1=0.062 HSS2=0.078 GSS=427.665 Recall=0.623 Precision=0.945\n",
      "TSF (RusTomekSmote) : TP=284 FN=881 FP=71 TN=50025 TSS=0.242 HSS1=0.367 HSS2=0.370 GSS=275.932 Recall=0.244 Precision=0.200\n",
      "TSF (RusTomekAdasyn) : TP=246 FN=919 FP=147 TN=49949 TSS=0.208 HSS1=0.308 HSS2=0.310 GSS=237.068 Recall=0.211 Precision=0.374\n",
      "LSTM (RusTomekSmote) : TP=694 FN=471 FP=1483 TN=48613 TSS=0.566 HSS1=0.397 HSS2=0.400 GSS=644.524 Recall=0.596 Precision=0.681\n",
      "LSTM (RusTomekAdasyn) : TP=703 FN=462 FP=1502 TN=48594 TSS=0.573 HSS1=0.399 HSS2=0.402 GSS=652.887 Recall=0.603 Precision=0.681\n",
      "1DCNN (RusTomekSmote) : TP=679 FN=486 FP=1451 TN=48645 TSS=0.554 HSS1=0.394 HSS2=0.397 GSS=630.592 Recall=0.583 Precision=0.681\n",
      "1DCNN (RusTomekAdasyn) : TP=741 FN=424 FP=1971 TN=48125 TSS=0.597 HSS1=0.362 HSS2=0.367 GSS=679.365 Recall=0.636 Precision=0.727\n",
      "RNN (RusTomekSmote) : TP=671 FN=494 FP=721 TN=49375 TSS=0.562 HSS1=0.513 HSS2=0.513 GSS=639.364 Recall=0.576 Precision=0.518\n",
      "RNN (RusTomekAdasyn) : TP=999 FN=166 FP=3437 TN=46659 TSS=0.789 HSS1=0.333 HSS2=0.346 GSS=898.184 Recall=0.858 Precision=0.775\n",
      "GRU (RusTomekSmote) : TP=580 FN=585 FP=1061 TN=49035 TSS=0.477 HSS1=0.397 HSS2=0.398 GSS=542.705 Recall=0.498 Precision=0.647\n",
      "GRU (RusTomekAdasyn) : TP=639 FN=526 FP=1319 TN=48777 TSS=0.522 HSS1=0.392 HSS2=0.393 GSS=594.501 Recall=0.548 Precision=0.674\n",
      "\n",
      "\n",
      "P_Train = 2.0 & P_Test = 5.0\n",
      "Rocket (RusTomekSmote) : TP=436 FN=554 FP=7989 TN=66386 TSS=0.333 HSS1=0.071 HSS2=0.077 GSS=325.329 Recall=0.440 Precision=0.948\n",
      "Rocket (RusTomekAdasyn) : TP=846 FN=144 FP=10170 TN=64205 TSS=0.718 HSS1=0.120 HSS2=0.135 GSS=701.293 Recall=0.855 Precision=0.923\n",
      "TSF (RusTomekSmote) : TP=589 FN=401 FP=1574 TN=72801 TSS=0.574 HSS1=0.362 HSS2=0.364 GSS=560.587 Recall=0.595 Precision=0.728\n",
      "TSF (RusTomekAdasyn) : TP=716 FN=274 FP=2001 TN=72374 TSS=0.696 HSS1=0.374 HSS2=0.378 GSS=680.309 Recall=0.723 Precision=0.736\n",
      "LSTM (RusTomekSmote) : TP=946 FN=44 FP=10063 TN=64312 TSS=0.820 HSS1=0.137 HSS2=0.154 GSS=801.385 Recall=0.956 Precision=0.914\n",
      "LSTM (RusTomekAdasyn) : TP=802 FN=188 FP=3632 TN=70743 TSS=0.761 HSS1=0.280 HSS2=0.289 GSS=743.755 Recall=0.810 Precision=0.819\n",
      "1DCNN (RusTomekSmote) : TP=683 FN=307 FP=3360 TN=71015 TSS=0.645 HSS1=0.256 HSS2=0.262 GSS=629.891 Recall=0.690 Precision=0.831\n",
      "1DCNN (RusTomekAdasyn) : TP=668 FN=322 FP=1695 TN=72680 TSS=0.652 HSS1=0.387 HSS2=0.390 GSS=636.959 Recall=0.675 Precision=0.717\n",
      "RNN (RusTomekSmote) : TP=927 FN=63 FP=6736 TN=67639 TSS=0.846 HSS1=0.196 HSS2=0.210 GSS=826.338 Recall=0.936 Precision=0.879\n",
      "RNN (RusTomekAdasyn) : TP=743 FN=247 FP=4148 TN=70227 TSS=0.695 HSS1=0.236 HSS2=0.245 GSS=678.751 Recall=0.751 Precision=0.848\n",
      "GRU (RusTomekSmote) : TP=912 FN=78 FP=6047 TN=68328 TSS=0.840 HSS1=0.211 HSS2=0.225 GSS=820.586 Recall=0.921 Precision=0.869\n",
      "GRU (RusTomekAdasyn) : TP=901 FN=89 FP=5997 TN=68378 TSS=0.829 HSS1=0.210 HSS2=0.224 GSS=810.387 Recall=0.910 Precision=0.869\n",
      "\n",
      "\n",
      "P_Train = 3.0 & P_Test = 4.0\n",
      "Rocket (RusTomekSmote) : TP=627 FN=538 FP=35051 TN=15045 TSS=-0.161 HSS1=-0.010 HSS2=-0.031 GSS=-183.848 Recall=0.538 Precision=0.982\n",
      "Rocket (RusTomekAdasyn) : TP=579 FN=586 FP=25352 TN=24744 TSS=-0.009 HSS1=-0.001 HSS2=-0.001 GSS=-10.329 Recall=0.497 Precision=0.978\n",
      "TSF (RusTomekSmote) : TP=171 FN=994 FP=114 TN=49982 TSS=0.145 HSS1=0.229 HSS2=0.231 GSS=164.523 Recall=0.147 Precision=0.400\n",
      "TSF (RusTomekAdasyn) : TP=6 FN=1159 FP=0 TN=50096 TSS=0.005 HSS1=0.010 HSS2=0.010 GSS=5.864 Recall=0.005 Precision=0.000\n",
      "LSTM (RusTomekSmote) : TP=828 FN=337 FP=2246 TN=47850 TSS=0.666 HSS1=0.370 HSS2=0.376 GSS=758.138 Recall=0.711 Precision=0.731\n",
      "LSTM (RusTomekAdasyn) : TP=506 FN=659 FP=1215 TN=48881 TSS=0.410 HSS1=0.333 HSS2=0.333 GSS=466.887 Recall=0.434 Precision=0.706\n",
      "1DCNN (RusTomekSmote) : TP=824 FN=341 FP=2566 TN=47530 TSS=0.656 HSS1=0.339 HSS2=0.347 GSS=746.956 Recall=0.707 Precision=0.757\n",
      "1DCNN (RusTomekAdasyn) : TP=649 FN=516 FP=1286 TN=48810 TSS=0.531 HSS1=0.402 HSS2=0.403 GSS=605.024 Recall=0.557 Precision=0.665\n",
      "RNN (RusTomekSmote) : TP=778 FN=387 FP=1825 TN=48271 TSS=0.631 HSS1=0.394 HSS2=0.398 GSS=718.842 Recall=0.668 Precision=0.701\n",
      "RNN (RusTomekAdasyn) : TP=1059 FN=106 FP=4219 TN=45877 TSS=0.825 HSS1=0.303 HSS2=0.320 GSS=939.048 Recall=0.909 Precision=0.799\n",
      "GRU (RusTomekSmote) : TP=1025 FN=140 FP=5510 TN=44586 TSS=0.770 HSS1=0.237 HSS2=0.256 GSS=876.480 Recall=0.880 Precision=0.843\n",
      "GRU (RusTomekAdasyn) : TP=1141 FN=24 FP=5558 TN=44538 TSS=0.868 HSS1=0.262 HSS2=0.284 GSS=988.753 Recall=0.979 Precision=0.830\n",
      "\n",
      "\n",
      "P_Train = 3.0 & P_Test = 5.0\n",
      "Rocket (RusTomekSmote) : TP=773 FN=217 FP=4080 TN=70295 TSS=0.726 HSS1=0.248 HSS2=0.257 GSS=709.251 Recall=0.781 Precision=0.841\n",
      "Rocket (RusTomekAdasyn) : TP=409 FN=581 FP=1940 TN=72435 TSS=0.387 HSS1=0.231 HSS2=0.233 GSS=378.143 Recall=0.413 Precision=0.826\n",
      "TSF (RusTomekSmote) : TP=702 FN=288 FP=2943 TN=71432 TSS=0.670 HSS1=0.288 HSS2=0.294 GSS=654.119 Recall=0.709 Precision=0.807\n",
      "TSF (RusTomekAdasyn) : TP=535 FN=455 FP=1830 TN=72545 TSS=0.516 HSS1=0.306 HSS2=0.308 GSS=503.933 Recall=0.540 Precision=0.774\n",
      "LSTM (RusTomekSmote) : TP=829 FN=161 FP=3702 TN=70673 TSS=0.788 HSS1=0.285 HSS2=0.294 GSS=769.480 Recall=0.837 Precision=0.817\n",
      "LSTM (RusTomekAdasyn) : TP=783 FN=207 FP=3066 TN=71309 TSS=0.750 HSS1=0.309 HSS2=0.316 GSS=732.439 Recall=0.791 Precision=0.797\n",
      "1DCNN (RusTomekSmote) : TP=974 FN=16 FP=13284 TN=61091 TSS=0.805 HSS1=0.106 HSS2=0.125 GSS=786.706 Recall=0.984 Precision=0.932\n",
      "1DCNN (RusTomekAdasyn) : TP=868 FN=122 FP=6537 TN=67838 TSS=0.789 HSS1=0.188 HSS2=0.201 GSS=770.727 Recall=0.877 Precision=0.883\n",
      "RNN (RusTomekSmote) : TP=973 FN=17 FP=9823 TN=64552 TSS=0.851 HSS1=0.145 HSS2=0.163 GSS=831.183 Recall=0.983 Precision=0.910\n",
      "RNN (RusTomekAdasyn) : TP=904 FN=86 FP=5163 TN=69212 TSS=0.844 HSS1=0.239 HSS2=0.251 GSS=824.303 Recall=0.913 Precision=0.851\n",
      "GRU (RusTomekSmote) : TP=952 FN=38 FP=10830 TN=63545 TSS=0.816 HSS1=0.128 HSS2=0.146 GSS=797.231 Recall=0.962 Precision=0.919\n",
      "GRU (RusTomekAdasyn) : TP=947 FN=43 FP=7472 TN=66903 TSS=0.856 HSS1=0.182 HSS2=0.198 GSS=836.407 Recall=0.957 Precision=0.888\n",
      "\n",
      "\n",
      "P_Train = 4.0 & P_Test = 5.0\n",
      "Rocket (RusTomekSmote) : TP=861 FN=129 FP=6113 TN=68262 TSS=0.788 HSS1=0.198 HSS2=0.211 GSS=769.389 Recall=0.870 Precision=0.877\n",
      "Rocket (RusTomekAdasyn) : TP=989 FN=1 FP=32003 TN=42372 TSS=0.569 HSS1=0.034 HSS2=0.057 GSS=555.615 Recall=0.999 Precision=0.970\n",
      "TSF (RusTomekSmote) : TP=736 FN=254 FP=2755 TN=71620 TSS=0.706 HSS1=0.314 HSS2=0.321 GSS=690.142 Recall=0.743 Precision=0.789\n",
      "TSF (RusTomekAdasyn) : TP=626 FN=364 FP=4127 TN=70248 TSS=0.577 HSS1=0.201 HSS2=0.208 GSS=563.564 Recall=0.632 Precision=0.868\n",
      "LSTM (RusTomekSmote) : TP=990 FN=0 FP=19610 TN=54765 TSS=0.736 HSS1=0.068 HSS2=0.090 GSS=719.397 Recall=1.000 Precision=0.952\n",
      "LSTM (RusTomekAdasyn) : TP=990 FN=0 FP=18595 TN=55780 TSS=0.750 HSS1=0.073 HSS2=0.095 GSS=732.730 Recall=1.000 Precision=0.949\n",
      "1DCNN (RusTomekSmote) : TP=986 FN=4 FP=16968 TN=57407 TSS=0.768 HSS1=0.081 HSS2=0.102 GSS=750.155 Recall=0.996 Precision=0.945\n",
      "1DCNN (RusTomekAdasyn) : TP=983 FN=7 FP=14077 TN=60298 TSS=0.804 HSS1=0.100 HSS2=0.121 GSS=785.171 Recall=0.993 Precision=0.935\n",
      "RNN (RusTomekSmote) : TP=990 FN=0 FP=25649 TN=48726 TSS=0.655 HSS1=0.048 HSS2=0.070 GSS=640.068 Recall=1.000 Precision=0.963\n",
      "RNN (RusTomekAdasyn) : TP=990 FN=0 FP=18347 TN=56028 TSS=0.753 HSS1=0.074 HSS2=0.096 GSS=735.988 Recall=1.000 Precision=0.949\n",
      "GRU (RusTomekSmote) : TP=990 FN=0 FP=19368 TN=55007 TSS=0.740 HSS1=0.069 HSS2=0.091 GSS=722.576 Recall=1.000 Precision=0.951\n",
      "GRU (RusTomekAdasyn) : TP=990 FN=0 FP=17129 TN=57246 TSS=0.770 HSS1=0.081 HSS2=0.102 GSS=751.988 Recall=1.000 Precision=0.945\n",
      "\n",
      "\n"
     ]
    }
   ],
   "source": [
    "compare_results(names, values, 12)"
   ]
  },
  {
   "cell_type": "code",
   "execution_count": null,
   "id": "c600f8e3",
   "metadata": {},
   "outputs": [],
   "source": []
  }
 ],
 "metadata": {
  "kernelspec": {
   "display_name": "Python 3 (ipykernel)",
   "language": "python",
   "name": "python3"
  },
  "language_info": {
   "codemirror_mode": {
    "name": "ipython",
    "version": 3
   },
   "file_extension": ".py",
   "mimetype": "text/x-python",
   "name": "python",
   "nbconvert_exporter": "python",
   "pygments_lexer": "ipython3",
   "version": "3.11.3"
  }
 },
 "nbformat": 4,
 "nbformat_minor": 5
}
