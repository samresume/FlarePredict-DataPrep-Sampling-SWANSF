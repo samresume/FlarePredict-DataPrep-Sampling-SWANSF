{
 "cells": [
  {
   "cell_type": "markdown",
   "id": "b42f5d50",
   "metadata": {},
   "source": [
    "# SVM - MLPClassifier - Complement Naive Bayes  - Randon Forest on NewFeatures (After Sampling)"
   ]
  },
  {
   "cell_type": "markdown",
   "id": "c5d323d1",
   "metadata": {},
   "source": [
    "# Train Test Split"
   ]
  },
  {
   "cell_type": "markdown",
   "id": "8d29e199",
   "metadata": {},
   "source": [
    "## Stratified Cross validation (k = 5)"
   ]
  },
  {
   "cell_type": "markdown",
   "id": "7c37f292",
   "metadata": {},
   "source": [
    "P1 Train and P2 Test, P1 Train and P3 Test, P1 Train and P4 Test, P1 Train and P5 Test\n",
    "P2 Train and P3 Test, P2 Train and P4 Test, P2 Train and P5 Test\n",
    "P3 Train and P4 Test, P3 Train and P5 Test\n",
    "P4 Train and P5 Test"
   ]
  },
  {
   "cell_type": "markdown",
   "id": "529fa14d",
   "metadata": {},
   "source": [
    "# Evaluation Metrics"
   ]
  },
  {
   "cell_type": "code",
   "execution_count": 1,
   "id": "255d0498",
   "metadata": {},
   "outputs": [],
   "source": [
    "# float(\"{:.2f}\".format(13.949999999999999))\n",
    "\n",
    "def TSS(TP,TN,FP,FN):\n",
    "    TSS_value = (TP / (TP + FN)) - (FP / (FP + TN))\n",
    "    return TSS_value\n",
    "\n",
    "def HSS1(TP,TN,FP,FN):\n",
    "    HSS1_value = (2 * (TP * TN - FP * FN)) / ((TP + FN) * (FN + TN) + (TP + FP) * (FP + TN))\n",
    "    return HSS1_value\n",
    "    \n",
    "def HSS2(TP,TN,FP,FN):\n",
    "    HSS2_value = (2 * (TP * TN - FP * FN)) / ((TP + FP) * (FN + TN) + (TP + FN) * (FP + TN))\n",
    "    return HSS2_value\n",
    "\n",
    "def GSS(TP,TN,FP,FN):\n",
    "    GSS_value = (TP - (TP + FP) * (TP + FN) / (TP + FP + FN + TN))\n",
    "    return GSS_value\n",
    "\n",
    "def Recall(TP,TN,FP,FN):\n",
    "    Recall_value = (TP) / (TP + FN)\n",
    "    return Recall_value\n",
    "\n",
    "def FPR(TP,TN,FP,FN):\n",
    "    fpr_value = (FP) / (FP + TN)\n",
    "    return fpr_value\n",
    "\n",
    "def Accuracy(TP,TN,FP,FN):\n",
    "    accuracy_value = (TP + TN) / (TP + TN + FP + FN)\n",
    "    return accuracy_value\n",
    "\n",
    "def Precision(TP,TN,FP,FN):\n",
    "    precision_value = (FP) / (TP + FP)\n",
    "    return precision_value"
   ]
  },
  {
   "cell_type": "markdown",
   "id": "bd0d872d",
   "metadata": {},
   "source": [
    "# Loading the Final Datasets"
   ]
  },
  {
   "cell_type": "markdown",
   "id": "b9516c63",
   "metadata": {},
   "source": [
    "## New Features "
   ]
  },
  {
   "cell_type": "markdown",
   "id": "aca76aee",
   "metadata": {},
   "source": [
    "### LSBZM Norm"
   ]
  },
  {
   "cell_type": "markdown",
   "id": "d43af151",
   "metadata": {},
   "source": [
    "#### RUS-Tomek_GNI"
   ]
  },
  {
   "cell_type": "code",
   "execution_count": 2,
   "id": "06c2f0ab",
   "metadata": {},
   "outputs": [
    {
     "name": "stdout",
     "output_type": "stream",
     "text": [
      "P1 Nan-Value: False\n",
      "P2 Nan-Value: False\n",
      "P3 Nan-Value: False\n",
      "P4 Nan-Value: False\n",
      "P5 Nan-Value: False\n"
     ]
    }
   ],
   "source": [
    "import pickle\n",
    "import numpy as np\n",
    "\n",
    "data_dir = \"/Users/samskanderi/Documents/Research_Project/SWANSF/code/8_1_FinalData_OUSampling_NewFeatures_LSBZM_KnnImputation/\"\n",
    "X_train_NewF_ZM_RTS = []\n",
    "Y_train_NewF_ZM_RTS = []\n",
    "\n",
    "\n",
    "num_partitions = 5\n",
    "\n",
    "for i in range(0,num_partitions):\n",
    "    with open(data_dir + \"RUS_Tomek_GNI_\" +\"Partition\" + str(i+1) + \"_OUSampling_WithoutC_NewFeatures_LSBZM_KnnImputation\" +\".pkl\", 'rb') as f:\n",
    "        X_train_NewF_ZM_RTS.append(pickle.load(f))\n",
    "    with open(data_dir + \"RUS_Tomek_GNI_\" + \"Partition\" + str(i+1) + \"_Labels_OUSampling_WithoutC_NewFeatures_LSBZM_KnnImputation\" +\".pkl\", 'rb') as f:\n",
    "        Y_train_NewF_ZM_RTS.append(pickle.load(f))\n",
    "    print(\"P\"+str(i+1)+\" Nan-Value: \"+ str(np.isnan(X_train_NewF_ZM_RTS[i]).any() or np.isinf(X_train_NewF_ZM_RTS[i]).any()))"
   ]
  },
  {
   "cell_type": "markdown",
   "id": "c505b1bd",
   "metadata": {},
   "source": [
    "#### RUS-Tomek_TimeGAN"
   ]
  },
  {
   "cell_type": "code",
   "execution_count": 3,
   "id": "ce5553a2",
   "metadata": {},
   "outputs": [
    {
     "name": "stdout",
     "output_type": "stream",
     "text": [
      "P1 Nan-Value: False\n",
      "P2 Nan-Value: False\n",
      "P3 Nan-Value: False\n",
      "P4 Nan-Value: False\n",
      "P5 Nan-Value: False\n"
     ]
    }
   ],
   "source": [
    "import pickle\n",
    "import numpy as np\n",
    "\n",
    "data_dir = \"/Users/samskanderi/Documents/Research_Project/SWANSF/code/8_1_FinalData_OUSampling_NewFeatures_LSBZM_KnnImputation/\"\n",
    "X_train_NewF_ZM_RTA = []\n",
    "Y_train_NewF_ZM_RTA = []\n",
    "\n",
    "\n",
    "num_partitions = 5\n",
    "\n",
    "for i in range(0,num_partitions):\n",
    "    with open(data_dir + \"RUS_Tomek_TimeGAN_\" +\"Partition\" + str(i+1) + \"_OUSampling_WithoutC_NewFeatures_LSBZM_KnnImputation\" +\".pkl\", 'rb') as f:\n",
    "        X_train_NewF_ZM_RTA.append(pickle.load(f))\n",
    "    with open(data_dir + \"RUS_Tomek_TimeGAN_\" + \"Partition\" + str(i+1) + \"_Labels_OUSampling_WithoutC_NewFeatures_LSBZM_KnnImputation\" +\".pkl\", 'rb') as f:\n",
    "        Y_train_NewF_ZM_RTA.append(pickle.load(f))\n",
    "    print(\"P\"+str(i+1)+\" Nan-Value: \"+ str(np.isnan(X_train_NewF_ZM_RTA[i]).any() or np.isinf(X_train_NewF_ZM_RTA[i]).any()))"
   ]
  },
  {
   "cell_type": "markdown",
   "id": "afe4fdc6",
   "metadata": {},
   "source": [
    "#### GNI"
   ]
  },
  {
   "cell_type": "code",
   "execution_count": 4,
   "id": "d5e9ba63",
   "metadata": {},
   "outputs": [
    {
     "name": "stdout",
     "output_type": "stream",
     "text": [
      "P1 Nan-Value: False\n",
      "P2 Nan-Value: False\n",
      "P3 Nan-Value: False\n",
      "P4 Nan-Value: False\n",
      "P5 Nan-Value: False\n"
     ]
    }
   ],
   "source": [
    "import pickle\n",
    "import numpy as np\n",
    "\n",
    "data_dir = \"/Users/samskanderi/Documents/Research_Project/SWANSF/code/8_2_FinalData_OSampling_NewFeatures_LSBZM_KnnImputation/\"\n",
    "X_train_NewF_ZM_S = []\n",
    "Y_train_NewF_ZM_S = []\n",
    "\n",
    "\n",
    "num_partitions = 5\n",
    "\n",
    "for i in range(0,num_partitions):\n",
    "    with open(data_dir + \"GaussianNoise_\" +\"Partition\" + str(i+1) + \"_OSampling_WithoutC_NewFeatures_LSBZM_KnnImputation\" +\".pkl\", 'rb') as f:\n",
    "        X_train_NewF_ZM_S.append(pickle.load(f))\n",
    "    with open(data_dir + \"GaussianNoise_\" + \"Partition\" + str(i+1) + \"_Labels_OSampling_WithoutC_NewFeatures_LSBZM_KnnImputation\" +\".pkl\", 'rb') as f:\n",
    "        Y_train_NewF_ZM_S.append(pickle.load(f))\n",
    "    print(\"P\"+str(i+1)+\" Nan-Value: \"+ str(np.isnan(X_train_NewF_ZM_S[i]).any() or np.isinf(X_train_NewF_ZM_S[i]).any()))"
   ]
  },
  {
   "cell_type": "markdown",
   "id": "5e35efd9",
   "metadata": {},
   "source": [
    "#### TimeGAN"
   ]
  },
  {
   "cell_type": "code",
   "execution_count": 5,
   "id": "1dd52129",
   "metadata": {},
   "outputs": [
    {
     "name": "stdout",
     "output_type": "stream",
     "text": [
      "P1 Nan-Value: False\n",
      "P2 Nan-Value: False\n",
      "P3 Nan-Value: False\n",
      "P4 Nan-Value: False\n",
      "P5 Nan-Value: False\n"
     ]
    }
   ],
   "source": [
    "import pickle\n",
    "import numpy as np\n",
    "\n",
    "data_dir = \"/Users/samskanderi/Documents/Research_Project/SWANSF/code/8_2_FinalData_OSampling_NewFeatures_LSBZM_KnnImputation/\"\n",
    "X_train_NewF_ZM_A = []\n",
    "Y_train_NewF_ZM_A = []\n",
    "\n",
    "\n",
    "num_partitions = 5\n",
    "\n",
    "for i in range(0,num_partitions):\n",
    "    with open(data_dir + \"TimeGAN_\" +\"Partition\" + str(i+1) + \"_OSampling_WithoutC_NewFeatures_LSBZM_KnnImputation\" +\".pkl\", 'rb') as f:\n",
    "        X_train_NewF_ZM_A.append(pickle.load(f))\n",
    "    with open(data_dir + \"TimeGAN_\" + \"Partition\" + str(i+1) + \"_Labels_OSampling_WithoutC_NewFeatures_LSBZM_KnnImputation\" +\".pkl\", 'rb') as f:\n",
    "        Y_train_NewF_ZM_A.append(pickle.load(f))\n",
    "    print(\"P\"+str(i+1)+\" Nan-Value: \"+ str(np.isnan(X_train_NewF_ZM_A[i]).any() or np.isinf(X_train_NewF_ZM_A[i]).any()))"
   ]
  },
  {
   "cell_type": "markdown",
   "id": "4411f8cb",
   "metadata": {},
   "source": [
    "#### Test Data"
   ]
  },
  {
   "cell_type": "code",
   "execution_count": 6,
   "id": "bfdd3940",
   "metadata": {},
   "outputs": [
    {
     "name": "stdout",
     "output_type": "stream",
     "text": [
      "P1 Nan-Value: False\n",
      "P2 Nan-Value: False\n",
      "P3 Nan-Value: False\n",
      "P4 Nan-Value: False\n",
      "P5 Nan-Value: False\n"
     ]
    }
   ],
   "source": [
    "import pickle\n",
    "import numpy as np\n",
    "\n",
    "data_dir = \"/Users/samskanderi/Documents/Research_Project/SWANSF/code/5_2_FinalData_NewFeatures_LSBZM_KnnImputation/\"\n",
    "X_test_NewF_ZM = []\n",
    "Y_test_NewF_ZM = []\n",
    "\n",
    "\n",
    "num_partitions = 5\n",
    "\n",
    "for i in range(0,num_partitions):\n",
    "    with open(data_dir + \"Partition\" + str(i+1) + \"_NewFeatures_LSBZM_KnnImputation\" + \".pkl\", 'rb') as f:\n",
    "        X_test_NewF_ZM.append(pickle.load(f))\n",
    "    print(\"P\"+str(i+1)+\" Nan-Value: \"+ str(np.isnan(X_test_NewF_ZM[i]).any() or np.isinf(X_test_NewF_ZM[i]).any()))\n",
    "    \n",
    "    with open(data_dir + \"Partition\" + str(i+1) + \"_Labels_NewFeatures_LSBZM_KnnImputation\" + \".pkl\", 'rb') as f:\n",
    "        Y_test_NewF_ZM.append(pickle.load(f))"
   ]
  },
  {
   "cell_type": "markdown",
   "id": "d520699a",
   "metadata": {},
   "source": [
    "# Useful Functions"
   ]
  },
  {
   "cell_type": "code",
   "execution_count": 7,
   "id": "ed6ceb4d",
   "metadata": {},
   "outputs": [],
   "source": [
    "def kfold_training(name, X_train, Y_train, X_test,Y_test, training_func, num):\n",
    "    #kfold = np.array([[1,2],[1,3],[1,4],[1,5],[2,3],[2,4],[2,5],[3,4],[3,5],[4,5]])\n",
    "    kfold = np.array([[4,5],[1,2],[1,3],[1,4],[1,5],[2,3],[2,4],[2,5],[3,4],[3,5]])\n",
    "\n",
    "    metrics = []\n",
    "    metrics_values = np.array([])\n",
    "    \n",
    "    for i in range(0, num):\n",
    "        train_index = kfold[i,0]\n",
    "        test_index = kfold[i,1]\n",
    "        metrics_values = training_func(X_train[train_index-1], Y_train[train_index-1], X_test[test_index-1], Y_test[test_index-1])\n",
    "        while (metrics_values[0] == 0):\n",
    "            metrics_values = training_func(X_train[train_index-1], Y_train[train_index-1], X_test[test_index-1], Y_test[test_index-1])\n",
    "        \n",
    "        metrics.append(np.append(np.append(train_index, test_index), metrics_values))\n",
    "    return metrics"
   ]
  },
  {
   "cell_type": "markdown",
   "id": "faf5130c",
   "metadata": {},
   "source": [
    "# Training"
   ]
  },
  {
   "cell_type": "markdown",
   "id": "10454d6f",
   "metadata": {},
   "source": [
    "## SVM"
   ]
  },
  {
   "cell_type": "code",
   "execution_count": 8,
   "id": "9a1291ae",
   "metadata": {},
   "outputs": [],
   "source": [
    "# Import necessary libraries\n",
    "import numpy as np\n",
    "from sklearn.svm import SVC\n",
    "from sklearn.metrics import confusion_matrix\n",
    "\n",
    "def svm_model(X_train, Y_train, X_test, Y_test):\n",
    "    \n",
    "    data_dir = \"/Users/samskanderi/Documents/Research_Project/SWANSF/code/models/\"\n",
    "\n",
    "\n",
    "    # Create an SVM classifier (you can choose different kernels like 'linear', 'rbf', etc.)\n",
    "    svm_classifier = SVC(kernel='rbf', C=1.0)\n",
    "    svm_classifier.fit(X_train, Y_train)\n",
    "    y_pred = svm_classifier.predict(X_test)\n",
    "    \n",
    "    \n",
    "    print(str(X_train.shape)+': SVM Classifier is Done! \\n')\n",
    "    \n",
    "\n",
    "    confusion = confusion_matrix(Y_test, y_pred)\n",
    "    tn, fp, fn, tp = confusion.ravel()\n",
    "\n",
    "    tss = TSS(tp,tn,fp,fn)\n",
    "    hss1 = HSS1(tp,tn,fp,fn)\n",
    "    hss2 = HSS2(tp,tn,fp,fn)\n",
    "    gss = GSS(tp,tn,fp,fn)\n",
    "    recall = Recall(tp,tn,fp,fn)\n",
    "    precision = Precision(tp,tn,fp,fn)\n",
    "    \n",
    "    output_values = np.array([tp, fn, fp, tn, tss, hss1, hss2, gss, recall, precision])\n",
    "\n",
    "\n",
    "    #joblib.dump(classifier, data_dir + \"svm_model.pkl\")\n",
    "\n",
    "    #loaded_svm_model = joblib.load(data_dir + \"svm_model.pkl\")\n",
    "    \n",
    "    return output_values"
   ]
  },
  {
   "cell_type": "markdown",
   "id": "12a9a3ae",
   "metadata": {},
   "source": [
    "## MPLClassifier "
   ]
  },
  {
   "cell_type": "code",
   "execution_count": 9,
   "id": "a780f706",
   "metadata": {},
   "outputs": [],
   "source": [
    "import warnings\n",
    "warnings.filterwarnings(\"ignore\")\n",
    "\n",
    "import numpy as np\n",
    "import numpy as np\n",
    "import tensorflow as tf\n",
    "from tensorflow import keras\n",
    "from tensorflow.keras import layers\n",
    "from sklearn.metrics import confusion_matrix\n",
    "\n",
    "def mlp_model(X_train, Y_train, X_test, Y_test):\n",
    "    \n",
    "    data_dir = \"/Users/samskanderi/Documents/Research_Project/SWANSF/code/models/\"\n",
    "\n",
    "    # Define the MLP model\n",
    "    # Define the MLP model with four hidden layers\n",
    "    model = keras.Sequential([\n",
    "        layers.Input(shape=(216,)),  # Input layer with 216 features\n",
    "        layers.Dense(64, activation='relu'),  # Hidden layer with 64 units and ReLU activation\n",
    "        layers.Dense(32, activation='relu'),  # Hidden layer with 32 units and ReLU activation\n",
    "        layers.Dense(16, activation='relu'),  # Hidden layer with 16 units and ReLU activation\n",
    "        layers.Dense(8, activation='relu'),  # Hidden layer with 16 units and ReLU activation\n",
    "        layers.Dense(1, activation='sigmoid')  # Output layer with 1 unit and sigmoid activation (binary classification)\n",
    "    ])\n",
    "\n",
    "    # Compile the model\n",
    "    model.compile(optimizer='adam', loss='binary_crossentropy', metrics=keras.metrics.SpecificityAtSensitivity(sensitivity=0.95))\n",
    "\n",
    "    # Train the model\n",
    "    model.fit(X_train, Y_train, epochs=15, batch_size=32, verbose=0)  # Adjust epochs and batch_size as needed\n",
    "\n",
    "    best_threshold = 0.0\n",
    "    best_tss = 0.0\n",
    "    y_pred = model.predict(X_test)\n",
    "    # evaluate model\n",
    "    for i in range(1, 1000):\n",
    "\n",
    "        threshold = i / 1000 # Adjust the threshold as needed\n",
    "        y_pred_binary = (y_pred > threshold).astype(int)\n",
    "        confusion = confusion_matrix(Y_test, y_pred_binary)\n",
    "        tn, fp, fn, tp = confusion.ravel()\n",
    "        tss = TSS(tp,tn,fp,fn)\n",
    "        if tss > best_tss:\n",
    "            best_tss = tss\n",
    "            best_threshold = i / 1000\n",
    "        \n",
    "    \n",
    "    print(str(X_train.shape)+': MLP Classifier is Done! \\n')\n",
    "\n",
    "\n",
    "    threshold = best_threshold # Adjust the threshold as needed\n",
    "    y_pred_binary = (y_pred > threshold).astype(int)\n",
    "    confusion = confusion_matrix(Y_test, y_pred_binary)\n",
    "    tn, fp, fn, tp = confusion.ravel()\n",
    "\n",
    "    tss = TSS(tp,tn,fp,fn)\n",
    "    hss1 = HSS1(tp,tn,fp,fn)\n",
    "    hss2 = HSS2(tp,tn,fp,fn)\n",
    "    gss = GSS(tp,tn,fp,fn)\n",
    "    recall = Recall(tp,tn,fp,fn)\n",
    "    precision = Precision(tp,tn,fp,fn)\n",
    "    \n",
    "    output_values = np.array([tp, fn, fp, tn, tss, hss1, hss2, gss, recall, precision])\n",
    "\n",
    "\n",
    "    #joblib.dump(classifier, data_dir + \"mlp_model.pkl\")\n",
    "\n",
    "    #loaded_mlp_model = joblib.load(data_dir + \"mlp_model.pkl\")\n",
    "    \n",
    "    return output_values"
   ]
  },
  {
   "cell_type": "markdown",
   "id": "d8903b60",
   "metadata": {},
   "source": [
    "# K Nearest Neighbors"
   ]
  },
  {
   "cell_type": "code",
   "execution_count": 10,
   "id": "0507e01b",
   "metadata": {},
   "outputs": [],
   "source": [
    "import numpy as np\n",
    "from sklearn.neighbors import KNeighborsClassifier\n",
    "from sklearn.metrics import confusion_matrix\n",
    "\n",
    "def knn_model(X_train, Y_train, X_test, Y_test):\n",
    "    \n",
    "    data_dir = \"/Users/samskanderi/Documents/Research_Project/SWANSF/code/models/\"\n",
    "\n",
    "    # Create a Gaussian Naive Bayes classifier\n",
    "    nb_classifier = KNeighborsClassifier(n_neighbors=10)\n",
    "    nb_classifier.fit(X_train, Y_train)\n",
    "    y_pred = nb_classifier.predict(X_test)\n",
    "    \n",
    "    print(str(X_train.shape) + ': KNeighborsClassifier Classifier is Done! \\n')\n",
    "\n",
    "    confusion = confusion_matrix(Y_test, y_pred)\n",
    "    tn, fp, fn, tp = confusion.ravel()\n",
    "\n",
    "    tss = TSS(tp,tn,fp,fn)\n",
    "    hss1 = HSS1(tp,tn,fp,fn)\n",
    "    hss2 = HSS2(tp,tn,fp,fn)\n",
    "    gss = GSS(tp,tn,fp,fn)\n",
    "    recall = Recall(tp,tn,fp,fn)\n",
    "    precision = Precision(tp,tn,fp,fn)\n",
    "    \n",
    "    output_values = np.array([tp, fn, fp, tn, tss, hss1, hss2, gss, recall, precision])\n",
    "\n",
    "    #joblib.dump(nb_classifier, data_dir + \"naive_bayes_model.pkl\")\n",
    "\n",
    "    #loaded_nb_model = joblib.load(data_dir + \"naive_bayes_model.pkl\")\n",
    "\n",
    "    return output_values\n"
   ]
  },
  {
   "cell_type": "markdown",
   "id": "8be28f51",
   "metadata": {},
   "source": [
    "# Random Forest"
   ]
  },
  {
   "cell_type": "code",
   "execution_count": 11,
   "id": "d4249dc8",
   "metadata": {},
   "outputs": [],
   "source": [
    "import numpy as np\n",
    "from sklearn.ensemble import RandomForestClassifier\n",
    "from sklearn.metrics import confusion_matrix\n",
    "\n",
    "def random_forest_model(X_train, Y_train, X_test, Y_test):\n",
    "    \n",
    "    data_dir = \"/Users/samskanderi/Documents/Research_Project/SWANSF/code/models/\"\n",
    "\n",
    "    # Create a Random Forest classifier\n",
    "    # You can adjust 'n_estimators' and other parameters as needed\n",
    "    rf_classifier = RandomForestClassifier(n_estimators=60, random_state=42, criterion='entropy')\n",
    "    rf_classifier.fit(X_train, Y_train)\n",
    "    y_pred = rf_classifier.predict(X_test)\n",
    "    \n",
    "    print(str(X_train.shape) + ': Random Forest Classifier is Done! \\n')\n",
    "\n",
    "    confusion = confusion_matrix(Y_test, y_pred)\n",
    "    tn, fp, fn, tp = confusion.ravel()\n",
    "\n",
    "    tss = TSS(tp, tn, fp, fn)\n",
    "    hss1 = HSS1(tp, tn, fp, fn)\n",
    "    hss2 = HSS2(tp, tn, fp, fn)\n",
    "    gss = GSS(tp, tn, fp, fn)\n",
    "    recall = Recall(tp, tn, fp, fn)\n",
    "    precision = Precision(tp, tn, fp, fn)\n",
    "    \n",
    "    output_values = np.array([tp, fn, fp, tn, tss, hss1, hss2, gss, recall, precision])\n",
    "\n",
    "    #joblib.dump(rf_classifier, data_dir + \"random_forest_model.pkl\")\n",
    "\n",
    "    #loaded_rf_model = joblib.load(data_dir + \"random_forest_model.pkl\")\n",
    "\n",
    "    return output_values\n"
   ]
  },
  {
   "cell_type": "markdown",
   "id": "32e9fd1e",
   "metadata": {},
   "source": [
    "# Results"
   ]
  },
  {
   "cell_type": "code",
   "execution_count": 12,
   "id": "127986e8",
   "metadata": {},
   "outputs": [],
   "source": [
    "def save_results(reslut, name):\n",
    "    data_dir = \"/Users/samskanderi/Documents/Research_Project/SWANSF/code/results/\"\n",
    "\n",
    "    with open(data_dir + name + \".pkl\", 'wb') as f:\n",
    "        pickle.dump(reslut, f)"
   ]
  },
  {
   "cell_type": "markdown",
   "id": "3c7bc689",
   "metadata": {},
   "source": [
    "## SVM"
   ]
  },
  {
   "cell_type": "code",
   "execution_count": 13,
   "id": "5b280418",
   "metadata": {},
   "outputs": [
    {
     "name": "stdout",
     "output_type": "stream",
     "text": [
      "(20000, 216): SVM Classifier is Done! \n",
      "\n"
     ]
    }
   ],
   "source": [
    "# SVM NewFeatures\n",
    "svm_newf_RTS = kfold_training('SVM', X_train_NewF_ZM_RTS, Y_train_NewF_ZM_RTS, X_test_NewF_ZM, Y_test_NewF_ZM, svm_model, 1)"
   ]
  },
  {
   "cell_type": "code",
   "execution_count": 14,
   "id": "a14a0c88",
   "metadata": {},
   "outputs": [],
   "source": [
    "save_results(svm_newf_RTS, \"SVM_RusTomekGNI_WithoutC_NewFeatures_Results\")"
   ]
  },
  {
   "cell_type": "code",
   "execution_count": 15,
   "id": "d472edb7",
   "metadata": {},
   "outputs": [
    {
     "name": "stdout",
     "output_type": "stream",
     "text": [
      "(19320, 216): SVM Classifier is Done! \n",
      "\n"
     ]
    }
   ],
   "source": [
    "svm_newf_RTA = kfold_training('SVM', X_train_NewF_ZM_RTA, Y_train_NewF_ZM_RTA, X_test_NewF_ZM, Y_test_NewF_ZM, svm_model, 1)"
   ]
  },
  {
   "cell_type": "code",
   "execution_count": 16,
   "id": "6a9b372f",
   "metadata": {},
   "outputs": [],
   "source": [
    "save_results(svm_newf_RTA, \"SVM_RusTomekTimeGAN_WithoutC_NewFeatures_Results\")"
   ]
  },
  {
   "cell_type": "code",
   "execution_count": 17,
   "id": "112f5152",
   "metadata": {},
   "outputs": [
    {
     "name": "stdout",
     "output_type": "stream",
     "text": [
      "(88280, 216): SVM Classifier is Done! \n",
      "\n"
     ]
    }
   ],
   "source": [
    "svm_newf_S = kfold_training('SVM', X_train_NewF_ZM_S, Y_train_NewF_ZM_S, X_test_NewF_ZM, Y_test_NewF_ZM, svm_model, 1)"
   ]
  },
  {
   "cell_type": "code",
   "execution_count": 18,
   "id": "60b70408",
   "metadata": {},
   "outputs": [],
   "source": [
    "save_results(svm_newf_S, \"SVM_GNI_WithoutC_NewFeatures_Results\")"
   ]
  },
  {
   "cell_type": "code",
   "execution_count": 19,
   "id": "c419d067",
   "metadata": {},
   "outputs": [
    {
     "name": "stdout",
     "output_type": "stream",
     "text": [
      "(87245, 216): SVM Classifier is Done! \n",
      "\n"
     ]
    }
   ],
   "source": [
    "svm_newf_A = kfold_training('SVM', X_train_NewF_ZM_A, Y_train_NewF_ZM_A, X_test_NewF_ZM, Y_test_NewF_ZM, svm_model, 1)"
   ]
  },
  {
   "cell_type": "code",
   "execution_count": 20,
   "id": "8a862309",
   "metadata": {},
   "outputs": [],
   "source": [
    "save_results(svm_newf_A, \"SVM_TimeGAN_WithoutC_NewFeatures_Results\")"
   ]
  },
  {
   "cell_type": "markdown",
   "id": "b5ce17de",
   "metadata": {},
   "source": [
    "## MLPClassifier"
   ]
  },
  {
   "cell_type": "code",
   "execution_count": 13,
   "id": "4dd95319",
   "metadata": {},
   "outputs": [
    {
     "name": "stdout",
     "output_type": "stream",
     "text": [
      "2356/2356 [==============================] - 1s 224us/step\n",
      "(20000, 216): MLP Classifier is Done! \n",
      "\n"
     ]
    }
   ],
   "source": [
    "# MLPClassifier NewFeatures\n",
    "mlp_newf_RTS = kfold_training('MLP', X_train_NewF_ZM_RTS, Y_train_NewF_ZM_RTS, X_test_NewF_ZM, Y_test_NewF_ZM, mlp_model, 1)"
   ]
  },
  {
   "cell_type": "code",
   "execution_count": 14,
   "id": "097d194e",
   "metadata": {},
   "outputs": [],
   "source": [
    "save_results(mlp_newf_RTS, \"MLPClassifier_RusTomekGNI_WithoutC_NewFeatures_Results\")"
   ]
  },
  {
   "cell_type": "code",
   "execution_count": 15,
   "id": "ea08e757",
   "metadata": {},
   "outputs": [
    {
     "name": "stdout",
     "output_type": "stream",
     "text": [
      "2356/2356 [==============================] - 1s 281us/step\n",
      "(19320, 216): MLP Classifier is Done! \n",
      "\n"
     ]
    }
   ],
   "source": [
    "mlp_newf_RTA = kfold_training('MLP', X_train_NewF_ZM_RTA, Y_train_NewF_ZM_RTA, X_test_NewF_ZM, Y_test_NewF_ZM, mlp_model, 1)"
   ]
  },
  {
   "cell_type": "code",
   "execution_count": 16,
   "id": "27e9831d",
   "metadata": {},
   "outputs": [],
   "source": [
    "save_results(mlp_newf_RTA, \"MLPClassifier_RusTomekTimeGAN_WithoutC_NewFeatures_Results\")"
   ]
  },
  {
   "cell_type": "code",
   "execution_count": 17,
   "id": "ffa8cae3",
   "metadata": {},
   "outputs": [
    {
     "name": "stdout",
     "output_type": "stream",
     "text": [
      "2356/2356 [==============================] - 1s 225us/step\n",
      "(88280, 216): MLP Classifier is Done! \n",
      "\n"
     ]
    }
   ],
   "source": [
    "mlp_newf_S = kfold_training('MLP', X_train_NewF_ZM_S, Y_train_NewF_ZM_S, X_test_NewF_ZM, Y_test_NewF_ZM, mlp_model, 1)"
   ]
  },
  {
   "cell_type": "code",
   "execution_count": 18,
   "id": "8a38308a",
   "metadata": {},
   "outputs": [],
   "source": [
    "save_results(mlp_newf_S, \"MLPClassifier_GNI_WithoutC_NewFeatures_Results\")"
   ]
  },
  {
   "cell_type": "code",
   "execution_count": 19,
   "id": "f2628e64",
   "metadata": {},
   "outputs": [
    {
     "name": "stdout",
     "output_type": "stream",
     "text": [
      "2356/2356 [==============================] - 1s 231us/step\n",
      "(87245, 216): MLP Classifier is Done! \n",
      "\n"
     ]
    }
   ],
   "source": [
    "mlp_newf_A = kfold_training('MLP', X_train_NewF_ZM_A, Y_train_NewF_ZM_A, X_test_NewF_ZM, Y_test_NewF_ZM, mlp_model, 1)"
   ]
  },
  {
   "cell_type": "code",
   "execution_count": 20,
   "id": "ebfee2b8",
   "metadata": {},
   "outputs": [],
   "source": [
    "save_results(mlp_newf_A, \"MLPClassifier_TimeGAN_WithoutC_NewFeatures_Results\")"
   ]
  },
  {
   "cell_type": "markdown",
   "id": "e702be07",
   "metadata": {},
   "source": [
    "### K Nearest Neighbors"
   ]
  },
  {
   "cell_type": "code",
   "execution_count": 103,
   "id": "b24408d0",
   "metadata": {},
   "outputs": [
    {
     "name": "stdout",
     "output_type": "stream",
     "text": [
      "(20000, 216): KNeighborsClassifier Classifier is Done! \n",
      "\n"
     ]
    }
   ],
   "source": [
    "naive_newf_RTS = kfold_training('KNN', X_train_NewF_ZM_RTS, Y_train_NewF_ZM_RTS, X_test_NewF_ZM, Y_test_NewF_ZM, knn_model, 1)"
   ]
  },
  {
   "cell_type": "code",
   "execution_count": 104,
   "id": "6ac1c1a4",
   "metadata": {},
   "outputs": [],
   "source": [
    "save_results(naive_newf_RTS, \"KNN_RusTomekGNI_WithoutC_NewFeatures_Results\")"
   ]
  },
  {
   "cell_type": "code",
   "execution_count": 105,
   "id": "7d9d7ab6",
   "metadata": {},
   "outputs": [
    {
     "name": "stdout",
     "output_type": "stream",
     "text": [
      "(19320, 216): KNeighborsClassifier Classifier is Done! \n",
      "\n"
     ]
    }
   ],
   "source": [
    "naive_newf_RTA = kfold_training('KNN', X_train_NewF_ZM_RTA, Y_train_NewF_ZM_RTA, X_test_NewF_ZM, Y_test_NewF_ZM, knn_model, 1)"
   ]
  },
  {
   "cell_type": "code",
   "execution_count": 106,
   "id": "f737eec5",
   "metadata": {},
   "outputs": [],
   "source": [
    "save_results(naive_newf_RTA, \"KNN_RusTomekTimeGAN_WithoutC_NewFeatures_Results\")"
   ]
  },
  {
   "cell_type": "code",
   "execution_count": 107,
   "id": "035da67f",
   "metadata": {},
   "outputs": [
    {
     "name": "stdout",
     "output_type": "stream",
     "text": [
      "(88280, 216): KNeighborsClassifier Classifier is Done! \n",
      "\n"
     ]
    }
   ],
   "source": [
    "naive_newf_S = kfold_training('KNN', X_train_NewF_ZM_S, Y_train_NewF_ZM_S, X_test_NewF_ZM, Y_test_NewF_ZM, knn_model, 1)"
   ]
  },
  {
   "cell_type": "code",
   "execution_count": 108,
   "id": "dff7f99d",
   "metadata": {},
   "outputs": [],
   "source": [
    "save_results(naive_newf_S, \"KNN_GNI_WithoutC_NewFeatures_Results\")"
   ]
  },
  {
   "cell_type": "code",
   "execution_count": 109,
   "id": "d2cb86a0",
   "metadata": {},
   "outputs": [
    {
     "name": "stdout",
     "output_type": "stream",
     "text": [
      "(87245, 216): KNeighborsClassifier Classifier is Done! \n",
      "\n"
     ]
    }
   ],
   "source": [
    "naive_newf_A = kfold_training('KNN', X_train_NewF_ZM_A, Y_train_NewF_ZM_A, X_test_NewF_ZM, Y_test_NewF_ZM, knn_model, 1)"
   ]
  },
  {
   "cell_type": "code",
   "execution_count": 110,
   "id": "7d9ac7b7",
   "metadata": {},
   "outputs": [],
   "source": [
    "save_results(naive_newf_A, \"KNN_TimeGAN_WithoutC_NewFeatures_Results\")"
   ]
  },
  {
   "cell_type": "markdown",
   "id": "5c43112c",
   "metadata": {},
   "source": [
    "### Random Forest"
   ]
  },
  {
   "cell_type": "code",
   "execution_count": 37,
   "id": "fc2f461e",
   "metadata": {},
   "outputs": [
    {
     "name": "stdout",
     "output_type": "stream",
     "text": [
      "(20000, 216): Random Forest Classifier is Done! \n",
      "\n"
     ]
    }
   ],
   "source": [
    "rf_newf_RTS = kfold_training('RandomForest', X_train_NewF_ZM_RTS, Y_train_NewF_ZM_RTS, X_test_NewF_ZM, Y_test_NewF_ZM, random_forest_model, 1)"
   ]
  },
  {
   "cell_type": "code",
   "execution_count": 38,
   "id": "5b25573a",
   "metadata": {},
   "outputs": [],
   "source": [
    "save_results(rf_newf_RTS, \"RandomForest_RusTomekGNI_WithoutC_NewFeatures_Results\")"
   ]
  },
  {
   "cell_type": "code",
   "execution_count": 39,
   "id": "643a09dd",
   "metadata": {},
   "outputs": [
    {
     "name": "stdout",
     "output_type": "stream",
     "text": [
      "(19320, 216): Random Forest Classifier is Done! \n",
      "\n"
     ]
    }
   ],
   "source": [
    "rf_newf_RTA = kfold_training('RandomForest', X_train_NewF_ZM_RTA, Y_train_NewF_ZM_RTA, X_test_NewF_ZM, Y_test_NewF_ZM, random_forest_model, 1)"
   ]
  },
  {
   "cell_type": "code",
   "execution_count": 40,
   "id": "186bd6a6",
   "metadata": {},
   "outputs": [],
   "source": [
    "save_results(rf_newf_RTA, \"RandomForest_RusTomekTimeGAN_WithoutC_NewFeatures_Results\")"
   ]
  },
  {
   "cell_type": "code",
   "execution_count": 41,
   "id": "bbfd510c",
   "metadata": {},
   "outputs": [
    {
     "name": "stdout",
     "output_type": "stream",
     "text": [
      "(88280, 216): Random Forest Classifier is Done! \n",
      "\n"
     ]
    }
   ],
   "source": [
    "rf_newf_S = kfold_training('RandomForest', X_train_NewF_ZM_S, Y_train_NewF_ZM_S, X_test_NewF_ZM, Y_test_NewF_ZM, random_forest_model, 1)"
   ]
  },
  {
   "cell_type": "code",
   "execution_count": 42,
   "id": "92b85a0f",
   "metadata": {},
   "outputs": [],
   "source": [
    "save_results(rf_newf_S, \"RandomForest_GNI_WithoutC_NewFeatures_Results\")"
   ]
  },
  {
   "cell_type": "code",
   "execution_count": 43,
   "id": "25b30ef1",
   "metadata": {},
   "outputs": [
    {
     "name": "stdout",
     "output_type": "stream",
     "text": [
      "(87245, 216): Random Forest Classifier is Done! \n",
      "\n"
     ]
    }
   ],
   "source": [
    "rf_newf_A = kfold_training('RandomForest', X_train_NewF_ZM_A, Y_train_NewF_ZM_A, X_test_NewF_ZM, Y_test_NewF_ZM, random_forest_model, 1)"
   ]
  },
  {
   "cell_type": "code",
   "execution_count": 44,
   "id": "7b699559",
   "metadata": {},
   "outputs": [],
   "source": [
    "save_results(rf_newf_A, \"RandomForest_TimeGAN_WithoutC_NewFeatures_Results\")"
   ]
  },
  {
   "cell_type": "markdown",
   "id": "c0fc66c6",
   "metadata": {},
   "source": [
    "# Comparison "
   ]
  },
  {
   "cell_type": "code",
   "execution_count": 21,
   "id": "3941d553",
   "metadata": {},
   "outputs": [],
   "source": [
    "import pickle\n",
    "import numpy as np\n",
    "\n",
    "data_dir = \"/Users/samskanderi/Documents/Research_Project/SWANSF/code/results/\"\n",
    "\n",
    "with open(data_dir + 'SVM_RusTomekGNI_WithoutC_NewFeatures_Results' + \".pkl\", 'rb') as f:\n",
    "    svm1_newf=pickle.load(f)\n",
    "with open(data_dir + 'SVM_RusTomekTimeGAN_WithoutC_NewFeatures_Results' + \".pkl\", 'rb') as f:\n",
    "    svm2_newf=pickle.load(f)\n",
    "with open(data_dir + 'MLPClassifier_RusTomekGNI_WithoutC_NewFeatures_Results' + \".pkl\", 'rb') as f:\n",
    "    mlp1_newf=pickle.load(f)\n",
    "with open(data_dir + 'MLPClassifier_RusTomekTimeGAN_WithoutC_NewFeatures_Results' + \".pkl\", 'rb') as f:\n",
    "    mlp2_newf=pickle.load(f)\n",
    "with open(data_dir + 'KNN_RusTomekGNI_WithoutC_NewFeatures_Results' + \".pkl\", 'rb') as f:\n",
    "    nb1_newf=pickle.load(f)\n",
    "with open(data_dir + 'KNN_RusTomekTimeGAN_WithoutC_NewFeatures_Results' + \".pkl\", 'rb') as f:\n",
    "    nb2_newf=pickle.load(f)\n",
    "with open(data_dir + 'RandomForest_RusTomekGNI_WithoutC_NewFeatures_Results' + \".pkl\", 'rb') as f:\n",
    "    rf1_newf=pickle.load(f)\n",
    "with open(data_dir + 'RandomForest_RusTomekTimeGAN_WithoutC_NewFeatures_Results' + \".pkl\", 'rb') as f:\n",
    "    rf2_newf=pickle.load(f)\n",
    "\n",
    "\n",
    "with open(data_dir + 'SVM_GNI_WithoutC_NewFeatures_Results' + \".pkl\", 'rb') as f:\n",
    "    svm3_newf=pickle.load(f)\n",
    "with open(data_dir + 'SVM_TimeGAN_WithoutC_NewFeatures_Results' + \".pkl\", 'rb') as f:\n",
    "    svm4_newf=pickle.load(f)\n",
    "with open(data_dir + 'MLPClassifier_GNI_WithoutC_NewFeatures_Results' + \".pkl\", 'rb') as f:\n",
    "    mlp3_newf=pickle.load(f)\n",
    "with open(data_dir + 'MLPClassifier_TimeGAN_WithoutC_NewFeatures_Results' + \".pkl\", 'rb') as f:\n",
    "    mlp4_newf=pickle.load(f)\n",
    "with open(data_dir + 'KNN_GNI_WithoutC_NewFeatures_Results' + \".pkl\", 'rb') as f:\n",
    "    nb3_newf=pickle.load(f)\n",
    "with open(data_dir + 'KNN_TimeGAN_WithoutC_NewFeatures_Results' + \".pkl\", 'rb') as f:\n",
    "    nb4_newf=pickle.load(f)\n",
    "with open(data_dir + 'RandomForest_GNI_WithoutC_NewFeatures_Results' + \".pkl\", 'rb') as f:\n",
    "    rf3_newf=pickle.load(f)\n",
    "with open(data_dir + 'RandomForest_TimeGAN_WithoutC_NewFeatures_Results' + \".pkl\", 'rb') as f:\n",
    "    rf4_newf=pickle.load(f)\n",
    "\n",
    "names = ['SVM (RUS-Tomek-GNI)', 'SVM (RUS-Tomek-TimeGAN)', 'MLP (RUS-Tomek-GNI)', 'MLP (RUS-Tomek-TimeGAN)'\n",
    "         , 'KNN (RUS-Tomek-GNI)', 'KNN (RUS-Tomek-TimeGAN)', 'RandomForest (RUS-Tomek-GNI)'\n",
    "        , 'RandomForest (RUS-Tomek-TimeGAN)', 'SVM (GNI)', 'SVM (TimeGAN)', 'MLP (GNI)', 'MLP (TimeGAN)'\n",
    "         , 'KNN (GNI)', 'KNN (TimeGAN)', 'RandomForest (GNI)'\n",
    "        , 'RandomForest (TimeGAN)']\n",
    "values = np.array([svm1_newf, svm2_newf, mlp1_newf, mlp2_newf, nb1_newf,\n",
    "                   nb2_newf, rf1_newf, rf2_newf, svm3_newf, svm4_newf, mlp3_newf, mlp4_newf, nb3_newf,\n",
    "                   nb4_newf, rf3_newf, rf4_newf])"
   ]
  },
  {
   "cell_type": "code",
   "execution_count": 22,
   "id": "88522bf6",
   "metadata": {},
   "outputs": [],
   "source": [
    "def compare_results(names, values):\n",
    "    np.printoptions(precision=4, suppress=True)\n",
    "    for i in range(0, values.shape[1]):\n",
    "        print(\"P_Train = \"+ str(values[0,i,0]) + \" & \" + \"P_Test = \" + str(values[0,i,1]))\n",
    "        for j in range(0, values.shape[0]):\n",
    "            print(names[j] + ' :' +  ' TP={:.0f}'.format(values[j,i,2]) + ' FN={:.0f}'.format(values[j,i,3]) + ' FP={:.0f}'.format(values[j,i,4])\n",
    "                 + ' TN={:.0f}'.format(values[j,i,5]) + ' TSS={:.3f}'.format(values[j,i,6]) + ' HSS1={:.3f}'.format(values[j,i,7]) + ' HSS2={:.3f}'.format(values[j,i,8])\n",
    "                 + ' GSS={:.3f}'.format(values[j,i,9]) + ' Recall={:.3f}'.format(values[j,i,10]) + ' Precision={:.3f}'.format(values[j,i,11]))\n",
    "        print('\\n')\n"
   ]
  },
  {
   "cell_type": "code",
   "execution_count": 23,
   "id": "9688f338",
   "metadata": {},
   "outputs": [
    {
     "name": "stdout",
     "output_type": "stream",
     "text": [
      "P_Train = 4.0 & P_Test = 5.0\n",
      "SVM (RUS-Tomek-GNI) : TP=986 FN=4 FP=12741 TN=61634 TSS=0.825 HSS1=0.112 HSS2=0.132 GSS=805.681 Recall=0.996 Precision=0.928\n",
      "SVM (RUS-Tomek-TimeGAN) : TP=965 FN=25 FP=8025 TN=66350 TSS=0.867 HSS1=0.174 HSS2=0.190 GSS=846.907 Recall=0.975 Precision=0.893\n",
      "MLP (RUS-Tomek-GNI) : TP=945 FN=45 FP=10918 TN=63457 TSS=0.808 HSS1=0.126 HSS2=0.144 GSS=789.167 Recall=0.955 Precision=0.920\n",
      "MLP (RUS-Tomek-TimeGAN) : TP=927 FN=63 FP=7106 TN=67269 TSS=0.841 HSS1=0.186 HSS2=0.201 GSS=821.478 Recall=0.936 Precision=0.885\n",
      "KNN (RUS-Tomek-GNI) : TP=977 FN=13 FP=25232 TN=49143 TSS=0.648 HSS1=0.048 HSS2=0.070 GSS=632.717 Recall=0.987 Precision=0.963\n",
      "KNN (RUS-Tomek-TimeGAN) : TP=868 FN=122 FP=10617 TN=63758 TSS=0.734 HSS1=0.118 HSS2=0.134 GSS=717.132 Recall=0.877 Precision=0.924\n",
      "RandomForest (RUS-Tomek-GNI) : TP=944 FN=46 FP=6581 TN=67794 TSS=0.865 HSS1=0.203 HSS2=0.218 GSS=845.151 Recall=0.954 Precision=0.875\n",
      "RandomForest (RUS-Tomek-TimeGAN) : TP=967 FN=23 FP=10147 TN=64228 TSS=0.840 HSS1=0.139 HSS2=0.157 GSS=821.006 Recall=0.977 Precision=0.913\n",
      "SVM (GNI) : TP=836 FN=154 FP=6072 TN=68303 TSS=0.763 HSS1=0.193 HSS2=0.206 GSS=745.256 Recall=0.844 Precision=0.879\n",
      "SVM (TimeGAN) : TP=935 FN=55 FP=9094 TN=65281 TSS=0.822 HSS1=0.149 HSS2=0.166 GSS=803.258 Recall=0.944 Precision=0.907\n",
      "MLP (GNI) : TP=951 FN=39 FP=11117 TN=63258 TSS=0.811 HSS1=0.124 HSS2=0.143 GSS=792.474 Recall=0.961 Precision=0.921\n",
      "MLP (TimeGAN) : TP=979 FN=11 FP=16432 TN=57943 TSS=0.768 HSS1=0.084 HSS2=0.104 GSS=750.288 Recall=0.989 Precision=0.944\n",
      "KNN (GNI) : TP=945 FN=45 FP=16114 TN=58261 TSS=0.738 HSS1=0.082 HSS2=0.102 GSS=720.912 Recall=0.955 Precision=0.945\n",
      "KNN (TimeGAN) : TP=905 FN=85 FP=15675 TN=58700 TSS=0.703 HSS1=0.080 HSS2=0.099 GSS=687.204 Recall=0.914 Precision=0.945\n",
      "RandomForest (GNI) : TP=915 FN=75 FP=5494 TN=68881 TSS=0.850 HSS1=0.230 HSS2=0.243 GSS=830.811 Recall=0.924 Precision=0.857\n",
      "RandomForest (TimeGAN) : TP=828 FN=162 FP=3334 TN=71041 TSS=0.792 HSS1=0.307 HSS2=0.315 GSS=773.328 Recall=0.836 Precision=0.801\n",
      "\n",
      "\n"
     ]
    }
   ],
   "source": [
    "compare_results(names, values)"
   ]
  },
  {
   "cell_type": "code",
   "execution_count": null,
   "id": "db226f87",
   "metadata": {},
   "outputs": [],
   "source": []
  }
 ],
 "metadata": {
  "kernelspec": {
   "display_name": "Python 3 (ipykernel)",
   "language": "python",
   "name": "python3"
  },
  "language_info": {
   "codemirror_mode": {
    "name": "ipython",
    "version": 3
   },
   "file_extension": ".py",
   "mimetype": "text/x-python",
   "name": "python",
   "nbconvert_exporter": "python",
   "pygments_lexer": "ipython3",
   "version": "3.11.3"
  }
 },
 "nbformat": 4,
 "nbformat_minor": 5
}
