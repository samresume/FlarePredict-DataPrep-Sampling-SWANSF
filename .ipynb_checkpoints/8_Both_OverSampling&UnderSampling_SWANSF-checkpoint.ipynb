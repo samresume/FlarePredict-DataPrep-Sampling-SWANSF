{
 "cells": [
  {
   "cell_type": "markdown",
   "id": "db1850e0",
   "metadata": {},
   "source": [
    "# Undersampling and Oversampling"
   ]
  },
  {
   "cell_type": "code",
   "execution_count": 27,
   "id": "3b649d42",
   "metadata": {},
   "outputs": [],
   "source": [
    "import pickle\n",
    "import pandas as pd\n",
    "import numpy as np\n",
    "\n",
    "data_dir = \"/Users/samskanderi/Documents/Research_Project/SWANSF/code/5_2_FinalTrain&Test_ML_NewFeatures_KnnImputation_LogSquareBoxCoxZscoreMinMaxNormalization/\"\n",
    "\n",
    "X_train_array = []\n",
    "Y_train_array = []\n",
    "\n",
    "num_partitions = 5\n",
    "for i in range(0, num_partitions):\n",
    "    X_train_array.append(pd.read_csv(data_dir + 'Partition' + str(i+1) + '_NewFeatures_KnnImputation_LogSquareBoxCoxZscoreMinMaxNormalization.csv').astype('float32'))\n",
    "    Y_train_array.append(pd.read_csv(data_dir + 'Partition' + str(i+1) + '_Labels_NewFeatures_KnnImputation_LogSquareBoxCoxZscoreMinMaxNormalization.csv').astype('float32'))\n",
    "   "
   ]
  },
  {
   "cell_type": "markdown",
   "id": "874a2809",
   "metadata": {},
   "source": [
    "## SMOTE and ADASYN (with RUS and TomekLinks)"
   ]
  },
  {
   "cell_type": "code",
   "execution_count": 32,
   "id": "5591d025",
   "metadata": {},
   "outputs": [],
   "source": [
    "# SMOTE, TomekLinks, and RUS\n",
    "# ADASYN, TomekLinks, and RUS\n",
    "\n",
    "def rus_tomek_smote_adasyn(start_position, end_position, data_dir, X_train, Y_train):\n",
    "\n",
    "    for i in range(start_position-1, end_position):\n",
    "\n",
    "        num_fl_to_oversample = 7000\n",
    "        num_nf_to_keep = 7000\n",
    "                \n",
    "        Y_train_0_indices = Y_train[i][Y_train[i]['Flare_Class'] == 0].index\n",
    "        Y_train_1_indices = Y_train[i][Y_train[i]['Flare_Class'] == 1].index\n",
    "        random_Y_train_0_indices = np.random.choice(Y_train_0_indices, num_nf_to_keep, replace=False)\n",
    "\n",
    "        X_train_0 = X_train[i].loc[random_Y_train_0_indices]\n",
    "        X_train_1 = X_train[i].loc[Y_train_1_indices]\n",
    "        Y_train_0 = Y_train[i].loc[random_Y_train_0_indices]\n",
    "        Y_train_1 = Y_train[i].loc[Y_train_1_indices]\n",
    "\n",
    "        X_train_with_RUS = pd.concat([X_train_0, X_train_1], axis=0)\n",
    "        Y_train_with_RUS = pd.concat([Y_train_0, Y_train_1], axis=0)\n",
    "\n",
    "        tomek_links = TomekLinks(sampling_strategy='auto')\n",
    "        X_train_RUS_Tomek, Y_train_RUS_Tomek = tomek_links.fit_resample(X_train_with_RUS, Y_train_with_RUS)\n",
    "\n",
    "\n",
    "        smote = SMOTE(sampling_strategy='minority', random_state=42)\n",
    "        X_train_RUS_Tomek_Smote, Y_train_RUS_Tomek_Smote = smote.fit_resample(X_train_RUS_Tomek, Y_train_RUS_Tomek)\n",
    "\n",
    "        adasyn = ADASYN(sampling_strategy='minority', random_state=42)\n",
    "        X_train_RUS_Tomek_Adasyn, Y_train_RUS_Tomek_Adasyn = adasyn.fit_resample(X_train_RUS_Tomek, Y_train_RUS_Tomek)\n",
    "\n",
    "        print('Partition' + str(i+1) + ': ')\n",
    "        print(X_train_RUS_Tomek_Smote.shape)\n",
    "        print(Y_train_RUS_Tomek_Smote.shape)\n",
    "        print(X_train_RUS_Tomek_Adasyn.shape)\n",
    "        print(str(Y_train_RUS_Tomek_Adasyn.shape) + '\\n')\n",
    "\n",
    "\n",
    "        num_samples = len(X_train_RUS_Tomek_Smote)\n",
    "        shuffle_indices = np.random.permutation(num_samples)\n",
    "        X_train_RUS_Tomek_Smote_shuffled = X_train_RUS_Tomek_Smote.iloc[shuffle_indices].reset_index(drop=True)\n",
    "        Y_train_RUS_Tomek_Smote_shuffled = Y_train_RUS_Tomek_Smote.iloc[shuffle_indices].reset_index(drop=True)\n",
    "\n",
    "\n",
    "        X_train_RUS_Tomek_Smote_shuffled.to_csv(data_dir + 'RUS_Tomek_Smote' + \"_Partition\" + str(i+1) \n",
    "                       + \"_NewFeatures_KnnImputation_LogSquareBoxCoxZscoreMinMaxNormalization\" + \".csv\", index=False)\n",
    "\n",
    "        Y_train_RUS_Tomek_Smote_shuffled.to_csv(data_dir + 'RUS_Tomek_Smote' + \"_Partition\" + str(i+1) \n",
    "                       + \"_Labels_NewFeatures_KnnImputation_LogSquareBoxCoxZscoreMinMaxNormalization\" + \".csv\", index=False)\n",
    "\n",
    "\n",
    "        num_samples = len(X_train_RUS_Tomek_Adasyn)\n",
    "        shuffle_indices = np.random.permutation(num_samples)\n",
    "        X_train_RUS_Tomek_Adasyn_shuffled = X_train_RUS_Tomek_Adasyn.iloc[shuffle_indices].reset_index(drop=True)\n",
    "        Y_train_RUS_Tomek_Adasyn_shuffled = Y_train_RUS_Tomek_Adasyn.iloc[shuffle_indices].reset_index(drop=True)\n",
    "\n",
    "\n",
    "        X_train_RUS_Tomek_Adasyn_shuffled.to_csv(data_dir + 'RUS_Tomek_Adasyn' + \"_Partition\" + str(i+1) \n",
    "                       + \"_NewFeatures_KnnImputation_LogSquareBoxCoxZscoreMinMaxNormalization\" + \".csv\", index=False)\n",
    "\n",
    "        Y_train_RUS_Tomek_Adasyn_shuffled.to_csv(data_dir + 'RUS_Tomek_Adasyn' + \"_Partition\" + str(i+1) \n",
    "                       + \"_Labels_NewFeatures_KnnImputation_LogSquareBoxCoxZscoreMinMaxNormalization\" + \".csv\", index=False)"
   ]
  },
  {
   "cell_type": "code",
   "execution_count": 33,
   "id": "7349ab6f",
   "metadata": {},
   "outputs": [
    {
     "name": "stdout",
     "output_type": "stream",
     "text": [
      "Partition1: \n",
      "(13956, 216)\n",
      "(13956, 1)\n",
      "(13803, 216)\n",
      "(13803, 1)\n",
      "\n",
      "Partition2: \n",
      "(13962, 216)\n",
      "(13962, 1)\n",
      "(14153, 216)\n",
      "(14153, 1)\n",
      "\n",
      "Partition3: \n",
      "(13944, 216)\n",
      "(13944, 1)\n",
      "(14019, 216)\n",
      "(14019, 1)\n",
      "\n",
      "Partition4: \n",
      "(13962, 216)\n",
      "(13962, 1)\n",
      "(13928, 216)\n",
      "(13928, 1)\n",
      "\n",
      "Partition5: \n",
      "(13984, 216)\n",
      "(13984, 1)\n",
      "(13850, 216)\n",
      "(13850, 1)\n",
      "\n"
     ]
    }
   ],
   "source": [
    "from imblearn.over_sampling import SMOTE, ADASYN\n",
    "from imblearn.under_sampling import TomekLinks\n",
    "import numpy as np\n",
    "\n",
    "data_dir = \"/Users/samskanderi/Documents/Research_Project/SWANSF/code/6_1_OverUnderSamplingData_NewFeatures_KnnImputation_LogSquareBoxCoxZscoreMinMaxNormalization/\"\n",
    "\n",
    "rus_tomek_smote_adasyn(1, 5, data_dir, X_train_array, Y_train_array)"
   ]
  }
 ],
 "metadata": {
  "kernelspec": {
   "display_name": "Python 3 (ipykernel)",
   "language": "python",
   "name": "python3"
  },
  "language_info": {
   "codemirror_mode": {
    "name": "ipython",
    "version": 3
   },
   "file_extension": ".py",
   "mimetype": "text/x-python",
   "name": "python",
   "nbconvert_exporter": "python",
   "pygments_lexer": "ipython3",
   "version": "3.11.3"
  }
 },
 "nbformat": 4,
 "nbformat_minor": 5
}
