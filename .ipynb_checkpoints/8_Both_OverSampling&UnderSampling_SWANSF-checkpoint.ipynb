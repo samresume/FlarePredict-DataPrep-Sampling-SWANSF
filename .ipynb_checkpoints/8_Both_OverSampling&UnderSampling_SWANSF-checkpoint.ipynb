{
 "cells": [
  {
   "cell_type": "markdown",
   "id": "db1850e0",
   "metadata": {},
   "source": [
    "# Undersampling and Oversampling"
   ]
  },
  {
   "cell_type": "code",
   "execution_count": 21,
   "id": "576ec0d4",
   "metadata": {},
   "outputs": [],
   "source": [
    "from imblearn.over_sampling import SMOTE, ADASYN\n",
    "from imblearn.under_sampling import TomekLinks\n",
    "import numpy as np"
   ]
  },
  {
   "cell_type": "markdown",
   "id": "874a2809",
   "metadata": {},
   "source": [
    "## SMOTE and ADASYN (with RUS and TomekLinks)"
   ]
  },
  {
   "cell_type": "code",
   "execution_count": 22,
   "id": "5591d025",
   "metadata": {},
   "outputs": [],
   "source": [
    "# SMOTE, TomekLinks, and RUS\n",
    "# ADASYN, TomekLinks, and RUS\n",
    "\n",
    "def rus_tomek_smote_adasyn(start_position, end_position, data_dir, name, X_train, Y_train):\n",
    "\n",
    "    for i in range(start_position-1, end_position):\n",
    "\n",
    "        num_fl_to_oversample = 7000\n",
    "        num_nf_to_keep = 7000\n",
    "        \n",
    "        class_0_indices = np.where(Y_train[i] == 0)[0]\n",
    "        class_1_indices = np.where(Y_train[i] == 1)[0]\n",
    "        selected_class_0_indices = np.random.choice(class_0_indices, size=num_nf_to_keep, replace=False)\n",
    "        new_indices = np.concatenate((selected_class_0_indices, class_1_indices))\n",
    "        X_train_with_RUS = X_train[i][new_indices]\n",
    "        Y_train_with_RUS = Y_train[i][new_indices]\n",
    "\n",
    "        tomek_links = TomekLinks(sampling_strategy='auto')\n",
    "        X_train_RUS_Tomek, Y_train_RUS_Tomek = tomek_links.fit_resample(X_train_with_RUS, Y_train_with_RUS)\n",
    "\n",
    "\n",
    "        smote = SMOTE(sampling_strategy='minority', random_state=42)\n",
    "        X_train_RUS_Tomek_Smote, Y_train_RUS_Tomek_Smote = smote.fit_resample(X_train_RUS_Tomek, Y_train_RUS_Tomek)\n",
    "\n",
    "        adasyn = ADASYN(sampling_strategy='minority', random_state=42)\n",
    "        X_train_RUS_Tomek_Adasyn, Y_train_RUS_Tomek_Adasyn = adasyn.fit_resample(X_train_RUS_Tomek, Y_train_RUS_Tomek)\n",
    "\n",
    "        print('Partition' + str(i+1) + ': ')\n",
    "        print(X_train_RUS_Tomek_Smote.shape)\n",
    "        print(Y_train_RUS_Tomek_Smote.shape)\n",
    "        print(X_train_RUS_Tomek_Adasyn.shape)\n",
    "        print(str(Y_train_RUS_Tomek_Adasyn.shape) + '\\n')\n",
    "\n",
    "        \n",
    "        num_samples = X_train_RUS_Tomek_Smote.shape[0]\n",
    "        shuffle_indices = np.random.permutation(num_samples)\n",
    "\n",
    "        X_train_RUS_Tomek_Smote_shuffled = X_train_RUS_Tomek_Smote[shuffle_indices]\n",
    "        Y_train_RUS_Tomek_Smote_shuffled = Y_train_RUS_Tomek_Smote[shuffle_indices]\n",
    "    \n",
    "        with open(data_dir + \"RUS_Tomek_Smote\" + \"_Partition\" + str(i+1) \n",
    "                       + \"_\" + name + \".pkl\", 'wb') as f:\n",
    "            pickle.dump(X_train_RUS_Tomek_Smote_shuffled, f)\n",
    "\n",
    "        with open(data_dir + \"RUS_Tomek_Smote\" + \"_Partition\" + str(i+1) \n",
    "                       + \"_Labels_\" + name + \".pkl\", 'wb') as f:\n",
    "            pickle.dump(Y_train_RUS_Tomek_Smote_shuffled, f)\n",
    "            \n",
    "        \n",
    "        num_samples = X_train_RUS_Tomek_Adasyn.shape[0]\n",
    "        shuffle_indices = np.random.permutation(num_samples)\n",
    "\n",
    "        X_train_RUS_Tomek_Adasyn_shuffled = X_train_RUS_Tomek_Adasyn[shuffle_indices]\n",
    "        Y_train_RUS_Tomek_Adasyn_shuffled = Y_train_RUS_Tomek_Adasyn[shuffle_indices]\n",
    "    \n",
    "        with open(data_dir + \"RUS_Tomek_Adasyn\" + \"_Partition\" + str(i+1) \n",
    "                       + \"_\" + name + \".pkl\", 'wb') as f:\n",
    "            pickle.dump(X_train_RUS_Tomek_Adasyn_shuffled, f)\n",
    "\n",
    "        with open(data_dir + \"RUS_Tomek_Adasyn\" + \"_Partition\" + str(i+1) \n",
    "                       + \"_Labels_\" + name + \".pkl\", 'wb') as f:\n",
    "            pickle.dump(Y_train_RUS_Tomek_Adasyn_shuffled, f)\n",
    "\n"
   ]
  },
  {
   "cell_type": "code",
   "execution_count": 23,
   "id": "01c2c2cc",
   "metadata": {},
   "outputs": [],
   "source": [
    "import pickle\n",
    "import pandas as pd\n",
    "\n",
    "data_dir = \"/Users/samskanderi/Documents/Research_Project/SWANSF/code/4_4_FinalData_WithoutB&C_Concatenation_KnnImputation/\"\n",
    "\n",
    "X_train_array = []\n",
    "Y_train_array = []\n",
    "\n",
    "num_partitions = 5\n",
    "for i in range(0, num_partitions):\n",
    "    with open(data_dir + \"Partition\" + str(i+1) + \"_WithoutB&C_Concatenation_KnnImputation\" +\".pkl\", 'rb') as f:\n",
    "        X_train_array.append(pickle.load(f))\n",
    "    with open(data_dir + \"Partition\" + str(i+1) + \"_Labels_WithoutB&C_Concatenation_KnnImputation\" +\".pkl\", 'rb') as f:\n",
    "        Y_train_array.append(pickle.load(f))"
   ]
  },
  {
   "cell_type": "code",
   "execution_count": 24,
   "id": "a6b6f266",
   "metadata": {},
   "outputs": [
    {
     "name": "stdout",
     "output_type": "stream",
     "text": [
      "Partition1: \n",
      "(13996, 1440)\n",
      "(13996,)\n",
      "(13939, 1440)\n",
      "(13939,)\n",
      "\n",
      "Partition2: \n",
      "(13998, 1440)\n",
      "(13998,)\n",
      "(13965, 1440)\n",
      "(13965,)\n",
      "\n",
      "Partition3: \n",
      "(13996, 1440)\n",
      "(13996,)\n",
      "(13867, 1440)\n",
      "(13867,)\n",
      "\n",
      "Partition4: \n",
      "(14000, 1440)\n",
      "(14000,)\n",
      "(13982, 1440)\n",
      "(13982,)\n",
      "\n",
      "Partition5: \n",
      "(13998, 1440)\n",
      "(13998,)\n",
      "(13995, 1440)\n",
      "(13995,)\n",
      "\n"
     ]
    }
   ],
   "source": [
    "data_dir = \"/Users/samskanderi/Documents/Research_Project/SWANSF/code/\\\n",
    "6_1_OUSampling_Concatenation_KnnImputation/\"\n",
    "\n",
    "name = \"OUSampling_Concatenation_KnnImputation\"\n",
    "\n",
    "rus_tomek_smote_adasyn(1, 5, data_dir, name, X_train_array, Y_train_array)"
   ]
  },
  {
   "cell_type": "code",
   "execution_count": null,
   "id": "d2bee353",
   "metadata": {},
   "outputs": [],
   "source": []
  },
  {
   "cell_type": "code",
   "execution_count": null,
   "id": "fa20d946",
   "metadata": {},
   "outputs": [],
   "source": []
  }
 ],
 "metadata": {
  "kernelspec": {
   "display_name": "Python 3 (ipykernel)",
   "language": "python",
   "name": "python3"
  },
  "language_info": {
   "codemirror_mode": {
    "name": "ipython",
    "version": 3
   },
   "file_extension": ".py",
   "mimetype": "text/x-python",
   "name": "python",
   "nbconvert_exporter": "python",
   "pygments_lexer": "ipython3",
   "version": "3.11.3"
  }
 },
 "nbformat": 4,
 "nbformat_minor": 5
}
