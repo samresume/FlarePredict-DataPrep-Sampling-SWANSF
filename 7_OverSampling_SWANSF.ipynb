{
 "cells": [
  {
   "cell_type": "markdown",
   "id": "f001b6c7",
   "metadata": {},
   "source": [
    "# Oversampling"
   ]
  },
  {
   "cell_type": "code",
   "execution_count": 7,
   "id": "dee5a5a2",
   "metadata": {},
   "outputs": [],
   "source": [
    "import pickle\n",
    "import pandas as pd\n",
    "\n",
    "data_dir = \"/Users/samskanderi/Documents/Research_Project/SWANSF/code/5_2_FinalTrain&Test_ML_NewFeatures_KnnImputation_LogSquareBoxCoxZscoreMinMaxNormalization/\"\n",
    "\n",
    "X_train_array = []\n",
    "Y_train_array = []\n",
    "\n",
    "num_partitions = 5\n",
    "for i in range(0, num_partitions):\n",
    "    X_train_array.append(pd.read_csv(data_dir + 'Partition' + str(i+1) + '_NewFeatures_KnnImputation_LogSquareBoxCoxZscoreMinMaxNormalization.csv').astype('float32'))\n",
    "    Y_train_array.append(pd.read_csv(data_dir + 'Partition' + str(i+1) + '_Labels_NewFeatures_KnnImputation_LogSquareBoxCoxZscoreMinMaxNormalization.csv').astype('float32'))\n",
    "   "
   ]
  },
  {
   "cell_type": "markdown",
   "id": "3b30f0c2",
   "metadata": {},
   "source": [
    "## Smote and Adasyn"
   ]
  },
  {
   "cell_type": "code",
   "execution_count": 8,
   "id": "b69c606a",
   "metadata": {},
   "outputs": [],
   "source": [
    "# SMOTE, TomekLinks, and RUS\n",
    "# ADASYN, TomekLinks, and RUS\n",
    "\n",
    "def smote_adasyn(start_position, end_position, data_dir, X_train, Y_train):\n",
    "\n",
    "    for i in range(start_position-1, end_position):\n",
    "                \n",
    "        smote = SMOTE(sampling_strategy='minority', random_state=42)\n",
    "        X_train_Smote, Y_train_Smote = smote.fit_resample(X_train[i], Y_train[i])\n",
    "\n",
    "        adasyn = ADASYN(sampling_strategy='minority', random_state=42)\n",
    "        X_train_Adasyn, Y_train_Adasyn = adasyn.fit_resample(X_train[i], Y_train[i])\n",
    "\n",
    "        print('Partition' + str(i+1) + ': ')\n",
    "        print(X_train_Smote.shape)\n",
    "        print(Y_train_Smote.shape)\n",
    "        print(X_train_Adasyn.shape)\n",
    "        print(str(Y_train_Adasyn.shape) + '\\n')\n",
    "\n",
    "\n",
    "        num_samples = len(X_train_Smote)\n",
    "        shuffle_indices = np.random.permutation(num_samples)\n",
    "        X_train_Smote_shuffled = X_train_Smote.iloc[shuffle_indices].reset_index(drop=True)\n",
    "        Y_train_Smote_shuffled = Y_train_Smote.iloc[shuffle_indices].reset_index(drop=True)\n",
    "\n",
    "\n",
    "        X_train_Smote_shuffled.to_csv(data_dir + 'Smote' + \"_Partition\" + str(i+1) \n",
    "                       + \"_NewFeatures_KnnImputation_LogSquareBoxCoxZscoreMinMaxNormalization\" + \".csv\", index=False)\n",
    "\n",
    "        Y_train_Smote_shuffled.to_csv(data_dir + 'Smote' + \"_Partition\" + str(i+1) \n",
    "                       + \"_Labels_NewFeatures_KnnImputation_LogSquareBoxCoxZscoreMinMaxNormalization\" + \".csv\", index=False)\n",
    "\n",
    "\n",
    "        num_samples = len(X_train_Adasyn)\n",
    "        shuffle_indices = np.random.permutation(num_samples)\n",
    "        X_train_Adasyn_shuffled = X_train_Adasyn.iloc[shuffle_indices].reset_index(drop=True)\n",
    "        Y_train_Adasyn_shuffled = Y_train_Adasyn.iloc[shuffle_indices].reset_index(drop=True)\n",
    "\n",
    "\n",
    "        X_train_Adasyn_shuffled.to_csv(data_dir + 'Adasyn' + \"_Partition\" + str(i+1) \n",
    "                       + \"_NewFeatures_KnnImputation_LogSquareBoxCoxZscoreMinMaxNormalization\" + \".csv\", index=False)\n",
    "\n",
    "        Y_train_Adasyn_shuffled.to_csv(data_dir + 'Adasyn' + \"_Partition\" + str(i+1) \n",
    "                       + \"_Labels_NewFeatures_KnnImputation_LogSquareBoxCoxZscoreMinMaxNormalization\" + \".csv\", index=False)"
   ]
  },
  {
   "cell_type": "code",
   "execution_count": 9,
   "id": "dcfe9221",
   "metadata": {},
   "outputs": [
    {
     "name": "stdout",
     "output_type": "stream",
     "text": [
      "Partition1: \n",
      "(144476, 216)\n",
      "(144476, 1)\n",
      "(144358, 216)\n",
      "(144358, 1)\n",
      "\n",
      "Partition2: \n",
      "(174312, 216)\n",
      "(174312, 1)\n",
      "(174425, 216)\n",
      "(174425, 1)\n",
      "\n",
      "Partition3: \n",
      "(82172, 216)\n",
      "(82172, 1)\n",
      "(82018, 216)\n",
      "(82018, 1)\n",
      "\n",
      "Partition4: \n",
      "(100192, 216)\n",
      "(100192, 1)\n",
      "(100065, 216)\n",
      "(100065, 1)\n",
      "\n",
      "Partition5: \n",
      "(148750, 216)\n",
      "(148750, 1)\n",
      "(148714, 216)\n",
      "(148714, 1)\n",
      "\n"
     ]
    }
   ],
   "source": [
    "from imblearn.over_sampling import SMOTE, ADASYN\n",
    "from imblearn.under_sampling import TomekLinks\n",
    "import numpy as np\n",
    "\n",
    "data_dir = \"/Users/samskanderi/Documents/Research_Project/SWANSF/code/6_2_OverSamplingData_NewFeatures_KnnImputation_LogSquareBoxCoxZscoreMinMaxNormalization/\"\n",
    "\n",
    "smote_adasyn(1, 5, data_dir, X_train_array, Y_train_array)"
   ]
  },
  {
   "cell_type": "code",
   "execution_count": null,
   "id": "500504c8",
   "metadata": {},
   "outputs": [],
   "source": []
  }
 ],
 "metadata": {
  "kernelspec": {
   "display_name": "Python 3 (ipykernel)",
   "language": "python",
   "name": "python3"
  },
  "language_info": {
   "codemirror_mode": {
    "name": "ipython",
    "version": 3
   },
   "file_extension": ".py",
   "mimetype": "text/x-python",
   "name": "python",
   "nbconvert_exporter": "python",
   "pygments_lexer": "ipython3",
   "version": "3.11.3"
  }
 },
 "nbformat": 4,
 "nbformat_minor": 5
}
