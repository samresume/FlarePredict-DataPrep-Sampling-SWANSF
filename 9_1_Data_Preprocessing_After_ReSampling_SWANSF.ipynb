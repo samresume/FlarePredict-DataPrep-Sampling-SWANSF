{
 "cells": [
  {
   "cell_type": "markdown",
   "id": "ead99605",
   "metadata": {},
   "source": [
    "# Creating NewFeatures and Normalization"
   ]
  },
  {
   "cell_type": "markdown",
   "id": "9d21d65a",
   "metadata": {},
   "source": [
    "# New Features "
   ]
  },
  {
   "cell_type": "code",
   "execution_count": 3,
   "id": "b079a7da",
   "metadata": {},
   "outputs": [],
   "source": [
    "# NewFeatures with Shuffle\n",
    "\n",
    "def new_Features_pkl(start_partition, end_partition, data_dir, first_name, last_name, data, labels):\n",
    "\n",
    "    number_of_new_features = 9\n",
    "    num_attributes = 24\n",
    "    num_timestamps = 60\n",
    "    \n",
    "    for i in range(start_partition-1,end_partition):\n",
    "        \n",
    "        each_partition = np.zeros((data[i].shape[0], num_timestamps*(num_attributes)))\n",
    "        each_partition = np.array(data[i])\n",
    "        new_partition = np.zeros((each_partition.shape[0], number_of_new_features*num_attributes))\n",
    "        \n",
    "        with tqdm(each_partition.shape[0]) as pbar:\n",
    "            for j in range(0,each_partition.shape[0]):\n",
    "                new_column = np.zeros((num_timestamps*num_attributes)) \n",
    "                new_column = each_partition[j,:]\n",
    "                \n",
    "\n",
    "                new_features = np.zeros(number_of_new_features*(num_attributes))\n",
    "\n",
    "                for m in range(0,num_attributes):\n",
    "                    \n",
    "                    mean = np.mean(new_column[m*num_timestamps:(m+1)*num_timestamps])\n",
    "                    new_features[((m)*number_of_new_features) + 0] = mean\n",
    "                    median = np.median(new_column[m*num_timestamps:(m+1)*num_timestamps])\n",
    "                    new_features[((m)*number_of_new_features) + 1] = median\n",
    "                    std = np.std(new_column[m*num_timestamps:(m+1)*num_timestamps])\n",
    "                    new_features[((m)*number_of_new_features) + 2] = std\n",
    "                    \n",
    "                    skewness = skew(new_column[m*num_timestamps:(m+1)*num_timestamps])\n",
    "                    if skewness == np.nan:\n",
    "                        skewness = new_partition[j-1, ((m)*number_of_new_features) + 3]\n",
    "                    new_features[((m)*number_of_new_features) + 3] = skewness\n",
    "                    \n",
    "                    kurtosis_value = kurtosis(new_column[m*num_timestamps:(m+1)*num_timestamps])\n",
    "                    if kurtosis_value == np.nan:\n",
    "                        kurtosis_value = new_partition[j-1, ((m)*number_of_new_features) + 4]\n",
    "                    new_features[((m)*number_of_new_features) + 4] = kurtosis_value\n",
    "                    \n",
    "                    indices = np.arange(num_timestamps)\n",
    "                    weight_array = indices / num_timestamps\n",
    "                    weighted_avg = np.average(new_column[m*num_timestamps:(m+1)*num_timestamps], weights=weight_array)\n",
    "                    if weighted_avg == np.nan:\n",
    "                        weighted_avg = new_partition[j-1, ((m)*number_of_new_features) + 5]\n",
    "                    new_features[((m)*number_of_new_features) + 5] = weighted_avg\n",
    "                    \n",
    "                    last_value = new_column[(m+1)*num_timestamps-1]\n",
    "                    new_features[((m)*number_of_new_features) + 6] = last_value\n",
    "                    first_value = new_column[m*num_timestamps]\n",
    "                    new_features[((m)*number_of_new_features) + 7] = first_value\n",
    "                    \n",
    "                    numerator = np.sum((new_column[m*num_timestamps:(m+1)*num_timestamps] - mean) * (indices - np.mean(indices)))\n",
    "                    denominator = np.sum((new_column[m*num_timestamps:(m+1)*num_timestamps] - mean) ** 2)\n",
    "                    slope = numerator / denominator\n",
    "                    if slope == np.nan:\n",
    "                        slope = new_partition[j-1, ((m)*number_of_new_features) + 8]\n",
    "                    new_features[((m)*number_of_new_features) + 8] = slope\n",
    "                \n",
    "                    \n",
    "                new_partition[j,:] = new_features\n",
    "                \n",
    "                pbar.update(1)\n",
    "                \n",
    "\n",
    "        print(\"P\"+str(i+1)+\" Nan-Value: \"+ str(np.isnan(new_partition).any()))  \n",
    "        X_train = new_partition\n",
    "        Y_train = labels[i]\n",
    "\n",
    "\n",
    "        num_samples = X_train.shape[0]\n",
    "        shuffle_indices = np.random.permutation(num_samples)\n",
    "\n",
    "        X_train_shuffled = X_train[shuffle_indices]\n",
    "        Y_train_shuffled = Y_train[shuffle_indices]\n",
    "    \n",
    "\n",
    "        with open(data_dir + first_name + \"Partition\" + str(i+1) \n",
    "                       + last_name + \".pkl\", 'wb') as f:\n",
    "            pickle.dump(X_train_shuffled, f)\n",
    "\n",
    "        with open(data_dir + first_name + \"Partition\" + str(i+1) \n",
    "                       + \"_Labels\" + last_name + \".pkl\", 'wb') as f:\n",
    "            pickle.dump(Y_train_shuffled, f)"
   ]
  },
  {
   "cell_type": "markdown",
   "id": "10a377ca",
   "metadata": {},
   "source": [
    "# Loading data"
   ]
  },
  {
   "cell_type": "markdown",
   "id": "cbf74fc3",
   "metadata": {},
   "source": [
    "## RUS_Tomek_Smote "
   ]
  },
  {
   "cell_type": "code",
   "execution_count": 14,
   "id": "77d40ef3",
   "metadata": {},
   "outputs": [],
   "source": [
    "import pickle\n",
    "import pandas as pd\n",
    "\n",
    "data_dir = \"/Users/samskanderi/Documents/Research_Project/SWANSF/code/6_1_OUSampling_Concatenation_KnnImputation/\"\n",
    "\n",
    "X_train_array = []\n",
    "Y_train_array = []\n",
    "\n",
    "num_partitions = 5\n",
    "for i in range(0, num_partitions):\n",
    "    with open(data_dir + \"RUS_Tomek_Smote_\" +\"Partition\" + str(i+1) + \"_OUSampling_Concatenation_KnnImputation\" +\".pkl\", 'rb') as f:\n",
    "        X_train_array.append(pickle.load(f))\n",
    "    with open(data_dir + \"RUS_Tomek_Smote_\" + \"Partition\" + str(i+1) + \"_Labels_OUSampling_Concatenation_KnnImputation\" +\".pkl\", 'rb') as f:\n",
    "        Y_train_array.append(pickle.load(f))"
   ]
  },
  {
   "cell_type": "code",
   "execution_count": 15,
   "id": "6e2b0948",
   "metadata": {},
   "outputs": [
    {
     "name": "stderr",
     "output_type": "stream",
     "text": [
      "13994it [01:29, 157.15it/s]\n"
     ]
    },
    {
     "name": "stdout",
     "output_type": "stream",
     "text": [
      "P1 Nan-Value: False\n"
     ]
    },
    {
     "name": "stderr",
     "output_type": "stream",
     "text": [
      "13996it [01:29, 155.76it/s]\n"
     ]
    },
    {
     "name": "stdout",
     "output_type": "stream",
     "text": [
      "P2 Nan-Value: False\n"
     ]
    },
    {
     "name": "stderr",
     "output_type": "stream",
     "text": [
      "13998it [01:29, 156.33it/s]\n"
     ]
    },
    {
     "name": "stdout",
     "output_type": "stream",
     "text": [
      "P3 Nan-Value: False\n"
     ]
    },
    {
     "name": "stderr",
     "output_type": "stream",
     "text": [
      "14000it [01:29, 156.75it/s]\n"
     ]
    },
    {
     "name": "stdout",
     "output_type": "stream",
     "text": [
      "P4 Nan-Value: False\n"
     ]
    },
    {
     "name": "stderr",
     "output_type": "stream",
     "text": [
      "14000it [01:29, 156.38it/s]\n"
     ]
    },
    {
     "name": "stdout",
     "output_type": "stream",
     "text": [
      "P5 Nan-Value: False\n"
     ]
    }
   ],
   "source": [
    "from tqdm import tqdm\n",
    "import pandas as pd\n",
    "import numpy as np\n",
    "from scipy.stats import skew, kurtosis\n",
    "from sklearn.preprocessing import MinMaxScaler\n",
    "scaler = MinMaxScaler()\n",
    "\n",
    "data_dir = \"/Users/samskanderi/Documents/Research_Project/SWANSF/code/7_1_OUSampling_NewFeatures_KnnImputation/\"\n",
    "name_first_part = 'RUS_Tomek_Smote_'\n",
    "name_last_part = '_OUSampling_NewFeatures_KnnImputation'\n",
    "\n",
    "\n",
    "new_Features_pkl(1, 5, data_dir, name_first_part, name_last_part, X_train_array, Y_train_array)"
   ]
  },
  {
   "cell_type": "markdown",
   "id": "ca0e5448",
   "metadata": {},
   "source": [
    "## RUS_Tomek_Adasyn"
   ]
  },
  {
   "cell_type": "code",
   "execution_count": 16,
   "id": "1cf3d835",
   "metadata": {},
   "outputs": [],
   "source": [
    "import pickle\n",
    "import pandas as pd\n",
    "\n",
    "data_dir = \"/Users/samskanderi/Documents/Research_Project/SWANSF/code/6_1_OUSampling_Concatenation_KnnImputation/\"\n",
    "\n",
    "X_train_array = []\n",
    "Y_train_array = []\n",
    "\n",
    "num_partitions = 5\n",
    "for i in range(0, num_partitions):\n",
    "    with open(data_dir + \"RUS_Tomek_Adasyn_\" +\"Partition\" + str(i+1) + \"_OUSampling_Concatenation_KnnImputation\" +\".pkl\", 'rb') as f:\n",
    "        X_train_array.append(pickle.load(f))\n",
    "    with open(data_dir + \"RUS_Tomek_Adasyn_\" + \"Partition\" + str(i+1) + \"_Labels_OUSampling_Concatenation_KnnImputation\" +\".pkl\", 'rb') as f:\n",
    "        Y_train_array.append(pickle.load(f))"
   ]
  },
  {
   "cell_type": "code",
   "execution_count": 17,
   "id": "2f8bf502",
   "metadata": {},
   "outputs": [
    {
     "name": "stderr",
     "output_type": "stream",
     "text": [
      "14024it [01:29, 157.03it/s]\n"
     ]
    },
    {
     "name": "stdout",
     "output_type": "stream",
     "text": [
      "P1 Nan-Value: False\n"
     ]
    },
    {
     "name": "stderr",
     "output_type": "stream",
     "text": [
      "13979it [01:29, 156.67it/s]\n"
     ]
    },
    {
     "name": "stdout",
     "output_type": "stream",
     "text": [
      "P2 Nan-Value: False\n"
     ]
    },
    {
     "name": "stderr",
     "output_type": "stream",
     "text": [
      "14029it [01:28, 158.10it/s]\n"
     ]
    },
    {
     "name": "stdout",
     "output_type": "stream",
     "text": [
      "P3 Nan-Value: False\n"
     ]
    },
    {
     "name": "stderr",
     "output_type": "stream",
     "text": [
      "13982it [01:29, 157.08it/s]\n"
     ]
    },
    {
     "name": "stdout",
     "output_type": "stream",
     "text": [
      "P4 Nan-Value: False\n"
     ]
    },
    {
     "name": "stderr",
     "output_type": "stream",
     "text": [
      "13989it [01:28, 158.49it/s]"
     ]
    },
    {
     "name": "stdout",
     "output_type": "stream",
     "text": [
      "P5 Nan-Value: False\n"
     ]
    },
    {
     "name": "stderr",
     "output_type": "stream",
     "text": [
      "\n"
     ]
    }
   ],
   "source": [
    "from tqdm import tqdm\n",
    "import pandas as pd\n",
    "import numpy as np\n",
    "from scipy.stats import skew, kurtosis\n",
    "from sklearn.preprocessing import MinMaxScaler\n",
    "scaler = MinMaxScaler()\n",
    "\n",
    "data_dir = \"/Users/samskanderi/Documents/Research_Project/SWANSF/code/7_1_OUSampling_NewFeatures_KnnImputation/\"\n",
    "name_first_part = 'RUS_Tomek_Adasyn_'\n",
    "name_last_part = '_OUSampling_NewFeatures_KnnImputation'\n",
    "\n",
    "\n",
    "new_Features_pkl(1, 5, data_dir, name_first_part, name_last_part, X_train_array, Y_train_array)"
   ]
  },
  {
   "cell_type": "markdown",
   "id": "8dc95abe",
   "metadata": {},
   "source": [
    "## Smote"
   ]
  },
  {
   "cell_type": "code",
   "execution_count": 5,
   "id": "62f39fa5",
   "metadata": {},
   "outputs": [],
   "source": [
    "import pickle\n",
    "import pandas as pd\n",
    "\n",
    "data_dir = \"/Users/samskanderi/Documents/Research_Project/SWANSF/code/6_2_OSampling_Concatenation_KnnImputation/\"\n",
    "\n",
    "X_train_array = []\n",
    "Y_train_array = []\n",
    "\n",
    "num_partitions = 5\n",
    "for i in range(0, num_partitions):\n",
    "    with open(data_dir + \"Smote_\" +\"Partition\" + str(i+1) + \"_OSampling_Concatenation_KnnImputation\" +\".pkl\", 'rb') as f:\n",
    "        X_train_array.append(pickle.load(f))\n",
    "    with open(data_dir + \"Smote_\" + \"Partition\" + str(i+1) + \"_Labels_OSampling_Concatenation_KnnImputation\" +\".pkl\", 'rb') as f:\n",
    "        Y_train_array.append(pickle.load(f))"
   ]
  },
  {
   "cell_type": "code",
   "execution_count": 6,
   "id": "0f29e5eb",
   "metadata": {},
   "outputs": [
    {
     "name": "stderr",
     "output_type": "stream",
     "text": [
      "120260it [12:24, 161.57it/s]\n"
     ]
    },
    {
     "name": "stdout",
     "output_type": "stream",
     "text": [
      "P1 Nan-Value: False\n"
     ]
    },
    {
     "name": "stderr",
     "output_type": "stream",
     "text": [
      "146736it [15:23, 158.84it/s]\n"
     ]
    },
    {
     "name": "stdout",
     "output_type": "stream",
     "text": [
      "P2 Nan-Value: False\n"
     ]
    },
    {
     "name": "stderr",
     "output_type": "stream",
     "text": [
      "69524it [07:15, 159.72it/s]\n"
     ]
    },
    {
     "name": "stdout",
     "output_type": "stream",
     "text": [
      "P3 Nan-Value: False\n"
     ]
    },
    {
     "name": "stderr",
     "output_type": "stream",
     "text": [
      "86588it [08:53, 162.33it/s]\n"
     ]
    },
    {
     "name": "stdout",
     "output_type": "stream",
     "text": [
      "P4 Nan-Value: False\n"
     ]
    },
    {
     "name": "stderr",
     "output_type": "stream",
     "text": [
      "125376it [12:51, 162.55it/s]\n"
     ]
    },
    {
     "name": "stdout",
     "output_type": "stream",
     "text": [
      "P5 Nan-Value: False\n"
     ]
    }
   ],
   "source": [
    "from tqdm import tqdm\n",
    "import pandas as pd\n",
    "import numpy as np\n",
    "from scipy.stats import skew, kurtosis\n",
    "from sklearn.preprocessing import MinMaxScaler\n",
    "scaler = MinMaxScaler()\n",
    "\n",
    "data_dir = \"/Users/samskanderi/Documents/Research_Project/SWANSF/code/7_2_OSampling_NewFeatures_KnnImputation/\"\n",
    "name_first_part = 'Smote_'\n",
    "name_last_part = '_OSampling_NewFeatures_KnnImputation'\n",
    "\n",
    "\n",
    "new_Features_pkl(1, 5, data_dir, name_first_part, name_last_part, X_train_array, Y_train_array)"
   ]
  },
  {
   "cell_type": "markdown",
   "id": "5fb9b893",
   "metadata": {},
   "source": [
    "## Adasyn "
   ]
  },
  {
   "cell_type": "code",
   "execution_count": 7,
   "id": "2955dd9b",
   "metadata": {},
   "outputs": [],
   "source": [
    "import pickle\n",
    "import pandas as pd\n",
    "\n",
    "data_dir = \"/Users/samskanderi/Documents/Research_Project/SWANSF/code/6_2_OSampling_Concatenation_KnnImputation/\"\n",
    "\n",
    "X_train_array = []\n",
    "Y_train_array = []\n",
    "\n",
    "num_partitions = 5\n",
    "for i in range(0, num_partitions):\n",
    "    with open(data_dir + \"Adasyn_\" +\"Partition\" + str(i+1) + \"_OSampling_Concatenation_KnnImputation\" +\".pkl\", 'rb') as f:\n",
    "        X_train_array.append(pickle.load(f))\n",
    "    with open(data_dir + \"Adasyn_\" + \"Partition\" + str(i+1) + \"_Labels_OSampling_Concatenation_KnnImputation\" +\".pkl\", 'rb') as f:\n",
    "        Y_train_array.append(pickle.load(f))"
   ]
  },
  {
   "cell_type": "code",
   "execution_count": 8,
   "id": "343870ae",
   "metadata": {},
   "outputs": [
    {
     "name": "stderr",
     "output_type": "stream",
     "text": [
      "120300it [12:32, 159.94it/s]\n"
     ]
    },
    {
     "name": "stdout",
     "output_type": "stream",
     "text": [
      "P1 Nan-Value: False\n"
     ]
    },
    {
     "name": "stderr",
     "output_type": "stream",
     "text": [
      "146767it [15:04, 162.27it/s]\n"
     ]
    },
    {
     "name": "stdout",
     "output_type": "stream",
     "text": [
      "P2 Nan-Value: False\n"
     ]
    },
    {
     "name": "stderr",
     "output_type": "stream",
     "text": [
      "69586it [07:08, 162.21it/s]\n"
     ]
    },
    {
     "name": "stdout",
     "output_type": "stream",
     "text": [
      "P3 Nan-Value: False\n"
     ]
    },
    {
     "name": "stderr",
     "output_type": "stream",
     "text": [
      "86615it [08:57, 161.10it/s]\n"
     ]
    },
    {
     "name": "stdout",
     "output_type": "stream",
     "text": [
      "P4 Nan-Value: False\n"
     ]
    },
    {
     "name": "stderr",
     "output_type": "stream",
     "text": [
      "125382it [12:52, 162.35it/s]\n"
     ]
    },
    {
     "name": "stdout",
     "output_type": "stream",
     "text": [
      "P5 Nan-Value: False\n"
     ]
    }
   ],
   "source": [
    "from tqdm import tqdm\n",
    "import pandas as pd\n",
    "import numpy as np\n",
    "from scipy.stats import skew, kurtosis\n",
    "from sklearn.preprocessing import MinMaxScaler\n",
    "scaler = MinMaxScaler()\n",
    "\n",
    "data_dir = \"/Users/samskanderi/Documents/Research_Project/SWANSF/code/7_2_OSampling_NewFeatures_KnnImputation/\"\n",
    "name_first_part = 'Adasyn_'\n",
    "name_last_part = '_OSampling_NewFeatures_KnnImputation'\n",
    "\n",
    "\n",
    "new_Features_pkl(1, 5, data_dir, name_first_part, name_last_part, X_train_array, Y_train_array)"
   ]
  },
  {
   "cell_type": "code",
   "execution_count": null,
   "id": "c1a51602",
   "metadata": {},
   "outputs": [],
   "source": []
  }
 ],
 "metadata": {
  "kernelspec": {
   "display_name": "Python 3 (ipykernel)",
   "language": "python",
   "name": "python3"
  },
  "language_info": {
   "codemirror_mode": {
    "name": "ipython",
    "version": 3
   },
   "file_extension": ".py",
   "mimetype": "text/x-python",
   "name": "python",
   "nbconvert_exporter": "python",
   "pygments_lexer": "ipython3",
   "version": "3.11.3"
  }
 },
 "nbformat": 4,
 "nbformat_minor": 5
}
