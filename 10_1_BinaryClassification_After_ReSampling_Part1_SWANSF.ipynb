{
 "cells": [
  {
   "cell_type": "markdown",
   "id": "b42f5d50",
   "metadata": {},
   "source": [
    "# SVM - MLPClassifier - Rocket - TSF - LSTM on NewFeatures (After Resampling)"
   ]
  },
  {
   "cell_type": "markdown",
   "id": "c5d323d1",
   "metadata": {},
   "source": [
    "# Train Test Split"
   ]
  },
  {
   "cell_type": "markdown",
   "id": "8d29e199",
   "metadata": {},
   "source": [
    "## Stratified Cross validation (k = 5)"
   ]
  },
  {
   "cell_type": "markdown",
   "id": "7c37f292",
   "metadata": {},
   "source": [
    "P1 Train and P2 Test, P1 Train and P3 Test, P1 Train and P4 Test, P1 Train and P5 Test\n",
    "P2 Train and P3 Test, P2 Train and P4 Test, P2 Train and P5 Test\n",
    "P3 Train and P4 Test, P3 Train and P5 Test\n",
    "P4 Train and P5 Test"
   ]
  },
  {
   "cell_type": "markdown",
   "id": "529fa14d",
   "metadata": {},
   "source": [
    "# Evaluation Metrics"
   ]
  },
  {
   "cell_type": "code",
   "execution_count": 33,
   "id": "255d0498",
   "metadata": {},
   "outputs": [],
   "source": [
    "# float(\"{:.2f}\".format(13.949999999999999))\n",
    "\n",
    "def TSS(TP,TN,FP,FN):\n",
    "    TSS_value = (TP / (TP + FN)) - (FP / (FP + TN))\n",
    "    return TSS_value\n",
    "\n",
    "def HSS1(TP,TN,FP,FN):\n",
    "    HSS1_value = (2 * (TP * TN - FP * FN)) / ((TP + FN) * (FN + TN) + (TP + FP) * (FP + TN))\n",
    "    return HSS1_value\n",
    "    \n",
    "def HSS2(TP,TN,FP,FN):\n",
    "    HSS2_value = (2 * (TP * TN - FP * FN)) / ((TP + FP) * (FN + TN) + (TP + FN) * (FP + TN))\n",
    "    return HSS2_value\n",
    "\n",
    "def GSS(TP,TN,FP,FN):\n",
    "    GSS_value = (TP - (TP + FP) * (TP + FN) / (TP + FP + FN + TN))\n",
    "    return GSS_value\n",
    "\n",
    "def Recall(TP,TN,FP,FN):\n",
    "    Recall_value = (TP) / (TP + FN)\n",
    "    return Recall_value\n",
    "\n",
    "def FPR(TP,TN,FP,FN):\n",
    "    fpr_value = (FP) / (FP + TN)\n",
    "    return fpr_value\n",
    "\n",
    "def Accuracy(TP,TN,FP,FN):\n",
    "    accuracy_value = (TP + TN) / (TP + TN + FP + FN)\n",
    "    return accuracy_value\n",
    "\n",
    "def Precision(TP,TN,FP,FN):\n",
    "    precision_value = (FP) / (TP + FP)\n",
    "    return precision_value"
   ]
  },
  {
   "cell_type": "markdown",
   "id": "bd0d872d",
   "metadata": {},
   "source": [
    "# Loading the Final Datasets"
   ]
  },
  {
   "cell_type": "markdown",
   "id": "b9516c63",
   "metadata": {},
   "source": [
    "## New Features "
   ]
  },
  {
   "cell_type": "markdown",
   "id": "aca76aee",
   "metadata": {},
   "source": [
    "### ZM Norm"
   ]
  },
  {
   "cell_type": "markdown",
   "id": "d43af151",
   "metadata": {},
   "source": [
    "#### RUS-Tomek_Smote"
   ]
  },
  {
   "cell_type": "code",
   "execution_count": 2,
   "id": "06c2f0ab",
   "metadata": {},
   "outputs": [
    {
     "name": "stdout",
     "output_type": "stream",
     "text": [
      "P1 Nan-Value: False\n",
      "P2 Nan-Value: False\n",
      "P3 Nan-Value: False\n",
      "P4 Nan-Value: False\n",
      "P5 Nan-Value: False\n"
     ]
    }
   ],
   "source": [
    "import pickle\n",
    "import numpy as np\n",
    "\n",
    "data_dir = \"/Users/samskanderi/Documents/Research_Project/SWANSF/code/8_1_FinalData_OUSampling_NewFeatures_ZM_KnnImputation/\"\n",
    "X_train_NewF_ZM_RTS = []\n",
    "Y_train_NewF_ZM_RTS = []\n",
    "\n",
    "\n",
    "num_partitions = 5\n",
    "\n",
    "for i in range(0,num_partitions):\n",
    "    with open(data_dir + \"RUS_Tomek_Smote_\" +\"Partition\" + str(i+1) + \"_OUSampling_NewFeatures_ZM_KnnImputation\" +\".pkl\", 'rb') as f:\n",
    "        X_train_NewF_ZM_RTS.append(pickle.load(f))\n",
    "    with open(data_dir + \"RUS_Tomek_Smote_\" + \"Partition\" + str(i+1) + \"_Labels_OUSampling_NewFeatures_ZM_KnnImputation\" +\".pkl\", 'rb') as f:\n",
    "        Y_train_NewF_ZM_RTS.append(pickle.load(f))\n",
    "    print(\"P\"+str(i+1)+\" Nan-Value: \"+ str(np.isnan(X_train_NewF_ZM_RTS[i]).any() or np.isinf(X_train_NewF_ZM_RTS[i]).any()))"
   ]
  },
  {
   "cell_type": "markdown",
   "id": "c505b1bd",
   "metadata": {},
   "source": [
    "#### RUS-Tomek_Adasyn"
   ]
  },
  {
   "cell_type": "code",
   "execution_count": 3,
   "id": "ce5553a2",
   "metadata": {},
   "outputs": [
    {
     "name": "stdout",
     "output_type": "stream",
     "text": [
      "P1 Nan-Value: False\n",
      "P2 Nan-Value: False\n",
      "P3 Nan-Value: False\n",
      "P4 Nan-Value: False\n",
      "P5 Nan-Value: False\n"
     ]
    }
   ],
   "source": [
    "import pickle\n",
    "import numpy as np\n",
    "\n",
    "data_dir = \"/Users/samskanderi/Documents/Research_Project/SWANSF/code/8_1_FinalData_OUSampling_NewFeatures_ZM_KnnImputation/\"\n",
    "X_train_NewF_ZM_RTA = []\n",
    "Y_train_NewF_ZM_RTA = []\n",
    "\n",
    "\n",
    "num_partitions = 5\n",
    "\n",
    "for i in range(0,num_partitions):\n",
    "    with open(data_dir + \"RUS_Tomek_Adasyn_\" +\"Partition\" + str(i+1) + \"_OUSampling_NewFeatures_ZM_KnnImputation\" +\".pkl\", 'rb') as f:\n",
    "        X_train_NewF_ZM_RTA.append(pickle.load(f))\n",
    "    with open(data_dir + \"RUS_Tomek_Adasyn_\" + \"Partition\" + str(i+1) + \"_Labels_OUSampling_NewFeatures_ZM_KnnImputation\" +\".pkl\", 'rb') as f:\n",
    "        Y_train_NewF_ZM_RTA.append(pickle.load(f))\n",
    "    print(\"P\"+str(i+1)+\" Nan-Value: \"+ str(np.isnan(X_train_NewF_ZM_RTA[i]).any() or np.isinf(X_train_NewF_ZM_RTA[i]).any()))"
   ]
  },
  {
   "cell_type": "markdown",
   "id": "afe4fdc6",
   "metadata": {},
   "source": [
    "#### Smote"
   ]
  },
  {
   "cell_type": "code",
   "execution_count": 34,
   "id": "d5e9ba63",
   "metadata": {},
   "outputs": [
    {
     "name": "stdout",
     "output_type": "stream",
     "text": [
      "P1 Nan-Value: False\n",
      "P2 Nan-Value: False\n",
      "P3 Nan-Value: False\n",
      "P4 Nan-Value: False\n",
      "P5 Nan-Value: False\n"
     ]
    }
   ],
   "source": [
    "import pickle\n",
    "import numpy as np\n",
    "\n",
    "data_dir = \"/Users/samskanderi/Documents/Research_Project/SWANSF/code/8_2_FinalData_OSampling_NewFeatures_ZM_KnnImputation/\"\n",
    "X_train_NewF_ZM_S = []\n",
    "Y_train_NewF_ZM_S = []\n",
    "\n",
    "\n",
    "num_partitions = 5\n",
    "\n",
    "for i in range(0,num_partitions):\n",
    "    with open(data_dir + \"Smote_\" +\"Partition\" + str(i+1) + \"_OSampling_NewFeatures_ZM_KnnImputation\" +\".pkl\", 'rb') as f:\n",
    "        X_train_NewF_ZM_S.append(pickle.load(f))\n",
    "    with open(data_dir + \"Smote_\" + \"Partition\" + str(i+1) + \"_Labels_OSampling_NewFeatures_ZM_KnnImputation\" +\".pkl\", 'rb') as f:\n",
    "        Y_train_NewF_ZM_S.append(pickle.load(f))\n",
    "    print(\"P\"+str(i+1)+\" Nan-Value: \"+ str(np.isnan(X_train_NewF_ZM_S[i]).any() or np.isinf(X_train_NewF_ZM_S[i]).any()))"
   ]
  },
  {
   "cell_type": "markdown",
   "id": "5e35efd9",
   "metadata": {},
   "source": [
    "#### Adasyn"
   ]
  },
  {
   "cell_type": "code",
   "execution_count": 35,
   "id": "1dd52129",
   "metadata": {},
   "outputs": [
    {
     "name": "stdout",
     "output_type": "stream",
     "text": [
      "P1 Nan-Value: False\n",
      "P2 Nan-Value: False\n",
      "P3 Nan-Value: False\n",
      "P4 Nan-Value: False\n",
      "P5 Nan-Value: False\n"
     ]
    }
   ],
   "source": [
    "import pickle\n",
    "import numpy as np\n",
    "\n",
    "data_dir = \"/Users/samskanderi/Documents/Research_Project/SWANSF/code/8_2_FinalData_OSampling_NewFeatures_ZM_KnnImputation/\"\n",
    "X_train_NewF_ZM_A = []\n",
    "Y_train_NewF_ZM_A = []\n",
    "\n",
    "\n",
    "num_partitions = 5\n",
    "\n",
    "for i in range(0,num_partitions):\n",
    "    with open(data_dir + \"Adasyn_\" +\"Partition\" + str(i+1) + \"_OSampling_NewFeatures_ZM_KnnImputation\" +\".pkl\", 'rb') as f:\n",
    "        X_train_NewF_ZM_A.append(pickle.load(f))\n",
    "    with open(data_dir + \"Adasyn_\" + \"Partition\" + str(i+1) + \"_Labels_OSampling_NewFeatures_ZM_KnnImputation\" +\".pkl\", 'rb') as f:\n",
    "        Y_train_NewF_ZM_A.append(pickle.load(f))\n",
    "    print(\"P\"+str(i+1)+\" Nan-Value: \"+ str(np.isnan(X_train_NewF_ZM_A[i]).any() or np.isinf(X_train_NewF_ZM_A[i]).any()))"
   ]
  },
  {
   "cell_type": "markdown",
   "id": "4411f8cb",
   "metadata": {},
   "source": [
    "#### Test Data"
   ]
  },
  {
   "cell_type": "code",
   "execution_count": 36,
   "id": "bfdd3940",
   "metadata": {},
   "outputs": [
    {
     "name": "stdout",
     "output_type": "stream",
     "text": [
      "P1 Nan-Value: False\n",
      "P2 Nan-Value: False\n",
      "P3 Nan-Value: False\n",
      "P4 Nan-Value: False\n",
      "P5 Nan-Value: False\n"
     ]
    }
   ],
   "source": [
    "import pickle\n",
    "import numpy as np\n",
    "\n",
    "data_dir = \"/Users/samskanderi/Documents/Research_Project/SWANSF/code/5_1_FinalData_NewFeatures_ZM_KnnImputation/\"\n",
    "X_test_NewF_ZM = []\n",
    "Y_test_NewF_ZM = []\n",
    "\n",
    "\n",
    "num_partitions = 5\n",
    "\n",
    "for i in range(0,num_partitions):\n",
    "    with open(data_dir + \"Partition\" + str(i+1) + \"_NewFeatures_ZM_KnnImputation\" + \".pkl\", 'rb') as f:\n",
    "        X_test_NewF_ZM.append(pickle.load(f))\n",
    "    print(\"P\"+str(i+1)+\" Nan-Value: \"+ str(np.isnan(X_test_NewF_ZM[i]).any() or np.isinf(X_test_NewF_ZM[i]).any()))\n",
    "    \n",
    "    with open(data_dir + \"Partition\" + str(i+1) + \"_Labels_NewFeatures_ZM_KnnImputation\" + \".pkl\", 'rb') as f:\n",
    "        Y_test_NewF_ZM.append(pickle.load(f))"
   ]
  },
  {
   "cell_type": "markdown",
   "id": "534e436f",
   "metadata": {},
   "source": [
    "### LSBZM"
   ]
  },
  {
   "cell_type": "markdown",
   "id": "d520699a",
   "metadata": {},
   "source": [
    "# Useful Functions"
   ]
  },
  {
   "cell_type": "code",
   "execution_count": 37,
   "id": "ed6ceb4d",
   "metadata": {},
   "outputs": [],
   "source": [
    "def kfold_training(name, X_train, Y_train, X_test,Y_test, training_func, num):\n",
    "    kfold = np.array([[1,2],[1,3],[1,4],[1,5],[2,3],[2,4],[2,5],[3,4],[3,5],[4,5]])\n",
    "    metrics = []\n",
    "    metrics_values = np.array([])\n",
    "    \n",
    "    for i in range(0, num):\n",
    "        train_index = kfold[i,0]\n",
    "        test_index = kfold[i,1]\n",
    "        metrics_values = training_func(X_train[train_index-1], Y_train[train_index-1], X_test[test_index-1], Y_test[test_index-1])\n",
    "\n",
    "        metrics.append(np.append(np.append(train_index, test_index), metrics_values))\n",
    "    return metrics"
   ]
  },
  {
   "cell_type": "markdown",
   "id": "faf5130c",
   "metadata": {},
   "source": [
    "# Training"
   ]
  },
  {
   "cell_type": "markdown",
   "id": "10454d6f",
   "metadata": {},
   "source": [
    "## SVM"
   ]
  },
  {
   "cell_type": "code",
   "execution_count": 38,
   "id": "9a1291ae",
   "metadata": {},
   "outputs": [],
   "source": [
    "# Import necessary libraries\n",
    "import numpy as np\n",
    "from sklearn.svm import SVC\n",
    "from sklearn.metrics import confusion_matrix\n",
    "\n",
    "def svm_model(X_train, Y_train, X_test, Y_test):\n",
    "    \n",
    "    data_dir = \"/Users/samskanderi/Documents/Research_Project/SWANSF/code/models/\"\n",
    "\n",
    "\n",
    "    # Create an SVM classifier (you can choose different kernels like 'linear', 'rbf', etc.)\n",
    "    svm_classifier = SVC(kernel='linear', C=1.0)\n",
    "    svm_classifier.fit(X_train, Y_train)\n",
    "    y_pred = svm_classifier.predict(X_test)\n",
    "    \n",
    "    \n",
    "    print(str(X_train.shape)+': SVM Classifier is Done! \\n')\n",
    "    \n",
    "\n",
    "    confusion = confusion_matrix(Y_test, y_pred)\n",
    "    tn, fp, fn, tp = confusion.ravel()\n",
    "\n",
    "    tss = TSS(tp,tn,fp,fn)\n",
    "    hss1 = HSS1(tp,tn,fp,fn)\n",
    "    hss2 = HSS2(tp,tn,fp,fn)\n",
    "    gss = GSS(tp,tn,fp,fn)\n",
    "    recall = Recall(tp,tn,fp,fn)\n",
    "    precision = Precision(tp,tn,fp,fn)\n",
    "    \n",
    "    output_values = np.array([tp, fn, fp, tn, tss, hss1, hss2, gss, recall, precision])\n",
    "\n",
    "\n",
    "    #joblib.dump(classifier, data_dir + \"svm_model.pkl\")\n",
    "\n",
    "    #loaded_svm_model = joblib.load(data_dir + \"svm_model.pkl\")\n",
    "    \n",
    "    return output_values"
   ]
  },
  {
   "cell_type": "markdown",
   "id": "12a9a3ae",
   "metadata": {},
   "source": [
    "## MPLClassifier "
   ]
  },
  {
   "cell_type": "code",
   "execution_count": 39,
   "id": "a780f706",
   "metadata": {},
   "outputs": [],
   "source": [
    "import warnings\n",
    "warnings.filterwarnings(\"ignore\")\n",
    "\n",
    "import numpy as np\n",
    "import numpy as np\n",
    "import tensorflow as tf\n",
    "from tensorflow import keras\n",
    "from tensorflow.keras import layers\n",
    "from sklearn.metrics import confusion_matrix\n",
    "\n",
    "def mlp_model(X_train, Y_train, X_test, Y_test):\n",
    "    \n",
    "    data_dir = \"/Users/samskanderi/Documents/Research_Project/SWANSF/code/models/\"\n",
    "\n",
    "    # Define the MLP model\n",
    "    # Define the MLP model with four hidden layers\n",
    "    model = keras.Sequential([\n",
    "        layers.Input(shape=(216,)),  # Input layer with 216 features\n",
    "        layers.Dense(64, activation='relu'),  # Hidden layer with 64 units and ReLU activation\n",
    "        layers.Dense(32, activation='relu'),  # Hidden layer with 32 units and ReLU activation\n",
    "        layers.Dense(16, activation='relu'),  # Hidden layer with 16 units and ReLU activation\n",
    "        layers.Dense(8, activation='relu'),  # Hidden layer with 16 units and ReLU activation\n",
    "        layers.Dense(1, activation='sigmoid')  # Output layer with 1 unit and sigmoid activation (binary classification)\n",
    "    ])\n",
    "\n",
    "    # Compile the model\n",
    "    model.compile(optimizer='adam', loss='binary_crossentropy', metrics=keras.metrics.Recall(name='recall'))\n",
    "\n",
    "    # Train the model\n",
    "    model.fit(X_train, Y_train, epochs=15, batch_size=32, verbose=0)  # Adjust epochs and batch_size as needed\n",
    "\n",
    "    y_pred = model.predict(X_test)\n",
    "    threshold = 0.35  # Adjust the threshold as needed\n",
    "    y_pred_binary = (y_pred > threshold).astype(int)\n",
    "    \n",
    "    print(str(X_train.shape)+': MLP Classifier is Done! \\n')\n",
    "\n",
    "\n",
    "    confusion = confusion_matrix(Y_test, y_pred_binary)\n",
    "    tn, fp, fn, tp = confusion.ravel()\n",
    "\n",
    "    tss = TSS(tp,tn,fp,fn)\n",
    "    hss1 = HSS1(tp,tn,fp,fn)\n",
    "    hss2 = HSS2(tp,tn,fp,fn)\n",
    "    gss = GSS(tp,tn,fp,fn)\n",
    "    recall = Recall(tp,tn,fp,fn)\n",
    "    precision = Precision(tp,tn,fp,fn)\n",
    "    \n",
    "    output_values = np.array([tp, fn, fp, tn, tss, hss1, hss2, gss, recall, precision])\n",
    "\n",
    "\n",
    "    #joblib.dump(classifier, data_dir + \"mlp_model.pkl\")\n",
    "\n",
    "    #loaded_mlp_model = joblib.load(data_dir + \"mlp_model.pkl\")\n",
    "    \n",
    "    return output_values"
   ]
  },
  {
   "cell_type": "markdown",
   "id": "d8903b60",
   "metadata": {},
   "source": [
    "## Rocket (RidgeClassifierCV)  "
   ]
  },
  {
   "cell_type": "code",
   "execution_count": 40,
   "id": "0507e01b",
   "metadata": {},
   "outputs": [],
   "source": [
    "# ROCKET with RidgeClassifierCV\n",
    "\n",
    "import numpy as np\n",
    "from sklearn.linear_model import RidgeClassifierCV\n",
    "from sktime.transformations.panel.rocket import Rocket\n",
    "from sklearn.metrics import confusion_matrix\n",
    "import joblib\n",
    "from sktime.datatypes._panel._convert import from_2d_array_to_nested\n",
    "\n",
    "def rocket_model(X_train, Y_train, X_test, Y_test, rocket_kernels=1500):\n",
    "\n",
    "    data_dir = \"/Users/samskanderi/Documents/Research_Project/SWANSF/code/models/rocket/\"\n",
    "    \n",
    "    X_train = from_2d_array_to_nested(X_train)\n",
    "    X_test = from_2d_array_to_nested(X_test)\n",
    "\n",
    "    rocket = Rocket(num_kernels=rocket_kernels)\n",
    "    rocket.fit(X_train)\n",
    "    X_train_transform = rocket.transform(X_train)\n",
    "        \n",
    "    classifier = RidgeClassifierCV()\n",
    "    classifier.fit(X_train_transform, Y_train)\n",
    "    \n",
    "    X_test_transform = rocket.transform(X_test)\n",
    "    \n",
    "    y_pred = classifier.predict(X_test_transform)\n",
    "    \n",
    "    print(str(X_train.shape)+': Rocket Classifier is Done! \\n')\n",
    "\n",
    "    confusion = confusion_matrix(Y_test, y_pred)\n",
    "    tn, fp, fn, tp = confusion.ravel()\n",
    "\n",
    "    tss = TSS(tp,tn,fp,fn)\n",
    "    hss1 = HSS1(tp,tn,fp,fn)\n",
    "    hss2 = HSS2(tp,tn,fp,fn)\n",
    "    gss = GSS(tp,tn,fp,fn)\n",
    "    recall = Recall(tp,tn,fp,fn)\n",
    "    precision = Precision(tp,tn,fp,fn)\n",
    "    \n",
    "    output_values = np.array([tp, fn, fp, tn, tss, hss1, hss2, gss, recall, precision])\n",
    "\n",
    "\n",
    "    #joblib.dump(classifier, data_dir + \"rocket_model.pkl\")\n",
    "\n",
    "    #loaded_rocket_model = joblib.load(data_dir + \"rocket_model_sgd.pkl\")\n",
    "    \n",
    "    return output_values"
   ]
  },
  {
   "cell_type": "markdown",
   "id": "8be28f51",
   "metadata": {},
   "source": [
    "## TimeSeriesForest"
   ]
  },
  {
   "cell_type": "code",
   "execution_count": 41,
   "id": "d4249dc8",
   "metadata": {},
   "outputs": [],
   "source": [
    "# TimeSeriesForest\n",
    "\n",
    "from sktime.classification.interval_based import TimeSeriesForestClassifier\n",
    "import numpy as np\n",
    "from sklearn.metrics import confusion_matrix\n",
    "import joblib\n",
    "\n",
    "def tsf_model(X_train, Y_train, X_test, Y_test, tsf_estimator=25):\n",
    "\n",
    "    data_dir = \"/Users/samskanderi/Documents/Research_Project/SWANSF/code/models/TSF/\"\n",
    "    \n",
    "    \n",
    "    tsf_classifier = TimeSeriesForestClassifier(n_estimators=tsf_estimator)\n",
    "    tsf_classifier.fit(X_train, Y_train)\n",
    "    y_pred = tsf_classifier.predict(X_test)\n",
    "    \n",
    "    print(str(X_train.shape)+': TSF Classifier is Done! \\n')\n",
    "    \n",
    "\n",
    "    confusion = confusion_matrix(Y_test, y_pred)\n",
    "    tn, fp, fn, tp = confusion.ravel()\n",
    "\n",
    "    tss = TSS(tp,tn,fp,fn)\n",
    "    hss1 = HSS1(tp,tn,fp,fn)\n",
    "    hss2 = HSS2(tp,tn,fp,fn)\n",
    "    gss = GSS(tp,tn,fp,fn)\n",
    "    recall = Recall(tp,tn,fp,fn)\n",
    "    precision = Precision(tp,tn,fp,fn)\n",
    "    \n",
    "    output_values = np.array([tp, fn, fp, tn, tss, hss1, hss2, gss, recall, precision])\n",
    "\n",
    "\n",
    "    #joblib.dump(classifier, data_dir + \"tsf_model.pkl\")\n",
    "\n",
    "    #loaded_rocket_model = joblib.load(data_dir + \"tsf_model.pkl\")\n",
    "    \n",
    "    return output_values"
   ]
  },
  {
   "cell_type": "markdown",
   "id": "32e9fd1e",
   "metadata": {},
   "source": [
    "# Results"
   ]
  },
  {
   "cell_type": "code",
   "execution_count": 42,
   "id": "127986e8",
   "metadata": {},
   "outputs": [],
   "source": [
    "def save_results(reslut, name):\n",
    "    data_dir = \"/Users/samskanderi/Documents/Research_Project/SWANSF/code/results/\"\n",
    "\n",
    "    with open(data_dir + name + \".pkl\", 'wb') as f:\n",
    "        pickle.dump(reslut, f)"
   ]
  },
  {
   "cell_type": "markdown",
   "id": "3c7bc689",
   "metadata": {},
   "source": [
    "## SVM"
   ]
  },
  {
   "cell_type": "code",
   "execution_count": 11,
   "id": "5b280418",
   "metadata": {},
   "outputs": [
    {
     "name": "stdout",
     "output_type": "stream",
     "text": [
      "(13994, 216): SVM Classifier is Done! \n",
      "\n",
      "(13994, 216): SVM Classifier is Done! \n",
      "\n",
      "(13994, 216): SVM Classifier is Done! \n",
      "\n",
      "(13994, 216): SVM Classifier is Done! \n",
      "\n",
      "(13996, 216): SVM Classifier is Done! \n",
      "\n",
      "(13996, 216): SVM Classifier is Done! \n",
      "\n",
      "(13996, 216): SVM Classifier is Done! \n",
      "\n",
      "(13998, 216): SVM Classifier is Done! \n",
      "\n",
      "(13998, 216): SVM Classifier is Done! \n",
      "\n",
      "(14000, 216): SVM Classifier is Done! \n",
      "\n"
     ]
    }
   ],
   "source": [
    "# SVM NewFeatures\n",
    "svm_newf_RTS = kfold_training('SVM', X_train_NewF_ZM_RTS, Y_train_NewF_ZM_RTS, X_test_NewF_ZM, Y_test_NewF_ZM, svm_model, 10)"
   ]
  },
  {
   "cell_type": "code",
   "execution_count": 12,
   "id": "a14a0c88",
   "metadata": {},
   "outputs": [],
   "source": [
    "save_results(svm_newf_RTS, \"SVM_RusTomekSmote_WithoutB&C_NewFeatures_Results\")"
   ]
  },
  {
   "cell_type": "code",
   "execution_count": 13,
   "id": "d472edb7",
   "metadata": {},
   "outputs": [
    {
     "name": "stdout",
     "output_type": "stream",
     "text": [
      "(14024, 216): SVM Classifier is Done! \n",
      "\n",
      "(14024, 216): SVM Classifier is Done! \n",
      "\n",
      "(14024, 216): SVM Classifier is Done! \n",
      "\n",
      "(14024, 216): SVM Classifier is Done! \n",
      "\n",
      "(13979, 216): SVM Classifier is Done! \n",
      "\n",
      "(13979, 216): SVM Classifier is Done! \n",
      "\n",
      "(13979, 216): SVM Classifier is Done! \n",
      "\n",
      "(14029, 216): SVM Classifier is Done! \n",
      "\n",
      "(14029, 216): SVM Classifier is Done! \n",
      "\n",
      "(13982, 216): SVM Classifier is Done! \n",
      "\n"
     ]
    }
   ],
   "source": [
    "svm_newf_RTA = kfold_training('SVM', X_train_NewF_ZM_RTA, Y_train_NewF_ZM_RTA, X_test_NewF_ZM, Y_test_NewF_ZM, svm_model, 10)"
   ]
  },
  {
   "cell_type": "code",
   "execution_count": 14,
   "id": "6a9b372f",
   "metadata": {},
   "outputs": [],
   "source": [
    "save_results(svm_newf_RTA, \"SVM_RusTomekAdasyn_WithoutB&C_NewFeatures_Results\")"
   ]
  },
  {
   "cell_type": "code",
   "execution_count": 43,
   "id": "112f5152",
   "metadata": {},
   "outputs": [
    {
     "name": "stdout",
     "output_type": "stream",
     "text": [
      "(120260, 216): SVM Classifier is Done! \n",
      "\n",
      "(120260, 216): SVM Classifier is Done! \n",
      "\n",
      "(120260, 216): SVM Classifier is Done! \n",
      "\n",
      "(120260, 216): SVM Classifier is Done! \n",
      "\n",
      "(146736, 216): SVM Classifier is Done! \n",
      "\n",
      "(146736, 216): SVM Classifier is Done! \n",
      "\n",
      "(146736, 216): SVM Classifier is Done! \n",
      "\n",
      "(69524, 216): SVM Classifier is Done! \n",
      "\n",
      "(69524, 216): SVM Classifier is Done! \n",
      "\n",
      "(86588, 216): SVM Classifier is Done! \n",
      "\n"
     ]
    }
   ],
   "source": [
    "svm_newf_S = kfold_training('SVM', X_train_NewF_ZM_S, Y_train_NewF_ZM_S, X_test_NewF_ZM, Y_test_NewF_ZM, svm_model, 10)"
   ]
  },
  {
   "cell_type": "code",
   "execution_count": 44,
   "id": "60b70408",
   "metadata": {},
   "outputs": [],
   "source": [
    "save_results(svm_newf_S, \"SVM_Smote_WithoutB&C_NewFeatures_Results\")"
   ]
  },
  {
   "cell_type": "code",
   "execution_count": 45,
   "id": "c419d067",
   "metadata": {},
   "outputs": [
    {
     "name": "stdout",
     "output_type": "stream",
     "text": [
      "(120300, 216): SVM Classifier is Done! \n",
      "\n",
      "(120300, 216): SVM Classifier is Done! \n",
      "\n",
      "(120300, 216): SVM Classifier is Done! \n",
      "\n",
      "(120300, 216): SVM Classifier is Done! \n",
      "\n",
      "(146767, 216): SVM Classifier is Done! \n",
      "\n",
      "(146767, 216): SVM Classifier is Done! \n",
      "\n",
      "(146767, 216): SVM Classifier is Done! \n",
      "\n",
      "(69586, 216): SVM Classifier is Done! \n",
      "\n",
      "(69586, 216): SVM Classifier is Done! \n",
      "\n",
      "(86615, 216): SVM Classifier is Done! \n",
      "\n"
     ]
    }
   ],
   "source": [
    "svm_newf_A = kfold_training('SVM', X_train_NewF_ZM_A, Y_train_NewF_ZM_A, X_test_NewF_ZM, Y_test_NewF_ZM, svm_model, 10)"
   ]
  },
  {
   "cell_type": "code",
   "execution_count": 46,
   "id": "8a862309",
   "metadata": {},
   "outputs": [],
   "source": [
    "save_results(svm_newf_A, \"SVM_Adasyn_WithoutB&C_NewFeatures_Results\")"
   ]
  },
  {
   "cell_type": "markdown",
   "id": "b5ce17de",
   "metadata": {},
   "source": [
    "## MLPClassifier"
   ]
  },
  {
   "cell_type": "code",
   "execution_count": 15,
   "id": "4dd95319",
   "metadata": {},
   "outputs": [
    {
     "name": "stdout",
     "output_type": "stream",
     "text": [
      "2768/2768 [==============================] - 1s 227us/step\n",
      "(13994, 216): MLP Classifier is Done! \n",
      "\n",
      "1329/1329 [==============================] - 0s 222us/step\n",
      "(13994, 216): MLP Classifier is Done! \n",
      "\n",
      "1602/1602 [==============================] - 0s 218us/step\n",
      "(13994, 216): MLP Classifier is Done! \n",
      "\n",
      "2356/2356 [==============================] - 1s 219us/step\n",
      "(13994, 216): MLP Classifier is Done! \n",
      "\n",
      "1329/1329 [==============================] - 0s 222us/step\n",
      "(13996, 216): MLP Classifier is Done! \n",
      "\n",
      "1602/1602 [==============================] - 0s 226us/step\n",
      "(13996, 216): MLP Classifier is Done! \n",
      "\n",
      "2356/2356 [==============================] - 1s 221us/step\n",
      "(13996, 216): MLP Classifier is Done! \n",
      "\n",
      "1602/1602 [==============================] - 0s 220us/step\n",
      "(13998, 216): MLP Classifier is Done! \n",
      "\n",
      "2356/2356 [==============================] - 1s 224us/step\n",
      "(13998, 216): MLP Classifier is Done! \n",
      "\n",
      "2356/2356 [==============================] - 1s 220us/step\n",
      "(14000, 216): MLP Classifier is Done! \n",
      "\n"
     ]
    }
   ],
   "source": [
    "# MLPClassifier NewFeatures\n",
    "mlp_newf_RTS = kfold_training('MLP', X_train_NewF_ZM_RTS, Y_train_NewF_ZM_RTS, X_test_NewF_ZM, Y_test_NewF_ZM, mlp_model, 10)"
   ]
  },
  {
   "cell_type": "code",
   "execution_count": 16,
   "id": "097d194e",
   "metadata": {},
   "outputs": [],
   "source": [
    "save_results(mlp_newf_RTS, \"MLPClassifier_RusTomekSmote_WithoutB&C_NewFeatures_Results\")"
   ]
  },
  {
   "cell_type": "code",
   "execution_count": 17,
   "id": "ea08e757",
   "metadata": {},
   "outputs": [
    {
     "name": "stdout",
     "output_type": "stream",
     "text": [
      "2768/2768 [==============================] - 1s 222us/step\n",
      "(14024, 216): MLP Classifier is Done! \n",
      "\n",
      "1329/1329 [==============================] - 0s 224us/step\n",
      "(14024, 216): MLP Classifier is Done! \n",
      "\n",
      "1602/1602 [==============================] - 0s 225us/step\n",
      "(14024, 216): MLP Classifier is Done! \n",
      "\n",
      "2356/2356 [==============================] - 1s 220us/step\n",
      "(14024, 216): MLP Classifier is Done! \n",
      "\n",
      "1329/1329 [==============================] - 0s 223us/step\n",
      "(13979, 216): MLP Classifier is Done! \n",
      "\n",
      "1602/1602 [==============================] - 0s 225us/step\n",
      "(13979, 216): MLP Classifier is Done! \n",
      "\n",
      "2356/2356 [==============================] - 1s 221us/step\n",
      "(13979, 216): MLP Classifier is Done! \n",
      "\n",
      "1602/1602 [==============================] - 0s 224us/step\n",
      "(14029, 216): MLP Classifier is Done! \n",
      "\n",
      "2356/2356 [==============================] - 1s 227us/step\n",
      "(14029, 216): MLP Classifier is Done! \n",
      "\n",
      "2356/2356 [==============================] - 1s 223us/step\n",
      "(13982, 216): MLP Classifier is Done! \n",
      "\n"
     ]
    }
   ],
   "source": [
    "mlp_newf_RTA = kfold_training('MLP', X_train_NewF_ZM_RTA, Y_train_NewF_ZM_RTA, X_test_NewF_ZM, Y_test_NewF_ZM, mlp_model, 10)"
   ]
  },
  {
   "cell_type": "code",
   "execution_count": 18,
   "id": "27e9831d",
   "metadata": {},
   "outputs": [],
   "source": [
    "save_results(mlp_newf_RTA, \"MLPClassifier_RusTomekAdasyn_WithoutB&C_NewFeatures_Results\")"
   ]
  },
  {
   "cell_type": "code",
   "execution_count": 47,
   "id": "ffa8cae3",
   "metadata": {},
   "outputs": [
    {
     "name": "stdout",
     "output_type": "stream",
     "text": [
      "2768/2768 [==============================] - 1s 234us/step\n",
      "(120260, 216): MLP Classifier is Done! \n",
      "\n",
      "1329/1329 [==============================] - 0s 226us/step\n",
      "(120260, 216): MLP Classifier is Done! \n",
      "\n",
      "1602/1602 [==============================] - 1s 302us/step\n",
      "(120260, 216): MLP Classifier is Done! \n",
      "\n",
      "2356/2356 [==============================] - 1s 266us/step\n",
      "(120260, 216): MLP Classifier is Done! \n",
      "\n",
      "1329/1329 [==============================] - 0s 269us/step\n",
      "(146736, 216): MLP Classifier is Done! \n",
      "\n",
      "1602/1602 [==============================] - 0s 269us/step\n",
      "(146736, 216): MLP Classifier is Done! \n",
      "\n",
      "2356/2356 [==============================] - 1s 272us/step\n",
      "(146736, 216): MLP Classifier is Done! \n",
      "\n",
      "1602/1602 [==============================] - 0s 270us/step\n",
      "(69524, 216): MLP Classifier is Done! \n",
      "\n",
      "2356/2356 [==============================] - 1s 268us/step\n",
      "(69524, 216): MLP Classifier is Done! \n",
      "\n",
      "2356/2356 [==============================] - 1s 226us/step\n",
      "(86588, 216): MLP Classifier is Done! \n",
      "\n"
     ]
    }
   ],
   "source": [
    "mlp_newf_S = kfold_training('MLP', X_train_NewF_ZM_S, Y_train_NewF_ZM_S, X_test_NewF_ZM, Y_test_NewF_ZM, mlp_model, 10)"
   ]
  },
  {
   "cell_type": "code",
   "execution_count": 48,
   "id": "8a38308a",
   "metadata": {},
   "outputs": [],
   "source": [
    "save_results(mlp_newf_S, \"MLPClassifier_Smote_WithoutB&C_NewFeatures_Results\")"
   ]
  },
  {
   "cell_type": "code",
   "execution_count": 49,
   "id": "f2628e64",
   "metadata": {},
   "outputs": [
    {
     "name": "stdout",
     "output_type": "stream",
     "text": [
      "2768/2768 [==============================] - 1s 225us/step\n",
      "(120300, 216): MLP Classifier is Done! \n",
      "\n",
      "1329/1329 [==============================] - 0s 225us/step\n",
      "(120300, 216): MLP Classifier is Done! \n",
      "\n",
      "1602/1602 [==============================] - 0s 226us/step\n",
      "(120300, 216): MLP Classifier is Done! \n",
      "\n",
      "2356/2356 [==============================] - 1s 223us/step\n",
      "(120300, 216): MLP Classifier is Done! \n",
      "\n",
      "1329/1329 [==============================] - 0s 228us/step\n",
      "(146767, 216): MLP Classifier is Done! \n",
      "\n",
      "1602/1602 [==============================] - 0s 225us/step\n",
      "(146767, 216): MLP Classifier is Done! \n",
      "\n",
      "2356/2356 [==============================] - 1s 225us/step\n",
      "(146767, 216): MLP Classifier is Done! \n",
      "\n",
      "1602/1602 [==============================] - 0s 224us/step\n",
      "(69586, 216): MLP Classifier is Done! \n",
      "\n",
      "2356/2356 [==============================] - 1s 224us/step\n",
      "(69586, 216): MLP Classifier is Done! \n",
      "\n",
      "2356/2356 [==============================] - 1s 222us/step\n",
      "(86615, 216): MLP Classifier is Done! \n",
      "\n"
     ]
    }
   ],
   "source": [
    "mlp_newf_A = kfold_training('MLP', X_train_NewF_ZM_A, Y_train_NewF_ZM_A, X_test_NewF_ZM, Y_test_NewF_ZM, mlp_model, 10)"
   ]
  },
  {
   "cell_type": "code",
   "execution_count": 50,
   "id": "ebfee2b8",
   "metadata": {},
   "outputs": [],
   "source": [
    "save_results(mlp_newf_A, \"MLPClassifier_Adasyn_WithoutB&C_NewFeatures_Results\")"
   ]
  },
  {
   "cell_type": "markdown",
   "id": "e702be07",
   "metadata": {},
   "source": [
    "### Rocket "
   ]
  },
  {
   "cell_type": "code",
   "execution_count": 19,
   "id": "b24408d0",
   "metadata": {},
   "outputs": [
    {
     "name": "stdout",
     "output_type": "stream",
     "text": [
      "(13994, 1): Rocket Classifier is Done! \n",
      "\n",
      "(13994, 1): Rocket Classifier is Done! \n",
      "\n",
      "(13994, 1): Rocket Classifier is Done! \n",
      "\n",
      "(13994, 1): Rocket Classifier is Done! \n",
      "\n",
      "(13996, 1): Rocket Classifier is Done! \n",
      "\n",
      "(13996, 1): Rocket Classifier is Done! \n",
      "\n",
      "(13996, 1): Rocket Classifier is Done! \n",
      "\n",
      "(13998, 1): Rocket Classifier is Done! \n",
      "\n",
      "(13998, 1): Rocket Classifier is Done! \n",
      "\n",
      "(14000, 1): Rocket Classifier is Done! \n",
      "\n"
     ]
    }
   ],
   "source": [
    "rocket_newf_RTS = kfold_training('Rocket', X_train_NewF_ZM_RTS, Y_train_NewF_ZM_RTS, X_test_NewF_ZM, Y_test_NewF_ZM, rocket_model, 10)"
   ]
  },
  {
   "cell_type": "code",
   "execution_count": 20,
   "id": "6ac1c1a4",
   "metadata": {},
   "outputs": [],
   "source": [
    "save_results(rocket_newf_RTS, \"Rocket_RusTomekSmote_WithoutB&C_NewFeatures_Results\")"
   ]
  },
  {
   "cell_type": "code",
   "execution_count": 21,
   "id": "7d9d7ab6",
   "metadata": {},
   "outputs": [
    {
     "name": "stdout",
     "output_type": "stream",
     "text": [
      "(14024, 1): Rocket Classifier is Done! \n",
      "\n",
      "(14024, 1): Rocket Classifier is Done! \n",
      "\n",
      "(14024, 1): Rocket Classifier is Done! \n",
      "\n",
      "(14024, 1): Rocket Classifier is Done! \n",
      "\n",
      "(13979, 1): Rocket Classifier is Done! \n",
      "\n",
      "(13979, 1): Rocket Classifier is Done! \n",
      "\n",
      "(13979, 1): Rocket Classifier is Done! \n",
      "\n",
      "(14029, 1): Rocket Classifier is Done! \n",
      "\n",
      "(14029, 1): Rocket Classifier is Done! \n",
      "\n",
      "(13982, 1): Rocket Classifier is Done! \n",
      "\n"
     ]
    }
   ],
   "source": [
    "rocket_newf_RTA = kfold_training('Rocket', X_train_NewF_ZM_RTA, Y_train_NewF_ZM_RTA, X_test_NewF_ZM, Y_test_NewF_ZM, rocket_model, 10)"
   ]
  },
  {
   "cell_type": "code",
   "execution_count": 22,
   "id": "f737eec5",
   "metadata": {},
   "outputs": [],
   "source": [
    "save_results(rocket_newf_RTA, \"Rocket_RusTomekAdasyn_WithoutB&C_NewFeatures_Results\")"
   ]
  },
  {
   "cell_type": "code",
   "execution_count": 51,
   "id": "035da67f",
   "metadata": {},
   "outputs": [
    {
     "name": "stdout",
     "output_type": "stream",
     "text": [
      "(120260, 1): Rocket Classifier is Done! \n",
      "\n",
      "(120260, 1): Rocket Classifier is Done! \n",
      "\n",
      "(120260, 1): Rocket Classifier is Done! \n",
      "\n",
      "(120260, 1): Rocket Classifier is Done! \n",
      "\n",
      "(146736, 1): Rocket Classifier is Done! \n",
      "\n",
      "(146736, 1): Rocket Classifier is Done! \n",
      "\n",
      "(146736, 1): Rocket Classifier is Done! \n",
      "\n",
      "(69524, 1): Rocket Classifier is Done! \n",
      "\n",
      "(69524, 1): Rocket Classifier is Done! \n",
      "\n",
      "(86588, 1): Rocket Classifier is Done! \n",
      "\n"
     ]
    }
   ],
   "source": [
    "rocket_newf_S = kfold_training('Rocket', X_train_NewF_ZM_S, Y_train_NewF_ZM_S, X_test_NewF_ZM, Y_test_NewF_ZM, rocket_model, 10)"
   ]
  },
  {
   "cell_type": "code",
   "execution_count": 52,
   "id": "dff7f99d",
   "metadata": {},
   "outputs": [],
   "source": [
    "save_results(rocket_newf_S, \"Rocket_Smote_WithoutB&C_NewFeatures_Results\")"
   ]
  },
  {
   "cell_type": "code",
   "execution_count": 53,
   "id": "d2cb86a0",
   "metadata": {},
   "outputs": [
    {
     "name": "stdout",
     "output_type": "stream",
     "text": [
      "(120300, 1): Rocket Classifier is Done! \n",
      "\n",
      "(120300, 1): Rocket Classifier is Done! \n",
      "\n",
      "(120300, 1): Rocket Classifier is Done! \n",
      "\n",
      "(120300, 1): Rocket Classifier is Done! \n",
      "\n",
      "(146767, 1): Rocket Classifier is Done! \n",
      "\n",
      "(146767, 1): Rocket Classifier is Done! \n",
      "\n",
      "(146767, 1): Rocket Classifier is Done! \n",
      "\n",
      "(69586, 1): Rocket Classifier is Done! \n",
      "\n",
      "(69586, 1): Rocket Classifier is Done! \n",
      "\n",
      "(86615, 1): Rocket Classifier is Done! \n",
      "\n"
     ]
    }
   ],
   "source": [
    "rocket_newf_A = kfold_training('Rocket', X_train_NewF_ZM_A, Y_train_NewF_ZM_A, X_test_NewF_ZM, Y_test_NewF_ZM, rocket_model, 10)"
   ]
  },
  {
   "cell_type": "code",
   "execution_count": 54,
   "id": "7d9ac7b7",
   "metadata": {},
   "outputs": [],
   "source": [
    "save_results(rocket_newf_A, \"Rocket_Adasyn_WithoutB&C_NewFeatures_Results\")"
   ]
  },
  {
   "cell_type": "markdown",
   "id": "5c43112c",
   "metadata": {},
   "source": [
    "### TimeSeriesForest"
   ]
  },
  {
   "cell_type": "code",
   "execution_count": 23,
   "id": "fc2f461e",
   "metadata": {},
   "outputs": [
    {
     "name": "stdout",
     "output_type": "stream",
     "text": [
      "(13994, 216): TSF Classifier is Done! \n",
      "\n",
      "(13994, 216): TSF Classifier is Done! \n",
      "\n",
      "(13994, 216): TSF Classifier is Done! \n",
      "\n",
      "(13994, 216): TSF Classifier is Done! \n",
      "\n",
      "(13996, 216): TSF Classifier is Done! \n",
      "\n",
      "(13996, 216): TSF Classifier is Done! \n",
      "\n",
      "(13996, 216): TSF Classifier is Done! \n",
      "\n",
      "(13998, 216): TSF Classifier is Done! \n",
      "\n",
      "(13998, 216): TSF Classifier is Done! \n",
      "\n",
      "(14000, 216): TSF Classifier is Done! \n",
      "\n"
     ]
    }
   ],
   "source": [
    "tsf_newf_RTS = kfold_training('TSF', X_train_NewF_ZM_RTS, Y_train_NewF_ZM_RTS, X_test_NewF_ZM, Y_test_NewF_ZM, tsf_model, 10)"
   ]
  },
  {
   "cell_type": "code",
   "execution_count": 24,
   "id": "5b25573a",
   "metadata": {},
   "outputs": [],
   "source": [
    "save_results(tsf_newf_RTS, \"TSF_RusTomekSmote_WithoutB&C_NewFeatures_Results\")"
   ]
  },
  {
   "cell_type": "code",
   "execution_count": 25,
   "id": "643a09dd",
   "metadata": {},
   "outputs": [
    {
     "name": "stdout",
     "output_type": "stream",
     "text": [
      "(14024, 216): TSF Classifier is Done! \n",
      "\n",
      "(14024, 216): TSF Classifier is Done! \n",
      "\n",
      "(14024, 216): TSF Classifier is Done! \n",
      "\n",
      "(14024, 216): TSF Classifier is Done! \n",
      "\n",
      "(13979, 216): TSF Classifier is Done! \n",
      "\n",
      "(13979, 216): TSF Classifier is Done! \n",
      "\n",
      "(13979, 216): TSF Classifier is Done! \n",
      "\n",
      "(14029, 216): TSF Classifier is Done! \n",
      "\n",
      "(14029, 216): TSF Classifier is Done! \n",
      "\n",
      "(13982, 216): TSF Classifier is Done! \n",
      "\n"
     ]
    }
   ],
   "source": [
    "tsf_newf_RTA = kfold_training('TSF', X_train_NewF_ZM_RTA, Y_train_NewF_ZM_RTA, X_test_NewF_ZM, Y_test_NewF_ZM, tsf_model, 10)"
   ]
  },
  {
   "cell_type": "code",
   "execution_count": 26,
   "id": "186bd6a6",
   "metadata": {},
   "outputs": [],
   "source": [
    "save_results(tsf_newf_RTA, \"TSF_RusTomekAdasyn_WithoutB&C_NewFeatures_Results\")"
   ]
  },
  {
   "cell_type": "code",
   "execution_count": 55,
   "id": "bbfd510c",
   "metadata": {},
   "outputs": [
    {
     "name": "stdout",
     "output_type": "stream",
     "text": [
      "(120260, 216): TSF Classifier is Done! \n",
      "\n",
      "(120260, 216): TSF Classifier is Done! \n",
      "\n",
      "(120260, 216): TSF Classifier is Done! \n",
      "\n",
      "(120260, 216): TSF Classifier is Done! \n",
      "\n",
      "(146736, 216): TSF Classifier is Done! \n",
      "\n",
      "(146736, 216): TSF Classifier is Done! \n",
      "\n",
      "(146736, 216): TSF Classifier is Done! \n",
      "\n",
      "(69524, 216): TSF Classifier is Done! \n",
      "\n",
      "(69524, 216): TSF Classifier is Done! \n",
      "\n",
      "(86588, 216): TSF Classifier is Done! \n",
      "\n"
     ]
    }
   ],
   "source": [
    "tsf_newf_S = kfold_training('TSF', X_train_NewF_ZM_S, Y_train_NewF_ZM_S, X_test_NewF_ZM, Y_test_NewF_ZM, tsf_model, 10)"
   ]
  },
  {
   "cell_type": "code",
   "execution_count": 56,
   "id": "92b85a0f",
   "metadata": {},
   "outputs": [],
   "source": [
    "save_results(tsf_newf_S, \"TSF_Smote_WithoutB&C_NewFeatures_Results\")"
   ]
  },
  {
   "cell_type": "code",
   "execution_count": 57,
   "id": "25b30ef1",
   "metadata": {},
   "outputs": [
    {
     "name": "stdout",
     "output_type": "stream",
     "text": [
      "(120300, 216): TSF Classifier is Done! \n",
      "\n",
      "(120300, 216): TSF Classifier is Done! \n",
      "\n",
      "(120300, 216): TSF Classifier is Done! \n",
      "\n",
      "(120300, 216): TSF Classifier is Done! \n",
      "\n",
      "(146767, 216): TSF Classifier is Done! \n",
      "\n",
      "(146767, 216): TSF Classifier is Done! \n",
      "\n",
      "(146767, 216): TSF Classifier is Done! \n",
      "\n",
      "(69586, 216): TSF Classifier is Done! \n",
      "\n",
      "(69586, 216): TSF Classifier is Done! \n",
      "\n",
      "(86615, 216): TSF Classifier is Done! \n",
      "\n"
     ]
    }
   ],
   "source": [
    "tsf_newf_A = kfold_training('TSF', X_train_NewF_ZM_A, Y_train_NewF_ZM_A, X_test_NewF_ZM, Y_test_NewF_ZM, tsf_model, 10)"
   ]
  },
  {
   "cell_type": "code",
   "execution_count": 58,
   "id": "7b699559",
   "metadata": {},
   "outputs": [],
   "source": [
    "save_results(tsf_newf_A, \"TSF_Adasyn_WithoutB&C_NewFeatures_Results\")"
   ]
  },
  {
   "cell_type": "markdown",
   "id": "c0fc66c6",
   "metadata": {},
   "source": [
    "# Comparison "
   ]
  },
  {
   "cell_type": "code",
   "execution_count": 30,
   "id": "3941d553",
   "metadata": {},
   "outputs": [],
   "source": [
    "data_dir = \"/Users/samskanderi/Documents/Research_Project/SWANSF/code/results/\"\n",
    "with open(data_dir + 'SVM_RusTomekSmote_WithoutB&C_NewFeatures_Results' + \".pkl\", 'rb') as f:\n",
    "    svm_newf=pickle.load(f)\n",
    "with open(data_dir + 'SVM_RusTomekAdasyn_WithoutB&C_NewFeatures_Results' + \".pkl\", 'rb') as f:\n",
    "    mlp_newf=pickle.load(f)\n",
    "with open(data_dir + 'MLPClassifier_RusTomekSmote_WithoutB&C_NewFeatures_Results' + \".pkl\", 'rb') as f:\n",
    "    rocket_newf=pickle.load(f)\n",
    "with open(data_dir + 'MLPClassifier_RusTomekAdasyn_WithoutB&C_NewFeatures_Results' + \".pkl\", 'rb') as f:\n",
    "    tsf_newf=pickle.load(f)\n",
    "with open(data_dir + 'Rocket_RusTomekSmote_WithoutB&C_NewFeatures_Results' + \".pkl\", 'rb') as f:\n",
    "    svm_newf=pickle.load(f)\n",
    "with open(data_dir + 'Rocket_RusTomekAdasyn_WithoutB&C_NewFeatures_Results' + \".pkl\", 'rb') as f:\n",
    "    mlp_newf=pickle.load(f)\n",
    "with open(data_dir + 'TSF_RusTomekSmote_WithoutB&C_NewFeatures_Results' + \".pkl\", 'rb') as f:\n",
    "    rocket_newf=pickle.load(f)\n",
    "with open(data_dir + 'TSF_RusTomekAdasyn_WithoutB&C_NewFeatures_Results' + \".pkl\", 'rb') as f:\n",
    "    tsf_newf=pickle.load(f)\n",
    "\n",
    "\n",
    "\n",
    "names = ['SVM (RUS-Tomek-Smote)', 'SVM (RUS-Tomek-Adasyn)', 'MLP (RUS-Tomek-Smote)', 'MLP (RUS-Tomek-Adasyn)'\n",
    "         , 'Rocket (RUS-Tomek-Smote)', 'Rocket (RUS-Tomek-Adasyn)', 'TSF (RUS-Tomek-Smote)'\n",
    "        , 'TSF (RUS-Tomek-Adasyn)']\n",
    "values = np.array([svm_newf_RTS, svm_newf_RTA, mlp_newf_RTS, mlp_newf_RTA, rocket_newf_RTS, rocket_newf_RTA,\n",
    "                   tsf_newf_RTS, tsf_newf_RTA])"
   ]
  },
  {
   "cell_type": "code",
   "execution_count": 31,
   "id": "88522bf6",
   "metadata": {},
   "outputs": [],
   "source": [
    "def compare_results(names, values):\n",
    "    np.printoptions(precision=4, suppress=True)\n",
    "    for i in range(0, values.shape[1]):\n",
    "        print(\"P_Train = \"+ str(values[0,i,0]) + \" & \" + \"P_Test = \" + str(values[0,i,1]))\n",
    "        for j in range(0, values.shape[0]):\n",
    "            print(names[j] + ' :' +  ' TP={:.0f}'.format(values[j,i,2]) + ' FN={:.0f}'.format(values[j,i,3]) + ' FP={:.0f}'.format(values[j,i,4])\n",
    "                 + ' TN={:.0f}'.format(values[j,i,5]) + ' TSS={:.3f}'.format(values[j,i,6]) + ' HSS1={:.3f}'.format(values[j,i,7]) + ' HSS2={:.3f}'.format(values[j,i,8])\n",
    "                 + ' GSS={:.3f}'.format(values[j,i,9]) + ' Recall={:.3f}'.format(values[j,i,10]) + ' Precision={:.3f}'.format(values[j,i,11]))\n",
    "        print('\\n')\n"
   ]
  },
  {
   "cell_type": "code",
   "execution_count": 32,
   "id": "9688f338",
   "metadata": {},
   "outputs": [
    {
     "name": "stdout",
     "output_type": "stream",
     "text": [
      "P_Train = 1.0 & P_Test = 2.0\n",
      "SVM (RUS-Tomek-Smote) : TP=1394 FN=7 FP=38787 TN=48369 TSS=0.550 HSS1=0.038 HSS2=0.065 GSS=758.324 Recall=0.995 Precision=0.965\n",
      "SVM (RUS-Tomek-Adasyn) : TP=1369 FN=32 FP=26696 TN=60460 TSS=0.671 HSS1=0.065 HSS2=0.090 GSS=925.003 Recall=0.977 Precision=0.951\n",
      "MLP (RUS-Tomek-Smote) : TP=985 FN=416 FP=4703 TN=82453 TSS=0.649 HSS1=0.259 HSS2=0.267 GSS=895.014 Recall=0.703 Precision=0.827\n",
      "MLP (RUS-Tomek-Adasyn) : TP=714 FN=687 FP=2827 TN=84329 TSS=0.477 HSS1=0.272 HSS2=0.275 GSS=657.980 Recall=0.510 Precision=0.798\n",
      "Rocket (RUS-Tomek-Smote) : TP=341 FN=1060 FP=1448 TN=85708 TSS=0.227 HSS1=0.200 HSS2=0.200 GSS=312.697 Recall=0.243 Precision=0.809\n",
      "Rocket (RUS-Tomek-Adasyn) : TP=227 FN=1174 FP=589 TN=86567 TSS=0.155 HSS1=0.195 HSS2=0.196 GSS=214.091 Recall=0.162 Precision=0.722\n",
      "TSF (RUS-Tomek-Smote) : TP=733 FN=668 FP=1485 TN=85671 TSS=0.506 HSS1=0.393 HSS2=0.394 GSS=697.911 Recall=0.523 Precision=0.670\n",
      "TSF (RUS-Tomek-Adasyn) : TP=689 FN=712 FP=1465 TN=85691 TSS=0.475 HSS1=0.376 HSS2=0.376 GSS=654.923 Recall=0.492 Precision=0.680\n",
      "\n",
      "\n",
      "P_Train = 1.0 & P_Test = 3.0\n",
      "SVM (RUS-Tomek-Smote) : TP=1416 FN=8 FP=18960 TN=22126 TSS=0.533 HSS1=0.072 HSS2=0.122 GSS=733.445 Recall=0.994 Precision=0.931\n",
      "SVM (RUS-Tomek-Adasyn) : TP=1413 FN=11 FP=13261 TN=27825 TSS=0.670 HSS1=0.122 HSS2=0.168 GSS=921.450 Recall=0.992 Precision=0.904\n",
      "MLP (RUS-Tomek-Smote) : TP=1013 FN=411 FP=3884 TN=37202 TSS=0.617 HSS1=0.283 HSS2=0.297 GSS=848.960 Recall=0.711 Precision=0.793\n",
      "MLP (RUS-Tomek-Adasyn) : TP=1051 FN=373 FP=3249 TN=37837 TSS=0.659 HSS1=0.334 HSS2=0.346 GSS=906.959 Recall=0.738 Precision=0.756\n",
      "Rocket (RUS-Tomek-Smote) : TP=148 FN=1276 FP=558 TN=40528 TSS=0.090 HSS1=0.119 HSS2=0.120 GSS=124.350 Recall=0.104 Precision=0.790\n",
      "Rocket (RUS-Tomek-Adasyn) : TP=175 FN=1249 FP=534 TN=40552 TSS=0.110 HSS1=0.145 HSS2=0.146 GSS=151.250 Recall=0.123 Precision=0.753\n",
      "TSF (RUS-Tomek-Smote) : TP=871 FN=553 FP=2155 TN=38931 TSS=0.559 HSS1=0.362 HSS2=0.368 GSS=769.635 Recall=0.612 Precision=0.712\n",
      "TSF (RUS-Tomek-Adasyn) : TP=973 FN=451 FP=2732 TN=38354 TSS=0.617 HSS1=0.348 HSS2=0.357 GSS=848.890 Recall=0.683 Precision=0.737\n",
      "\n",
      "\n",
      "P_Train = 1.0 & P_Test = 4.0\n",
      "SVM (RUS-Tomek-Smote) : TP=1162 FN=3 FP=17513 TN=32583 TSS=0.648 HSS1=0.078 HSS2=0.113 GSS=737.576 Recall=0.997 Precision=0.938\n",
      "SVM (RUS-Tomek-Adasyn) : TP=1160 FN=5 FP=13848 TN=36248 TSS=0.719 HSS1=0.106 HSS2=0.139 GSS=818.916 Recall=0.996 Precision=0.923\n",
      "MLP (RUS-Tomek-Smote) : TP=809 FN=356 FP=1514 TN=48582 TSS=0.664 HSS1=0.447 HSS2=0.451 GSS=756.206 Recall=0.694 Precision=0.652\n",
      "MLP (RUS-Tomek-Adasyn) : TP=531 FN=634 FP=674 TN=49422 TSS=0.442 HSS1=0.435 HSS2=0.435 GSS=503.614 Recall=0.456 Precision=0.559\n",
      "Rocket (RUS-Tomek-Smote) : TP=281 FN=884 FP=1121 TN=48975 TSS=0.219 HSS1=0.199 HSS2=0.199 GSS=249.137 Recall=0.241 Precision=0.800\n",
      "Rocket (RUS-Tomek-Adasyn) : TP=241 FN=924 FP=428 TN=49668 TSS=0.198 HSS1=0.250 HSS2=0.251 GSS=225.796 Recall=0.207 Precision=0.640\n",
      "TSF (RUS-Tomek-Smote) : TP=695 FN=470 FP=875 TN=49221 TSS=0.579 HSS1=0.495 HSS2=0.496 GSS=659.319 Recall=0.597 Precision=0.557\n",
      "TSF (RUS-Tomek-Adasyn) : TP=686 FN=479 FP=1011 TN=49085 TSS=0.569 HSS1=0.465 HSS2=0.466 GSS=647.433 Recall=0.589 Precision=0.596\n",
      "\n",
      "\n",
      "P_Train = 1.0 & P_Test = 5.0\n",
      "SVM (RUS-Tomek-Smote) : TP=977 FN=13 FP=12806 TN=61569 TSS=0.815 HSS1=0.110 HSS2=0.130 GSS=795.946 Recall=0.987 Precision=0.929\n",
      "SVM (RUS-Tomek-Adasyn) : TP=963 FN=27 FP=10538 TN=63837 TSS=0.831 HSS1=0.133 HSS2=0.151 GSS=811.922 Recall=0.973 Precision=0.916\n",
      "MLP (RUS-Tomek-Smote) : TP=800 FN=190 FP=3547 TN=70828 TSS=0.760 HSS1=0.284 HSS2=0.293 GSS=742.897 Recall=0.808 Precision=0.816\n",
      "MLP (RUS-Tomek-Adasyn) : TP=794 FN=196 FP=3127 TN=71248 TSS=0.760 HSS1=0.309 HSS2=0.316 GSS=742.493 Recall=0.802 Precision=0.798\n",
      "Rocket (RUS-Tomek-Smote) : TP=90 FN=900 FP=730 TN=73645 TSS=0.081 HSS1=0.089 HSS2=0.089 GSS=79.228 Recall=0.091 Precision=0.890\n",
      "Rocket (RUS-Tomek-Adasyn) : TP=219 FN=771 FP=795 TN=73580 TSS=0.211 HSS1=0.208 HSS2=0.208 GSS=205.680 Recall=0.221 Precision=0.784\n",
      "TSF (RUS-Tomek-Smote) : TP=535 FN=455 FP=1111 TN=73264 TSS=0.525 HSS1=0.396 HSS2=0.397 GSS=513.378 Recall=0.540 Precision=0.675\n",
      "TSF (RUS-Tomek-Adasyn) : TP=542 FN=448 FP=1575 TN=72800 TSS=0.526 HSS1=0.337 HSS2=0.339 GSS=514.191 Recall=0.547 Precision=0.744\n",
      "\n",
      "\n",
      "P_Train = 2.0 & P_Test = 3.0\n",
      "SVM (RUS-Tomek-Smote) : TP=1265 FN=159 FP=4484 TN=36602 TSS=0.779 HSS1=0.316 HSS2=0.338 GSS=1072.420 Recall=0.888 Precision=0.780\n",
      "SVM (RUS-Tomek-Adasyn) : TP=1116 FN=308 FP=3139 TN=37947 TSS=0.707 HSS1=0.361 HSS2=0.374 GSS=973.466 Recall=0.784 Precision=0.738\n",
      "MLP (RUS-Tomek-Smote) : TP=1242 FN=182 FP=4385 TN=36701 TSS=0.765 HSS1=0.316 HSS2=0.337 GSS=1053.507 Recall=0.872 Precision=0.779\n",
      "MLP (RUS-Tomek-Adasyn) : TP=1148 FN=276 FP=3530 TN=37556 TSS=0.720 HSS1=0.342 HSS2=0.358 GSS=991.296 Recall=0.806 Precision=0.755\n",
      "Rocket (RUS-Tomek-Smote) : TP=1011 FN=413 FP=3119 TN=37967 TSS=0.634 HSS1=0.331 HSS2=0.342 GSS=872.653 Recall=0.710 Precision=0.755\n",
      "Rocket (RUS-Tomek-Adasyn) : TP=986 FN=438 FP=3403 TN=37683 TSS=0.610 HSS1=0.304 HSS2=0.316 GSS=838.977 Recall=0.692 Precision=0.775\n",
      "TSF (RUS-Tomek-Smote) : TP=1123 FN=301 FP=3262 TN=37824 TSS=0.709 HSS1=0.354 HSS2=0.368 GSS=976.111 Recall=0.789 Precision=0.744\n",
      "TSF (RUS-Tomek-Adasyn) : TP=1124 FN=300 FP=3540 TN=37546 TSS=0.703 HSS1=0.335 HSS2=0.350 GSS=967.765 Recall=0.789 Precision=0.759\n",
      "\n",
      "\n",
      "P_Train = 2.0 & P_Test = 4.0\n",
      "SVM (RUS-Tomek-Smote) : TP=843 FN=322 FP=2185 TN=47911 TSS=0.680 HSS1=0.382 HSS2=0.388 GSS=774.183 Recall=0.724 Precision=0.722\n",
      "SVM (RUS-Tomek-Adasyn) : TP=859 FN=306 FP=2316 TN=47780 TSS=0.691 HSS1=0.375 HSS2=0.382 GSS=786.842 Recall=0.737 Precision=0.729\n",
      "MLP (RUS-Tomek-Smote) : TP=1009 FN=156 FP=4543 TN=45553 TSS=0.775 HSS1=0.273 HSS2=0.290 GSS=882.821 Recall=0.866 Precision=0.818\n",
      "MLP (RUS-Tomek-Adasyn) : TP=992 FN=173 FP=4073 TN=46023 TSS=0.770 HSS1=0.292 HSS2=0.308 GSS=876.889 Recall=0.852 Precision=0.804\n",
      "Rocket (RUS-Tomek-Smote) : TP=686 FN=479 FP=1653 TN=48443 TSS=0.556 HSS1=0.373 HSS2=0.375 GSS=632.842 Recall=0.589 Precision=0.707\n",
      "Rocket (RUS-Tomek-Adasyn) : TP=722 FN=443 FP=3312 TN=46784 TSS=0.554 HSS1=0.251 HSS2=0.260 GSS=630.320 Recall=0.620 Precision=0.821\n",
      "TSF (RUS-Tomek-Smote) : TP=916 FN=249 FP=2086 TN=48010 TSS=0.745 HSS1=0.421 HSS2=0.428 GSS=847.774 Recall=0.786 Precision=0.695\n",
      "TSF (RUS-Tomek-Adasyn) : TP=941 FN=224 FP=2273 TN=47823 TSS=0.762 HSS1=0.410 HSS2=0.418 GSS=867.956 Recall=0.808 Precision=0.707\n",
      "\n",
      "\n",
      "P_Train = 2.0 & P_Test = 5.0\n",
      "SVM (RUS-Tomek-Smote) : TP=817 FN=173 FP=3850 TN=70525 TSS=0.773 HSS1=0.273 HSS2=0.282 GSS=755.694 Recall=0.825 Precision=0.825\n",
      "SVM (RUS-Tomek-Adasyn) : TP=859 FN=131 FP=3889 TN=70486 TSS=0.815 HSS1=0.284 HSS2=0.294 GSS=796.630 Recall=0.868 Precision=0.819\n",
      "MLP (RUS-Tomek-Smote) : TP=881 FN=109 FP=4684 TN=69691 TSS=0.827 HSS1=0.252 HSS2=0.264 GSS=807.898 Recall=0.890 Precision=0.842\n",
      "MLP (RUS-Tomek-Adasyn) : TP=893 FN=97 FP=6460 TN=67915 TSS=0.815 HSS1=0.195 HSS2=0.209 GSS=796.410 Recall=0.902 Precision=0.879\n",
      "Rocket (RUS-Tomek-Smote) : TP=665 FN=325 FP=2369 TN=72006 TSS=0.640 HSS1=0.317 HSS2=0.322 GSS=625.145 Recall=0.672 Precision=0.781\n",
      "Rocket (RUS-Tomek-Adasyn) : TP=776 FN=214 FP=3639 TN=70736 TSS=0.735 HSS1=0.272 HSS2=0.280 GSS=718.004 Recall=0.784 Precision=0.824\n",
      "TSF (RUS-Tomek-Smote) : TP=757 FN=233 FP=2398 TN=71977 TSS=0.732 HSS1=0.352 HSS2=0.358 GSS=715.556 Recall=0.765 Precision=0.760\n",
      "TSF (RUS-Tomek-Adasyn) : TP=808 FN=182 FP=2904 TN=71471 TSS=0.777 HSS1=0.330 HSS2=0.337 GSS=759.239 Recall=0.816 Precision=0.782\n",
      "\n",
      "\n",
      "P_Train = 3.0 & P_Test = 4.0\n",
      "SVM (RUS-Tomek-Smote) : TP=1013 FN=152 FP=2690 TN=47406 TSS=0.816 HSS1=0.395 HSS2=0.406 GSS=928.843 Recall=0.870 Precision=0.726\n",
      "SVM (RUS-Tomek-Adasyn) : TP=1077 FN=88 FP=3678 TN=46418 TSS=0.851 HSS1=0.340 HSS2=0.355 GSS=968.934 Recall=0.924 Precision=0.774\n",
      "MLP (RUS-Tomek-Smote) : TP=1085 FN=80 FP=4367 TN=45729 TSS=0.844 HSS1=0.302 HSS2=0.320 GSS=961.093 Recall=0.931 Precision=0.801\n",
      "MLP (RUS-Tomek-Adasyn) : TP=1120 FN=45 FP=5281 TN=44815 TSS=0.856 HSS1=0.268 HSS2=0.289 GSS=974.526 Recall=0.961 Precision=0.825\n",
      "Rocket (RUS-Tomek-Smote) : TP=744 FN=421 FP=1610 TN=48486 TSS=0.606 HSS1=0.405 HSS2=0.408 GSS=690.501 Recall=0.639 Precision=0.684\n",
      "Rocket (RUS-Tomek-Adasyn) : TP=798 FN=367 FP=2054 TN=48042 TSS=0.644 HSS1=0.377 HSS2=0.383 GSS=733.183 Recall=0.685 Precision=0.720\n",
      "TSF (RUS-Tomek-Smote) : TP=661 FN=504 FP=1029 TN=49067 TSS=0.547 HSS1=0.448 HSS2=0.449 GSS=622.592 Recall=0.567 Precision=0.609\n",
      "TSF (RUS-Tomek-Adasyn) : TP=568 FN=597 FP=1234 TN=48862 TSS=0.463 HSS1=0.365 HSS2=0.366 GSS=527.046 Recall=0.488 Precision=0.685\n",
      "\n",
      "\n",
      "P_Train = 3.0 & P_Test = 5.0\n",
      "SVM (RUS-Tomek-Smote) : TP=888 FN=102 FP=4522 TN=69853 TSS=0.836 HSS1=0.261 HSS2=0.272 GSS=816.934 Recall=0.897 Precision=0.836\n",
      "SVM (RUS-Tomek-Adasyn) : TP=877 FN=113 FP=4084 TN=70291 TSS=0.831 HSS1=0.279 HSS2=0.289 GSS=811.832 Recall=0.886 Precision=0.823\n",
      "MLP (RUS-Tomek-Smote) : TP=917 FN=73 FP=7683 TN=66692 TSS=0.823 HSS1=0.172 HSS2=0.187 GSS=804.030 Recall=0.926 Precision=0.893\n",
      "MLP (RUS-Tomek-Adasyn) : TP=849 FN=141 FP=3389 TN=70986 TSS=0.812 HSS1=0.310 HSS2=0.319 GSS=793.329 Recall=0.858 Precision=0.800\n",
      "Rocket (RUS-Tomek-Smote) : TP=773 FN=217 FP=4281 TN=70094 TSS=0.723 HSS1=0.239 HSS2=0.248 GSS=706.610 Recall=0.781 Precision=0.847\n",
      "Rocket (RUS-Tomek-Adasyn) : TP=820 FN=170 FP=5531 TN=68844 TSS=0.754 HSS1=0.205 HSS2=0.217 GSS=736.573 Recall=0.828 Precision=0.871\n",
      "TSF (RUS-Tomek-Smote) : TP=651 FN=339 FP=1918 TN=72457 TSS=0.632 HSS1=0.354 HSS2=0.357 GSS=617.253 Recall=0.658 Precision=0.747\n",
      "TSF (RUS-Tomek-Adasyn) : TP=519 FN=471 FP=1546 TN=72829 TSS=0.503 HSS1=0.328 HSS2=0.330 GSS=491.874 Recall=0.524 Precision=0.749\n",
      "\n",
      "\n",
      "P_Train = 4.0 & P_Test = 5.0\n",
      "SVM (RUS-Tomek-Smote) : TP=927 FN=63 FP=6044 TN=68331 TSS=0.855 HSS1=0.215 HSS2=0.229 GSS=835.428 Recall=0.936 Precision=0.867\n",
      "SVM (RUS-Tomek-Adasyn) : TP=910 FN=80 FP=5293 TN=69082 TSS=0.848 HSS1=0.236 HSS2=0.248 GSS=828.517 Recall=0.919 Precision=0.853\n",
      "MLP (RUS-Tomek-Smote) : TP=959 FN=31 FP=7528 TN=66847 TSS=0.867 HSS1=0.183 HSS2=0.199 GSS=847.514 Recall=0.969 Precision=0.887\n",
      "MLP (RUS-Tomek-Adasyn) : TP=976 FN=14 FP=10022 TN=64353 TSS=0.851 HSS1=0.142 HSS2=0.160 GSS=831.529 Recall=0.986 Precision=0.911\n",
      "Rocket (RUS-Tomek-Smote) : TP=943 FN=47 FP=8469 TN=65906 TSS=0.839 HSS1=0.161 HSS2=0.178 GSS=819.363 Recall=0.953 Precision=0.900\n",
      "Rocket (RUS-Tomek-Adasyn) : TP=587 FN=403 FP=4043 TN=70332 TSS=0.539 HSS1=0.191 HSS2=0.198 GSS=526.180 Recall=0.593 Precision=0.873\n",
      "TSF (RUS-Tomek-Smote) : TP=806 FN=184 FP=3722 TN=70653 TSS=0.764 HSS1=0.277 HSS2=0.285 GSS=746.520 Recall=0.814 Precision=0.822\n",
      "TSF (RUS-Tomek-Adasyn) : TP=741 FN=249 FP=3251 TN=71124 TSS=0.705 HSS1=0.282 HSS2=0.289 GSS=688.561 Recall=0.748 Precision=0.814\n",
      "\n",
      "\n"
     ]
    }
   ],
   "source": [
    "compare_results(names, values)"
   ]
  },
  {
   "cell_type": "code",
   "execution_count": null,
   "id": "db226f87",
   "metadata": {},
   "outputs": [],
   "source": []
  }
 ],
 "metadata": {
  "kernelspec": {
   "display_name": "Python 3 (ipykernel)",
   "language": "python",
   "name": "python3"
  },
  "language_info": {
   "codemirror_mode": {
    "name": "ipython",
    "version": 3
   },
   "file_extension": ".py",
   "mimetype": "text/x-python",
   "name": "python",
   "nbconvert_exporter": "python",
   "pygments_lexer": "ipython3",
   "version": "3.11.3"
  }
 },
 "nbformat": 4,
 "nbformat_minor": 5
}
