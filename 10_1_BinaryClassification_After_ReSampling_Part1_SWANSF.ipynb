{
 "cells": [
  {
   "cell_type": "markdown",
   "id": "b42f5d50",
   "metadata": {},
   "source": [
    "# SVM - MLPClassifier - Rocket - TSF - LSTM on NewFeatures (After Resampling)"
   ]
  },
  {
   "cell_type": "markdown",
   "id": "c5d323d1",
   "metadata": {},
   "source": [
    "# Train Test Split"
   ]
  },
  {
   "cell_type": "markdown",
   "id": "8d29e199",
   "metadata": {},
   "source": [
    "## Stratified Cross validation (k = 5)"
   ]
  },
  {
   "cell_type": "markdown",
   "id": "7c37f292",
   "metadata": {},
   "source": [
    "P1 Train and P2 Test, P1 Train and P3 Test, P1 Train and P4 Test, P1 Train and P5 Test\n",
    "P2 Train and P3 Test, P2 Train and P4 Test, P2 Train and P5 Test\n",
    "P3 Train and P4 Test, P3 Train and P5 Test\n",
    "P4 Train and P5 Test"
   ]
  },
  {
   "cell_type": "markdown",
   "id": "529fa14d",
   "metadata": {},
   "source": [
    "# Evaluation Metrics"
   ]
  },
  {
   "cell_type": "code",
   "execution_count": 20,
   "id": "255d0498",
   "metadata": {},
   "outputs": [],
   "source": [
    "# float(\"{:.2f}\".format(13.949999999999999))\n",
    "\n",
    "def TSS(TP,TN,FP,FN):\n",
    "    TSS_value = (TP / (TP + FN)) - (FP / (FP + TN))\n",
    "    return TSS_value\n",
    "\n",
    "def HSS1(TP,TN,FP,FN):\n",
    "    HSS1_value = (2 * (TP * TN - FP * FN)) / ((TP + FN) * (FN + TN) + (TP + FP) * (FP + TN))\n",
    "    return HSS1_value\n",
    "    \n",
    "def HSS2(TP,TN,FP,FN):\n",
    "    HSS2_value = (2 * (TP * TN - FP * FN)) / ((TP + FP) * (FN + TN) + (TP + FN) * (FP + TN))\n",
    "    return HSS2_value\n",
    "\n",
    "def GSS(TP,TN,FP,FN):\n",
    "    GSS_value = (TP - (TP + FP) * (TP + FN) / (TP + FP + FN + TN))\n",
    "    return GSS_value\n",
    "\n",
    "def Recall(TP,TN,FP,FN):\n",
    "    Recall_value = (TP) / (TP + FN)\n",
    "    return Recall_value\n",
    "\n",
    "def FPR(TP,TN,FP,FN):\n",
    "    fpr_value = (FP) / (FP + TN)\n",
    "    return fpr_value\n",
    "\n",
    "def Accuracy(TP,TN,FP,FN):\n",
    "    accuracy_value = (TP + TN) / (TP + TN + FP + FN)\n",
    "    return accuracy_value\n",
    "\n",
    "def Precision(TP,TN,FP,FN):\n",
    "    precision_value = (FP) / (TP + FP)\n",
    "    return precision_value"
   ]
  },
  {
   "cell_type": "markdown",
   "id": "bd0d872d",
   "metadata": {},
   "source": [
    "# Loading the Final Datasets"
   ]
  },
  {
   "cell_type": "markdown",
   "id": "b9516c63",
   "metadata": {},
   "source": [
    "## New Features "
   ]
  },
  {
   "cell_type": "markdown",
   "id": "aca76aee",
   "metadata": {},
   "source": [
    "### ZM Norm"
   ]
  },
  {
   "cell_type": "code",
   "execution_count": 21,
   "id": "06c2f0ab",
   "metadata": {},
   "outputs": [
    {
     "name": "stdout",
     "output_type": "stream",
     "text": [
      "P1 Nan-Value: False\n",
      "P2 Nan-Value: False\n",
      "P3 Nan-Value: False\n",
      "P4 Nan-Value: False\n",
      "P5 Nan-Value: False\n"
     ]
    }
   ],
   "source": [
    "import pickle\n",
    "import numpy as np\n",
    "\n",
    "data_dir = \"/Users/samskanderi/Documents/Research_Project/SWANSF/code/8_1_FinalData_OUSampling_NewFeatures_ZM_KnnImputation/\"\n",
    "X_train_NewF_ZM = []\n",
    "Y_train_NewF_ZM = []\n",
    "\n",
    "\n",
    "num_partitions = 5\n",
    "\n",
    "for i in range(0,num_partitions):\n",
    "    with open(data_dir + \"RUS_Tomek_Adasyn_\" +\"Partition\" + str(i+1) + \"_OUSampling_NewFeatures_ZM_KnnImputation\" +\".pkl\", 'rb') as f:\n",
    "        X_train_NewF_ZM.append(pickle.load(f))\n",
    "    with open(data_dir + \"RUS_Tomek_Adasyn_\" + \"Partition\" + str(i+1) + \"_Labels_OUSampling_NewFeatures_ZM_KnnImputation\" +\".pkl\", 'rb') as f:\n",
    "        Y_train_NewF_ZM.append(pickle.load(f))\n",
    "    print(\"P\"+str(i+1)+\" Nan-Value: \"+ str(np.isnan(X_train_NewF_ZM[i]).any() or np.isinf(X_train_NewF_ZM[i]).any()))"
   ]
  },
  {
   "cell_type": "code",
   "execution_count": 22,
   "id": "bfdd3940",
   "metadata": {},
   "outputs": [
    {
     "name": "stdout",
     "output_type": "stream",
     "text": [
      "P1 Nan-Value: False\n",
      "P2 Nan-Value: False\n",
      "P3 Nan-Value: False\n",
      "P4 Nan-Value: False\n",
      "P5 Nan-Value: False\n"
     ]
    }
   ],
   "source": [
    "import pickle\n",
    "import numpy as np\n",
    "\n",
    "data_dir = \"/Users/samskanderi/Documents/Research_Project/SWANSF/code/5_1_FinalData_NewFeatures_ZM_KnnImputation/\"\n",
    "X_test_NewF_ZM = []\n",
    "Y_test_NewF_ZM = []\n",
    "\n",
    "\n",
    "num_partitions = 5\n",
    "\n",
    "for i in range(0,num_partitions):\n",
    "    with open(data_dir + \"Partition\" + str(i+1) + \"_NewFeatures_ZM_KnnImputation\" + \".pkl\", 'rb') as f:\n",
    "        X_test_NewF_ZM.append(pickle.load(f))\n",
    "    print(\"P\"+str(i+1)+\" Nan-Value: \"+ str(np.isnan(X_test_NewF_ZM[i]).any() or np.isinf(X_test_NewF_ZM[i]).any()))\n",
    "    \n",
    "    with open(data_dir + \"Partition\" + str(i+1) + \"_Labels_NewFeatures_ZM_KnnImputation\" + \".pkl\", 'rb') as f:\n",
    "        Y_test_NewF_ZM.append(pickle.load(f))"
   ]
  },
  {
   "cell_type": "markdown",
   "id": "534e436f",
   "metadata": {},
   "source": [
    "### LSBZM"
   ]
  },
  {
   "cell_type": "markdown",
   "id": "d520699a",
   "metadata": {},
   "source": [
    "# Useful Functions"
   ]
  },
  {
   "cell_type": "code",
   "execution_count": 23,
   "id": "ed6ceb4d",
   "metadata": {},
   "outputs": [],
   "source": [
    "def kfold_training(name, X_train, Y_train, X_test,Y_test, training_func, num):\n",
    "    kfold = np.array([[1,2],[1,3],[1,4],[1,5],[2,3],[2,4],[2,5],[3,4],[3,5],[4,5]])\n",
    "    metrics = []\n",
    "    metrics_values = np.array([])\n",
    "    \n",
    "    for i in range(0, num):\n",
    "        train_index = kfold[i,0]\n",
    "        test_index = kfold[i,1]\n",
    "        metrics_values = training_func(X_train[train_index-1], Y_train[train_index-1], X_test[test_index-1], Y_test[test_index-1])\n",
    "\n",
    "        metrics.append(np.append(np.append(train_index, test_index), metrics_values))\n",
    "    return metrics"
   ]
  },
  {
   "cell_type": "markdown",
   "id": "faf5130c",
   "metadata": {},
   "source": [
    "# Training"
   ]
  },
  {
   "cell_type": "markdown",
   "id": "10454d6f",
   "metadata": {},
   "source": [
    "## SVM"
   ]
  },
  {
   "cell_type": "code",
   "execution_count": 24,
   "id": "9a1291ae",
   "metadata": {},
   "outputs": [],
   "source": [
    "# Import necessary libraries\n",
    "import numpy as np\n",
    "from sklearn.svm import SVC\n",
    "from sklearn.metrics import confusion_matrix\n",
    "\n",
    "def svm_model(X_train, Y_train, X_test, Y_test):\n",
    "    \n",
    "    data_dir = \"/Users/samskanderi/Documents/Research_Project/SWANSF/code/models/\"\n",
    "\n",
    "\n",
    "    # Create an SVM classifier (you can choose different kernels like 'linear', 'rbf', etc.)\n",
    "    svm_classifier = SVC(kernel='linear', C=1.0)\n",
    "    svm_classifier.fit(X_train, Y_train)\n",
    "    y_pred = svm_classifier.predict(X_test)\n",
    "    \n",
    "    \n",
    "    print(str(X_train.shape)+': SVM Classifier is Done! \\n')\n",
    "    \n",
    "\n",
    "    confusion = confusion_matrix(Y_test, y_pred)\n",
    "    tn, fp, fn, tp = confusion.ravel()\n",
    "\n",
    "    tss = TSS(tp,tn,fp,fn)\n",
    "    hss1 = HSS1(tp,tn,fp,fn)\n",
    "    hss2 = HSS2(tp,tn,fp,fn)\n",
    "    gss = GSS(tp,tn,fp,fn)\n",
    "    recall = Recall(tp,tn,fp,fn)\n",
    "    precision = Precision(tp,tn,fp,fn)\n",
    "    \n",
    "    output_values = np.array([tp, fn, fp, tn, tss, hss1, hss2, gss, recall, precision])\n",
    "\n",
    "\n",
    "    #joblib.dump(classifier, data_dir + \"svm_model.pkl\")\n",
    "\n",
    "    #loaded_svm_model = joblib.load(data_dir + \"svm_model.pkl\")\n",
    "    \n",
    "    return output_values"
   ]
  },
  {
   "cell_type": "markdown",
   "id": "12a9a3ae",
   "metadata": {},
   "source": [
    "## MPLClassifier "
   ]
  },
  {
   "cell_type": "code",
   "execution_count": 25,
   "id": "a780f706",
   "metadata": {},
   "outputs": [],
   "source": [
    "import warnings\n",
    "warnings.filterwarnings(\"ignore\")\n",
    "\n",
    "import numpy as np\n",
    "import numpy as np\n",
    "import tensorflow as tf\n",
    "from tensorflow import keras\n",
    "from tensorflow.keras import layers\n",
    "from sklearn.metrics import confusion_matrix\n",
    "\n",
    "def mlp_model(X_train, Y_train, X_test, Y_test):\n",
    "    \n",
    "    data_dir = \"/Users/samskanderi/Documents/Research_Project/SWANSF/code/models/\"\n",
    "\n",
    "    # Define the MLP model\n",
    "    # Define the MLP model with four hidden layers\n",
    "    model = keras.Sequential([\n",
    "        layers.Input(shape=(216,)),  # Input layer with 216 features\n",
    "        layers.Dense(64, activation='relu'),  # Hidden layer with 64 units and ReLU activation\n",
    "        layers.Dense(32, activation='relu'),  # Hidden layer with 32 units and ReLU activation\n",
    "        layers.Dense(16, activation='relu'),  # Hidden layer with 16 units and ReLU activation\n",
    "        layers.Dense(8, activation='relu'),  # Hidden layer with 16 units and ReLU activation\n",
    "        layers.Dense(1, activation='sigmoid')  # Output layer with 1 unit and sigmoid activation (binary classification)\n",
    "    ])\n",
    "\n",
    "    # Compile the model\n",
    "    model.compile(optimizer='adam', loss='binary_crossentropy', metrics=keras.metrics.Recall(name='recall'))\n",
    "\n",
    "    # Train the model\n",
    "    model.fit(X_train, Y_train, epochs=15, batch_size=32, verbose=0)  # Adjust epochs and batch_size as needed\n",
    "\n",
    "    y_pred = model.predict(X_test)\n",
    "    threshold = 0.35  # Adjust the threshold as needed\n",
    "    y_pred_binary = (y_pred > threshold).astype(int)\n",
    "    \n",
    "    print(str(X_train.shape)+': MLP Classifier is Done! \\n')\n",
    "\n",
    "\n",
    "    confusion = confusion_matrix(Y_test, y_pred_binary)\n",
    "    tn, fp, fn, tp = confusion.ravel()\n",
    "\n",
    "    tss = TSS(tp,tn,fp,fn)\n",
    "    hss1 = HSS1(tp,tn,fp,fn)\n",
    "    hss2 = HSS2(tp,tn,fp,fn)\n",
    "    gss = GSS(tp,tn,fp,fn)\n",
    "    recall = Recall(tp,tn,fp,fn)\n",
    "    precision = Precision(tp,tn,fp,fn)\n",
    "    \n",
    "    output_values = np.array([tp, fn, fp, tn, tss, hss1, hss2, gss, recall, precision])\n",
    "\n",
    "\n",
    "    #joblib.dump(classifier, data_dir + \"mlp_model.pkl\")\n",
    "\n",
    "    #loaded_mlp_model = joblib.load(data_dir + \"mlp_model.pkl\")\n",
    "    \n",
    "    return output_values"
   ]
  },
  {
   "cell_type": "markdown",
   "id": "d8903b60",
   "metadata": {},
   "source": [
    "## Rocket (RidgeClassifierCV)  "
   ]
  },
  {
   "cell_type": "code",
   "execution_count": 26,
   "id": "0507e01b",
   "metadata": {},
   "outputs": [],
   "source": [
    "# ROCKET with RidgeClassifierCV\n",
    "\n",
    "import numpy as np\n",
    "from sklearn.linear_model import RidgeClassifierCV\n",
    "from sktime.transformations.panel.rocket import Rocket\n",
    "from sklearn.metrics import confusion_matrix\n",
    "import joblib\n",
    "from sktime.datatypes._panel._convert import from_2d_array_to_nested\n",
    "\n",
    "def rocket_model(X_train, Y_train, X_test, Y_test, rocket_kernels=1500):\n",
    "\n",
    "    data_dir = \"/Users/samskanderi/Documents/Research_Project/SWANSF/code/models/rocket/\"\n",
    "    \n",
    "    X_train = from_2d_array_to_nested(X_train)\n",
    "    X_test = from_2d_array_to_nested(X_test)\n",
    "\n",
    "    rocket = Rocket(num_kernels=rocket_kernels)\n",
    "    rocket.fit(X_train)\n",
    "    X_train_transform = rocket.transform(X_train)\n",
    "        \n",
    "    classifier = RidgeClassifierCV()\n",
    "    classifier.fit(X_train_transform, Y_train)\n",
    "    \n",
    "    X_test_transform = rocket.transform(X_test)\n",
    "    \n",
    "    y_pred = classifier.predict(X_test_transform)\n",
    "    \n",
    "    print(str(X_train.shape)+': Rocket Classifier is Done! \\n')\n",
    "\n",
    "    confusion = confusion_matrix(Y_test, y_pred)\n",
    "    tn, fp, fn, tp = confusion.ravel()\n",
    "\n",
    "    tss = TSS(tp,tn,fp,fn)\n",
    "    hss1 = HSS1(tp,tn,fp,fn)\n",
    "    hss2 = HSS2(tp,tn,fp,fn)\n",
    "    gss = GSS(tp,tn,fp,fn)\n",
    "    recall = Recall(tp,tn,fp,fn)\n",
    "    precision = Precision(tp,tn,fp,fn)\n",
    "    \n",
    "    output_values = np.array([tp, fn, fp, tn, tss, hss1, hss2, gss, recall, precision])\n",
    "\n",
    "\n",
    "    #joblib.dump(classifier, data_dir + \"rocket_model.pkl\")\n",
    "\n",
    "    #loaded_rocket_model = joblib.load(data_dir + \"rocket_model_sgd.pkl\")\n",
    "    \n",
    "    return output_values"
   ]
  },
  {
   "cell_type": "markdown",
   "id": "8be28f51",
   "metadata": {},
   "source": [
    "## TimeSeriesForest"
   ]
  },
  {
   "cell_type": "code",
   "execution_count": 27,
   "id": "d4249dc8",
   "metadata": {},
   "outputs": [],
   "source": [
    "# TimeSeriesForest\n",
    "\n",
    "from sktime.classification.interval_based import TimeSeriesForestClassifier\n",
    "import numpy as np\n",
    "from sklearn.metrics import confusion_matrix\n",
    "import joblib\n",
    "\n",
    "def tsf_model(X_train, Y_train, X_test, Y_test, tsf_estimator=25):\n",
    "\n",
    "    data_dir = \"/Users/samskanderi/Documents/Research_Project/SWANSF/code/models/TSF/\"\n",
    "    \n",
    "    \n",
    "    tsf_classifier = TimeSeriesForestClassifier(n_estimators=tsf_estimator)\n",
    "    tsf_classifier.fit(X_train, Y_train)\n",
    "    y_pred = tsf_classifier.predict(X_test)\n",
    "    \n",
    "    print(str(X_train.shape)+': TSF Classifier is Done! \\n')\n",
    "    \n",
    "\n",
    "    confusion = confusion_matrix(Y_test, y_pred)\n",
    "    tn, fp, fn, tp = confusion.ravel()\n",
    "\n",
    "    tss = TSS(tp,tn,fp,fn)\n",
    "    hss1 = HSS1(tp,tn,fp,fn)\n",
    "    hss2 = HSS2(tp,tn,fp,fn)\n",
    "    gss = GSS(tp,tn,fp,fn)\n",
    "    recall = Recall(tp,tn,fp,fn)\n",
    "    precision = Precision(tp,tn,fp,fn)\n",
    "    \n",
    "    output_values = np.array([tp, fn, fp, tn, tss, hss1, hss2, gss, recall, precision])\n",
    "\n",
    "\n",
    "    #joblib.dump(classifier, data_dir + \"tsf_model.pkl\")\n",
    "\n",
    "    #loaded_rocket_model = joblib.load(data_dir + \"tsf_model.pkl\")\n",
    "    \n",
    "    return output_values"
   ]
  },
  {
   "cell_type": "markdown",
   "id": "32e9fd1e",
   "metadata": {},
   "source": [
    "# Results"
   ]
  },
  {
   "cell_type": "code",
   "execution_count": 28,
   "id": "127986e8",
   "metadata": {},
   "outputs": [],
   "source": [
    "def save_results(reslut, name):\n",
    "    data_dir = \"/Users/samskanderi/Documents/Research_Project/SWANSF/code/results/\"\n",
    "\n",
    "    with open(data_dir + name + \".pkl\", 'wb') as f:\n",
    "        pickle.dump(reslut, f)"
   ]
  },
  {
   "cell_type": "markdown",
   "id": "3c7bc689",
   "metadata": {},
   "source": [
    "## SVM"
   ]
  },
  {
   "cell_type": "code",
   "execution_count": 29,
   "id": "5b280418",
   "metadata": {},
   "outputs": [
    {
     "name": "stdout",
     "output_type": "stream",
     "text": [
      "(14024, 216): SVM Classifier is Done! \n",
      "\n",
      "(14024, 216): SVM Classifier is Done! \n",
      "\n",
      "(14024, 216): SVM Classifier is Done! \n",
      "\n",
      "(14024, 216): SVM Classifier is Done! \n",
      "\n",
      "(13979, 216): SVM Classifier is Done! \n",
      "\n",
      "(13979, 216): SVM Classifier is Done! \n",
      "\n",
      "(13979, 216): SVM Classifier is Done! \n",
      "\n",
      "(14029, 216): SVM Classifier is Done! \n",
      "\n",
      "(14029, 216): SVM Classifier is Done! \n",
      "\n",
      "(13982, 216): SVM Classifier is Done! \n",
      "\n"
     ]
    }
   ],
   "source": [
    "# SVM NewFeatures\n",
    "svm_newf = kfold_training('SVM', X_train_NewF_ZM, Y_train_NewF_ZM, X_test_NewF_ZM, Y_test_NewF_ZM, svm_model, 10)"
   ]
  },
  {
   "cell_type": "code",
   "execution_count": 30,
   "id": "a14a0c88",
   "metadata": {},
   "outputs": [],
   "source": [
    "save_results(svm_newf, \"SVM_OUSampling_WithoutB&C_NewFeatures_Results\")"
   ]
  },
  {
   "cell_type": "markdown",
   "id": "b5ce17de",
   "metadata": {},
   "source": [
    "## MLPClassifier"
   ]
  },
  {
   "cell_type": "code",
   "execution_count": 31,
   "id": "4dd95319",
   "metadata": {},
   "outputs": [
    {
     "name": "stdout",
     "output_type": "stream",
     "text": [
      "2768/2768 [==============================] - 1s 224us/step\n",
      "(14024, 216): MLP Classifier is Done! \n",
      "\n",
      "1329/1329 [==============================] - 0s 227us/step\n",
      "(14024, 216): MLP Classifier is Done! \n",
      "\n",
      "1602/1602 [==============================] - 0s 225us/step\n",
      "(14024, 216): MLP Classifier is Done! \n",
      "\n",
      "2356/2356 [==============================] - 1s 222us/step\n",
      "(14024, 216): MLP Classifier is Done! \n",
      "\n",
      "1329/1329 [==============================] - 0s 226us/step\n",
      "(13979, 216): MLP Classifier is Done! \n",
      "\n",
      "1602/1602 [==============================] - 0s 225us/step\n",
      "(13979, 216): MLP Classifier is Done! \n",
      "\n",
      "2356/2356 [==============================] - 1s 224us/step\n",
      "(13979, 216): MLP Classifier is Done! \n",
      "\n",
      "1602/1602 [==============================] - 0s 225us/step\n",
      "(14029, 216): MLP Classifier is Done! \n",
      "\n",
      "2356/2356 [==============================] - 1s 227us/step\n",
      "(14029, 216): MLP Classifier is Done! \n",
      "\n",
      "2356/2356 [==============================] - 1s 245us/step\n",
      "(13982, 216): MLP Classifier is Done! \n",
      "\n"
     ]
    }
   ],
   "source": [
    "# MLPClassifier NewFeatures\n",
    "mlp_newf = kfold_training('MLP', X_train_NewF_ZM, Y_train_NewF_ZM, X_test_NewF_ZM, Y_test_NewF_ZM, mlp_model, 10)"
   ]
  },
  {
   "cell_type": "code",
   "execution_count": 32,
   "id": "097d194e",
   "metadata": {},
   "outputs": [],
   "source": [
    "save_results(mlp_newf, \"MLPClassifier_OUSampling_WithoutB&C_NewFeatures_Results\")"
   ]
  },
  {
   "cell_type": "markdown",
   "id": "e702be07",
   "metadata": {},
   "source": [
    "### Rocket "
   ]
  },
  {
   "cell_type": "code",
   "execution_count": 33,
   "id": "b24408d0",
   "metadata": {},
   "outputs": [
    {
     "name": "stdout",
     "output_type": "stream",
     "text": [
      "(14024, 1): Rocket Classifier is Done! \n",
      "\n",
      "(14024, 1): Rocket Classifier is Done! \n",
      "\n",
      "(14024, 1): Rocket Classifier is Done! \n",
      "\n",
      "(14024, 1): Rocket Classifier is Done! \n",
      "\n",
      "(13979, 1): Rocket Classifier is Done! \n",
      "\n",
      "(13979, 1): Rocket Classifier is Done! \n",
      "\n",
      "(13979, 1): Rocket Classifier is Done! \n",
      "\n",
      "(14029, 1): Rocket Classifier is Done! \n",
      "\n",
      "(14029, 1): Rocket Classifier is Done! \n",
      "\n",
      "(13982, 1): Rocket Classifier is Done! \n",
      "\n"
     ]
    }
   ],
   "source": [
    "rocket_newf = kfold_training('Rocket', X_train_NewF_ZM, Y_train_NewF_ZM, X_test_NewF_ZM, Y_test_NewF_ZM, rocket_model, 10)"
   ]
  },
  {
   "cell_type": "code",
   "execution_count": 34,
   "id": "6ac1c1a4",
   "metadata": {},
   "outputs": [],
   "source": [
    "save_results(rocket_newf, \"Rocket_OUSampling_WithoutB&C_NewFeatures_Results\")"
   ]
  },
  {
   "cell_type": "markdown",
   "id": "5c43112c",
   "metadata": {},
   "source": [
    "### TimeSeriesForest"
   ]
  },
  {
   "cell_type": "code",
   "execution_count": 35,
   "id": "fc2f461e",
   "metadata": {},
   "outputs": [
    {
     "name": "stdout",
     "output_type": "stream",
     "text": [
      "(14024, 216): TSF Classifier is Done! \n",
      "\n",
      "(14024, 216): TSF Classifier is Done! \n",
      "\n",
      "(14024, 216): TSF Classifier is Done! \n",
      "\n",
      "(14024, 216): TSF Classifier is Done! \n",
      "\n",
      "(13979, 216): TSF Classifier is Done! \n",
      "\n",
      "(13979, 216): TSF Classifier is Done! \n",
      "\n",
      "(13979, 216): TSF Classifier is Done! \n",
      "\n",
      "(14029, 216): TSF Classifier is Done! \n",
      "\n",
      "(14029, 216): TSF Classifier is Done! \n",
      "\n",
      "(13982, 216): TSF Classifier is Done! \n",
      "\n"
     ]
    }
   ],
   "source": [
    "tsf_newf = kfold_training('TSF', X_train_NewF_ZM, Y_train_NewF_ZM, X_test_NewF_ZM, Y_test_NewF_ZM, tsf_model, 10)"
   ]
  },
  {
   "cell_type": "code",
   "execution_count": 36,
   "id": "5b25573a",
   "metadata": {},
   "outputs": [],
   "source": [
    "save_results(tsf_newf, \"TSF_OUSampling_WithoutB&C_NewFeatures_Results\")"
   ]
  },
  {
   "cell_type": "markdown",
   "id": "c0fc66c6",
   "metadata": {},
   "source": [
    "# Comparison "
   ]
  },
  {
   "cell_type": "code",
   "execution_count": 40,
   "id": "3941d553",
   "metadata": {},
   "outputs": [],
   "source": [
    "data_dir = \"/Users/samskanderi/Documents/Research_Project/SWANSF/code/results/\"\n",
    "with open(data_dir + 'SVM_OUSampling_WithoutB&C_NewFeatures_Results' + \".pkl\", 'rb') as f:\n",
    "    svm_newf=pickle.load(f)\n",
    "with open(data_dir + 'MLPClassifier_OUSampling_WithoutB&C_NewFeatures_Results' + \".pkl\", 'rb') as f:\n",
    "    mlp_newf=pickle.load(f)\n",
    "with open(data_dir + 'Rocket_OUSampling_WithoutB&C_NewFeatures_Results' + \".pkl\", 'rb') as f:\n",
    "    rocket_newf=pickle.load(f)\n",
    "with open(data_dir + 'TSF_OUSampling_WithoutB&C_NewFeatures_Results' + \".pkl\", 'rb') as f:\n",
    "    tsf_newf=pickle.load(f)\n",
    "\n",
    "\n",
    "\n",
    "names = ['SVM', 'MLP', 'Rocket', 'TSF']\n",
    "values = np.array([svm_newf, mlp_newf, rocket_newf, tsf_newf])"
   ]
  },
  {
   "cell_type": "code",
   "execution_count": 41,
   "id": "88522bf6",
   "metadata": {},
   "outputs": [],
   "source": [
    "def compare_results(names, values):\n",
    "    np.printoptions(precision=4, suppress=True)\n",
    "    for i in range(0, values.shape[1]):\n",
    "        print(\"P_Train = \"+ str(values[0,i,0]) + \" & \" + \"P_Test = \" + str(values[0,i,1]))\n",
    "        for j in range(0, values.shape[0]):\n",
    "            print(names[j] + ' :' +  ' TP={:.0f}'.format(values[j,i,2]) + ' FN={:.0f}'.format(values[j,i,3]) + ' FP={:.0f}'.format(values[j,i,4])\n",
    "                 + ' TN={:.0f}'.format(values[j,i,5]) + ' TSS={:.3f}'.format(values[j,i,6]) + ' HSS1={:.3f}'.format(values[j,i,7]) + ' HSS2={:.3f}'.format(values[j,i,8])\n",
    "                 + ' GSS={:.3f}'.format(values[j,i,9]) + ' Recall={:.3f}'.format(values[j,i,10]) + ' Precision={:.3f}'.format(values[j,i,11]))\n",
    "        print('\\n')\n"
   ]
  },
  {
   "cell_type": "code",
   "execution_count": 42,
   "id": "9688f338",
   "metadata": {},
   "outputs": [
    {
     "name": "stdout",
     "output_type": "stream",
     "text": [
      "P_Train = 1.0 & P_Test = 2.0\n",
      "SVM : TP=1369 FN=32 FP=26696 TN=60460 TSS=0.671 HSS1=0.065 HSS2=0.090 GSS=925.003 Recall=0.977 Precision=0.951\n",
      "MLP : TP=966 FN=435 FP=5903 TN=81253 TSS=0.622 HSS1=0.213 HSS2=0.222 GSS=857.330 Recall=0.690 Precision=0.859\n",
      "Rocket : TP=394 FN=1007 FP=1441 TN=85715 TSS=0.265 HSS1=0.230 HSS2=0.230 GSS=364.970 Recall=0.281 Precision=0.785\n",
      "TSF : TP=774 FN=627 FP=2013 TN=85143 TSS=0.529 HSS1=0.356 HSS2=0.358 GSS=729.909 Recall=0.552 Precision=0.722\n",
      "\n",
      "\n",
      "P_Train = 1.0 & P_Test = 3.0\n",
      "SVM : TP=1413 FN=11 FP=13261 TN=27825 TSS=0.670 HSS1=0.122 HSS2=0.168 GSS=921.450 Recall=0.992 Precision=0.904\n",
      "MLP : TP=1096 FN=328 FP=3729 TN=37357 TSS=0.679 HSS1=0.315 HSS2=0.331 GSS=934.372 Recall=0.770 Precision=0.773\n",
      "Rocket : TP=417 FN=1007 FP=904 TN=40182 TSS=0.271 HSS1=0.281 HSS2=0.281 GSS=372.749 Recall=0.293 Precision=0.684\n",
      "TSF : TP=933 FN=491 FP=2858 TN=38228 TSS=0.586 HSS1=0.325 HSS2=0.334 GSS=806.009 Recall=0.655 Precision=0.754\n",
      "\n",
      "\n",
      "P_Train = 1.0 & P_Test = 4.0\n",
      "SVM : TP=1160 FN=5 FP=13848 TN=36248 TSS=0.719 HSS1=0.106 HSS2=0.139 GSS=818.916 Recall=0.996 Precision=0.923\n",
      "MLP : TP=814 FN=351 FP=1386 TN=48710 TSS=0.671 HSS1=0.468 HSS2=0.471 GSS=764.001 Recall=0.699 Precision=0.630\n",
      "Rocket : TP=118 FN=1047 FP=1886 TN=48210 TSS=0.064 HSS1=0.047 HSS2=0.047 GSS=72.455 Recall=0.101 Precision=0.941\n",
      "TSF : TP=710 FN=455 FP=1146 TN=48950 TSS=0.587 HSS1=0.455 HSS2=0.456 GSS=667.819 Recall=0.609 Precision=0.617\n",
      "\n",
      "\n",
      "P_Train = 1.0 & P_Test = 5.0\n",
      "SVM : TP=963 FN=27 FP=10538 TN=63837 TSS=0.831 HSS1=0.133 HSS2=0.151 GSS=811.922 Recall=0.973 Precision=0.916\n",
      "MLP : TP=790 FN=200 FP=4979 TN=69396 TSS=0.731 HSS1=0.216 HSS2=0.227 GSS=714.218 Recall=0.798 Precision=0.863\n",
      "Rocket : TP=267 FN=723 FP=1049 TN=73326 TSS=0.256 HSS1=0.220 HSS2=0.220 GSS=249.713 Recall=0.270 Precision=0.797\n",
      "TSF : TP=532 FN=458 FP=1542 TN=72833 TSS=0.517 HSS1=0.335 HSS2=0.337 GSS=504.756 Recall=0.537 Precision=0.743\n",
      "\n",
      "\n",
      "P_Train = 2.0 & P_Test = 3.0\n",
      "SVM : TP=1116 FN=308 FP=3139 TN=37947 TSS=0.707 HSS1=0.361 HSS2=0.374 GSS=973.466 Recall=0.784 Precision=0.738\n",
      "MLP : TP=1275 FN=149 FP=6530 TN=34556 TSS=0.736 HSS1=0.233 HSS2=0.262 GSS=1013.548 Recall=0.895 Precision=0.837\n",
      "Rocket : TP=456 FN=968 FP=910 TN=40176 TSS=0.298 HSS1=0.304 HSS2=0.304 GSS=410.242 Recall=0.320 Precision=0.666\n",
      "TSF : TP=1088 FN=336 FP=3321 TN=37765 TSS=0.683 HSS1=0.340 HSS2=0.353 GSS=940.307 Recall=0.764 Precision=0.753\n",
      "\n",
      "\n",
      "P_Train = 2.0 & P_Test = 4.0\n",
      "SVM : TP=859 FN=306 FP=2316 TN=47780 TSS=0.691 HSS1=0.375 HSS2=0.382 GSS=786.842 Recall=0.737 Precision=0.729\n",
      "MLP : TP=964 FN=201 FP=4323 TN=45773 TSS=0.741 HSS1=0.272 HSS2=0.287 GSS=843.843 Recall=0.827 Precision=0.818\n",
      "Rocket : TP=748 FN=417 FP=3522 TN=46574 TSS=0.572 HSS1=0.248 HSS2=0.258 GSS=650.956 Recall=0.642 Precision=0.825\n",
      "TSF : TP=872 FN=293 FP=1943 TN=48153 TSS=0.710 HSS1=0.420 HSS2=0.425 GSS=808.024 Recall=0.748 Precision=0.690\n",
      "\n",
      "\n",
      "P_Train = 2.0 & P_Test = 5.0\n",
      "SVM : TP=859 FN=131 FP=3889 TN=70486 TSS=0.815 HSS1=0.284 HSS2=0.294 GSS=796.630 Recall=0.868 Precision=0.819\n",
      "MLP : TP=894 FN=96 FP=5055 TN=69320 TSS=0.835 HSS1=0.241 HSS2=0.253 GSS=815.854 Recall=0.903 Precision=0.850\n",
      "Rocket : TP=769 FN=221 FP=2787 TN=71588 TSS=0.739 HSS1=0.324 HSS2=0.331 GSS=722.288 Recall=0.777 Precision=0.784\n",
      "TSF : TP=772 FN=218 FP=2674 TN=71701 TSS=0.744 HSS1=0.334 HSS2=0.341 GSS=726.733 Recall=0.780 Precision=0.776\n",
      "\n",
      "\n",
      "P_Train = 3.0 & P_Test = 4.0\n",
      "SVM : TP=1077 FN=88 FP=3678 TN=46418 TSS=0.851 HSS1=0.340 HSS2=0.355 GSS=968.934 Recall=0.924 Precision=0.774\n",
      "MLP : TP=1151 FN=14 FP=6992 TN=43104 TSS=0.848 HSS1=0.216 HSS2=0.242 GSS=965.935 Recall=0.988 Precision=0.859\n",
      "Rocket : TP=694 FN=471 FP=2849 TN=47247 TSS=0.539 HSS1=0.270 HSS2=0.277 GSS=613.479 Recall=0.596 Precision=0.804\n",
      "TSF : TP=577 FN=588 FP=1285 TN=48811 TSS=0.470 HSS1=0.363 HSS2=0.365 GSS=534.683 Recall=0.495 Precision=0.690\n",
      "\n",
      "\n",
      "P_Train = 3.0 & P_Test = 5.0\n",
      "SVM : TP=877 FN=113 FP=4084 TN=70291 TSS=0.831 HSS1=0.279 HSS2=0.289 GSS=811.832 Recall=0.886 Precision=0.823\n",
      "MLP : TP=885 FN=105 FP=4017 TN=70358 TSS=0.840 HSS1=0.285 HSS2=0.295 GSS=820.607 Recall=0.894 Precision=0.819\n",
      "Rocket : TP=701 FN=289 FP=3462 TN=70913 TSS=0.662 HSS1=0.256 HSS2=0.263 GSS=646.315 Recall=0.708 Precision=0.832\n",
      "TSF : TP=516 FN=474 FP=1567 TN=72808 TSS=0.500 HSS1=0.324 HSS2=0.325 GSS=488.638 Recall=0.521 Precision=0.752\n",
      "\n",
      "\n",
      "P_Train = 4.0 & P_Test = 5.0\n",
      "SVM : TP=910 FN=80 FP=5293 TN=69082 TSS=0.848 HSS1=0.236 HSS2=0.248 GSS=828.517 Recall=0.919 Precision=0.853\n",
      "MLP : TP=973 FN=17 FP=10266 TN=64109 TSS=0.845 HSS1=0.138 HSS2=0.157 GSS=825.364 Recall=0.983 Precision=0.913\n",
      "Rocket : TP=771 FN=219 FP=3889 TN=70486 TSS=0.726 HSS1=0.257 HSS2=0.265 GSS=709.786 Recall=0.779 Precision=0.835\n",
      "TSF : TP=762 FN=228 FP=3391 TN=70984 TSS=0.724 HSS1=0.281 HSS2=0.289 GSS=707.446 Recall=0.770 Precision=0.817\n",
      "\n",
      "\n"
     ]
    }
   ],
   "source": [
    "compare_results(names, values)"
   ]
  },
  {
   "cell_type": "code",
   "execution_count": null,
   "id": "db226f87",
   "metadata": {},
   "outputs": [],
   "source": []
  }
 ],
 "metadata": {
  "kernelspec": {
   "display_name": "Python 3 (ipykernel)",
   "language": "python",
   "name": "python3"
  },
  "language_info": {
   "codemirror_mode": {
    "name": "ipython",
    "version": 3
   },
   "file_extension": ".py",
   "mimetype": "text/x-python",
   "name": "python",
   "nbconvert_exporter": "python",
   "pygments_lexer": "ipython3",
   "version": "3.11.3"
  }
 },
 "nbformat": 4,
 "nbformat_minor": 5
}
